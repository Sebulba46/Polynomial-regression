{
  "nbformat": 4,
  "nbformat_minor": 0,
  "metadata": {
    "colab": {
      "provenance": [],
      "toc_visible": true
    },
    "kernelspec": {
      "name": "python3",
      "display_name": "Python 3"
    },
    "language_info": {
      "name": "python"
    }
  },
  "cells": [
    {
      "cell_type": "code",
      "source": [
        "import scipy.stats as st\n",
        "import numpy as np\n",
        "import pandas as pd\n",
        "import plotly.express as px\n",
        "import random\n",
        "from sklearn.preprocessing import PolynomialFeatures\n",
        "from sklearn.linear_model import LinearRegression, Ridge, Lasso\n",
        "from sklearn.metrics import r2_score, mean_squared_error, mean_absolute_error, mean_absolute_percentage_error\n",
        "from sklearn.model_selection import train_test_split\n",
        "import plotly.graph_objects as go"
      ],
      "metadata": {
        "id": "FU8rA0N4yVxb"
      },
      "execution_count": null,
      "outputs": []
    },
    {
      "cell_type": "code",
      "source": [
        "import plotly.io as pio\n",
        "pio.renderers.default = \"colab\""
      ],
      "metadata": {
        "id": "qUt0NCjPC6Le"
      },
      "execution_count": null,
      "outputs": []
    },
    {
      "cell_type": "code",
      "source": [
        "rst = 46"
      ],
      "metadata": {
        "id": "mTLaKQJL3X4T"
      },
      "execution_count": null,
      "outputs": []
    },
    {
      "cell_type": "markdown",
      "source": [
        "# Данные"
      ],
      "metadata": {
        "id": "uvC5sKw-x38o"
      }
    },
    {
      "cell_type": "markdown",
      "source": [
        "Мой номер 32, максимальный номер датасета 25, поэтому беру 7 номер"
      ],
      "metadata": {
        "id": "tU7WhPAMyKWl"
      }
    },
    {
      "cell_type": "code",
      "source": [
        "df = pd.read_csv('ftp://sebulbaass.ml/07.csv')\n",
        "df"
      ],
      "metadata": {
        "colab": {
          "base_uri": "https://localhost:8080/",
          "height": 1000
        },
        "id": "5VCV19idyT97",
        "outputId": "5fb167d1-60cf-4352-de12-c92733a8f162"
      },
      "execution_count": null,
      "outputs": [
        {
          "output_type": "execute_result",
          "data": {
            "text/plain": [
              "    Unnamed: 0        y  lag.quarterly.revenue  price.index  income.level  \\\n",
              "0      1962.25  8.79236                8.79636      4.70997       5.82110   \n",
              "1      1962.50  8.79137                8.79236      4.70217       5.82558   \n",
              "2      1962.75  8.81486                8.79137      4.68944       5.83112   \n",
              "3      1963.00  8.81301                8.81486      4.68558       5.84046   \n",
              "4      1963.25  8.90751                8.81301      4.64019       5.85036   \n",
              "5      1963.50  8.93673                8.90751      4.62553       5.86464   \n",
              "6      1963.75  8.96161                8.93673      4.61991       5.87769   \n",
              "7      1964.00  8.96044                8.96161      4.61654       5.89763   \n",
              "8      1964.25  9.00868                8.96044      4.61407       5.92574   \n",
              "9      1964.50  9.03049                9.00868      4.60766       5.94232   \n",
              "10     1964.75  9.06906                9.03049      4.60227       5.95365   \n",
              "11     1965.00  9.05871                9.06906      4.58960       5.96120   \n",
              "12     1965.25  9.10698                9.05871      4.57592       5.97805   \n",
              "13     1965.50  9.12685                9.10698      4.58661       6.00377   \n",
              "14     1965.75  9.17096                9.12685      4.57997       6.02829   \n",
              "15     1966.00  9.18665                9.17096      4.57176       6.03475   \n",
              "16     1966.25  9.23823                9.18665      4.56104       6.03906   \n",
              "17     1966.50  9.26487                9.23823      4.54906       6.05046   \n",
              "18     1966.75  9.28436                9.26487      4.53957       6.05563   \n",
              "19     1967.00  9.31378                9.28436      4.51018       6.06093   \n",
              "20     1967.25  9.35025                9.31378      4.50352       6.07103   \n",
              "21     1967.50  9.35835                9.35025      4.49360       6.08018   \n",
              "22     1967.75  9.39767                9.35835      4.46505       6.08858   \n",
              "23     1968.00  9.42150                9.39767      4.44924       6.10199   \n",
              "24     1968.25  9.44223                9.42150      4.43966       6.11207   \n",
              "25     1968.50  9.48721                9.44223      4.42025       6.11596   \n",
              "26     1968.75  9.52374                9.48721      4.41060       6.12129   \n",
              "27     1969.00  9.53980                9.52374      4.41151       6.12200   \n",
              "28     1969.25  9.58123                9.53980      4.39810       6.13119   \n",
              "29     1969.50  9.60048                9.58123      4.38513       6.14705   \n",
              "30     1969.75  9.64496                9.60048      4.37320       6.15336   \n",
              "31     1970.00  9.64390                9.64496      4.32770       6.15627   \n",
              "32     1970.25  9.69405                9.64390      4.32023       6.16274   \n",
              "33     1970.50  9.69958                9.69405      4.30909       6.17369   \n",
              "34     1970.75  9.68683                9.69958      4.30909       6.16135   \n",
              "35     1971.00  9.71774                9.68683      4.30552       6.18231   \n",
              "36     1971.25  9.74924                9.71774      4.29627       6.18768   \n",
              "37     1971.50  9.77536                9.74924      4.27839       6.19377   \n",
              "38     1971.75  9.79424                9.77536      4.27789       6.20030   \n",
              "\n",
              "    market.potential  \n",
              "0            12.9699  \n",
              "1            12.9733  \n",
              "2            12.9774  \n",
              "3            12.9806  \n",
              "4            12.9831  \n",
              "5            12.9854  \n",
              "6            12.9900  \n",
              "7            12.9943  \n",
              "8            12.9992  \n",
              "9            13.0033  \n",
              "10           13.0099  \n",
              "11           13.0159  \n",
              "12           13.0212  \n",
              "13           13.0265  \n",
              "14           13.0351  \n",
              "15           13.0429  \n",
              "16           13.0497  \n",
              "17           13.0551  \n",
              "18           13.0634  \n",
              "19           13.0693  \n",
              "20           13.0737  \n",
              "21           13.0770  \n",
              "22           13.0849  \n",
              "23           13.0918  \n",
              "24           13.0950  \n",
              "25           13.0984  \n",
              "26           13.1089  \n",
              "27           13.1169  \n",
              "28           13.1222  \n",
              "29           13.1266  \n",
              "30           13.1356  \n",
              "31           13.1415  \n",
              "32           13.1444  \n",
              "33           13.1459  \n",
              "34           13.1520  \n",
              "35           13.1593  \n",
              "36           13.1579  \n",
              "37           13.1625  \n",
              "38           13.1664  "
            ],
            "text/html": [
              "<div>\n",
              "<style scoped>\n",
              "    .dataframe tbody tr th:only-of-type {\n",
              "        vertical-align: middle;\n",
              "    }\n",
              "\n",
              "    .dataframe tbody tr th {\n",
              "        vertical-align: top;\n",
              "    }\n",
              "\n",
              "    .dataframe thead th {\n",
              "        text-align: right;\n",
              "    }\n",
              "</style>\n",
              "<table border=\"1\" class=\"dataframe\">\n",
              "  <thead>\n",
              "    <tr style=\"text-align: right;\">\n",
              "      <th></th>\n",
              "      <th>Unnamed: 0</th>\n",
              "      <th>y</th>\n",
              "      <th>lag.quarterly.revenue</th>\n",
              "      <th>price.index</th>\n",
              "      <th>income.level</th>\n",
              "      <th>market.potential</th>\n",
              "    </tr>\n",
              "  </thead>\n",
              "  <tbody>\n",
              "    <tr>\n",
              "      <th>0</th>\n",
              "      <td>1962.25</td>\n",
              "      <td>8.79236</td>\n",
              "      <td>8.79636</td>\n",
              "      <td>4.70997</td>\n",
              "      <td>5.82110</td>\n",
              "      <td>12.9699</td>\n",
              "    </tr>\n",
              "    <tr>\n",
              "      <th>1</th>\n",
              "      <td>1962.50</td>\n",
              "      <td>8.79137</td>\n",
              "      <td>8.79236</td>\n",
              "      <td>4.70217</td>\n",
              "      <td>5.82558</td>\n",
              "      <td>12.9733</td>\n",
              "    </tr>\n",
              "    <tr>\n",
              "      <th>2</th>\n",
              "      <td>1962.75</td>\n",
              "      <td>8.81486</td>\n",
              "      <td>8.79137</td>\n",
              "      <td>4.68944</td>\n",
              "      <td>5.83112</td>\n",
              "      <td>12.9774</td>\n",
              "    </tr>\n",
              "    <tr>\n",
              "      <th>3</th>\n",
              "      <td>1963.00</td>\n",
              "      <td>8.81301</td>\n",
              "      <td>8.81486</td>\n",
              "      <td>4.68558</td>\n",
              "      <td>5.84046</td>\n",
              "      <td>12.9806</td>\n",
              "    </tr>\n",
              "    <tr>\n",
              "      <th>4</th>\n",
              "      <td>1963.25</td>\n",
              "      <td>8.90751</td>\n",
              "      <td>8.81301</td>\n",
              "      <td>4.64019</td>\n",
              "      <td>5.85036</td>\n",
              "      <td>12.9831</td>\n",
              "    </tr>\n",
              "    <tr>\n",
              "      <th>5</th>\n",
              "      <td>1963.50</td>\n",
              "      <td>8.93673</td>\n",
              "      <td>8.90751</td>\n",
              "      <td>4.62553</td>\n",
              "      <td>5.86464</td>\n",
              "      <td>12.9854</td>\n",
              "    </tr>\n",
              "    <tr>\n",
              "      <th>6</th>\n",
              "      <td>1963.75</td>\n",
              "      <td>8.96161</td>\n",
              "      <td>8.93673</td>\n",
              "      <td>4.61991</td>\n",
              "      <td>5.87769</td>\n",
              "      <td>12.9900</td>\n",
              "    </tr>\n",
              "    <tr>\n",
              "      <th>7</th>\n",
              "      <td>1964.00</td>\n",
              "      <td>8.96044</td>\n",
              "      <td>8.96161</td>\n",
              "      <td>4.61654</td>\n",
              "      <td>5.89763</td>\n",
              "      <td>12.9943</td>\n",
              "    </tr>\n",
              "    <tr>\n",
              "      <th>8</th>\n",
              "      <td>1964.25</td>\n",
              "      <td>9.00868</td>\n",
              "      <td>8.96044</td>\n",
              "      <td>4.61407</td>\n",
              "      <td>5.92574</td>\n",
              "      <td>12.9992</td>\n",
              "    </tr>\n",
              "    <tr>\n",
              "      <th>9</th>\n",
              "      <td>1964.50</td>\n",
              "      <td>9.03049</td>\n",
              "      <td>9.00868</td>\n",
              "      <td>4.60766</td>\n",
              "      <td>5.94232</td>\n",
              "      <td>13.0033</td>\n",
              "    </tr>\n",
              "    <tr>\n",
              "      <th>10</th>\n",
              "      <td>1964.75</td>\n",
              "      <td>9.06906</td>\n",
              "      <td>9.03049</td>\n",
              "      <td>4.60227</td>\n",
              "      <td>5.95365</td>\n",
              "      <td>13.0099</td>\n",
              "    </tr>\n",
              "    <tr>\n",
              "      <th>11</th>\n",
              "      <td>1965.00</td>\n",
              "      <td>9.05871</td>\n",
              "      <td>9.06906</td>\n",
              "      <td>4.58960</td>\n",
              "      <td>5.96120</td>\n",
              "      <td>13.0159</td>\n",
              "    </tr>\n",
              "    <tr>\n",
              "      <th>12</th>\n",
              "      <td>1965.25</td>\n",
              "      <td>9.10698</td>\n",
              "      <td>9.05871</td>\n",
              "      <td>4.57592</td>\n",
              "      <td>5.97805</td>\n",
              "      <td>13.0212</td>\n",
              "    </tr>\n",
              "    <tr>\n",
              "      <th>13</th>\n",
              "      <td>1965.50</td>\n",
              "      <td>9.12685</td>\n",
              "      <td>9.10698</td>\n",
              "      <td>4.58661</td>\n",
              "      <td>6.00377</td>\n",
              "      <td>13.0265</td>\n",
              "    </tr>\n",
              "    <tr>\n",
              "      <th>14</th>\n",
              "      <td>1965.75</td>\n",
              "      <td>9.17096</td>\n",
              "      <td>9.12685</td>\n",
              "      <td>4.57997</td>\n",
              "      <td>6.02829</td>\n",
              "      <td>13.0351</td>\n",
              "    </tr>\n",
              "    <tr>\n",
              "      <th>15</th>\n",
              "      <td>1966.00</td>\n",
              "      <td>9.18665</td>\n",
              "      <td>9.17096</td>\n",
              "      <td>4.57176</td>\n",
              "      <td>6.03475</td>\n",
              "      <td>13.0429</td>\n",
              "    </tr>\n",
              "    <tr>\n",
              "      <th>16</th>\n",
              "      <td>1966.25</td>\n",
              "      <td>9.23823</td>\n",
              "      <td>9.18665</td>\n",
              "      <td>4.56104</td>\n",
              "      <td>6.03906</td>\n",
              "      <td>13.0497</td>\n",
              "    </tr>\n",
              "    <tr>\n",
              "      <th>17</th>\n",
              "      <td>1966.50</td>\n",
              "      <td>9.26487</td>\n",
              "      <td>9.23823</td>\n",
              "      <td>4.54906</td>\n",
              "      <td>6.05046</td>\n",
              "      <td>13.0551</td>\n",
              "    </tr>\n",
              "    <tr>\n",
              "      <th>18</th>\n",
              "      <td>1966.75</td>\n",
              "      <td>9.28436</td>\n",
              "      <td>9.26487</td>\n",
              "      <td>4.53957</td>\n",
              "      <td>6.05563</td>\n",
              "      <td>13.0634</td>\n",
              "    </tr>\n",
              "    <tr>\n",
              "      <th>19</th>\n",
              "      <td>1967.00</td>\n",
              "      <td>9.31378</td>\n",
              "      <td>9.28436</td>\n",
              "      <td>4.51018</td>\n",
              "      <td>6.06093</td>\n",
              "      <td>13.0693</td>\n",
              "    </tr>\n",
              "    <tr>\n",
              "      <th>20</th>\n",
              "      <td>1967.25</td>\n",
              "      <td>9.35025</td>\n",
              "      <td>9.31378</td>\n",
              "      <td>4.50352</td>\n",
              "      <td>6.07103</td>\n",
              "      <td>13.0737</td>\n",
              "    </tr>\n",
              "    <tr>\n",
              "      <th>21</th>\n",
              "      <td>1967.50</td>\n",
              "      <td>9.35835</td>\n",
              "      <td>9.35025</td>\n",
              "      <td>4.49360</td>\n",
              "      <td>6.08018</td>\n",
              "      <td>13.0770</td>\n",
              "    </tr>\n",
              "    <tr>\n",
              "      <th>22</th>\n",
              "      <td>1967.75</td>\n",
              "      <td>9.39767</td>\n",
              "      <td>9.35835</td>\n",
              "      <td>4.46505</td>\n",
              "      <td>6.08858</td>\n",
              "      <td>13.0849</td>\n",
              "    </tr>\n",
              "    <tr>\n",
              "      <th>23</th>\n",
              "      <td>1968.00</td>\n",
              "      <td>9.42150</td>\n",
              "      <td>9.39767</td>\n",
              "      <td>4.44924</td>\n",
              "      <td>6.10199</td>\n",
              "      <td>13.0918</td>\n",
              "    </tr>\n",
              "    <tr>\n",
              "      <th>24</th>\n",
              "      <td>1968.25</td>\n",
              "      <td>9.44223</td>\n",
              "      <td>9.42150</td>\n",
              "      <td>4.43966</td>\n",
              "      <td>6.11207</td>\n",
              "      <td>13.0950</td>\n",
              "    </tr>\n",
              "    <tr>\n",
              "      <th>25</th>\n",
              "      <td>1968.50</td>\n",
              "      <td>9.48721</td>\n",
              "      <td>9.44223</td>\n",
              "      <td>4.42025</td>\n",
              "      <td>6.11596</td>\n",
              "      <td>13.0984</td>\n",
              "    </tr>\n",
              "    <tr>\n",
              "      <th>26</th>\n",
              "      <td>1968.75</td>\n",
              "      <td>9.52374</td>\n",
              "      <td>9.48721</td>\n",
              "      <td>4.41060</td>\n",
              "      <td>6.12129</td>\n",
              "      <td>13.1089</td>\n",
              "    </tr>\n",
              "    <tr>\n",
              "      <th>27</th>\n",
              "      <td>1969.00</td>\n",
              "      <td>9.53980</td>\n",
              "      <td>9.52374</td>\n",
              "      <td>4.41151</td>\n",
              "      <td>6.12200</td>\n",
              "      <td>13.1169</td>\n",
              "    </tr>\n",
              "    <tr>\n",
              "      <th>28</th>\n",
              "      <td>1969.25</td>\n",
              "      <td>9.58123</td>\n",
              "      <td>9.53980</td>\n",
              "      <td>4.39810</td>\n",
              "      <td>6.13119</td>\n",
              "      <td>13.1222</td>\n",
              "    </tr>\n",
              "    <tr>\n",
              "      <th>29</th>\n",
              "      <td>1969.50</td>\n",
              "      <td>9.60048</td>\n",
              "      <td>9.58123</td>\n",
              "      <td>4.38513</td>\n",
              "      <td>6.14705</td>\n",
              "      <td>13.1266</td>\n",
              "    </tr>\n",
              "    <tr>\n",
              "      <th>30</th>\n",
              "      <td>1969.75</td>\n",
              "      <td>9.64496</td>\n",
              "      <td>9.60048</td>\n",
              "      <td>4.37320</td>\n",
              "      <td>6.15336</td>\n",
              "      <td>13.1356</td>\n",
              "    </tr>\n",
              "    <tr>\n",
              "      <th>31</th>\n",
              "      <td>1970.00</td>\n",
              "      <td>9.64390</td>\n",
              "      <td>9.64496</td>\n",
              "      <td>4.32770</td>\n",
              "      <td>6.15627</td>\n",
              "      <td>13.1415</td>\n",
              "    </tr>\n",
              "    <tr>\n",
              "      <th>32</th>\n",
              "      <td>1970.25</td>\n",
              "      <td>9.69405</td>\n",
              "      <td>9.64390</td>\n",
              "      <td>4.32023</td>\n",
              "      <td>6.16274</td>\n",
              "      <td>13.1444</td>\n",
              "    </tr>\n",
              "    <tr>\n",
              "      <th>33</th>\n",
              "      <td>1970.50</td>\n",
              "      <td>9.69958</td>\n",
              "      <td>9.69405</td>\n",
              "      <td>4.30909</td>\n",
              "      <td>6.17369</td>\n",
              "      <td>13.1459</td>\n",
              "    </tr>\n",
              "    <tr>\n",
              "      <th>34</th>\n",
              "      <td>1970.75</td>\n",
              "      <td>9.68683</td>\n",
              "      <td>9.69958</td>\n",
              "      <td>4.30909</td>\n",
              "      <td>6.16135</td>\n",
              "      <td>13.1520</td>\n",
              "    </tr>\n",
              "    <tr>\n",
              "      <th>35</th>\n",
              "      <td>1971.00</td>\n",
              "      <td>9.71774</td>\n",
              "      <td>9.68683</td>\n",
              "      <td>4.30552</td>\n",
              "      <td>6.18231</td>\n",
              "      <td>13.1593</td>\n",
              "    </tr>\n",
              "    <tr>\n",
              "      <th>36</th>\n",
              "      <td>1971.25</td>\n",
              "      <td>9.74924</td>\n",
              "      <td>9.71774</td>\n",
              "      <td>4.29627</td>\n",
              "      <td>6.18768</td>\n",
              "      <td>13.1579</td>\n",
              "    </tr>\n",
              "    <tr>\n",
              "      <th>37</th>\n",
              "      <td>1971.50</td>\n",
              "      <td>9.77536</td>\n",
              "      <td>9.74924</td>\n",
              "      <td>4.27839</td>\n",
              "      <td>6.19377</td>\n",
              "      <td>13.1625</td>\n",
              "    </tr>\n",
              "    <tr>\n",
              "      <th>38</th>\n",
              "      <td>1971.75</td>\n",
              "      <td>9.79424</td>\n",
              "      <td>9.77536</td>\n",
              "      <td>4.27789</td>\n",
              "      <td>6.20030</td>\n",
              "      <td>13.1664</td>\n",
              "    </tr>\n",
              "  </tbody>\n",
              "</table>\n",
              "</div>"
            ]
          },
          "metadata": {},
          "execution_count": 105
        }
      ]
    },
    {
      "cell_type": "code",
      "source": [
        "px.scatter_matrix(df)"
      ],
      "metadata": {
        "colab": {
          "base_uri": "https://localhost:8080/",
          "height": 542
        },
        "id": "UKG3n6lx6pAT",
        "outputId": "c8eaac35-2fd2-4b34-f377-349f1510e52c"
      },
      "execution_count": null,
      "outputs": [
        {
          "output_type": "display_data",
          "data": {
            "text/html": [
              "<html>\n",
              "<head><meta charset=\"utf-8\" /></head>\n",
              "<body>\n",
              "    <div>            <script src=\"https://cdnjs.cloudflare.com/ajax/libs/mathjax/2.7.5/MathJax.js?config=TeX-AMS-MML_SVG\"></script><script type=\"text/javascript\">if (window.MathJax && window.MathJax.Hub && window.MathJax.Hub.Config) {window.MathJax.Hub.Config({SVG: {font: \"STIX-Web\"}});}</script>                <script type=\"text/javascript\">window.PlotlyConfig = {MathJaxConfig: 'local'};</script>\n",
              "        <script src=\"https://cdn.plot.ly/plotly-2.16.1.min.js\"></script>                <div id=\"c19e86e6-e8b6-4804-8db7-c2c7b0534988\" class=\"plotly-graph-div\" style=\"height:525px; width:100%;\"></div>            <script type=\"text/javascript\">                                    window.PLOTLYENV=window.PLOTLYENV || {};                                    if (document.getElementById(\"c19e86e6-e8b6-4804-8db7-c2c7b0534988\")) {                    Plotly.newPlot(                        \"c19e86e6-e8b6-4804-8db7-c2c7b0534988\",                        [{\"dimensions\":[{\"axis\":{\"matches\":true},\"label\":\"Unnamed: 0\",\"values\":[1962.25,1962.5,1962.75,1963.0,1963.25,1963.5,1963.75,1964.0,1964.25,1964.5,1964.75,1965.0,1965.25,1965.5,1965.75,1966.0,1966.25,1966.5,1966.75,1967.0,1967.25,1967.5,1967.75,1968.0,1968.25,1968.5,1968.75,1969.0,1969.25,1969.5,1969.75,1970.0,1970.25,1970.5,1970.75,1971.0,1971.25,1971.5,1971.75]},{\"axis\":{\"matches\":true},\"label\":\"y\",\"values\":[8.79236,8.79137,8.81486,8.81301,8.90751,8.93673,8.96161,8.96044,9.00868,9.03049,9.06906,9.05871,9.10698,9.12685,9.17096,9.18665,9.23823,9.26487,9.28436,9.31378,9.35025,9.35835,9.39767,9.4215,9.44223,9.48721,9.52374,9.5398,9.58123,9.60048,9.64496,9.6439,9.69405,9.69958,9.68683,9.71774,9.74924,9.77536,9.79424]},{\"axis\":{\"matches\":true},\"label\":\"lag.quarterly.revenue\",\"values\":[8.79636,8.79236,8.79137,8.81486,8.81301,8.90751,8.93673,8.96161,8.96044,9.00868,9.03049,9.06906,9.05871,9.10698,9.12685,9.17096,9.18665,9.23823,9.26487,9.28436,9.31378,9.35025,9.35835,9.39767,9.4215,9.44223,9.48721,9.52374,9.5398,9.58123,9.60048,9.64496,9.6439,9.69405,9.69958,9.68683,9.71774,9.74924,9.77536]},{\"axis\":{\"matches\":true},\"label\":\"price.index\",\"values\":[4.70997,4.70217,4.68944,4.68558,4.64019,4.62553,4.61991,4.61654,4.61407,4.60766,4.60227,4.5896,4.57592,4.58661,4.57997,4.57176,4.56104,4.54906,4.53957,4.51018,4.50352,4.4936,4.46505,4.44924,4.43966,4.42025,4.4106,4.41151,4.3981,4.38513,4.3732,4.3277,4.32023,4.30909,4.30909,4.30552,4.29627,4.27839,4.27789]},{\"axis\":{\"matches\":true},\"label\":\"income.level\",\"values\":[5.8211,5.82558,5.83112,5.84046,5.85036,5.86464,5.87769,5.89763,5.92574,5.94232,5.95365,5.9612,5.97805,6.00377,6.02829,6.03475,6.03906,6.05046,6.05563,6.06093,6.07103,6.08018,6.08858,6.10199,6.11207,6.11596,6.12129,6.122,6.13119,6.14705,6.15336,6.15627,6.16274,6.17369,6.16135,6.18231,6.18768,6.19377,6.2003]},{\"axis\":{\"matches\":true},\"label\":\"market.potential\",\"values\":[12.9699,12.9733,12.9774,12.9806,12.9831,12.9854,12.99,12.9943,12.9992,13.0033,13.0099,13.0159,13.0212,13.0265,13.0351,13.0429,13.0497,13.0551,13.0634,13.0693,13.0737,13.077,13.0849,13.0918,13.095,13.0984,13.1089,13.1169,13.1222,13.1266,13.1356,13.1415,13.1444,13.1459,13.152,13.1593,13.1579,13.1625,13.1664]}],\"hovertemplate\":\"%{xaxis.title.text}=%{x}<br>%{yaxis.title.text}=%{y}<extra></extra>\",\"legendgroup\":\"\",\"marker\":{\"color\":\"#636efa\",\"symbol\":\"circle\"},\"name\":\"\",\"showlegend\":false,\"type\":\"splom\"}],                        {\"template\":{\"data\":{\"histogram2dcontour\":[{\"type\":\"histogram2dcontour\",\"colorbar\":{\"outlinewidth\":0,\"ticks\":\"\"},\"colorscale\":[[0.0,\"#0d0887\"],[0.1111111111111111,\"#46039f\"],[0.2222222222222222,\"#7201a8\"],[0.3333333333333333,\"#9c179e\"],[0.4444444444444444,\"#bd3786\"],[0.5555555555555556,\"#d8576b\"],[0.6666666666666666,\"#ed7953\"],[0.7777777777777778,\"#fb9f3a\"],[0.8888888888888888,\"#fdca26\"],[1.0,\"#f0f921\"]]}],\"choropleth\":[{\"type\":\"choropleth\",\"colorbar\":{\"outlinewidth\":0,\"ticks\":\"\"}}],\"histogram2d\":[{\"type\":\"histogram2d\",\"colorbar\":{\"outlinewidth\":0,\"ticks\":\"\"},\"colorscale\":[[0.0,\"#0d0887\"],[0.1111111111111111,\"#46039f\"],[0.2222222222222222,\"#7201a8\"],[0.3333333333333333,\"#9c179e\"],[0.4444444444444444,\"#bd3786\"],[0.5555555555555556,\"#d8576b\"],[0.6666666666666666,\"#ed7953\"],[0.7777777777777778,\"#fb9f3a\"],[0.8888888888888888,\"#fdca26\"],[1.0,\"#f0f921\"]]}],\"heatmap\":[{\"type\":\"heatmap\",\"colorbar\":{\"outlinewidth\":0,\"ticks\":\"\"},\"colorscale\":[[0.0,\"#0d0887\"],[0.1111111111111111,\"#46039f\"],[0.2222222222222222,\"#7201a8\"],[0.3333333333333333,\"#9c179e\"],[0.4444444444444444,\"#bd3786\"],[0.5555555555555556,\"#d8576b\"],[0.6666666666666666,\"#ed7953\"],[0.7777777777777778,\"#fb9f3a\"],[0.8888888888888888,\"#fdca26\"],[1.0,\"#f0f921\"]]}],\"heatmapgl\":[{\"type\":\"heatmapgl\",\"colorbar\":{\"outlinewidth\":0,\"ticks\":\"\"},\"colorscale\":[[0.0,\"#0d0887\"],[0.1111111111111111,\"#46039f\"],[0.2222222222222222,\"#7201a8\"],[0.3333333333333333,\"#9c179e\"],[0.4444444444444444,\"#bd3786\"],[0.5555555555555556,\"#d8576b\"],[0.6666666666666666,\"#ed7953\"],[0.7777777777777778,\"#fb9f3a\"],[0.8888888888888888,\"#fdca26\"],[1.0,\"#f0f921\"]]}],\"contourcarpet\":[{\"type\":\"contourcarpet\",\"colorbar\":{\"outlinewidth\":0,\"ticks\":\"\"}}],\"contour\":[{\"type\":\"contour\",\"colorbar\":{\"outlinewidth\":0,\"ticks\":\"\"},\"colorscale\":[[0.0,\"#0d0887\"],[0.1111111111111111,\"#46039f\"],[0.2222222222222222,\"#7201a8\"],[0.3333333333333333,\"#9c179e\"],[0.4444444444444444,\"#bd3786\"],[0.5555555555555556,\"#d8576b\"],[0.6666666666666666,\"#ed7953\"],[0.7777777777777778,\"#fb9f3a\"],[0.8888888888888888,\"#fdca26\"],[1.0,\"#f0f921\"]]}],\"surface\":[{\"type\":\"surface\",\"colorbar\":{\"outlinewidth\":0,\"ticks\":\"\"},\"colorscale\":[[0.0,\"#0d0887\"],[0.1111111111111111,\"#46039f\"],[0.2222222222222222,\"#7201a8\"],[0.3333333333333333,\"#9c179e\"],[0.4444444444444444,\"#bd3786\"],[0.5555555555555556,\"#d8576b\"],[0.6666666666666666,\"#ed7953\"],[0.7777777777777778,\"#fb9f3a\"],[0.8888888888888888,\"#fdca26\"],[1.0,\"#f0f921\"]]}],\"mesh3d\":[{\"type\":\"mesh3d\",\"colorbar\":{\"outlinewidth\":0,\"ticks\":\"\"}}],\"scatter\":[{\"fillpattern\":{\"fillmode\":\"overlay\",\"size\":10,\"solidity\":0.2},\"type\":\"scatter\"}],\"parcoords\":[{\"type\":\"parcoords\",\"line\":{\"colorbar\":{\"outlinewidth\":0,\"ticks\":\"\"}}}],\"scatterpolargl\":[{\"type\":\"scatterpolargl\",\"marker\":{\"colorbar\":{\"outlinewidth\":0,\"ticks\":\"\"}}}],\"bar\":[{\"error_x\":{\"color\":\"#2a3f5f\"},\"error_y\":{\"color\":\"#2a3f5f\"},\"marker\":{\"line\":{\"color\":\"#E5ECF6\",\"width\":0.5},\"pattern\":{\"fillmode\":\"overlay\",\"size\":10,\"solidity\":0.2}},\"type\":\"bar\"}],\"scattergeo\":[{\"type\":\"scattergeo\",\"marker\":{\"colorbar\":{\"outlinewidth\":0,\"ticks\":\"\"}}}],\"scatterpolar\":[{\"type\":\"scatterpolar\",\"marker\":{\"colorbar\":{\"outlinewidth\":0,\"ticks\":\"\"}}}],\"histogram\":[{\"marker\":{\"pattern\":{\"fillmode\":\"overlay\",\"size\":10,\"solidity\":0.2}},\"type\":\"histogram\"}],\"scattergl\":[{\"type\":\"scattergl\",\"marker\":{\"colorbar\":{\"outlinewidth\":0,\"ticks\":\"\"}}}],\"scatter3d\":[{\"type\":\"scatter3d\",\"line\":{\"colorbar\":{\"outlinewidth\":0,\"ticks\":\"\"}},\"marker\":{\"colorbar\":{\"outlinewidth\":0,\"ticks\":\"\"}}}],\"scattermapbox\":[{\"type\":\"scattermapbox\",\"marker\":{\"colorbar\":{\"outlinewidth\":0,\"ticks\":\"\"}}}],\"scatterternary\":[{\"type\":\"scatterternary\",\"marker\":{\"colorbar\":{\"outlinewidth\":0,\"ticks\":\"\"}}}],\"scattercarpet\":[{\"type\":\"scattercarpet\",\"marker\":{\"colorbar\":{\"outlinewidth\":0,\"ticks\":\"\"}}}],\"carpet\":[{\"aaxis\":{\"endlinecolor\":\"#2a3f5f\",\"gridcolor\":\"white\",\"linecolor\":\"white\",\"minorgridcolor\":\"white\",\"startlinecolor\":\"#2a3f5f\"},\"baxis\":{\"endlinecolor\":\"#2a3f5f\",\"gridcolor\":\"white\",\"linecolor\":\"white\",\"minorgridcolor\":\"white\",\"startlinecolor\":\"#2a3f5f\"},\"type\":\"carpet\"}],\"table\":[{\"cells\":{\"fill\":{\"color\":\"#EBF0F8\"},\"line\":{\"color\":\"white\"}},\"header\":{\"fill\":{\"color\":\"#C8D4E3\"},\"line\":{\"color\":\"white\"}},\"type\":\"table\"}],\"barpolar\":[{\"marker\":{\"line\":{\"color\":\"#E5ECF6\",\"width\":0.5},\"pattern\":{\"fillmode\":\"overlay\",\"size\":10,\"solidity\":0.2}},\"type\":\"barpolar\"}],\"pie\":[{\"automargin\":true,\"type\":\"pie\"}]},\"layout\":{\"autotypenumbers\":\"strict\",\"colorway\":[\"#636efa\",\"#EF553B\",\"#00cc96\",\"#ab63fa\",\"#FFA15A\",\"#19d3f3\",\"#FF6692\",\"#B6E880\",\"#FF97FF\",\"#FECB52\"],\"font\":{\"color\":\"#2a3f5f\"},\"hovermode\":\"closest\",\"hoverlabel\":{\"align\":\"left\"},\"paper_bgcolor\":\"white\",\"plot_bgcolor\":\"#E5ECF6\",\"polar\":{\"bgcolor\":\"#E5ECF6\",\"angularaxis\":{\"gridcolor\":\"white\",\"linecolor\":\"white\",\"ticks\":\"\"},\"radialaxis\":{\"gridcolor\":\"white\",\"linecolor\":\"white\",\"ticks\":\"\"}},\"ternary\":{\"bgcolor\":\"#E5ECF6\",\"aaxis\":{\"gridcolor\":\"white\",\"linecolor\":\"white\",\"ticks\":\"\"},\"baxis\":{\"gridcolor\":\"white\",\"linecolor\":\"white\",\"ticks\":\"\"},\"caxis\":{\"gridcolor\":\"white\",\"linecolor\":\"white\",\"ticks\":\"\"}},\"coloraxis\":{\"colorbar\":{\"outlinewidth\":0,\"ticks\":\"\"}},\"colorscale\":{\"sequential\":[[0.0,\"#0d0887\"],[0.1111111111111111,\"#46039f\"],[0.2222222222222222,\"#7201a8\"],[0.3333333333333333,\"#9c179e\"],[0.4444444444444444,\"#bd3786\"],[0.5555555555555556,\"#d8576b\"],[0.6666666666666666,\"#ed7953\"],[0.7777777777777778,\"#fb9f3a\"],[0.8888888888888888,\"#fdca26\"],[1.0,\"#f0f921\"]],\"sequentialminus\":[[0.0,\"#0d0887\"],[0.1111111111111111,\"#46039f\"],[0.2222222222222222,\"#7201a8\"],[0.3333333333333333,\"#9c179e\"],[0.4444444444444444,\"#bd3786\"],[0.5555555555555556,\"#d8576b\"],[0.6666666666666666,\"#ed7953\"],[0.7777777777777778,\"#fb9f3a\"],[0.8888888888888888,\"#fdca26\"],[1.0,\"#f0f921\"]],\"diverging\":[[0,\"#8e0152\"],[0.1,\"#c51b7d\"],[0.2,\"#de77ae\"],[0.3,\"#f1b6da\"],[0.4,\"#fde0ef\"],[0.5,\"#f7f7f7\"],[0.6,\"#e6f5d0\"],[0.7,\"#b8e186\"],[0.8,\"#7fbc41\"],[0.9,\"#4d9221\"],[1,\"#276419\"]]},\"xaxis\":{\"gridcolor\":\"white\",\"linecolor\":\"white\",\"ticks\":\"\",\"title\":{\"standoff\":15},\"zerolinecolor\":\"white\",\"automargin\":true,\"zerolinewidth\":2},\"yaxis\":{\"gridcolor\":\"white\",\"linecolor\":\"white\",\"ticks\":\"\",\"title\":{\"standoff\":15},\"zerolinecolor\":\"white\",\"automargin\":true,\"zerolinewidth\":2},\"scene\":{\"xaxis\":{\"backgroundcolor\":\"#E5ECF6\",\"gridcolor\":\"white\",\"linecolor\":\"white\",\"showbackground\":true,\"ticks\":\"\",\"zerolinecolor\":\"white\",\"gridwidth\":2},\"yaxis\":{\"backgroundcolor\":\"#E5ECF6\",\"gridcolor\":\"white\",\"linecolor\":\"white\",\"showbackground\":true,\"ticks\":\"\",\"zerolinecolor\":\"white\",\"gridwidth\":2},\"zaxis\":{\"backgroundcolor\":\"#E5ECF6\",\"gridcolor\":\"white\",\"linecolor\":\"white\",\"showbackground\":true,\"ticks\":\"\",\"zerolinecolor\":\"white\",\"gridwidth\":2}},\"shapedefaults\":{\"line\":{\"color\":\"#2a3f5f\"}},\"annotationdefaults\":{\"arrowcolor\":\"#2a3f5f\",\"arrowhead\":0,\"arrowwidth\":1},\"geo\":{\"bgcolor\":\"white\",\"landcolor\":\"#E5ECF6\",\"subunitcolor\":\"white\",\"showland\":true,\"showlakes\":true,\"lakecolor\":\"white\"},\"title\":{\"x\":0.05},\"mapbox\":{\"style\":\"light\"}}},\"legend\":{\"tracegroupgap\":0},\"margin\":{\"t\":60},\"dragmode\":\"select\"},                        {\"responsive\": true}                    ).then(function(){\n",
              "                            \n",
              "var gd = document.getElementById('c19e86e6-e8b6-4804-8db7-c2c7b0534988');\n",
              "var x = new MutationObserver(function (mutations, observer) {{\n",
              "        var display = window.getComputedStyle(gd).display;\n",
              "        if (!display || display === 'none') {{\n",
              "            console.log([gd, 'removed!']);\n",
              "            Plotly.purge(gd);\n",
              "            observer.disconnect();\n",
              "        }}\n",
              "}});\n",
              "\n",
              "// Listen for the removal of the full notebook cells\n",
              "var notebookContainer = gd.closest('#notebook-container');\n",
              "if (notebookContainer) {{\n",
              "    x.observe(notebookContainer, {childList: true});\n",
              "}}\n",
              "\n",
              "// Listen for the clearing of the current output cell\n",
              "var outputEl = gd.closest('.output');\n",
              "if (outputEl) {{\n",
              "    x.observe(outputEl, {childList: true});\n",
              "}}\n",
              "\n",
              "                        })                };                            </script>        </div>\n",
              "</body>\n",
              "</html>"
            ]
          },
          "metadata": {}
        }
      ]
    },
    {
      "cell_type": "markdown",
      "source": [
        "Как видим, данные вообще без шума чуть ли не прямыми линиями расположены, так что предсказывать мы безусловно будем хорошо. "
      ],
      "metadata": {
        "id": "Q4j1XRnQ75TG"
      }
    },
    {
      "cell_type": "markdown",
      "source": [
        "# Попробуем построить модель "
      ],
      "metadata": {
        "id": "kALGhhR118IW"
      }
    },
    {
      "cell_type": "markdown",
      "source": [
        "Построем сразу модель, чтобы понять какая точность и что можно улучшить"
      ],
      "metadata": {
        "id": "9UnPnZ0u2DQn"
      }
    },
    {
      "cell_type": "code",
      "execution_count": null,
      "metadata": {
        "id": "OMOIa80Jx1Y7"
      },
      "outputs": [],
      "source": [
        "X = df.loc[:, df.columns != 'y']\n",
        "y = df[['y']]"
      ]
    },
    {
      "cell_type": "code",
      "source": [
        "X_train, X_test, y_train, y_test = train_test_split(X, y, test_size=0.2, random_state=rst) "
      ],
      "metadata": {
        "id": "IZ7Fmp0f3AoA"
      },
      "execution_count": null,
      "outputs": []
    },
    {
      "cell_type": "code",
      "source": [
        "model = LinearRegression().fit(X_train, y_train)\n",
        "y_pred = model.predict(X_test)\n",
        "\n",
        "print(r2_score(y_test, y_pred))\n",
        "print(mean_absolute_error(y_test, y_pred))\n",
        "print(mean_absolute_percentage_error(y_test, y_pred))"
      ],
      "metadata": {
        "colab": {
          "base_uri": "https://localhost:8080/"
        },
        "id": "PJLD3YFV28Vl",
        "outputId": "ac21f609-d667-4b6f-a3ca-692eccb761a4"
      },
      "execution_count": null,
      "outputs": [
        {
          "output_type": "stream",
          "name": "stdout",
          "text": [
            "0.9969274811339698\n",
            "0.014070487735686976\n",
            "0.0015489126884911015\n"
          ]
        }
      ]
    },
    {
      "cell_type": "code",
      "source": [
        "px.imshow(df.corr(), text_auto=True)"
      ],
      "metadata": {
        "colab": {
          "base_uri": "https://localhost:8080/",
          "height": 542
        },
        "id": "udUBzzitCVfF",
        "outputId": "7c09213f-3793-4a79-b116-465450e971ea"
      },
      "execution_count": null,
      "outputs": [
        {
          "output_type": "display_data",
          "data": {
            "text/html": [
              "<html>\n",
              "<head><meta charset=\"utf-8\" /></head>\n",
              "<body>\n",
              "    <div>            <script src=\"https://cdnjs.cloudflare.com/ajax/libs/mathjax/2.7.5/MathJax.js?config=TeX-AMS-MML_SVG\"></script><script type=\"text/javascript\">if (window.MathJax && window.MathJax.Hub && window.MathJax.Hub.Config) {window.MathJax.Hub.Config({SVG: {font: \"STIX-Web\"}});}</script>                <script type=\"text/javascript\">window.PlotlyConfig = {MathJaxConfig: 'local'};</script>\n",
              "        <script src=\"https://cdn.plot.ly/plotly-2.16.1.min.js\"></script>                <div id=\"45563b61-a3f6-43c7-88f3-0314bf569384\" class=\"plotly-graph-div\" style=\"height:525px; width:100%;\"></div>            <script type=\"text/javascript\">                                    window.PLOTLYENV=window.PLOTLYENV || {};                                    if (document.getElementById(\"45563b61-a3f6-43c7-88f3-0314bf569384\")) {                    Plotly.newPlot(                        \"45563b61-a3f6-43c7-88f3-0314bf569384\",                        [{\"coloraxis\":\"coloraxis\",\"name\":\"0\",\"texttemplate\":\"%{z}\",\"x\":[\"Unnamed: 0\",\"y\",\"lag.quarterly.revenue\",\"price.index\",\"income.level\",\"market.potential\"],\"y\":[\"Unnamed: 0\",\"y\",\"lag.quarterly.revenue\",\"price.index\",\"income.level\",\"market.potential\"],\"z\":[[1.0,0.9979380384329251,0.9978985485655567,-0.9913635228086938,0.9808881655118546,0.9973412927584179],[0.9979380384329251,1.0,0.9977944995904369,-0.9895118291470555,0.983938227537237,0.996592835142805],[0.9978985485655567,0.9977944995904369,1.0,-0.989417421347074,0.9816601978632017,0.9972070121706966],[-0.9913635228086938,-0.9895118291470555,-0.989417421347074,1.0,-0.95387567274174,-0.9890884424587215],[0.9808881655118546,0.983938227537237,0.9816601978632017,-0.95387567274174,1.0,0.9765025390397973],[0.9973412927584179,0.996592835142805,0.9972070121706966,-0.9890884424587215,0.9765025390397973,1.0]],\"type\":\"heatmap\",\"xaxis\":\"x\",\"yaxis\":\"y\",\"hovertemplate\":\"x: %{x}<br>y: %{y}<br>color: %{z}<extra></extra>\"}],                        {\"template\":{\"data\":{\"histogram2dcontour\":[{\"type\":\"histogram2dcontour\",\"colorbar\":{\"outlinewidth\":0,\"ticks\":\"\"},\"colorscale\":[[0.0,\"#0d0887\"],[0.1111111111111111,\"#46039f\"],[0.2222222222222222,\"#7201a8\"],[0.3333333333333333,\"#9c179e\"],[0.4444444444444444,\"#bd3786\"],[0.5555555555555556,\"#d8576b\"],[0.6666666666666666,\"#ed7953\"],[0.7777777777777778,\"#fb9f3a\"],[0.8888888888888888,\"#fdca26\"],[1.0,\"#f0f921\"]]}],\"choropleth\":[{\"type\":\"choropleth\",\"colorbar\":{\"outlinewidth\":0,\"ticks\":\"\"}}],\"histogram2d\":[{\"type\":\"histogram2d\",\"colorbar\":{\"outlinewidth\":0,\"ticks\":\"\"},\"colorscale\":[[0.0,\"#0d0887\"],[0.1111111111111111,\"#46039f\"],[0.2222222222222222,\"#7201a8\"],[0.3333333333333333,\"#9c179e\"],[0.4444444444444444,\"#bd3786\"],[0.5555555555555556,\"#d8576b\"],[0.6666666666666666,\"#ed7953\"],[0.7777777777777778,\"#fb9f3a\"],[0.8888888888888888,\"#fdca26\"],[1.0,\"#f0f921\"]]}],\"heatmap\":[{\"type\":\"heatmap\",\"colorbar\":{\"outlinewidth\":0,\"ticks\":\"\"},\"colorscale\":[[0.0,\"#0d0887\"],[0.1111111111111111,\"#46039f\"],[0.2222222222222222,\"#7201a8\"],[0.3333333333333333,\"#9c179e\"],[0.4444444444444444,\"#bd3786\"],[0.5555555555555556,\"#d8576b\"],[0.6666666666666666,\"#ed7953\"],[0.7777777777777778,\"#fb9f3a\"],[0.8888888888888888,\"#fdca26\"],[1.0,\"#f0f921\"]]}],\"heatmapgl\":[{\"type\":\"heatmapgl\",\"colorbar\":{\"outlinewidth\":0,\"ticks\":\"\"},\"colorscale\":[[0.0,\"#0d0887\"],[0.1111111111111111,\"#46039f\"],[0.2222222222222222,\"#7201a8\"],[0.3333333333333333,\"#9c179e\"],[0.4444444444444444,\"#bd3786\"],[0.5555555555555556,\"#d8576b\"],[0.6666666666666666,\"#ed7953\"],[0.7777777777777778,\"#fb9f3a\"],[0.8888888888888888,\"#fdca26\"],[1.0,\"#f0f921\"]]}],\"contourcarpet\":[{\"type\":\"contourcarpet\",\"colorbar\":{\"outlinewidth\":0,\"ticks\":\"\"}}],\"contour\":[{\"type\":\"contour\",\"colorbar\":{\"outlinewidth\":0,\"ticks\":\"\"},\"colorscale\":[[0.0,\"#0d0887\"],[0.1111111111111111,\"#46039f\"],[0.2222222222222222,\"#7201a8\"],[0.3333333333333333,\"#9c179e\"],[0.4444444444444444,\"#bd3786\"],[0.5555555555555556,\"#d8576b\"],[0.6666666666666666,\"#ed7953\"],[0.7777777777777778,\"#fb9f3a\"],[0.8888888888888888,\"#fdca26\"],[1.0,\"#f0f921\"]]}],\"surface\":[{\"type\":\"surface\",\"colorbar\":{\"outlinewidth\":0,\"ticks\":\"\"},\"colorscale\":[[0.0,\"#0d0887\"],[0.1111111111111111,\"#46039f\"],[0.2222222222222222,\"#7201a8\"],[0.3333333333333333,\"#9c179e\"],[0.4444444444444444,\"#bd3786\"],[0.5555555555555556,\"#d8576b\"],[0.6666666666666666,\"#ed7953\"],[0.7777777777777778,\"#fb9f3a\"],[0.8888888888888888,\"#fdca26\"],[1.0,\"#f0f921\"]]}],\"mesh3d\":[{\"type\":\"mesh3d\",\"colorbar\":{\"outlinewidth\":0,\"ticks\":\"\"}}],\"scatter\":[{\"fillpattern\":{\"fillmode\":\"overlay\",\"size\":10,\"solidity\":0.2},\"type\":\"scatter\"}],\"parcoords\":[{\"type\":\"parcoords\",\"line\":{\"colorbar\":{\"outlinewidth\":0,\"ticks\":\"\"}}}],\"scatterpolargl\":[{\"type\":\"scatterpolargl\",\"marker\":{\"colorbar\":{\"outlinewidth\":0,\"ticks\":\"\"}}}],\"bar\":[{\"error_x\":{\"color\":\"#2a3f5f\"},\"error_y\":{\"color\":\"#2a3f5f\"},\"marker\":{\"line\":{\"color\":\"#E5ECF6\",\"width\":0.5},\"pattern\":{\"fillmode\":\"overlay\",\"size\":10,\"solidity\":0.2}},\"type\":\"bar\"}],\"scattergeo\":[{\"type\":\"scattergeo\",\"marker\":{\"colorbar\":{\"outlinewidth\":0,\"ticks\":\"\"}}}],\"scatterpolar\":[{\"type\":\"scatterpolar\",\"marker\":{\"colorbar\":{\"outlinewidth\":0,\"ticks\":\"\"}}}],\"histogram\":[{\"marker\":{\"pattern\":{\"fillmode\":\"overlay\",\"size\":10,\"solidity\":0.2}},\"type\":\"histogram\"}],\"scattergl\":[{\"type\":\"scattergl\",\"marker\":{\"colorbar\":{\"outlinewidth\":0,\"ticks\":\"\"}}}],\"scatter3d\":[{\"type\":\"scatter3d\",\"line\":{\"colorbar\":{\"outlinewidth\":0,\"ticks\":\"\"}},\"marker\":{\"colorbar\":{\"outlinewidth\":0,\"ticks\":\"\"}}}],\"scattermapbox\":[{\"type\":\"scattermapbox\",\"marker\":{\"colorbar\":{\"outlinewidth\":0,\"ticks\":\"\"}}}],\"scatterternary\":[{\"type\":\"scatterternary\",\"marker\":{\"colorbar\":{\"outlinewidth\":0,\"ticks\":\"\"}}}],\"scattercarpet\":[{\"type\":\"scattercarpet\",\"marker\":{\"colorbar\":{\"outlinewidth\":0,\"ticks\":\"\"}}}],\"carpet\":[{\"aaxis\":{\"endlinecolor\":\"#2a3f5f\",\"gridcolor\":\"white\",\"linecolor\":\"white\",\"minorgridcolor\":\"white\",\"startlinecolor\":\"#2a3f5f\"},\"baxis\":{\"endlinecolor\":\"#2a3f5f\",\"gridcolor\":\"white\",\"linecolor\":\"white\",\"minorgridcolor\":\"white\",\"startlinecolor\":\"#2a3f5f\"},\"type\":\"carpet\"}],\"table\":[{\"cells\":{\"fill\":{\"color\":\"#EBF0F8\"},\"line\":{\"color\":\"white\"}},\"header\":{\"fill\":{\"color\":\"#C8D4E3\"},\"line\":{\"color\":\"white\"}},\"type\":\"table\"}],\"barpolar\":[{\"marker\":{\"line\":{\"color\":\"#E5ECF6\",\"width\":0.5},\"pattern\":{\"fillmode\":\"overlay\",\"size\":10,\"solidity\":0.2}},\"type\":\"barpolar\"}],\"pie\":[{\"automargin\":true,\"type\":\"pie\"}]},\"layout\":{\"autotypenumbers\":\"strict\",\"colorway\":[\"#636efa\",\"#EF553B\",\"#00cc96\",\"#ab63fa\",\"#FFA15A\",\"#19d3f3\",\"#FF6692\",\"#B6E880\",\"#FF97FF\",\"#FECB52\"],\"font\":{\"color\":\"#2a3f5f\"},\"hovermode\":\"closest\",\"hoverlabel\":{\"align\":\"left\"},\"paper_bgcolor\":\"white\",\"plot_bgcolor\":\"#E5ECF6\",\"polar\":{\"bgcolor\":\"#E5ECF6\",\"angularaxis\":{\"gridcolor\":\"white\",\"linecolor\":\"white\",\"ticks\":\"\"},\"radialaxis\":{\"gridcolor\":\"white\",\"linecolor\":\"white\",\"ticks\":\"\"}},\"ternary\":{\"bgcolor\":\"#E5ECF6\",\"aaxis\":{\"gridcolor\":\"white\",\"linecolor\":\"white\",\"ticks\":\"\"},\"baxis\":{\"gridcolor\":\"white\",\"linecolor\":\"white\",\"ticks\":\"\"},\"caxis\":{\"gridcolor\":\"white\",\"linecolor\":\"white\",\"ticks\":\"\"}},\"coloraxis\":{\"colorbar\":{\"outlinewidth\":0,\"ticks\":\"\"}},\"colorscale\":{\"sequential\":[[0.0,\"#0d0887\"],[0.1111111111111111,\"#46039f\"],[0.2222222222222222,\"#7201a8\"],[0.3333333333333333,\"#9c179e\"],[0.4444444444444444,\"#bd3786\"],[0.5555555555555556,\"#d8576b\"],[0.6666666666666666,\"#ed7953\"],[0.7777777777777778,\"#fb9f3a\"],[0.8888888888888888,\"#fdca26\"],[1.0,\"#f0f921\"]],\"sequentialminus\":[[0.0,\"#0d0887\"],[0.1111111111111111,\"#46039f\"],[0.2222222222222222,\"#7201a8\"],[0.3333333333333333,\"#9c179e\"],[0.4444444444444444,\"#bd3786\"],[0.5555555555555556,\"#d8576b\"],[0.6666666666666666,\"#ed7953\"],[0.7777777777777778,\"#fb9f3a\"],[0.8888888888888888,\"#fdca26\"],[1.0,\"#f0f921\"]],\"diverging\":[[0,\"#8e0152\"],[0.1,\"#c51b7d\"],[0.2,\"#de77ae\"],[0.3,\"#f1b6da\"],[0.4,\"#fde0ef\"],[0.5,\"#f7f7f7\"],[0.6,\"#e6f5d0\"],[0.7,\"#b8e186\"],[0.8,\"#7fbc41\"],[0.9,\"#4d9221\"],[1,\"#276419\"]]},\"xaxis\":{\"gridcolor\":\"white\",\"linecolor\":\"white\",\"ticks\":\"\",\"title\":{\"standoff\":15},\"zerolinecolor\":\"white\",\"automargin\":true,\"zerolinewidth\":2},\"yaxis\":{\"gridcolor\":\"white\",\"linecolor\":\"white\",\"ticks\":\"\",\"title\":{\"standoff\":15},\"zerolinecolor\":\"white\",\"automargin\":true,\"zerolinewidth\":2},\"scene\":{\"xaxis\":{\"backgroundcolor\":\"#E5ECF6\",\"gridcolor\":\"white\",\"linecolor\":\"white\",\"showbackground\":true,\"ticks\":\"\",\"zerolinecolor\":\"white\",\"gridwidth\":2},\"yaxis\":{\"backgroundcolor\":\"#E5ECF6\",\"gridcolor\":\"white\",\"linecolor\":\"white\",\"showbackground\":true,\"ticks\":\"\",\"zerolinecolor\":\"white\",\"gridwidth\":2},\"zaxis\":{\"backgroundcolor\":\"#E5ECF6\",\"gridcolor\":\"white\",\"linecolor\":\"white\",\"showbackground\":true,\"ticks\":\"\",\"zerolinecolor\":\"white\",\"gridwidth\":2}},\"shapedefaults\":{\"line\":{\"color\":\"#2a3f5f\"}},\"annotationdefaults\":{\"arrowcolor\":\"#2a3f5f\",\"arrowhead\":0,\"arrowwidth\":1},\"geo\":{\"bgcolor\":\"white\",\"landcolor\":\"#E5ECF6\",\"subunitcolor\":\"white\",\"showland\":true,\"showlakes\":true,\"lakecolor\":\"white\"},\"title\":{\"x\":0.05},\"mapbox\":{\"style\":\"light\"}}},\"xaxis\":{\"anchor\":\"y\",\"domain\":[0.0,1.0],\"scaleanchor\":\"y\",\"constrain\":\"domain\"},\"yaxis\":{\"anchor\":\"x\",\"domain\":[0.0,1.0],\"autorange\":\"reversed\",\"constrain\":\"domain\"},\"coloraxis\":{\"colorscale\":[[0.0,\"#0d0887\"],[0.1111111111111111,\"#46039f\"],[0.2222222222222222,\"#7201a8\"],[0.3333333333333333,\"#9c179e\"],[0.4444444444444444,\"#bd3786\"],[0.5555555555555556,\"#d8576b\"],[0.6666666666666666,\"#ed7953\"],[0.7777777777777778,\"#fb9f3a\"],[0.8888888888888888,\"#fdca26\"],[1.0,\"#f0f921\"]]},\"margin\":{\"t\":60}},                        {\"responsive\": true}                    ).then(function(){\n",
              "                            \n",
              "var gd = document.getElementById('45563b61-a3f6-43c7-88f3-0314bf569384');\n",
              "var x = new MutationObserver(function (mutations, observer) {{\n",
              "        var display = window.getComputedStyle(gd).display;\n",
              "        if (!display || display === 'none') {{\n",
              "            console.log([gd, 'removed!']);\n",
              "            Plotly.purge(gd);\n",
              "            observer.disconnect();\n",
              "        }}\n",
              "}});\n",
              "\n",
              "// Listen for the removal of the full notebook cells\n",
              "var notebookContainer = gd.closest('#notebook-container');\n",
              "if (notebookContainer) {{\n",
              "    x.observe(notebookContainer, {childList: true});\n",
              "}}\n",
              "\n",
              "// Listen for the clearing of the current output cell\n",
              "var outputEl = gd.closest('.output');\n",
              "if (outputEl) {{\n",
              "    x.observe(outputEl, {childList: true});\n",
              "}}\n",
              "\n",
              "                        })                };                            </script>        </div>\n",
              "</body>\n",
              "</html>"
            ]
          },
          "metadata": {}
        }
      ]
    },
    {
      "cell_type": "markdown",
      "source": [
        "На самом деле, на этом можно и закончить, собственно, корреляция просто фантастическая, модель получается невероятная. И смысла в Ridge и Lasso на этих данных нет, в связи с отсутсвием шума и фич, которые сбивают модель. Поэтому сделаю что-нибудь своё для полного понимания работы Ridge и Lasso."
      ],
      "metadata": {
        "id": "xfJzVS2o4C6k"
      }
    },
    {
      "cell_type": "markdown",
      "source": [
        "# Генерация данных"
      ],
      "metadata": {
        "id": "d3GcBSNPcEj2"
      }
    },
    {
      "cell_type": "markdown",
      "source": [
        "### Линейные"
      ],
      "metadata": {
        "id": "yQLTnJg7OoKh"
      }
    },
    {
      "cell_type": "code",
      "execution_count": null,
      "metadata": {
        "id": "y1xJ7-VWKJYs"
      },
      "outputs": [],
      "source": [
        "X = np.linspace(0, 6)\n",
        "y = np.linspace(0, 3)\n",
        "\n",
        "noise_factor = 0.2\n",
        "\n",
        "def noise(k):\n",
        "   return k+((random.random()*2)-1)*noise_factor\n",
        "\n",
        "X_1 = np.vectorize(noise)(X)\n",
        "y_1 = np.vectorize(noise)(y)"
      ]
    },
    {
      "cell_type": "code",
      "source": [
        "px.scatter(x=X_1, y=y_1)"
      ],
      "metadata": {
        "colab": {
          "base_uri": "https://localhost:8080/",
          "height": 542
        },
        "id": "T61S8yAKQfzT",
        "outputId": "6fe3685b-deed-4f88-ff41-d825f760ad71"
      },
      "execution_count": null,
      "outputs": [
        {
          "output_type": "display_data",
          "data": {
            "text/html": [
              "<html>\n",
              "<head><meta charset=\"utf-8\" /></head>\n",
              "<body>\n",
              "    <div>            <script src=\"https://cdnjs.cloudflare.com/ajax/libs/mathjax/2.7.5/MathJax.js?config=TeX-AMS-MML_SVG\"></script><script type=\"text/javascript\">if (window.MathJax && window.MathJax.Hub && window.MathJax.Hub.Config) {window.MathJax.Hub.Config({SVG: {font: \"STIX-Web\"}});}</script>                <script type=\"text/javascript\">window.PlotlyConfig = {MathJaxConfig: 'local'};</script>\n",
              "        <script src=\"https://cdn.plot.ly/plotly-2.16.1.min.js\"></script>                <div id=\"e4d1ce52-1fcd-4906-a8b6-79299b2f58d8\" class=\"plotly-graph-div\" style=\"height:525px; width:100%;\"></div>            <script type=\"text/javascript\">                                    window.PLOTLYENV=window.PLOTLYENV || {};                                    if (document.getElementById(\"e4d1ce52-1fcd-4906-a8b6-79299b2f58d8\")) {                    Plotly.newPlot(                        \"e4d1ce52-1fcd-4906-a8b6-79299b2f58d8\",                        [{\"hovertemplate\":\"x=%{x}<br>y=%{y}<extra></extra>\",\"legendgroup\":\"\",\"marker\":{\"color\":\"#636efa\",\"symbol\":\"circle\"},\"mode\":\"markers\",\"name\":\"\",\"orientation\":\"v\",\"showlegend\":false,\"x\":[0.13055249199830793,0.27733400818667,0.3391455711618848,0.40402524523170963,0.34084466103670197,0.4583622574785659,0.7036912592046138,0.8893328554476836,0.9169001935952324,0.9218534241399275,1.146449469180223,1.245865217659097,1.5378364193196075,1.6022807309145035,1.847310154336483,1.859568575850033,2.157219493173896,2.027039658004358,2.0374198296894623,2.3560575476169188,2.4417600686983962,2.5528231820309695,2.64044504745884,2.9574476130628327,3.0088518357425142,3.2326000673242516,3.3266415781711984,3.391775197931391,3.578454302296838,3.6918203668996803,3.871449433219604,3.714212502516858,4.098621215586708,4.1563091948299045,4.040967460324666,4.316019173248317,4.420839918456819,4.536151596690622,4.707950699496342,4.801465405461311,4.994703232980074,4.909028540749611,5.33115525238671,5.275697356452218,5.50868355792678,5.346937884221244,5.780709695072004,5.717224908136245,6.0632916637449785,5.890578659552272],\"xaxis\":\"x\",\"y\":[-0.05017205859451726,0.05586045991305266,-0.0196670968871549,0.3004360232059621,0.24098278897484737,0.49261998185474,0.4063514174502383,0.34151024022556253,0.46444383641433723,0.7471352186973499,0.6277037508373792,0.6777097946017434,0.7364146838698651,0.8693570235715962,0.8641183999227492,0.7220784865686662,1.1681751863302834,0.9812504813958466,1.2319690467973194,1.0009986547138499,1.230551639348575,1.1883174375721481,1.2463643671197682,1.36201169632903,1.334053428931541,1.6322307423032099,1.643247626445172,1.800626686050525,1.651178053947247,1.668623272599175,1.9836627023585995,2.0421782964974455,1.9842440567633033,2.1979440698345423,2.2554306302454474,2.0633149184102644,2.305293815284426,2.07528617293926,2.4986159750455763,2.2865454303276564,2.527291682576858,2.5853827882558464,2.509511024529469,2.709664939460395,2.7077803172765518,2.662436858348046,3.0136406679699563,2.863465549927848,3.1306128404473603,2.9575203354210107],\"yaxis\":\"y\",\"type\":\"scatter\"}],                        {\"template\":{\"data\":{\"histogram2dcontour\":[{\"type\":\"histogram2dcontour\",\"colorbar\":{\"outlinewidth\":0,\"ticks\":\"\"},\"colorscale\":[[0.0,\"#0d0887\"],[0.1111111111111111,\"#46039f\"],[0.2222222222222222,\"#7201a8\"],[0.3333333333333333,\"#9c179e\"],[0.4444444444444444,\"#bd3786\"],[0.5555555555555556,\"#d8576b\"],[0.6666666666666666,\"#ed7953\"],[0.7777777777777778,\"#fb9f3a\"],[0.8888888888888888,\"#fdca26\"],[1.0,\"#f0f921\"]]}],\"choropleth\":[{\"type\":\"choropleth\",\"colorbar\":{\"outlinewidth\":0,\"ticks\":\"\"}}],\"histogram2d\":[{\"type\":\"histogram2d\",\"colorbar\":{\"outlinewidth\":0,\"ticks\":\"\"},\"colorscale\":[[0.0,\"#0d0887\"],[0.1111111111111111,\"#46039f\"],[0.2222222222222222,\"#7201a8\"],[0.3333333333333333,\"#9c179e\"],[0.4444444444444444,\"#bd3786\"],[0.5555555555555556,\"#d8576b\"],[0.6666666666666666,\"#ed7953\"],[0.7777777777777778,\"#fb9f3a\"],[0.8888888888888888,\"#fdca26\"],[1.0,\"#f0f921\"]]}],\"heatmap\":[{\"type\":\"heatmap\",\"colorbar\":{\"outlinewidth\":0,\"ticks\":\"\"},\"colorscale\":[[0.0,\"#0d0887\"],[0.1111111111111111,\"#46039f\"],[0.2222222222222222,\"#7201a8\"],[0.3333333333333333,\"#9c179e\"],[0.4444444444444444,\"#bd3786\"],[0.5555555555555556,\"#d8576b\"],[0.6666666666666666,\"#ed7953\"],[0.7777777777777778,\"#fb9f3a\"],[0.8888888888888888,\"#fdca26\"],[1.0,\"#f0f921\"]]}],\"heatmapgl\":[{\"type\":\"heatmapgl\",\"colorbar\":{\"outlinewidth\":0,\"ticks\":\"\"},\"colorscale\":[[0.0,\"#0d0887\"],[0.1111111111111111,\"#46039f\"],[0.2222222222222222,\"#7201a8\"],[0.3333333333333333,\"#9c179e\"],[0.4444444444444444,\"#bd3786\"],[0.5555555555555556,\"#d8576b\"],[0.6666666666666666,\"#ed7953\"],[0.7777777777777778,\"#fb9f3a\"],[0.8888888888888888,\"#fdca26\"],[1.0,\"#f0f921\"]]}],\"contourcarpet\":[{\"type\":\"contourcarpet\",\"colorbar\":{\"outlinewidth\":0,\"ticks\":\"\"}}],\"contour\":[{\"type\":\"contour\",\"colorbar\":{\"outlinewidth\":0,\"ticks\":\"\"},\"colorscale\":[[0.0,\"#0d0887\"],[0.1111111111111111,\"#46039f\"],[0.2222222222222222,\"#7201a8\"],[0.3333333333333333,\"#9c179e\"],[0.4444444444444444,\"#bd3786\"],[0.5555555555555556,\"#d8576b\"],[0.6666666666666666,\"#ed7953\"],[0.7777777777777778,\"#fb9f3a\"],[0.8888888888888888,\"#fdca26\"],[1.0,\"#f0f921\"]]}],\"surface\":[{\"type\":\"surface\",\"colorbar\":{\"outlinewidth\":0,\"ticks\":\"\"},\"colorscale\":[[0.0,\"#0d0887\"],[0.1111111111111111,\"#46039f\"],[0.2222222222222222,\"#7201a8\"],[0.3333333333333333,\"#9c179e\"],[0.4444444444444444,\"#bd3786\"],[0.5555555555555556,\"#d8576b\"],[0.6666666666666666,\"#ed7953\"],[0.7777777777777778,\"#fb9f3a\"],[0.8888888888888888,\"#fdca26\"],[1.0,\"#f0f921\"]]}],\"mesh3d\":[{\"type\":\"mesh3d\",\"colorbar\":{\"outlinewidth\":0,\"ticks\":\"\"}}],\"scatter\":[{\"fillpattern\":{\"fillmode\":\"overlay\",\"size\":10,\"solidity\":0.2},\"type\":\"scatter\"}],\"parcoords\":[{\"type\":\"parcoords\",\"line\":{\"colorbar\":{\"outlinewidth\":0,\"ticks\":\"\"}}}],\"scatterpolargl\":[{\"type\":\"scatterpolargl\",\"marker\":{\"colorbar\":{\"outlinewidth\":0,\"ticks\":\"\"}}}],\"bar\":[{\"error_x\":{\"color\":\"#2a3f5f\"},\"error_y\":{\"color\":\"#2a3f5f\"},\"marker\":{\"line\":{\"color\":\"#E5ECF6\",\"width\":0.5},\"pattern\":{\"fillmode\":\"overlay\",\"size\":10,\"solidity\":0.2}},\"type\":\"bar\"}],\"scattergeo\":[{\"type\":\"scattergeo\",\"marker\":{\"colorbar\":{\"outlinewidth\":0,\"ticks\":\"\"}}}],\"scatterpolar\":[{\"type\":\"scatterpolar\",\"marker\":{\"colorbar\":{\"outlinewidth\":0,\"ticks\":\"\"}}}],\"histogram\":[{\"marker\":{\"pattern\":{\"fillmode\":\"overlay\",\"size\":10,\"solidity\":0.2}},\"type\":\"histogram\"}],\"scattergl\":[{\"type\":\"scattergl\",\"marker\":{\"colorbar\":{\"outlinewidth\":0,\"ticks\":\"\"}}}],\"scatter3d\":[{\"type\":\"scatter3d\",\"line\":{\"colorbar\":{\"outlinewidth\":0,\"ticks\":\"\"}},\"marker\":{\"colorbar\":{\"outlinewidth\":0,\"ticks\":\"\"}}}],\"scattermapbox\":[{\"type\":\"scattermapbox\",\"marker\":{\"colorbar\":{\"outlinewidth\":0,\"ticks\":\"\"}}}],\"scatterternary\":[{\"type\":\"scatterternary\",\"marker\":{\"colorbar\":{\"outlinewidth\":0,\"ticks\":\"\"}}}],\"scattercarpet\":[{\"type\":\"scattercarpet\",\"marker\":{\"colorbar\":{\"outlinewidth\":0,\"ticks\":\"\"}}}],\"carpet\":[{\"aaxis\":{\"endlinecolor\":\"#2a3f5f\",\"gridcolor\":\"white\",\"linecolor\":\"white\",\"minorgridcolor\":\"white\",\"startlinecolor\":\"#2a3f5f\"},\"baxis\":{\"endlinecolor\":\"#2a3f5f\",\"gridcolor\":\"white\",\"linecolor\":\"white\",\"minorgridcolor\":\"white\",\"startlinecolor\":\"#2a3f5f\"},\"type\":\"carpet\"}],\"table\":[{\"cells\":{\"fill\":{\"color\":\"#EBF0F8\"},\"line\":{\"color\":\"white\"}},\"header\":{\"fill\":{\"color\":\"#C8D4E3\"},\"line\":{\"color\":\"white\"}},\"type\":\"table\"}],\"barpolar\":[{\"marker\":{\"line\":{\"color\":\"#E5ECF6\",\"width\":0.5},\"pattern\":{\"fillmode\":\"overlay\",\"size\":10,\"solidity\":0.2}},\"type\":\"barpolar\"}],\"pie\":[{\"automargin\":true,\"type\":\"pie\"}]},\"layout\":{\"autotypenumbers\":\"strict\",\"colorway\":[\"#636efa\",\"#EF553B\",\"#00cc96\",\"#ab63fa\",\"#FFA15A\",\"#19d3f3\",\"#FF6692\",\"#B6E880\",\"#FF97FF\",\"#FECB52\"],\"font\":{\"color\":\"#2a3f5f\"},\"hovermode\":\"closest\",\"hoverlabel\":{\"align\":\"left\"},\"paper_bgcolor\":\"white\",\"plot_bgcolor\":\"#E5ECF6\",\"polar\":{\"bgcolor\":\"#E5ECF6\",\"angularaxis\":{\"gridcolor\":\"white\",\"linecolor\":\"white\",\"ticks\":\"\"},\"radialaxis\":{\"gridcolor\":\"white\",\"linecolor\":\"white\",\"ticks\":\"\"}},\"ternary\":{\"bgcolor\":\"#E5ECF6\",\"aaxis\":{\"gridcolor\":\"white\",\"linecolor\":\"white\",\"ticks\":\"\"},\"baxis\":{\"gridcolor\":\"white\",\"linecolor\":\"white\",\"ticks\":\"\"},\"caxis\":{\"gridcolor\":\"white\",\"linecolor\":\"white\",\"ticks\":\"\"}},\"coloraxis\":{\"colorbar\":{\"outlinewidth\":0,\"ticks\":\"\"}},\"colorscale\":{\"sequential\":[[0.0,\"#0d0887\"],[0.1111111111111111,\"#46039f\"],[0.2222222222222222,\"#7201a8\"],[0.3333333333333333,\"#9c179e\"],[0.4444444444444444,\"#bd3786\"],[0.5555555555555556,\"#d8576b\"],[0.6666666666666666,\"#ed7953\"],[0.7777777777777778,\"#fb9f3a\"],[0.8888888888888888,\"#fdca26\"],[1.0,\"#f0f921\"]],\"sequentialminus\":[[0.0,\"#0d0887\"],[0.1111111111111111,\"#46039f\"],[0.2222222222222222,\"#7201a8\"],[0.3333333333333333,\"#9c179e\"],[0.4444444444444444,\"#bd3786\"],[0.5555555555555556,\"#d8576b\"],[0.6666666666666666,\"#ed7953\"],[0.7777777777777778,\"#fb9f3a\"],[0.8888888888888888,\"#fdca26\"],[1.0,\"#f0f921\"]],\"diverging\":[[0,\"#8e0152\"],[0.1,\"#c51b7d\"],[0.2,\"#de77ae\"],[0.3,\"#f1b6da\"],[0.4,\"#fde0ef\"],[0.5,\"#f7f7f7\"],[0.6,\"#e6f5d0\"],[0.7,\"#b8e186\"],[0.8,\"#7fbc41\"],[0.9,\"#4d9221\"],[1,\"#276419\"]]},\"xaxis\":{\"gridcolor\":\"white\",\"linecolor\":\"white\",\"ticks\":\"\",\"title\":{\"standoff\":15},\"zerolinecolor\":\"white\",\"automargin\":true,\"zerolinewidth\":2},\"yaxis\":{\"gridcolor\":\"white\",\"linecolor\":\"white\",\"ticks\":\"\",\"title\":{\"standoff\":15},\"zerolinecolor\":\"white\",\"automargin\":true,\"zerolinewidth\":2},\"scene\":{\"xaxis\":{\"backgroundcolor\":\"#E5ECF6\",\"gridcolor\":\"white\",\"linecolor\":\"white\",\"showbackground\":true,\"ticks\":\"\",\"zerolinecolor\":\"white\",\"gridwidth\":2},\"yaxis\":{\"backgroundcolor\":\"#E5ECF6\",\"gridcolor\":\"white\",\"linecolor\":\"white\",\"showbackground\":true,\"ticks\":\"\",\"zerolinecolor\":\"white\",\"gridwidth\":2},\"zaxis\":{\"backgroundcolor\":\"#E5ECF6\",\"gridcolor\":\"white\",\"linecolor\":\"white\",\"showbackground\":true,\"ticks\":\"\",\"zerolinecolor\":\"white\",\"gridwidth\":2}},\"shapedefaults\":{\"line\":{\"color\":\"#2a3f5f\"}},\"annotationdefaults\":{\"arrowcolor\":\"#2a3f5f\",\"arrowhead\":0,\"arrowwidth\":1},\"geo\":{\"bgcolor\":\"white\",\"landcolor\":\"#E5ECF6\",\"subunitcolor\":\"white\",\"showland\":true,\"showlakes\":true,\"lakecolor\":\"white\"},\"title\":{\"x\":0.05},\"mapbox\":{\"style\":\"light\"}}},\"xaxis\":{\"anchor\":\"y\",\"domain\":[0.0,1.0],\"title\":{\"text\":\"x\"}},\"yaxis\":{\"anchor\":\"x\",\"domain\":[0.0,1.0],\"title\":{\"text\":\"y\"}},\"legend\":{\"tracegroupgap\":0},\"margin\":{\"t\":60}},                        {\"responsive\": true}                    ).then(function(){\n",
              "                            \n",
              "var gd = document.getElementById('e4d1ce52-1fcd-4906-a8b6-79299b2f58d8');\n",
              "var x = new MutationObserver(function (mutations, observer) {{\n",
              "        var display = window.getComputedStyle(gd).display;\n",
              "        if (!display || display === 'none') {{\n",
              "            console.log([gd, 'removed!']);\n",
              "            Plotly.purge(gd);\n",
              "            observer.disconnect();\n",
              "        }}\n",
              "}});\n",
              "\n",
              "// Listen for the removal of the full notebook cells\n",
              "var notebookContainer = gd.closest('#notebook-container');\n",
              "if (notebookContainer) {{\n",
              "    x.observe(notebookContainer, {childList: true});\n",
              "}}\n",
              "\n",
              "// Listen for the clearing of the current output cell\n",
              "var outputEl = gd.closest('.output');\n",
              "if (outputEl) {{\n",
              "    x.observe(outputEl, {childList: true});\n",
              "}}\n",
              "\n",
              "                        })                };                            </script>        </div>\n",
              "</body>\n",
              "</html>"
            ]
          },
          "metadata": {}
        }
      ]
    },
    {
      "cell_type": "markdown",
      "source": [
        "Сделали обычные линейные данные с шумом"
      ],
      "metadata": {
        "id": "pjpSSzUfOYIp"
      }
    },
    {
      "cell_type": "markdown",
      "source": [
        "### Полиномиальные"
      ],
      "metadata": {
        "id": "Q2xrrFkwOwNG"
      }
    },
    {
      "cell_type": "code",
      "source": [
        "X_2 = 2 - 3 * np.random.normal(0, 1, 100)\n",
        "y_2 = X_2 - 2 * (X_2 ** 2) + 0.5 * (X_2 ** 3) + np.random.normal(-3, 3, 100)"
      ],
      "metadata": {
        "id": "mfgPUQ8SUoJM"
      },
      "execution_count": null,
      "outputs": []
    },
    {
      "cell_type": "code",
      "source": [
        "px.scatter(x=X_2, y=y_2)"
      ],
      "metadata": {
        "colab": {
          "base_uri": "https://localhost:8080/",
          "height": 542
        },
        "id": "mVzX28byUqmn",
        "outputId": "f3a1edaf-84bb-45b0-ed3e-075ec8fb20de"
      },
      "execution_count": null,
      "outputs": [
        {
          "output_type": "display_data",
          "data": {
            "text/html": [
              "<html>\n",
              "<head><meta charset=\"utf-8\" /></head>\n",
              "<body>\n",
              "    <div>            <script src=\"https://cdnjs.cloudflare.com/ajax/libs/mathjax/2.7.5/MathJax.js?config=TeX-AMS-MML_SVG\"></script><script type=\"text/javascript\">if (window.MathJax && window.MathJax.Hub && window.MathJax.Hub.Config) {window.MathJax.Hub.Config({SVG: {font: \"STIX-Web\"}});}</script>                <script type=\"text/javascript\">window.PlotlyConfig = {MathJaxConfig: 'local'};</script>\n",
              "        <script src=\"https://cdn.plot.ly/plotly-2.16.1.min.js\"></script>                <div id=\"252f58cd-30f4-4a39-a54d-d546077506ba\" class=\"plotly-graph-div\" style=\"height:525px; width:100%;\"></div>            <script type=\"text/javascript\">                                    window.PLOTLYENV=window.PLOTLYENV || {};                                    if (document.getElementById(\"252f58cd-30f4-4a39-a54d-d546077506ba\")) {                    Plotly.newPlot(                        \"252f58cd-30f4-4a39-a54d-d546077506ba\",                        [{\"hovertemplate\":\"x=%{x}<br>y=%{y}<extra></extra>\",\"legendgroup\":\"\",\"marker\":{\"color\":\"#636efa\",\"symbol\":\"circle\"},\"mode\":\"markers\",\"name\":\"\",\"orientation\":\"v\",\"showlegend\":false,\"x\":[4.161440558231339,2.6553174791071035,4.225131202868268,4.874085054771335,4.617962724531196,2.92895628323844,6.860326531499403,-0.8847260396302703,-2.5896198645487827,4.1439119011458265,0.07236306203396392,-1.2578909589883156,-2.3872423283058124,-0.45002196948377904,5.539987241722153,-0.7124466841272117,4.383455757608572,-0.6095191153152766,-2.2963753059676844,-1.77159905177745,-1.0602540823895188,0.22453390271880114,4.589932154050775,-0.313509213678393,6.099433249184581,3.010627143252151,5.962216032921623,2.751661639364473,0.6526989297626233,4.746213581192281,-2.7247492126828625,-0.3078864492205753,2.3013333112125114,2.7438059921621787,7.8698109008288295,2.7789854806754963,2.553556250456576,6.172525850893541,1.5975567548409684,3.51624088291128,3.2344204018301306,6.100689230786545,3.118381630758107,1.9567075703876011,-6.205053984458042,-4.158512088167452,2.3356067397582847,3.4295218479151792,2.145134199817726,0.8648101006211841,4.161475454335071,4.774409772029147,2.043382171692937,3.9761391077981916,1.2559999535323123,0.7361834935469052,0.789198893314869,5.248379238913225,6.066202150987925,-0.9194218885469083,-2.5674572834524634,0.7641789773305567,2.170325051312616,-3.46126566997673,-2.059532274410012,3.5408421381307873,-2.420639609859407,5.226065005810108,2.0697260676503175,-3.1510690744898664,1.6349369360115453,2.6465131318663087,2.386679557272263,3.078158273057382,6.164748933712072,1.20942655712633,3.571363032502695,7.856597267276079,3.102119984880248,2.0903036139051734,2.1953989813439994,4.805266424774928,0.07282039957095754,-1.9449631333641006,0.5969939640695694,-1.9395996466838437,5.732867940811712,3.26810422694153,-0.7907493165967789,4.475722436654028,3.835583627651478,-0.9510045241645582,-3.284921163118047,2.4069772444222255,1.1915307111626299,3.772590851486431,2.351642415044223,2.370143371151107,-0.14709257058613412,2.901930991910251],\"xaxis\":\"x\",\"y\":[-2.975364708496395,-6.549668221856804,12.11257209465109,14.500570003151092,8.301765564307136,-6.428907034121749,74.15482525590112,-10.4775521898977,-25.824908595510227,0.753924554202106,-3.9160805384679724,-9.926186566151465,-22.49925405131715,-7.431936741654939,31.274062715772292,-4.233013081342238,7.871425424910313,-4.082816645961647,-16.05053841334029,-13.657026587298546,-7.084622439355119,-2.0250649267015133,5.484179203264449,-5.675871318373987,40.4391930414698,-3.0804433385566377,38.22288795563061,-7.690897508566971,0.37007509254319737,11.288665903574959,-31.80006764332177,-6.287037780418608,-2.3867760825238777,1.478562069292451,124.97823487161467,-3.696283248182479,-5.988564688423807,46.17682951296979,-1.8327806476568842,0.5911929684251715,-6.660183516485531,42.351499998600445,-11.368790826350214,-5.847595302794762,-208.4266236160998,-79.97766796198212,-5.657121867108019,-3.9181194733192637,-5.390870248878167,-3.2987967158157416,2.449235434859233,5.5883202409969215,-6.232621283787205,0.10294618402390832,-0.8755280614544826,-1.6315067255376714,-1.4446460070945422,24.54109508719001,36.73977916105577,-7.531959514506516,-28.486406628241188,-1.0867020102280458,-4.55786702011793,-55.0996778293265,-15.197209361045793,-2.051577564608963,-24.26756156810065,18.695314811366835,-3.8854195496749977,-42.66789914516155,-11.532390520558447,-2.5532757754061035,-9.134811605238564,-3.2391838378074773,47.6165585881611,-5.313362449030627,-6.716722526412858,125.71141762850566,-6.390490092726722,-2.7031547612420725,-5.082390813528248,9.533158291146576,-0.3493309204874182,-18.73003639646707,-4.631953621218002,-12.58623315049141,31.547338584306335,-5.346919966079138,-8.665767214906303,6.575978361483285,-3.522713529910286,-2.6042844668672696,-48.24902716140522,-0.199901786580293,-6.189354813215884,1.0570932026653561,-2.7439469059819466,3.9816697108206816,-1.0524863441398487,-7.446672530226413],\"yaxis\":\"y\",\"type\":\"scatter\"}],                        {\"template\":{\"data\":{\"histogram2dcontour\":[{\"type\":\"histogram2dcontour\",\"colorbar\":{\"outlinewidth\":0,\"ticks\":\"\"},\"colorscale\":[[0.0,\"#0d0887\"],[0.1111111111111111,\"#46039f\"],[0.2222222222222222,\"#7201a8\"],[0.3333333333333333,\"#9c179e\"],[0.4444444444444444,\"#bd3786\"],[0.5555555555555556,\"#d8576b\"],[0.6666666666666666,\"#ed7953\"],[0.7777777777777778,\"#fb9f3a\"],[0.8888888888888888,\"#fdca26\"],[1.0,\"#f0f921\"]]}],\"choropleth\":[{\"type\":\"choropleth\",\"colorbar\":{\"outlinewidth\":0,\"ticks\":\"\"}}],\"histogram2d\":[{\"type\":\"histogram2d\",\"colorbar\":{\"outlinewidth\":0,\"ticks\":\"\"},\"colorscale\":[[0.0,\"#0d0887\"],[0.1111111111111111,\"#46039f\"],[0.2222222222222222,\"#7201a8\"],[0.3333333333333333,\"#9c179e\"],[0.4444444444444444,\"#bd3786\"],[0.5555555555555556,\"#d8576b\"],[0.6666666666666666,\"#ed7953\"],[0.7777777777777778,\"#fb9f3a\"],[0.8888888888888888,\"#fdca26\"],[1.0,\"#f0f921\"]]}],\"heatmap\":[{\"type\":\"heatmap\",\"colorbar\":{\"outlinewidth\":0,\"ticks\":\"\"},\"colorscale\":[[0.0,\"#0d0887\"],[0.1111111111111111,\"#46039f\"],[0.2222222222222222,\"#7201a8\"],[0.3333333333333333,\"#9c179e\"],[0.4444444444444444,\"#bd3786\"],[0.5555555555555556,\"#d8576b\"],[0.6666666666666666,\"#ed7953\"],[0.7777777777777778,\"#fb9f3a\"],[0.8888888888888888,\"#fdca26\"],[1.0,\"#f0f921\"]]}],\"heatmapgl\":[{\"type\":\"heatmapgl\",\"colorbar\":{\"outlinewidth\":0,\"ticks\":\"\"},\"colorscale\":[[0.0,\"#0d0887\"],[0.1111111111111111,\"#46039f\"],[0.2222222222222222,\"#7201a8\"],[0.3333333333333333,\"#9c179e\"],[0.4444444444444444,\"#bd3786\"],[0.5555555555555556,\"#d8576b\"],[0.6666666666666666,\"#ed7953\"],[0.7777777777777778,\"#fb9f3a\"],[0.8888888888888888,\"#fdca26\"],[1.0,\"#f0f921\"]]}],\"contourcarpet\":[{\"type\":\"contourcarpet\",\"colorbar\":{\"outlinewidth\":0,\"ticks\":\"\"}}],\"contour\":[{\"type\":\"contour\",\"colorbar\":{\"outlinewidth\":0,\"ticks\":\"\"},\"colorscale\":[[0.0,\"#0d0887\"],[0.1111111111111111,\"#46039f\"],[0.2222222222222222,\"#7201a8\"],[0.3333333333333333,\"#9c179e\"],[0.4444444444444444,\"#bd3786\"],[0.5555555555555556,\"#d8576b\"],[0.6666666666666666,\"#ed7953\"],[0.7777777777777778,\"#fb9f3a\"],[0.8888888888888888,\"#fdca26\"],[1.0,\"#f0f921\"]]}],\"surface\":[{\"type\":\"surface\",\"colorbar\":{\"outlinewidth\":0,\"ticks\":\"\"},\"colorscale\":[[0.0,\"#0d0887\"],[0.1111111111111111,\"#46039f\"],[0.2222222222222222,\"#7201a8\"],[0.3333333333333333,\"#9c179e\"],[0.4444444444444444,\"#bd3786\"],[0.5555555555555556,\"#d8576b\"],[0.6666666666666666,\"#ed7953\"],[0.7777777777777778,\"#fb9f3a\"],[0.8888888888888888,\"#fdca26\"],[1.0,\"#f0f921\"]]}],\"mesh3d\":[{\"type\":\"mesh3d\",\"colorbar\":{\"outlinewidth\":0,\"ticks\":\"\"}}],\"scatter\":[{\"fillpattern\":{\"fillmode\":\"overlay\",\"size\":10,\"solidity\":0.2},\"type\":\"scatter\"}],\"parcoords\":[{\"type\":\"parcoords\",\"line\":{\"colorbar\":{\"outlinewidth\":0,\"ticks\":\"\"}}}],\"scatterpolargl\":[{\"type\":\"scatterpolargl\",\"marker\":{\"colorbar\":{\"outlinewidth\":0,\"ticks\":\"\"}}}],\"bar\":[{\"error_x\":{\"color\":\"#2a3f5f\"},\"error_y\":{\"color\":\"#2a3f5f\"},\"marker\":{\"line\":{\"color\":\"#E5ECF6\",\"width\":0.5},\"pattern\":{\"fillmode\":\"overlay\",\"size\":10,\"solidity\":0.2}},\"type\":\"bar\"}],\"scattergeo\":[{\"type\":\"scattergeo\",\"marker\":{\"colorbar\":{\"outlinewidth\":0,\"ticks\":\"\"}}}],\"scatterpolar\":[{\"type\":\"scatterpolar\",\"marker\":{\"colorbar\":{\"outlinewidth\":0,\"ticks\":\"\"}}}],\"histogram\":[{\"marker\":{\"pattern\":{\"fillmode\":\"overlay\",\"size\":10,\"solidity\":0.2}},\"type\":\"histogram\"}],\"scattergl\":[{\"type\":\"scattergl\",\"marker\":{\"colorbar\":{\"outlinewidth\":0,\"ticks\":\"\"}}}],\"scatter3d\":[{\"type\":\"scatter3d\",\"line\":{\"colorbar\":{\"outlinewidth\":0,\"ticks\":\"\"}},\"marker\":{\"colorbar\":{\"outlinewidth\":0,\"ticks\":\"\"}}}],\"scattermapbox\":[{\"type\":\"scattermapbox\",\"marker\":{\"colorbar\":{\"outlinewidth\":0,\"ticks\":\"\"}}}],\"scatterternary\":[{\"type\":\"scatterternary\",\"marker\":{\"colorbar\":{\"outlinewidth\":0,\"ticks\":\"\"}}}],\"scattercarpet\":[{\"type\":\"scattercarpet\",\"marker\":{\"colorbar\":{\"outlinewidth\":0,\"ticks\":\"\"}}}],\"carpet\":[{\"aaxis\":{\"endlinecolor\":\"#2a3f5f\",\"gridcolor\":\"white\",\"linecolor\":\"white\",\"minorgridcolor\":\"white\",\"startlinecolor\":\"#2a3f5f\"},\"baxis\":{\"endlinecolor\":\"#2a3f5f\",\"gridcolor\":\"white\",\"linecolor\":\"white\",\"minorgridcolor\":\"white\",\"startlinecolor\":\"#2a3f5f\"},\"type\":\"carpet\"}],\"table\":[{\"cells\":{\"fill\":{\"color\":\"#EBF0F8\"},\"line\":{\"color\":\"white\"}},\"header\":{\"fill\":{\"color\":\"#C8D4E3\"},\"line\":{\"color\":\"white\"}},\"type\":\"table\"}],\"barpolar\":[{\"marker\":{\"line\":{\"color\":\"#E5ECF6\",\"width\":0.5},\"pattern\":{\"fillmode\":\"overlay\",\"size\":10,\"solidity\":0.2}},\"type\":\"barpolar\"}],\"pie\":[{\"automargin\":true,\"type\":\"pie\"}]},\"layout\":{\"autotypenumbers\":\"strict\",\"colorway\":[\"#636efa\",\"#EF553B\",\"#00cc96\",\"#ab63fa\",\"#FFA15A\",\"#19d3f3\",\"#FF6692\",\"#B6E880\",\"#FF97FF\",\"#FECB52\"],\"font\":{\"color\":\"#2a3f5f\"},\"hovermode\":\"closest\",\"hoverlabel\":{\"align\":\"left\"},\"paper_bgcolor\":\"white\",\"plot_bgcolor\":\"#E5ECF6\",\"polar\":{\"bgcolor\":\"#E5ECF6\",\"angularaxis\":{\"gridcolor\":\"white\",\"linecolor\":\"white\",\"ticks\":\"\"},\"radialaxis\":{\"gridcolor\":\"white\",\"linecolor\":\"white\",\"ticks\":\"\"}},\"ternary\":{\"bgcolor\":\"#E5ECF6\",\"aaxis\":{\"gridcolor\":\"white\",\"linecolor\":\"white\",\"ticks\":\"\"},\"baxis\":{\"gridcolor\":\"white\",\"linecolor\":\"white\",\"ticks\":\"\"},\"caxis\":{\"gridcolor\":\"white\",\"linecolor\":\"white\",\"ticks\":\"\"}},\"coloraxis\":{\"colorbar\":{\"outlinewidth\":0,\"ticks\":\"\"}},\"colorscale\":{\"sequential\":[[0.0,\"#0d0887\"],[0.1111111111111111,\"#46039f\"],[0.2222222222222222,\"#7201a8\"],[0.3333333333333333,\"#9c179e\"],[0.4444444444444444,\"#bd3786\"],[0.5555555555555556,\"#d8576b\"],[0.6666666666666666,\"#ed7953\"],[0.7777777777777778,\"#fb9f3a\"],[0.8888888888888888,\"#fdca26\"],[1.0,\"#f0f921\"]],\"sequentialminus\":[[0.0,\"#0d0887\"],[0.1111111111111111,\"#46039f\"],[0.2222222222222222,\"#7201a8\"],[0.3333333333333333,\"#9c179e\"],[0.4444444444444444,\"#bd3786\"],[0.5555555555555556,\"#d8576b\"],[0.6666666666666666,\"#ed7953\"],[0.7777777777777778,\"#fb9f3a\"],[0.8888888888888888,\"#fdca26\"],[1.0,\"#f0f921\"]],\"diverging\":[[0,\"#8e0152\"],[0.1,\"#c51b7d\"],[0.2,\"#de77ae\"],[0.3,\"#f1b6da\"],[0.4,\"#fde0ef\"],[0.5,\"#f7f7f7\"],[0.6,\"#e6f5d0\"],[0.7,\"#b8e186\"],[0.8,\"#7fbc41\"],[0.9,\"#4d9221\"],[1,\"#276419\"]]},\"xaxis\":{\"gridcolor\":\"white\",\"linecolor\":\"white\",\"ticks\":\"\",\"title\":{\"standoff\":15},\"zerolinecolor\":\"white\",\"automargin\":true,\"zerolinewidth\":2},\"yaxis\":{\"gridcolor\":\"white\",\"linecolor\":\"white\",\"ticks\":\"\",\"title\":{\"standoff\":15},\"zerolinecolor\":\"white\",\"automargin\":true,\"zerolinewidth\":2},\"scene\":{\"xaxis\":{\"backgroundcolor\":\"#E5ECF6\",\"gridcolor\":\"white\",\"linecolor\":\"white\",\"showbackground\":true,\"ticks\":\"\",\"zerolinecolor\":\"white\",\"gridwidth\":2},\"yaxis\":{\"backgroundcolor\":\"#E5ECF6\",\"gridcolor\":\"white\",\"linecolor\":\"white\",\"showbackground\":true,\"ticks\":\"\",\"zerolinecolor\":\"white\",\"gridwidth\":2},\"zaxis\":{\"backgroundcolor\":\"#E5ECF6\",\"gridcolor\":\"white\",\"linecolor\":\"white\",\"showbackground\":true,\"ticks\":\"\",\"zerolinecolor\":\"white\",\"gridwidth\":2}},\"shapedefaults\":{\"line\":{\"color\":\"#2a3f5f\"}},\"annotationdefaults\":{\"arrowcolor\":\"#2a3f5f\",\"arrowhead\":0,\"arrowwidth\":1},\"geo\":{\"bgcolor\":\"white\",\"landcolor\":\"#E5ECF6\",\"subunitcolor\":\"white\",\"showland\":true,\"showlakes\":true,\"lakecolor\":\"white\"},\"title\":{\"x\":0.05},\"mapbox\":{\"style\":\"light\"}}},\"xaxis\":{\"anchor\":\"y\",\"domain\":[0.0,1.0],\"title\":{\"text\":\"x\"}},\"yaxis\":{\"anchor\":\"x\",\"domain\":[0.0,1.0],\"title\":{\"text\":\"y\"}},\"legend\":{\"tracegroupgap\":0},\"margin\":{\"t\":60}},                        {\"responsive\": true}                    ).then(function(){\n",
              "                            \n",
              "var gd = document.getElementById('252f58cd-30f4-4a39-a54d-d546077506ba');\n",
              "var x = new MutationObserver(function (mutations, observer) {{\n",
              "        var display = window.getComputedStyle(gd).display;\n",
              "        if (!display || display === 'none') {{\n",
              "            console.log([gd, 'removed!']);\n",
              "            Plotly.purge(gd);\n",
              "            observer.disconnect();\n",
              "        }}\n",
              "}});\n",
              "\n",
              "// Listen for the removal of the full notebook cells\n",
              "var notebookContainer = gd.closest('#notebook-container');\n",
              "if (notebookContainer) {{\n",
              "    x.observe(notebookContainer, {childList: true});\n",
              "}}\n",
              "\n",
              "// Listen for the clearing of the current output cell\n",
              "var outputEl = gd.closest('.output');\n",
              "if (outputEl) {{\n",
              "    x.observe(outputEl, {childList: true});\n",
              "}}\n",
              "\n",
              "                        })                };                            </script>        </div>\n",
              "</body>\n",
              "</html>"
            ]
          },
          "metadata": {}
        }
      ]
    },
    {
      "cell_type": "markdown",
      "source": [
        "Тут данные без особого шума "
      ],
      "metadata": {
        "id": "E22eZXv4PqxD"
      }
    },
    {
      "cell_type": "markdown",
      "source": [
        "### Полиномиальные с большим шумом"
      ],
      "metadata": {
        "id": "-ZFon0M_O1R_"
      }
    },
    {
      "cell_type": "code",
      "source": [
        "import numpy as np\n",
        "import matplotlib.pyplot as plt\n",
        "\n",
        "def func(x, c): \n",
        "    return sum([c[i] * x**i for i in range(len(c))])\n",
        "\n",
        "num_data_points = 300\n",
        "degree = 3\n",
        "\n",
        "X_3 = np.random.uniform(-10, 10, num_data_points)\n",
        "c = [np.random.uniform(-3, 3) for _ in range(degree + 1)]\n",
        "y_3 = np.array( [func(X_3[i], c) for i in range(num_data_points)] )\n",
        "\n",
        "mu, sigma = 0, 100\n",
        "noise = np.random.normal(mu, sigma, num_data_points)\n",
        "\n",
        "y_3 = np.add(y_3, noise)"
      ],
      "metadata": {
        "id": "qr-8QNu0d8Y5"
      },
      "execution_count": null,
      "outputs": []
    },
    {
      "cell_type": "code",
      "source": [
        "px.scatter(x=X_3, y=y_3)"
      ],
      "metadata": {
        "colab": {
          "base_uri": "https://localhost:8080/",
          "height": 542
        },
        "id": "O2m58gFGd9au",
        "outputId": "b66426a2-6f21-4864-e5e9-c7cfaf343672"
      },
      "execution_count": null,
      "outputs": [
        {
          "output_type": "display_data",
          "data": {
            "text/html": [
              "<html>\n",
              "<head><meta charset=\"utf-8\" /></head>\n",
              "<body>\n",
              "    <div>            <script src=\"https://cdnjs.cloudflare.com/ajax/libs/mathjax/2.7.5/MathJax.js?config=TeX-AMS-MML_SVG\"></script><script type=\"text/javascript\">if (window.MathJax && window.MathJax.Hub && window.MathJax.Hub.Config) {window.MathJax.Hub.Config({SVG: {font: \"STIX-Web\"}});}</script>                <script type=\"text/javascript\">window.PlotlyConfig = {MathJaxConfig: 'local'};</script>\n",
              "        <script src=\"https://cdn.plot.ly/plotly-2.16.1.min.js\"></script>                <div id=\"6a8b5a50-229f-49a7-b40f-3a303766b4ea\" class=\"plotly-graph-div\" style=\"height:525px; width:100%;\"></div>            <script type=\"text/javascript\">                                    window.PLOTLYENV=window.PLOTLYENV || {};                                    if (document.getElementById(\"6a8b5a50-229f-49a7-b40f-3a303766b4ea\")) {                    Plotly.newPlot(                        \"6a8b5a50-229f-49a7-b40f-3a303766b4ea\",                        [{\"hovertemplate\":\"x=%{x}<br>y=%{y}<extra></extra>\",\"legendgroup\":\"\",\"marker\":{\"color\":\"#636efa\",\"symbol\":\"circle\"},\"mode\":\"markers\",\"name\":\"\",\"orientation\":\"v\",\"showlegend\":false,\"x\":[0.5008733373016643,-1.935114964101679,4.754142456568495,3.7284532573882974,3.7418589836183553,5.851899341506861,6.253634602878112,6.153117447938126,-8.684579083335473,9.830852351443788,-1.5677544226458124,-2.3158226285144696,-4.786583206061019,-7.052939019855233,-2.4739449961266136,-2.420109319857861,2.790916838549034,0.15483523541794675,-3.9478634340324774,-0.03391818102696931,9.299111590880859,-7.949482403770746,-6.861361957380085,-2.8061069656983157,-0.14005854284733488,9.953077208895309,3.3766017268198603,-3.282250507261364,-8.4089720508011,6.119428755622163,-1.1529891268390031,2.5266501812360715,8.157722478740588,6.190539271185088,7.08539070396008,-4.471580460462297,-8.473372522891703,0.776584267983333,-6.30070488407279,-4.962363018984668,-3.5847411276240653,5.366377687406425,8.378440461267719,0.46829137374760776,-1.2492566717839715,6.001604101962897,-6.52803540050866,0.7435993583338423,-8.69932035775179,-9.358334573422784,-0.9088262531239337,-5.812831117781013,-3.742984725661424,4.716348601080094,7.464798466472956,-8.563151096375933,-3.541978695895846,-9.168325358293838,-1.8616936145411849,9.8388066384559,-9.41002963308,7.7248608821562925,6.372978033208941,-0.5910393187825882,-4.7767267068547525,-0.4110086886960076,-8.20962316172632,-5.196755741064816,-6.447407370845535,1.5250345109425485,6.808572269703813,-9.392386661015998,4.9207663345970225,1.4139245711381925,2.751329022747676,1.2998242284531454,-0.9161132326131831,9.093031737861253,-0.07919611276555116,-1.0519457650527002,6.847099112984914,-8.973280246609434,-9.318120839913375,-5.118120300633608,4.899435630660111,9.217119767480153,6.396156504353694,7.932785394720508,-3.654575766142518,-6.183432936755857,4.805832422459188,8.723034716621846,-5.107562819269919,2.190570790364907,2.5992586982417443,-6.390505053949392,7.432250062012759,-9.79946112023403,-5.336968758320544,-4.203544124146211,2.3834587622570993,8.50953150991608,1.9474937801876209,9.094565313142098,-9.893205817571447,-6.162450161324921,-4.283918423922506,2.818230722899022,-2.0787161682954984,6.6752678001757495,-1.8761429092715716,-4.186263915954513,-4.118868303974786,-5.193228279251098,-4.672950766142314,3.5312961616314276,-5.116906310515774,-5.05607214641052,-3.1927630603573736,8.38328164657226,1.2724779891367568,-5.81905222540414,-7.796082993486251,7.899370220986693,7.953495299731909,7.618756769033013,-4.763530796868802,6.317904049348893,1.3250577972325832,2.924994026517636,0.9270517446139692,-9.697773951963963,-7.010210306002218,-1.6052313773145706,-8.410200555415276,-0.5270114761085782,2.1687997835628323,-2.414503323011525,4.892085612916988,6.113715995074212,8.204034052948181,7.719370259591319,-3.640048227309638,4.908848764384253,4.197728167628963,-3.558402175141895,-1.388616905596134,3.6684502491011646,-4.8819904082774475,7.746023753043222,7.651323226902573,-9.392392203626407,6.36000622858662,4.463936422065711,-7.734095044469433,-6.161350523839133,-6.752744544012876,-1.01632690512497,-2.794602164625526,6.503971246034261,7.170175721535024,3.778873373511768,-4.333195997964527,2.095080407630011,5.555736172218831,7.830895167188476,9.223665054887825,-6.402719924976226,-3.359663175536822,0.1145368833482685,7.8768952627096525,2.7378809645436313,-5.658268670775475,-0.4880085370235161,4.073827512174056,-4.463027752695012,-4.984632713287091,5.708086862620988,-0.8428883248654184,-4.914774035263898,-0.010388616624208424,8.849006857443275,2.884342499154366,7.710526934934382,-4.5685157202594,0.080162149856708,8.08218950593061,-3.9226965114846024,-7.709639081833668,-0.5498907050754003,-3.793419404952192,-3.9416425724116566,-3.16632966452699,9.926608861602382,-2.9550245320976583,-6.064352022403064,7.627599001031829,-8.881879243265313,-8.765189254707849,-0.7727601092136283,4.829750156390887,-1.5857132391033169,-0.3532225301812417,-0.4210359744855623,5.722343832218154,4.00147822454004,9.399342322262761,-8.64157359605328,-5.695392173543874,6.4819530106699155,2.557563805424918,3.2743818814713936,-4.279846840779937,5.077382906866944,-8.38717214525319,8.551465649551922,-7.87058299658038,6.586250184279198,1.7835458262476784,-6.86464992359676,1.7203540953649181,-7.094611199202472,8.214701523545667,-6.524055028997033,-5.680984253596437,3.9441910598675793,-5.614006515459353,-9.976791254583011,4.637678633418554,-5.830757080851474,-2.3219198032457093,1.7085435850749757,9.651575699842962,1.518138112280539,6.995250257398602,-4.075772270046332,3.5122813699566144,-9.88884915005612,1.835564856066064,5.709680770537446,1.001432786707138,-5.40427093587823,8.73884800471998,-8.485600946372383,3.101120697393105,-6.37374552760591,2.474852543476217,-5.303184933509035,-6.298967878230027,3.0157143537945075,-8.98102434382021,3.6275115379694647,-0.1708178913926126,0.6427288963145994,-2.5569833311765233,4.622543625659327,7.40613602742291,-4.3028136948080675,-2.6120685663076326,-4.53448760826457,-9.734604830426619,-8.443611080857371,-6.079160702933615,5.1008550637115775,5.121309061346489,1.6712547764110592,5.38756956433307,2.9583105941783465,-4.475202808163658,-1.7276937586695666,6.861417304478479,-8.471104166629672,3.454818502781688,8.995763809846686,-7.622440817269993,4.565152361164577,9.805346764800642,6.642764139015714,-4.061074233578285,6.230392180893247,1.7072137861118755,9.756331163767126,-2.262467816038205,3.5745637237693373,-9.199772536010578,-6.5235862462737675,9.190273165371952,-4.671292594775503,8.276256745964972,-2.70061567320907,7.283011681761462,-5.64589506750573,-5.672323682905955,-3.48564868136555,-0.2834430312750271,-0.6266198254955118,-4.9790730667265715,-3.5087419483092708,2.1248038956795057,-0.7400443381796471],\"xaxis\":\"x\",\"y\":[8.010898761966736,95.37516199720457,145.27332613887316,22.689630672981973,160.47547453403948,122.99703012624582,141.59885575238337,113.96473766967935,-174.37344372877016,785.8070550047112,133.79802649029685,93.259697747795,151.9322798158064,-70.10782915016895,-10.305868881612557,-106.6841512464861,-64.10467780426458,-114.6655890298768,191.43395164548025,-121.71578160500151,588.7063334263271,-292.38633871360366,30.673107934553855,36.94724009134232,-63.39273506983655,573.6448576333897,-50.93995869705231,57.31445801482137,-224.78830863777137,150.628765075527,68.48580930186577,39.99546242082746,323.3420232104004,284.4248684999188,311.7633246059828,-142.91225272642492,-318.25856866816645,90.50634450091522,-52.2516820945661,-90.78271158654277,-76.78868281265144,140.19151122113627,535.6061515421969,-30.93503384236002,21.649316604225294,170.74049016979535,10.727305963864453,10.804940128046615,-323.69456925222823,-426.6327120746763,-44.4173626094035,159.02843876327597,-31.400199058997103,113.51319805920897,276.25916750643063,-264.6108022411547,42.34692105841219,-348.4049133315476,14.1935704698333,727.7532120739917,-453.5057216708155,450.3099665121537,108.56576425175356,-4.584758418151267,-69.22482360506864,-22.878284043003084,-382.1119313133411,37.84019760305522,-255.76383169169307,-135.03705758753676,290.95801113992815,-226.95896274375622,146.80374173256212,111.76759487874098,133.89134374100607,-51.558453141559355,-2.5749637798767333,477.91093862560854,-135.46416417348897,-59.85695780416373,51.450136678281865,-435.076660017526,-395.9908201121856,-2.3572748153483687,-93.57305462049098,701.8205374687536,136.23192820640958,386.43329596022846,-155.1991433345016,-48.233112602776714,206.63383083314503,396.51838167384267,-19.99919002067758,-33.40523486801882,-44.60815061619704,-226.12617473951056,374.08869170252603,-488.8764102868613,-121.39983439439857,32.321124877372576,-180.01837054136786,582.4577920329803,89.40568477285265,361.9587664479669,-581.0207286309537,76.02370390956837,2.582886019820588,-13.658136148099953,81.87200928091664,264.6728779555466,42.801535048653975,3.346906208719087,-112.69877380642954,-10.867154788922022,-142.0111081518601,76.68510070647443,140.87729493326214,-96.5359207621575,-27.34339044606123,556.6939625233215,6.089707038883976,-128.60418679247763,-229.66850122719325,565.5451638267402,346.967080099734,361.3696707199264,-57.14078230048166,193.40642509049775,183.87249884168637,92.62569942512673,34.080561171746815,-377.05838119864046,-50.80352518444997,-133.28355534962535,-278.05892612202507,254.22159168880478,88.20340085860221,-55.22478801664968,170.93744485300653,273.0777312638241,395.3279392628401,415.9091648578659,65.81937076023989,37.71659343604817,-54.690467322294026,125.89754426895949,-149.3231557961126,162.29814536276263,-31.625735856164045,201.40587993492892,285.70516742662755,-314.13996684036334,-27.50908988428432,-49.4111073730262,-148.77842315258573,-279.3842014336691,-38.89847791449428,-105.65431897549153,56.79171776245623,119.29137440878692,378.1824722258862,159.78134742412504,21.955895590115382,-48.032993458131806,5.80730330691398,560.6455210226558,403.8216316455473,46.22014832115357,17.539737671677237,88.42144772722997,338.34479242780674,82.77008294947777,-23.18591993366391,-215.64192633415777,18.31630967796692,195.7611436474107,-74.86791203679213,109.44772552318369,-154.35267919868974,74.2783755039091,85.42090952215163,630.5677699014416,148.92999785852447,360.3973021366284,-44.925961757536264,31.151853960439073,414.503521041255,-98.42070146950715,-244.85135788631635,-87.03723626488424,105.3883136506823,-21.432779862387036,53.09752348883289,802.6851065930193,96.23648833735486,-209.6058503144791,568.9506675048852,-327.45061414398367,-265.6851185835825,-126.83840346180419,200.56430322213924,-39.183555196188266,-179.8665835510019,92.5268778498099,191.74062613520323,70.28646431073354,478.2082624980857,-357.82059026837356,35.224408089052986,39.857894465024,168.09299306479093,84.2422493383422,-92.5379344211401,62.89209554092422,-265.28515461311855,515.5076511901995,-245.60235930621556,112.20472707421271,-70.25508400581258,-128.41959346148928,120.4099553986259,-113.40056851899443,322.62551382424004,-47.31769847062486,0.9587006174929513,-97.55521995035245,-174.01615225834365,-528.9189728140526,100.42166777775424,27.510803178692612,49.473070055235766,197.12256544008332,435.47715068207884,-191.8276173539705,310.10503614149934,159.5823988620017,-112.83580848443054,-384.3657018076853,-66.06051507349197,164.38900494134856,44.18148549514585,-119.51101820930734,413.15905129978654,-339.17169958588414,98.64433944088032,-67.92342795585073,19.3614213713002,21.283856249589988,-213.45861530481966,-74.00615651199203,-311.1325077659619,64.307147381981,42.51047370629925,-114.1652807622291,-18.61926629460691,148.66834771643303,324.86700127258143,107.63364361571652,-117.11099695764868,-166.87868214981364,-495.19300440065064,-210.152044666186,-211.7788137747856,93.8574506186295,138.63079093874663,-34.107933354029626,201.2848685826102,-179.11022103785484,-97.10080357314064,37.149803099521165,269.8468677998322,-424.22052061758694,-141.59741545271805,435.67035160609487,-157.08789145246016,7.94994572649972,647.0330773694262,407.6140874597305,-38.39873125782043,229.43489253857433,-108.4125584036364,474.9196623442929,190.26405476550772,129.24408871085365,-466.6993807303603,-151.61193514004978,597.8683916581047,32.73353481882726,472.35948949111497,42.83318700618102,220.24918311612385,-95.73386275013063,-76.23674025573823,53.2462645446288,85.13110832976375,-48.61514975636548,-5.114517460407853,96.35660364680889,-5.920642460373308,-105.94942517239399],\"yaxis\":\"y\",\"type\":\"scatter\"}],                        {\"template\":{\"data\":{\"histogram2dcontour\":[{\"type\":\"histogram2dcontour\",\"colorbar\":{\"outlinewidth\":0,\"ticks\":\"\"},\"colorscale\":[[0.0,\"#0d0887\"],[0.1111111111111111,\"#46039f\"],[0.2222222222222222,\"#7201a8\"],[0.3333333333333333,\"#9c179e\"],[0.4444444444444444,\"#bd3786\"],[0.5555555555555556,\"#d8576b\"],[0.6666666666666666,\"#ed7953\"],[0.7777777777777778,\"#fb9f3a\"],[0.8888888888888888,\"#fdca26\"],[1.0,\"#f0f921\"]]}],\"choropleth\":[{\"type\":\"choropleth\",\"colorbar\":{\"outlinewidth\":0,\"ticks\":\"\"}}],\"histogram2d\":[{\"type\":\"histogram2d\",\"colorbar\":{\"outlinewidth\":0,\"ticks\":\"\"},\"colorscale\":[[0.0,\"#0d0887\"],[0.1111111111111111,\"#46039f\"],[0.2222222222222222,\"#7201a8\"],[0.3333333333333333,\"#9c179e\"],[0.4444444444444444,\"#bd3786\"],[0.5555555555555556,\"#d8576b\"],[0.6666666666666666,\"#ed7953\"],[0.7777777777777778,\"#fb9f3a\"],[0.8888888888888888,\"#fdca26\"],[1.0,\"#f0f921\"]]}],\"heatmap\":[{\"type\":\"heatmap\",\"colorbar\":{\"outlinewidth\":0,\"ticks\":\"\"},\"colorscale\":[[0.0,\"#0d0887\"],[0.1111111111111111,\"#46039f\"],[0.2222222222222222,\"#7201a8\"],[0.3333333333333333,\"#9c179e\"],[0.4444444444444444,\"#bd3786\"],[0.5555555555555556,\"#d8576b\"],[0.6666666666666666,\"#ed7953\"],[0.7777777777777778,\"#fb9f3a\"],[0.8888888888888888,\"#fdca26\"],[1.0,\"#f0f921\"]]}],\"heatmapgl\":[{\"type\":\"heatmapgl\",\"colorbar\":{\"outlinewidth\":0,\"ticks\":\"\"},\"colorscale\":[[0.0,\"#0d0887\"],[0.1111111111111111,\"#46039f\"],[0.2222222222222222,\"#7201a8\"],[0.3333333333333333,\"#9c179e\"],[0.4444444444444444,\"#bd3786\"],[0.5555555555555556,\"#d8576b\"],[0.6666666666666666,\"#ed7953\"],[0.7777777777777778,\"#fb9f3a\"],[0.8888888888888888,\"#fdca26\"],[1.0,\"#f0f921\"]]}],\"contourcarpet\":[{\"type\":\"contourcarpet\",\"colorbar\":{\"outlinewidth\":0,\"ticks\":\"\"}}],\"contour\":[{\"type\":\"contour\",\"colorbar\":{\"outlinewidth\":0,\"ticks\":\"\"},\"colorscale\":[[0.0,\"#0d0887\"],[0.1111111111111111,\"#46039f\"],[0.2222222222222222,\"#7201a8\"],[0.3333333333333333,\"#9c179e\"],[0.4444444444444444,\"#bd3786\"],[0.5555555555555556,\"#d8576b\"],[0.6666666666666666,\"#ed7953\"],[0.7777777777777778,\"#fb9f3a\"],[0.8888888888888888,\"#fdca26\"],[1.0,\"#f0f921\"]]}],\"surface\":[{\"type\":\"surface\",\"colorbar\":{\"outlinewidth\":0,\"ticks\":\"\"},\"colorscale\":[[0.0,\"#0d0887\"],[0.1111111111111111,\"#46039f\"],[0.2222222222222222,\"#7201a8\"],[0.3333333333333333,\"#9c179e\"],[0.4444444444444444,\"#bd3786\"],[0.5555555555555556,\"#d8576b\"],[0.6666666666666666,\"#ed7953\"],[0.7777777777777778,\"#fb9f3a\"],[0.8888888888888888,\"#fdca26\"],[1.0,\"#f0f921\"]]}],\"mesh3d\":[{\"type\":\"mesh3d\",\"colorbar\":{\"outlinewidth\":0,\"ticks\":\"\"}}],\"scatter\":[{\"fillpattern\":{\"fillmode\":\"overlay\",\"size\":10,\"solidity\":0.2},\"type\":\"scatter\"}],\"parcoords\":[{\"type\":\"parcoords\",\"line\":{\"colorbar\":{\"outlinewidth\":0,\"ticks\":\"\"}}}],\"scatterpolargl\":[{\"type\":\"scatterpolargl\",\"marker\":{\"colorbar\":{\"outlinewidth\":0,\"ticks\":\"\"}}}],\"bar\":[{\"error_x\":{\"color\":\"#2a3f5f\"},\"error_y\":{\"color\":\"#2a3f5f\"},\"marker\":{\"line\":{\"color\":\"#E5ECF6\",\"width\":0.5},\"pattern\":{\"fillmode\":\"overlay\",\"size\":10,\"solidity\":0.2}},\"type\":\"bar\"}],\"scattergeo\":[{\"type\":\"scattergeo\",\"marker\":{\"colorbar\":{\"outlinewidth\":0,\"ticks\":\"\"}}}],\"scatterpolar\":[{\"type\":\"scatterpolar\",\"marker\":{\"colorbar\":{\"outlinewidth\":0,\"ticks\":\"\"}}}],\"histogram\":[{\"marker\":{\"pattern\":{\"fillmode\":\"overlay\",\"size\":10,\"solidity\":0.2}},\"type\":\"histogram\"}],\"scattergl\":[{\"type\":\"scattergl\",\"marker\":{\"colorbar\":{\"outlinewidth\":0,\"ticks\":\"\"}}}],\"scatter3d\":[{\"type\":\"scatter3d\",\"line\":{\"colorbar\":{\"outlinewidth\":0,\"ticks\":\"\"}},\"marker\":{\"colorbar\":{\"outlinewidth\":0,\"ticks\":\"\"}}}],\"scattermapbox\":[{\"type\":\"scattermapbox\",\"marker\":{\"colorbar\":{\"outlinewidth\":0,\"ticks\":\"\"}}}],\"scatterternary\":[{\"type\":\"scatterternary\",\"marker\":{\"colorbar\":{\"outlinewidth\":0,\"ticks\":\"\"}}}],\"scattercarpet\":[{\"type\":\"scattercarpet\",\"marker\":{\"colorbar\":{\"outlinewidth\":0,\"ticks\":\"\"}}}],\"carpet\":[{\"aaxis\":{\"endlinecolor\":\"#2a3f5f\",\"gridcolor\":\"white\",\"linecolor\":\"white\",\"minorgridcolor\":\"white\",\"startlinecolor\":\"#2a3f5f\"},\"baxis\":{\"endlinecolor\":\"#2a3f5f\",\"gridcolor\":\"white\",\"linecolor\":\"white\",\"minorgridcolor\":\"white\",\"startlinecolor\":\"#2a3f5f\"},\"type\":\"carpet\"}],\"table\":[{\"cells\":{\"fill\":{\"color\":\"#EBF0F8\"},\"line\":{\"color\":\"white\"}},\"header\":{\"fill\":{\"color\":\"#C8D4E3\"},\"line\":{\"color\":\"white\"}},\"type\":\"table\"}],\"barpolar\":[{\"marker\":{\"line\":{\"color\":\"#E5ECF6\",\"width\":0.5},\"pattern\":{\"fillmode\":\"overlay\",\"size\":10,\"solidity\":0.2}},\"type\":\"barpolar\"}],\"pie\":[{\"automargin\":true,\"type\":\"pie\"}]},\"layout\":{\"autotypenumbers\":\"strict\",\"colorway\":[\"#636efa\",\"#EF553B\",\"#00cc96\",\"#ab63fa\",\"#FFA15A\",\"#19d3f3\",\"#FF6692\",\"#B6E880\",\"#FF97FF\",\"#FECB52\"],\"font\":{\"color\":\"#2a3f5f\"},\"hovermode\":\"closest\",\"hoverlabel\":{\"align\":\"left\"},\"paper_bgcolor\":\"white\",\"plot_bgcolor\":\"#E5ECF6\",\"polar\":{\"bgcolor\":\"#E5ECF6\",\"angularaxis\":{\"gridcolor\":\"white\",\"linecolor\":\"white\",\"ticks\":\"\"},\"radialaxis\":{\"gridcolor\":\"white\",\"linecolor\":\"white\",\"ticks\":\"\"}},\"ternary\":{\"bgcolor\":\"#E5ECF6\",\"aaxis\":{\"gridcolor\":\"white\",\"linecolor\":\"white\",\"ticks\":\"\"},\"baxis\":{\"gridcolor\":\"white\",\"linecolor\":\"white\",\"ticks\":\"\"},\"caxis\":{\"gridcolor\":\"white\",\"linecolor\":\"white\",\"ticks\":\"\"}},\"coloraxis\":{\"colorbar\":{\"outlinewidth\":0,\"ticks\":\"\"}},\"colorscale\":{\"sequential\":[[0.0,\"#0d0887\"],[0.1111111111111111,\"#46039f\"],[0.2222222222222222,\"#7201a8\"],[0.3333333333333333,\"#9c179e\"],[0.4444444444444444,\"#bd3786\"],[0.5555555555555556,\"#d8576b\"],[0.6666666666666666,\"#ed7953\"],[0.7777777777777778,\"#fb9f3a\"],[0.8888888888888888,\"#fdca26\"],[1.0,\"#f0f921\"]],\"sequentialminus\":[[0.0,\"#0d0887\"],[0.1111111111111111,\"#46039f\"],[0.2222222222222222,\"#7201a8\"],[0.3333333333333333,\"#9c179e\"],[0.4444444444444444,\"#bd3786\"],[0.5555555555555556,\"#d8576b\"],[0.6666666666666666,\"#ed7953\"],[0.7777777777777778,\"#fb9f3a\"],[0.8888888888888888,\"#fdca26\"],[1.0,\"#f0f921\"]],\"diverging\":[[0,\"#8e0152\"],[0.1,\"#c51b7d\"],[0.2,\"#de77ae\"],[0.3,\"#f1b6da\"],[0.4,\"#fde0ef\"],[0.5,\"#f7f7f7\"],[0.6,\"#e6f5d0\"],[0.7,\"#b8e186\"],[0.8,\"#7fbc41\"],[0.9,\"#4d9221\"],[1,\"#276419\"]]},\"xaxis\":{\"gridcolor\":\"white\",\"linecolor\":\"white\",\"ticks\":\"\",\"title\":{\"standoff\":15},\"zerolinecolor\":\"white\",\"automargin\":true,\"zerolinewidth\":2},\"yaxis\":{\"gridcolor\":\"white\",\"linecolor\":\"white\",\"ticks\":\"\",\"title\":{\"standoff\":15},\"zerolinecolor\":\"white\",\"automargin\":true,\"zerolinewidth\":2},\"scene\":{\"xaxis\":{\"backgroundcolor\":\"#E5ECF6\",\"gridcolor\":\"white\",\"linecolor\":\"white\",\"showbackground\":true,\"ticks\":\"\",\"zerolinecolor\":\"white\",\"gridwidth\":2},\"yaxis\":{\"backgroundcolor\":\"#E5ECF6\",\"gridcolor\":\"white\",\"linecolor\":\"white\",\"showbackground\":true,\"ticks\":\"\",\"zerolinecolor\":\"white\",\"gridwidth\":2},\"zaxis\":{\"backgroundcolor\":\"#E5ECF6\",\"gridcolor\":\"white\",\"linecolor\":\"white\",\"showbackground\":true,\"ticks\":\"\",\"zerolinecolor\":\"white\",\"gridwidth\":2}},\"shapedefaults\":{\"line\":{\"color\":\"#2a3f5f\"}},\"annotationdefaults\":{\"arrowcolor\":\"#2a3f5f\",\"arrowhead\":0,\"arrowwidth\":1},\"geo\":{\"bgcolor\":\"white\",\"landcolor\":\"#E5ECF6\",\"subunitcolor\":\"white\",\"showland\":true,\"showlakes\":true,\"lakecolor\":\"white\"},\"title\":{\"x\":0.05},\"mapbox\":{\"style\":\"light\"}}},\"xaxis\":{\"anchor\":\"y\",\"domain\":[0.0,1.0],\"title\":{\"text\":\"x\"}},\"yaxis\":{\"anchor\":\"x\",\"domain\":[0.0,1.0],\"title\":{\"text\":\"y\"}},\"legend\":{\"tracegroupgap\":0},\"margin\":{\"t\":60}},                        {\"responsive\": true}                    ).then(function(){\n",
              "                            \n",
              "var gd = document.getElementById('6a8b5a50-229f-49a7-b40f-3a303766b4ea');\n",
              "var x = new MutationObserver(function (mutations, observer) {{\n",
              "        var display = window.getComputedStyle(gd).display;\n",
              "        if (!display || display === 'none') {{\n",
              "            console.log([gd, 'removed!']);\n",
              "            Plotly.purge(gd);\n",
              "            observer.disconnect();\n",
              "        }}\n",
              "}});\n",
              "\n",
              "// Listen for the removal of the full notebook cells\n",
              "var notebookContainer = gd.closest('#notebook-container');\n",
              "if (notebookContainer) {{\n",
              "    x.observe(notebookContainer, {childList: true});\n",
              "}}\n",
              "\n",
              "// Listen for the clearing of the current output cell\n",
              "var outputEl = gd.closest('.output');\n",
              "if (outputEl) {{\n",
              "    x.observe(outputEl, {childList: true});\n",
              "}}\n",
              "\n",
              "                        })                };                            </script>        </div>\n",
              "</body>\n",
              "</html>"
            ]
          },
          "metadata": {}
        }
      ]
    },
    {
      "cell_type": "markdown",
      "source": [
        "Здесь данные уже с большим шумом, сделали даные по формуле, далее добавили нормально распределённый шум, чтобы оценки минимальных квадратов были оценками максимального правдоподобия"
      ],
      "metadata": {
        "id": "wa0b4HjtPCHb"
      }
    },
    {
      "cell_type": "markdown",
      "source": [
        "# Train test split"
      ],
      "metadata": {
        "id": "TkS359b6hGvA"
      }
    },
    {
      "cell_type": "code",
      "source": [
        "X_train_1, X_test_1, y_train_1, y_test_1 = train_test_split(X_1.reshape(-1, 1), y_1.reshape(-1, 1), test_size=0.2)"
      ],
      "metadata": {
        "id": "WYGK4gkThKo4"
      },
      "execution_count": null,
      "outputs": []
    },
    {
      "cell_type": "code",
      "source": [
        "X_train_2, X_test_2, y_train_2, y_test_2 = train_test_split(X_2.reshape(-1, 1), y_2.reshape(-1, 1), test_size=0.2)"
      ],
      "metadata": {
        "id": "tE-JmbXqkhwr"
      },
      "execution_count": null,
      "outputs": []
    },
    {
      "cell_type": "code",
      "source": [
        "X_train_3, X_test_3, y_train_3, y_test_3 = train_test_split(X_3.reshape(-1, 1), y_3.reshape(-1, 1), test_size=0.2)"
      ],
      "metadata": {
        "id": "KV1uBRYjkm43"
      },
      "execution_count": null,
      "outputs": []
    },
    {
      "cell_type": "markdown",
      "source": [
        "# Проверка моделей"
      ],
      "metadata": {
        "id": "4-E411IEgNkL"
      }
    },
    {
      "cell_type": "markdown",
      "source": [
        "## 1 датасет"
      ],
      "metadata": {
        "id": "RzFm10HI0OHM"
      }
    },
    {
      "cell_type": "markdown",
      "source": [
        "### Линейная регрессия"
      ],
      "metadata": {
        "id": "_JYT1MA_Q5H7"
      }
    },
    {
      "cell_type": "code",
      "source": [
        "model_lr_1 = LinearRegression().fit(X_train_1, y_train_1)\n",
        "\n",
        "y_pred_lr_1 = model_lr_1.predict(X_test_1)\n",
        "\n",
        "print(f'R2 score: {r2_score(y_test_1, y_pred_lr_1)}')\n",
        "print(f'MAE: {mean_absolute_error(y_test_1, y_pred_lr_1)}')\n",
        "print(f'MSE: {mean_squared_error(y_test_1, y_pred_lr_1)}')"
      ],
      "metadata": {
        "colab": {
          "base_uri": "https://localhost:8080/"
        },
        "id": "RWkzdgLdgVpz",
        "outputId": "d2fbf375-977a-4476-d6bd-16b8f7f6e970"
      },
      "execution_count": null,
      "outputs": [
        {
          "output_type": "stream",
          "name": "stdout",
          "text": [
            "R2 score: 0.9925667969026459\n",
            "MAE: 0.05595649289892975\n",
            "MSE: 0.00533883679752826\n"
          ]
        }
      ]
    },
    {
      "cell_type": "markdown",
      "source": [
        "Логика оценки R2 такова, что она очень хорошо оценивает степень обучения модели получая долю сумм отклонений предсказаний от сумм отклонений самих тестовых данных.\n",
        "\n",
        "Оценка "
      ],
      "metadata": {
        "id": "mjaGuXNaRJrf"
      }
    },
    {
      "cell_type": "code",
      "source": [
        "def plot_test(X_train, X_test, y_train, y_test, y_pred):\n",
        "  df_train = pd.DataFrame()\n",
        "  df_test = pd.DataFrame()\n",
        "\n",
        "  df_test['X_test'] = [s[0] for s in X_test.tolist()]\n",
        "  df_test['y_test'] = y_test\n",
        "  df_test['y_pred'] = y_pred\n",
        "\n",
        "  df_train['X_train'] = [s[0] for s in X_train.tolist()]\n",
        "  df_train['y_train'] = y_train\n",
        "\n",
        "\n",
        "  fig = go.Figure(\n",
        "    px.scatter(df_train, x='X_train', y='y_train', labels={'X_train': 'train'}).data +\n",
        "    px.scatter(df_test, x='X_test', y='y_test', color_discrete_sequence=['red']).data +\n",
        "    px.scatter(df_test, x='X_test', y='y_pred', color_discrete_sequence=['lime'], trendline=\"lowess\", trendline_options=dict(frac=0.1)).data\n",
        "  )\n",
        "\n",
        "  fig.data[0].name=\"train\"\n",
        "  fig.data[1].name=\"test\"\n",
        "  fig.data[2].name=\"predictions\"\n",
        "  fig.update_traces(showlegend=True)\n",
        "\n",
        "\n",
        "  return fig"
      ],
      "metadata": {
        "id": "V3pybcV-sP7H"
      },
      "execution_count": null,
      "outputs": []
    },
    {
      "cell_type": "code",
      "source": [
        "plot_test(X_train_1, X_test_1, y_train_1, y_test_1, y_pred_lr_1)"
      ],
      "metadata": {
        "colab": {
          "base_uri": "https://localhost:8080/",
          "height": 542
        },
        "id": "gZ3NHzUDvgqh",
        "outputId": "ac589995-07af-481e-8e0e-6ac7144e6a1c"
      },
      "execution_count": null,
      "outputs": [
        {
          "output_type": "display_data",
          "data": {
            "text/html": [
              "<html>\n",
              "<head><meta charset=\"utf-8\" /></head>\n",
              "<body>\n",
              "    <div>            <script src=\"https://cdnjs.cloudflare.com/ajax/libs/mathjax/2.7.5/MathJax.js?config=TeX-AMS-MML_SVG\"></script><script type=\"text/javascript\">if (window.MathJax && window.MathJax.Hub && window.MathJax.Hub.Config) {window.MathJax.Hub.Config({SVG: {font: \"STIX-Web\"}});}</script>                <script type=\"text/javascript\">window.PlotlyConfig = {MathJaxConfig: 'local'};</script>\n",
              "        <script src=\"https://cdn.plot.ly/plotly-2.16.1.min.js\"></script>                <div id=\"53311fcb-aee0-426d-8d2b-9ebf3f95f187\" class=\"plotly-graph-div\" style=\"height:525px; width:100%;\"></div>            <script type=\"text/javascript\">                                    window.PLOTLYENV=window.PLOTLYENV || {};                                    if (document.getElementById(\"53311fcb-aee0-426d-8d2b-9ebf3f95f187\")) {                    Plotly.newPlot(                        \"53311fcb-aee0-426d-8d2b-9ebf3f95f187\",                        [{\"hovertemplate\":\"train=%{x}<br>y_train=%{y}<extra></extra>\",\"legendgroup\":\"\",\"marker\":{\"color\":\"#636efa\",\"symbol\":\"circle\"},\"mode\":\"markers\",\"name\":\"train\",\"orientation\":\"v\",\"showlegend\":true,\"x\":[3.871449433219604,1.245865217659097,0.7036912592046138,1.859568575850033,1.6022807309145035,4.1563091948299045,5.717224908136245,6.0632916637449785,2.64044504745884,5.890578659552272,0.40402524523170963,3.578454302296838,3.0088518357425142,4.707950699496342,0.9218534241399275,3.2326000673242516,0.8893328554476836,5.33115525238671,4.316019173248317,0.4583622574785659,5.275697356452218,1.847310154336483,3.6918203668996803,0.34084466103670197,5.50868355792678,0.3391455711618848,1.146449469180223,4.994703232980074,5.780709695072004,2.0374198296894623,2.9574476130628327,2.5528231820309695,2.3560575476169188,4.040967460324666,4.801465405461311,4.420839918456819,2.157219493173896,4.536151596690622,0.27733400818667,3.714212502516858],\"xaxis\":\"x\",\"y\":[1.9836627023585995,0.6777097946017434,0.4063514174502383,0.7220784865686662,0.8693570235715962,2.1979440698345423,2.863465549927848,3.1306128404473603,1.2463643671197682,2.9575203354210107,0.3004360232059621,1.651178053947247,1.334053428931541,2.4986159750455763,0.7471352186973499,1.6322307423032099,0.34151024022556253,2.509511024529469,2.0633149184102644,0.49261998185474,2.709664939460395,0.8641183999227492,1.668623272599175,0.24098278897484737,2.7077803172765518,-0.0196670968871549,0.6277037508373792,2.527291682576858,3.0136406679699563,1.2319690467973194,1.36201169632903,1.1883174375721481,1.0009986547138499,2.2554306302454474,2.2865454303276564,2.305293815284426,1.1681751863302834,2.07528617293926,0.05586045991305266,2.0421782964974455],\"yaxis\":\"y\",\"type\":\"scatter\"},{\"hovertemplate\":\"X_test=%{x}<br>y_test=%{y}<extra></extra>\",\"legendgroup\":\"\",\"marker\":{\"color\":\"red\",\"symbol\":\"circle\"},\"mode\":\"markers\",\"name\":\"test\",\"orientation\":\"v\",\"showlegend\":true,\"x\":[3.391775197931391,4.098621215586708,5.346937884221244,2.027039658004358,0.13055249199830793,0.9169001935952324,1.5378364193196075,3.3266415781711984,4.909028540749611,2.4417600686983962],\"xaxis\":\"x\",\"y\":[1.800626686050525,1.9842440567633033,2.662436858348046,0.9812504813958466,-0.05017205859451726,0.46444383641433723,0.7364146838698651,1.643247626445172,2.5853827882558464,1.230551639348575],\"yaxis\":\"y\",\"type\":\"scatter\"},{\"hovertemplate\":\"X_test=%{x}<br>y_pred=%{y}<extra></extra>\",\"legendgroup\":\"\",\"marker\":{\"color\":\"lime\",\"symbol\":\"circle\"},\"mode\":\"markers\",\"name\":\"predictions\",\"orientation\":\"v\",\"showlegend\":true,\"x\":[3.391775197931391,4.098621215586708,5.346937884221244,2.027039658004358,0.13055249199830793,0.9169001935952324,1.5378364193196075,3.3266415781711984,4.909028540749611,2.4417600686983962],\"xaxis\":\"x\",\"y\":[1.701105393622543,2.05217923871214,2.672188861459523,1.0232732469240127,0.08133253437480821,0.4718930019752905,0.7802974675526577,1.6687550517338445,2.454689557264227,1.2292551518691026],\"yaxis\":\"y\",\"type\":\"scatter\"},{\"hovertemplate\":\"<b>LOWESS trendline</b><br><br>X_test=%{x}<br>y_pred=%{y} <b>(trend)</b><extra></extra>\",\"legendgroup\":\"\",\"marker\":{\"color\":\"lime\",\"symbol\":\"circle\"},\"mode\":\"lines\",\"name\":\"\",\"showlegend\":true,\"x\":[0.13055249199830793,0.9169001935952324,1.5378364193196075,2.027039658004358,2.4417600686983962,3.3266415781711984,3.391775197931391,4.098621215586708,4.909028540749611,5.346937884221244],\"xaxis\":\"x\",\"y\":[0.08133253437480821,0.4718930019752905,0.7802974675526577,1.0232732469240127,1.2292551518691026,1.6687550517338445,1.701105393622543,2.05217923871214,2.454689557264227,2.672188861459523],\"yaxis\":\"y\",\"type\":\"scatter\"}],                        {\"template\":{\"data\":{\"histogram2dcontour\":[{\"type\":\"histogram2dcontour\",\"colorbar\":{\"outlinewidth\":0,\"ticks\":\"\"},\"colorscale\":[[0.0,\"#0d0887\"],[0.1111111111111111,\"#46039f\"],[0.2222222222222222,\"#7201a8\"],[0.3333333333333333,\"#9c179e\"],[0.4444444444444444,\"#bd3786\"],[0.5555555555555556,\"#d8576b\"],[0.6666666666666666,\"#ed7953\"],[0.7777777777777778,\"#fb9f3a\"],[0.8888888888888888,\"#fdca26\"],[1.0,\"#f0f921\"]]}],\"choropleth\":[{\"type\":\"choropleth\",\"colorbar\":{\"outlinewidth\":0,\"ticks\":\"\"}}],\"histogram2d\":[{\"type\":\"histogram2d\",\"colorbar\":{\"outlinewidth\":0,\"ticks\":\"\"},\"colorscale\":[[0.0,\"#0d0887\"],[0.1111111111111111,\"#46039f\"],[0.2222222222222222,\"#7201a8\"],[0.3333333333333333,\"#9c179e\"],[0.4444444444444444,\"#bd3786\"],[0.5555555555555556,\"#d8576b\"],[0.6666666666666666,\"#ed7953\"],[0.7777777777777778,\"#fb9f3a\"],[0.8888888888888888,\"#fdca26\"],[1.0,\"#f0f921\"]]}],\"heatmap\":[{\"type\":\"heatmap\",\"colorbar\":{\"outlinewidth\":0,\"ticks\":\"\"},\"colorscale\":[[0.0,\"#0d0887\"],[0.1111111111111111,\"#46039f\"],[0.2222222222222222,\"#7201a8\"],[0.3333333333333333,\"#9c179e\"],[0.4444444444444444,\"#bd3786\"],[0.5555555555555556,\"#d8576b\"],[0.6666666666666666,\"#ed7953\"],[0.7777777777777778,\"#fb9f3a\"],[0.8888888888888888,\"#fdca26\"],[1.0,\"#f0f921\"]]}],\"heatmapgl\":[{\"type\":\"heatmapgl\",\"colorbar\":{\"outlinewidth\":0,\"ticks\":\"\"},\"colorscale\":[[0.0,\"#0d0887\"],[0.1111111111111111,\"#46039f\"],[0.2222222222222222,\"#7201a8\"],[0.3333333333333333,\"#9c179e\"],[0.4444444444444444,\"#bd3786\"],[0.5555555555555556,\"#d8576b\"],[0.6666666666666666,\"#ed7953\"],[0.7777777777777778,\"#fb9f3a\"],[0.8888888888888888,\"#fdca26\"],[1.0,\"#f0f921\"]]}],\"contourcarpet\":[{\"type\":\"contourcarpet\",\"colorbar\":{\"outlinewidth\":0,\"ticks\":\"\"}}],\"contour\":[{\"type\":\"contour\",\"colorbar\":{\"outlinewidth\":0,\"ticks\":\"\"},\"colorscale\":[[0.0,\"#0d0887\"],[0.1111111111111111,\"#46039f\"],[0.2222222222222222,\"#7201a8\"],[0.3333333333333333,\"#9c179e\"],[0.4444444444444444,\"#bd3786\"],[0.5555555555555556,\"#d8576b\"],[0.6666666666666666,\"#ed7953\"],[0.7777777777777778,\"#fb9f3a\"],[0.8888888888888888,\"#fdca26\"],[1.0,\"#f0f921\"]]}],\"surface\":[{\"type\":\"surface\",\"colorbar\":{\"outlinewidth\":0,\"ticks\":\"\"},\"colorscale\":[[0.0,\"#0d0887\"],[0.1111111111111111,\"#46039f\"],[0.2222222222222222,\"#7201a8\"],[0.3333333333333333,\"#9c179e\"],[0.4444444444444444,\"#bd3786\"],[0.5555555555555556,\"#d8576b\"],[0.6666666666666666,\"#ed7953\"],[0.7777777777777778,\"#fb9f3a\"],[0.8888888888888888,\"#fdca26\"],[1.0,\"#f0f921\"]]}],\"mesh3d\":[{\"type\":\"mesh3d\",\"colorbar\":{\"outlinewidth\":0,\"ticks\":\"\"}}],\"scatter\":[{\"fillpattern\":{\"fillmode\":\"overlay\",\"size\":10,\"solidity\":0.2},\"type\":\"scatter\"}],\"parcoords\":[{\"type\":\"parcoords\",\"line\":{\"colorbar\":{\"outlinewidth\":0,\"ticks\":\"\"}}}],\"scatterpolargl\":[{\"type\":\"scatterpolargl\",\"marker\":{\"colorbar\":{\"outlinewidth\":0,\"ticks\":\"\"}}}],\"bar\":[{\"error_x\":{\"color\":\"#2a3f5f\"},\"error_y\":{\"color\":\"#2a3f5f\"},\"marker\":{\"line\":{\"color\":\"#E5ECF6\",\"width\":0.5},\"pattern\":{\"fillmode\":\"overlay\",\"size\":10,\"solidity\":0.2}},\"type\":\"bar\"}],\"scattergeo\":[{\"type\":\"scattergeo\",\"marker\":{\"colorbar\":{\"outlinewidth\":0,\"ticks\":\"\"}}}],\"scatterpolar\":[{\"type\":\"scatterpolar\",\"marker\":{\"colorbar\":{\"outlinewidth\":0,\"ticks\":\"\"}}}],\"histogram\":[{\"marker\":{\"pattern\":{\"fillmode\":\"overlay\",\"size\":10,\"solidity\":0.2}},\"type\":\"histogram\"}],\"scattergl\":[{\"type\":\"scattergl\",\"marker\":{\"colorbar\":{\"outlinewidth\":0,\"ticks\":\"\"}}}],\"scatter3d\":[{\"type\":\"scatter3d\",\"line\":{\"colorbar\":{\"outlinewidth\":0,\"ticks\":\"\"}},\"marker\":{\"colorbar\":{\"outlinewidth\":0,\"ticks\":\"\"}}}],\"scattermapbox\":[{\"type\":\"scattermapbox\",\"marker\":{\"colorbar\":{\"outlinewidth\":0,\"ticks\":\"\"}}}],\"scatterternary\":[{\"type\":\"scatterternary\",\"marker\":{\"colorbar\":{\"outlinewidth\":0,\"ticks\":\"\"}}}],\"scattercarpet\":[{\"type\":\"scattercarpet\",\"marker\":{\"colorbar\":{\"outlinewidth\":0,\"ticks\":\"\"}}}],\"carpet\":[{\"aaxis\":{\"endlinecolor\":\"#2a3f5f\",\"gridcolor\":\"white\",\"linecolor\":\"white\",\"minorgridcolor\":\"white\",\"startlinecolor\":\"#2a3f5f\"},\"baxis\":{\"endlinecolor\":\"#2a3f5f\",\"gridcolor\":\"white\",\"linecolor\":\"white\",\"minorgridcolor\":\"white\",\"startlinecolor\":\"#2a3f5f\"},\"type\":\"carpet\"}],\"table\":[{\"cells\":{\"fill\":{\"color\":\"#EBF0F8\"},\"line\":{\"color\":\"white\"}},\"header\":{\"fill\":{\"color\":\"#C8D4E3\"},\"line\":{\"color\":\"white\"}},\"type\":\"table\"}],\"barpolar\":[{\"marker\":{\"line\":{\"color\":\"#E5ECF6\",\"width\":0.5},\"pattern\":{\"fillmode\":\"overlay\",\"size\":10,\"solidity\":0.2}},\"type\":\"barpolar\"}],\"pie\":[{\"automargin\":true,\"type\":\"pie\"}]},\"layout\":{\"autotypenumbers\":\"strict\",\"colorway\":[\"#636efa\",\"#EF553B\",\"#00cc96\",\"#ab63fa\",\"#FFA15A\",\"#19d3f3\",\"#FF6692\",\"#B6E880\",\"#FF97FF\",\"#FECB52\"],\"font\":{\"color\":\"#2a3f5f\"},\"hovermode\":\"closest\",\"hoverlabel\":{\"align\":\"left\"},\"paper_bgcolor\":\"white\",\"plot_bgcolor\":\"#E5ECF6\",\"polar\":{\"bgcolor\":\"#E5ECF6\",\"angularaxis\":{\"gridcolor\":\"white\",\"linecolor\":\"white\",\"ticks\":\"\"},\"radialaxis\":{\"gridcolor\":\"white\",\"linecolor\":\"white\",\"ticks\":\"\"}},\"ternary\":{\"bgcolor\":\"#E5ECF6\",\"aaxis\":{\"gridcolor\":\"white\",\"linecolor\":\"white\",\"ticks\":\"\"},\"baxis\":{\"gridcolor\":\"white\",\"linecolor\":\"white\",\"ticks\":\"\"},\"caxis\":{\"gridcolor\":\"white\",\"linecolor\":\"white\",\"ticks\":\"\"}},\"coloraxis\":{\"colorbar\":{\"outlinewidth\":0,\"ticks\":\"\"}},\"colorscale\":{\"sequential\":[[0.0,\"#0d0887\"],[0.1111111111111111,\"#46039f\"],[0.2222222222222222,\"#7201a8\"],[0.3333333333333333,\"#9c179e\"],[0.4444444444444444,\"#bd3786\"],[0.5555555555555556,\"#d8576b\"],[0.6666666666666666,\"#ed7953\"],[0.7777777777777778,\"#fb9f3a\"],[0.8888888888888888,\"#fdca26\"],[1.0,\"#f0f921\"]],\"sequentialminus\":[[0.0,\"#0d0887\"],[0.1111111111111111,\"#46039f\"],[0.2222222222222222,\"#7201a8\"],[0.3333333333333333,\"#9c179e\"],[0.4444444444444444,\"#bd3786\"],[0.5555555555555556,\"#d8576b\"],[0.6666666666666666,\"#ed7953\"],[0.7777777777777778,\"#fb9f3a\"],[0.8888888888888888,\"#fdca26\"],[1.0,\"#f0f921\"]],\"diverging\":[[0,\"#8e0152\"],[0.1,\"#c51b7d\"],[0.2,\"#de77ae\"],[0.3,\"#f1b6da\"],[0.4,\"#fde0ef\"],[0.5,\"#f7f7f7\"],[0.6,\"#e6f5d0\"],[0.7,\"#b8e186\"],[0.8,\"#7fbc41\"],[0.9,\"#4d9221\"],[1,\"#276419\"]]},\"xaxis\":{\"gridcolor\":\"white\",\"linecolor\":\"white\",\"ticks\":\"\",\"title\":{\"standoff\":15},\"zerolinecolor\":\"white\",\"automargin\":true,\"zerolinewidth\":2},\"yaxis\":{\"gridcolor\":\"white\",\"linecolor\":\"white\",\"ticks\":\"\",\"title\":{\"standoff\":15},\"zerolinecolor\":\"white\",\"automargin\":true,\"zerolinewidth\":2},\"scene\":{\"xaxis\":{\"backgroundcolor\":\"#E5ECF6\",\"gridcolor\":\"white\",\"linecolor\":\"white\",\"showbackground\":true,\"ticks\":\"\",\"zerolinecolor\":\"white\",\"gridwidth\":2},\"yaxis\":{\"backgroundcolor\":\"#E5ECF6\",\"gridcolor\":\"white\",\"linecolor\":\"white\",\"showbackground\":true,\"ticks\":\"\",\"zerolinecolor\":\"white\",\"gridwidth\":2},\"zaxis\":{\"backgroundcolor\":\"#E5ECF6\",\"gridcolor\":\"white\",\"linecolor\":\"white\",\"showbackground\":true,\"ticks\":\"\",\"zerolinecolor\":\"white\",\"gridwidth\":2}},\"shapedefaults\":{\"line\":{\"color\":\"#2a3f5f\"}},\"annotationdefaults\":{\"arrowcolor\":\"#2a3f5f\",\"arrowhead\":0,\"arrowwidth\":1},\"geo\":{\"bgcolor\":\"white\",\"landcolor\":\"#E5ECF6\",\"subunitcolor\":\"white\",\"showland\":true,\"showlakes\":true,\"lakecolor\":\"white\"},\"title\":{\"x\":0.05},\"mapbox\":{\"style\":\"light\"}}}},                        {\"responsive\": true}                    ).then(function(){\n",
              "                            \n",
              "var gd = document.getElementById('53311fcb-aee0-426d-8d2b-9ebf3f95f187');\n",
              "var x = new MutationObserver(function (mutations, observer) {{\n",
              "        var display = window.getComputedStyle(gd).display;\n",
              "        if (!display || display === 'none') {{\n",
              "            console.log([gd, 'removed!']);\n",
              "            Plotly.purge(gd);\n",
              "            observer.disconnect();\n",
              "        }}\n",
              "}});\n",
              "\n",
              "// Listen for the removal of the full notebook cells\n",
              "var notebookContainer = gd.closest('#notebook-container');\n",
              "if (notebookContainer) {{\n",
              "    x.observe(notebookContainer, {childList: true});\n",
              "}}\n",
              "\n",
              "// Listen for the clearing of the current output cell\n",
              "var outputEl = gd.closest('.output');\n",
              "if (outputEl) {{\n",
              "    x.observe(outputEl, {childList: true});\n",
              "}}\n",
              "\n",
              "                        })                };                            </script>        </div>\n",
              "</body>\n",
              "</html>"
            ]
          },
          "metadata": {}
        }
      ]
    },
    {
      "cell_type": "markdown",
      "source": [
        "Точность довольно высокая, оно и видно на графике, красные точки тренировочных данных недалеко от линии регрессии. Шума не так много."
      ],
      "metadata": {
        "id": "AuoY77YKprOp"
      }
    },
    {
      "cell_type": "markdown",
      "source": [
        "### Ridge регуляризация"
      ],
      "metadata": {
        "id": "LV2XVJwPt3Cg"
      }
    },
    {
      "cell_type": "markdown",
      "source": [
        "Напишем функцию для вывода визуализации весов, они будут в том же порядке как и расположены фичи в датасете"
      ],
      "metadata": {
        "id": "6HC65UjHOV7o"
      }
    },
    {
      "cell_type": "code",
      "source": [
        "def plot_weights(coefs, columns=None, show_cols=False):\n",
        "  df_plot = pd.DataFrame()\n",
        "\n",
        "  df_plot['y'] = coefs.squeeze()\n",
        "  if show_cols:\n",
        "    df_plot['x'] = columns\n",
        "  else:\n",
        "    df_plot['x'] = ['w' + str(s) for s in range(len(coefs.squeeze()))]\n",
        "  df_plot['c'] = df_plot.y.apply(lambda x: '>=0' if x >= 0 else '<0')\n",
        "\n",
        "\n",
        "  return px.bar(df_plot, y='y', x='x', color='c', color_discrete_map={'>=0': 'blue', '<0': 'red'}).update_xaxes(categoryorder='array', categoryarray=df_plot['x'])"
      ],
      "metadata": {
        "id": "btrNJfssA2nF"
      },
      "execution_count": null,
      "outputs": []
    },
    {
      "cell_type": "markdown",
      "source": [
        "Регуляризация работает посредством уменьшения весов, для корректной работы их должно быть несколько, применим функцию для создания новых фич"
      ],
      "metadata": {
        "id": "3OflepJYGYFA"
      }
    },
    {
      "cell_type": "code",
      "source": [
        "poly = PolynomialFeatures(degree=5, include_bias=False)\n",
        "\n",
        "X_train_1_ = poly.fit_transform(X_train_1)\n",
        "X_test_1_ = poly.fit_transform(X_test_1)\n",
        "\n",
        "pd.DataFrame(X_train_1_).head()"
      ],
      "metadata": {
        "colab": {
          "base_uri": "https://localhost:8080/",
          "height": 206
        },
        "id": "obk4yWXPG5F6",
        "outputId": "37adf7d2-7363-4cda-9a84-7610a01c55d7"
      },
      "execution_count": null,
      "outputs": [
        {
          "output_type": "execute_result",
          "data": {
            "text/plain": [
              "          0          1          2           3           4\n",
              "0  3.871449  14.988121  58.025751  224.643763  869.696967\n",
              "1  1.245865   1.552180   1.933807    2.409263    3.001617\n",
              "2  0.703691   0.495181   0.348455    0.245205    0.172548\n",
              "3  1.859569   3.457995   6.430379   11.957731   22.236222\n",
              "4  1.602281   2.567304   4.113541    6.591047   10.560708"
            ],
            "text/html": [
              "<div>\n",
              "<style scoped>\n",
              "    .dataframe tbody tr th:only-of-type {\n",
              "        vertical-align: middle;\n",
              "    }\n",
              "\n",
              "    .dataframe tbody tr th {\n",
              "        vertical-align: top;\n",
              "    }\n",
              "\n",
              "    .dataframe thead th {\n",
              "        text-align: right;\n",
              "    }\n",
              "</style>\n",
              "<table border=\"1\" class=\"dataframe\">\n",
              "  <thead>\n",
              "    <tr style=\"text-align: right;\">\n",
              "      <th></th>\n",
              "      <th>0</th>\n",
              "      <th>1</th>\n",
              "      <th>2</th>\n",
              "      <th>3</th>\n",
              "      <th>4</th>\n",
              "    </tr>\n",
              "  </thead>\n",
              "  <tbody>\n",
              "    <tr>\n",
              "      <th>0</th>\n",
              "      <td>3.871449</td>\n",
              "      <td>14.988121</td>\n",
              "      <td>58.025751</td>\n",
              "      <td>224.643763</td>\n",
              "      <td>869.696967</td>\n",
              "    </tr>\n",
              "    <tr>\n",
              "      <th>1</th>\n",
              "      <td>1.245865</td>\n",
              "      <td>1.552180</td>\n",
              "      <td>1.933807</td>\n",
              "      <td>2.409263</td>\n",
              "      <td>3.001617</td>\n",
              "    </tr>\n",
              "    <tr>\n",
              "      <th>2</th>\n",
              "      <td>0.703691</td>\n",
              "      <td>0.495181</td>\n",
              "      <td>0.348455</td>\n",
              "      <td>0.245205</td>\n",
              "      <td>0.172548</td>\n",
              "    </tr>\n",
              "    <tr>\n",
              "      <th>3</th>\n",
              "      <td>1.859569</td>\n",
              "      <td>3.457995</td>\n",
              "      <td>6.430379</td>\n",
              "      <td>11.957731</td>\n",
              "      <td>22.236222</td>\n",
              "    </tr>\n",
              "    <tr>\n",
              "      <th>4</th>\n",
              "      <td>1.602281</td>\n",
              "      <td>2.567304</td>\n",
              "      <td>4.113541</td>\n",
              "      <td>6.591047</td>\n",
              "      <td>10.560708</td>\n",
              "    </tr>\n",
              "  </tbody>\n",
              "</table>\n",
              "</div>"
            ]
          },
          "metadata": {},
          "execution_count": 124
        }
      ]
    },
    {
      "cell_type": "code",
      "source": [
        "model_r_1 = Ridge().fit(X_train_1_, y_train_1)\n",
        "\n",
        "y_pred_1 = model_r_1.predict(X_test_1_)\n",
        "\n",
        "print(f'R2 score: {r2_score(y_test_1, y_pred_1)}')\n",
        "print(f'MAE: {mean_absolute_error(y_test_1, y_pred_1)}')\n",
        "print(f'MSE: {mean_squared_error(y_test_1, y_pred_1)}')"
      ],
      "metadata": {
        "colab": {
          "base_uri": "https://localhost:8080/"
        },
        "id": "yoiYXoALt1X6",
        "outputId": "2986e39f-aca6-439a-fef4-aaaaf1b0ab9a"
      },
      "execution_count": null,
      "outputs": [
        {
          "output_type": "stream",
          "name": "stdout",
          "text": [
            "R2 score: 0.9841795004457524\n",
            "MAE: 0.06766672308470614\n",
            "MSE: 0.01136294327886208\n"
          ]
        }
      ]
    },
    {
      "cell_type": "markdown",
      "source": [
        "Метрика R2 score увеличилась, значит новые фичи помогли"
      ],
      "metadata": {
        "id": "5x9tZzmIuTOD"
      }
    },
    {
      "cell_type": "code",
      "source": [
        "model_r_1 = Ridge(alpha=2).fit(X_train_1_, y_train_1)\n",
        "\n",
        "y_pred_1 = model_r_1.predict(X_test_1_)\n",
        "\n",
        "print(f'R2 score: {r2_score(y_test_1, y_pred_1)}')\n",
        "print(f'MAE: {mean_absolute_error(y_test_1, y_pred_1)}')\n",
        "print(f'MSE: {mean_squared_error(y_test_1, y_pred_1)}')"
      ],
      "metadata": {
        "colab": {
          "base_uri": "https://localhost:8080/"
        },
        "id": "vxK9EdQ3ueZ_",
        "outputId": "6793d218-f2be-4a09-d2ab-2db14a4731d0"
      },
      "execution_count": null,
      "outputs": [
        {
          "output_type": "stream",
          "name": "stdout",
          "text": [
            "R2 score: 0.9812764223983708\n",
            "MAE: 0.07555311428114739\n",
            "MSE: 0.013448055134742173\n"
          ]
        }
      ]
    },
    {
      "cell_type": "markdown",
      "source": [
        "С новым коэффициентом снижения весов мы получили ещё большую производительность, что показывает работу с весами в действии"
      ],
      "metadata": {
        "id": "ykZmE86mI1_0"
      }
    },
    {
      "cell_type": "code",
      "source": [
        "plot_weights(model_r_1.coef_)"
      ],
      "metadata": {
        "colab": {
          "base_uri": "https://localhost:8080/",
          "height": 542
        },
        "id": "o6YAW4A4N_In",
        "outputId": "6e11e5f2-68f2-4d38-af6d-ab7d167ce610"
      },
      "execution_count": null,
      "outputs": [
        {
          "output_type": "display_data",
          "data": {
            "text/html": [
              "<html>\n",
              "<head><meta charset=\"utf-8\" /></head>\n",
              "<body>\n",
              "    <div>            <script src=\"https://cdnjs.cloudflare.com/ajax/libs/mathjax/2.7.5/MathJax.js?config=TeX-AMS-MML_SVG\"></script><script type=\"text/javascript\">if (window.MathJax && window.MathJax.Hub && window.MathJax.Hub.Config) {window.MathJax.Hub.Config({SVG: {font: \"STIX-Web\"}});}</script>                <script type=\"text/javascript\">window.PlotlyConfig = {MathJaxConfig: 'local'};</script>\n",
              "        <script src=\"https://cdn.plot.ly/plotly-2.16.1.min.js\"></script>                <div id=\"485705ec-e8e6-4e7a-bfb2-d63c1290233c\" class=\"plotly-graph-div\" style=\"height:525px; width:100%;\"></div>            <script type=\"text/javascript\">                                    window.PLOTLYENV=window.PLOTLYENV || {};                                    if (document.getElementById(\"485705ec-e8e6-4e7a-bfb2-d63c1290233c\")) {                    Plotly.newPlot(                        \"485705ec-e8e6-4e7a-bfb2-d63c1290233c\",                        [{\"alignmentgroup\":\"True\",\"hovertemplate\":\"c=>=0<br>x=%{x}<br>y=%{y}<extra></extra>\",\"legendgroup\":\">=0\",\"marker\":{\"color\":\"blue\",\"pattern\":{\"shape\":\"\"}},\"name\":\">=0\",\"offsetgroup\":\">=0\",\"orientation\":\"v\",\"showlegend\":true,\"textposition\":\"auto\",\"x\":[\"w0\",\"w1\",\"w2\",\"w4\"],\"xaxis\":\"x\",\"y\":[0.13964407259666867,0.1117412904842103,0.009487015420459573,0.0007380711827680058],\"yaxis\":\"y\",\"type\":\"bar\"},{\"alignmentgroup\":\"True\",\"hovertemplate\":\"c=<0<br>x=%{x}<br>y=%{y}<extra></extra>\",\"legendgroup\":\"<0\",\"marker\":{\"color\":\"red\",\"pattern\":{\"shape\":\"\"}},\"name\":\"<0\",\"offsetgroup\":\"<0\",\"orientation\":\"v\",\"showlegend\":true,\"textposition\":\"auto\",\"x\":[\"w3\"],\"xaxis\":\"x\",\"y\":[-0.00757050470260284],\"yaxis\":\"y\",\"type\":\"bar\"}],                        {\"template\":{\"data\":{\"histogram2dcontour\":[{\"type\":\"histogram2dcontour\",\"colorbar\":{\"outlinewidth\":0,\"ticks\":\"\"},\"colorscale\":[[0.0,\"#0d0887\"],[0.1111111111111111,\"#46039f\"],[0.2222222222222222,\"#7201a8\"],[0.3333333333333333,\"#9c179e\"],[0.4444444444444444,\"#bd3786\"],[0.5555555555555556,\"#d8576b\"],[0.6666666666666666,\"#ed7953\"],[0.7777777777777778,\"#fb9f3a\"],[0.8888888888888888,\"#fdca26\"],[1.0,\"#f0f921\"]]}],\"choropleth\":[{\"type\":\"choropleth\",\"colorbar\":{\"outlinewidth\":0,\"ticks\":\"\"}}],\"histogram2d\":[{\"type\":\"histogram2d\",\"colorbar\":{\"outlinewidth\":0,\"ticks\":\"\"},\"colorscale\":[[0.0,\"#0d0887\"],[0.1111111111111111,\"#46039f\"],[0.2222222222222222,\"#7201a8\"],[0.3333333333333333,\"#9c179e\"],[0.4444444444444444,\"#bd3786\"],[0.5555555555555556,\"#d8576b\"],[0.6666666666666666,\"#ed7953\"],[0.7777777777777778,\"#fb9f3a\"],[0.8888888888888888,\"#fdca26\"],[1.0,\"#f0f921\"]]}],\"heatmap\":[{\"type\":\"heatmap\",\"colorbar\":{\"outlinewidth\":0,\"ticks\":\"\"},\"colorscale\":[[0.0,\"#0d0887\"],[0.1111111111111111,\"#46039f\"],[0.2222222222222222,\"#7201a8\"],[0.3333333333333333,\"#9c179e\"],[0.4444444444444444,\"#bd3786\"],[0.5555555555555556,\"#d8576b\"],[0.6666666666666666,\"#ed7953\"],[0.7777777777777778,\"#fb9f3a\"],[0.8888888888888888,\"#fdca26\"],[1.0,\"#f0f921\"]]}],\"heatmapgl\":[{\"type\":\"heatmapgl\",\"colorbar\":{\"outlinewidth\":0,\"ticks\":\"\"},\"colorscale\":[[0.0,\"#0d0887\"],[0.1111111111111111,\"#46039f\"],[0.2222222222222222,\"#7201a8\"],[0.3333333333333333,\"#9c179e\"],[0.4444444444444444,\"#bd3786\"],[0.5555555555555556,\"#d8576b\"],[0.6666666666666666,\"#ed7953\"],[0.7777777777777778,\"#fb9f3a\"],[0.8888888888888888,\"#fdca26\"],[1.0,\"#f0f921\"]]}],\"contourcarpet\":[{\"type\":\"contourcarpet\",\"colorbar\":{\"outlinewidth\":0,\"ticks\":\"\"}}],\"contour\":[{\"type\":\"contour\",\"colorbar\":{\"outlinewidth\":0,\"ticks\":\"\"},\"colorscale\":[[0.0,\"#0d0887\"],[0.1111111111111111,\"#46039f\"],[0.2222222222222222,\"#7201a8\"],[0.3333333333333333,\"#9c179e\"],[0.4444444444444444,\"#bd3786\"],[0.5555555555555556,\"#d8576b\"],[0.6666666666666666,\"#ed7953\"],[0.7777777777777778,\"#fb9f3a\"],[0.8888888888888888,\"#fdca26\"],[1.0,\"#f0f921\"]]}],\"surface\":[{\"type\":\"surface\",\"colorbar\":{\"outlinewidth\":0,\"ticks\":\"\"},\"colorscale\":[[0.0,\"#0d0887\"],[0.1111111111111111,\"#46039f\"],[0.2222222222222222,\"#7201a8\"],[0.3333333333333333,\"#9c179e\"],[0.4444444444444444,\"#bd3786\"],[0.5555555555555556,\"#d8576b\"],[0.6666666666666666,\"#ed7953\"],[0.7777777777777778,\"#fb9f3a\"],[0.8888888888888888,\"#fdca26\"],[1.0,\"#f0f921\"]]}],\"mesh3d\":[{\"type\":\"mesh3d\",\"colorbar\":{\"outlinewidth\":0,\"ticks\":\"\"}}],\"scatter\":[{\"fillpattern\":{\"fillmode\":\"overlay\",\"size\":10,\"solidity\":0.2},\"type\":\"scatter\"}],\"parcoords\":[{\"type\":\"parcoords\",\"line\":{\"colorbar\":{\"outlinewidth\":0,\"ticks\":\"\"}}}],\"scatterpolargl\":[{\"type\":\"scatterpolargl\",\"marker\":{\"colorbar\":{\"outlinewidth\":0,\"ticks\":\"\"}}}],\"bar\":[{\"error_x\":{\"color\":\"#2a3f5f\"},\"error_y\":{\"color\":\"#2a3f5f\"},\"marker\":{\"line\":{\"color\":\"#E5ECF6\",\"width\":0.5},\"pattern\":{\"fillmode\":\"overlay\",\"size\":10,\"solidity\":0.2}},\"type\":\"bar\"}],\"scattergeo\":[{\"type\":\"scattergeo\",\"marker\":{\"colorbar\":{\"outlinewidth\":0,\"ticks\":\"\"}}}],\"scatterpolar\":[{\"type\":\"scatterpolar\",\"marker\":{\"colorbar\":{\"outlinewidth\":0,\"ticks\":\"\"}}}],\"histogram\":[{\"marker\":{\"pattern\":{\"fillmode\":\"overlay\",\"size\":10,\"solidity\":0.2}},\"type\":\"histogram\"}],\"scattergl\":[{\"type\":\"scattergl\",\"marker\":{\"colorbar\":{\"outlinewidth\":0,\"ticks\":\"\"}}}],\"scatter3d\":[{\"type\":\"scatter3d\",\"line\":{\"colorbar\":{\"outlinewidth\":0,\"ticks\":\"\"}},\"marker\":{\"colorbar\":{\"outlinewidth\":0,\"ticks\":\"\"}}}],\"scattermapbox\":[{\"type\":\"scattermapbox\",\"marker\":{\"colorbar\":{\"outlinewidth\":0,\"ticks\":\"\"}}}],\"scatterternary\":[{\"type\":\"scatterternary\",\"marker\":{\"colorbar\":{\"outlinewidth\":0,\"ticks\":\"\"}}}],\"scattercarpet\":[{\"type\":\"scattercarpet\",\"marker\":{\"colorbar\":{\"outlinewidth\":0,\"ticks\":\"\"}}}],\"carpet\":[{\"aaxis\":{\"endlinecolor\":\"#2a3f5f\",\"gridcolor\":\"white\",\"linecolor\":\"white\",\"minorgridcolor\":\"white\",\"startlinecolor\":\"#2a3f5f\"},\"baxis\":{\"endlinecolor\":\"#2a3f5f\",\"gridcolor\":\"white\",\"linecolor\":\"white\",\"minorgridcolor\":\"white\",\"startlinecolor\":\"#2a3f5f\"},\"type\":\"carpet\"}],\"table\":[{\"cells\":{\"fill\":{\"color\":\"#EBF0F8\"},\"line\":{\"color\":\"white\"}},\"header\":{\"fill\":{\"color\":\"#C8D4E3\"},\"line\":{\"color\":\"white\"}},\"type\":\"table\"}],\"barpolar\":[{\"marker\":{\"line\":{\"color\":\"#E5ECF6\",\"width\":0.5},\"pattern\":{\"fillmode\":\"overlay\",\"size\":10,\"solidity\":0.2}},\"type\":\"barpolar\"}],\"pie\":[{\"automargin\":true,\"type\":\"pie\"}]},\"layout\":{\"autotypenumbers\":\"strict\",\"colorway\":[\"#636efa\",\"#EF553B\",\"#00cc96\",\"#ab63fa\",\"#FFA15A\",\"#19d3f3\",\"#FF6692\",\"#B6E880\",\"#FF97FF\",\"#FECB52\"],\"font\":{\"color\":\"#2a3f5f\"},\"hovermode\":\"closest\",\"hoverlabel\":{\"align\":\"left\"},\"paper_bgcolor\":\"white\",\"plot_bgcolor\":\"#E5ECF6\",\"polar\":{\"bgcolor\":\"#E5ECF6\",\"angularaxis\":{\"gridcolor\":\"white\",\"linecolor\":\"white\",\"ticks\":\"\"},\"radialaxis\":{\"gridcolor\":\"white\",\"linecolor\":\"white\",\"ticks\":\"\"}},\"ternary\":{\"bgcolor\":\"#E5ECF6\",\"aaxis\":{\"gridcolor\":\"white\",\"linecolor\":\"white\",\"ticks\":\"\"},\"baxis\":{\"gridcolor\":\"white\",\"linecolor\":\"white\",\"ticks\":\"\"},\"caxis\":{\"gridcolor\":\"white\",\"linecolor\":\"white\",\"ticks\":\"\"}},\"coloraxis\":{\"colorbar\":{\"outlinewidth\":0,\"ticks\":\"\"}},\"colorscale\":{\"sequential\":[[0.0,\"#0d0887\"],[0.1111111111111111,\"#46039f\"],[0.2222222222222222,\"#7201a8\"],[0.3333333333333333,\"#9c179e\"],[0.4444444444444444,\"#bd3786\"],[0.5555555555555556,\"#d8576b\"],[0.6666666666666666,\"#ed7953\"],[0.7777777777777778,\"#fb9f3a\"],[0.8888888888888888,\"#fdca26\"],[1.0,\"#f0f921\"]],\"sequentialminus\":[[0.0,\"#0d0887\"],[0.1111111111111111,\"#46039f\"],[0.2222222222222222,\"#7201a8\"],[0.3333333333333333,\"#9c179e\"],[0.4444444444444444,\"#bd3786\"],[0.5555555555555556,\"#d8576b\"],[0.6666666666666666,\"#ed7953\"],[0.7777777777777778,\"#fb9f3a\"],[0.8888888888888888,\"#fdca26\"],[1.0,\"#f0f921\"]],\"diverging\":[[0,\"#8e0152\"],[0.1,\"#c51b7d\"],[0.2,\"#de77ae\"],[0.3,\"#f1b6da\"],[0.4,\"#fde0ef\"],[0.5,\"#f7f7f7\"],[0.6,\"#e6f5d0\"],[0.7,\"#b8e186\"],[0.8,\"#7fbc41\"],[0.9,\"#4d9221\"],[1,\"#276419\"]]},\"xaxis\":{\"gridcolor\":\"white\",\"linecolor\":\"white\",\"ticks\":\"\",\"title\":{\"standoff\":15},\"zerolinecolor\":\"white\",\"automargin\":true,\"zerolinewidth\":2},\"yaxis\":{\"gridcolor\":\"white\",\"linecolor\":\"white\",\"ticks\":\"\",\"title\":{\"standoff\":15},\"zerolinecolor\":\"white\",\"automargin\":true,\"zerolinewidth\":2},\"scene\":{\"xaxis\":{\"backgroundcolor\":\"#E5ECF6\",\"gridcolor\":\"white\",\"linecolor\":\"white\",\"showbackground\":true,\"ticks\":\"\",\"zerolinecolor\":\"white\",\"gridwidth\":2},\"yaxis\":{\"backgroundcolor\":\"#E5ECF6\",\"gridcolor\":\"white\",\"linecolor\":\"white\",\"showbackground\":true,\"ticks\":\"\",\"zerolinecolor\":\"white\",\"gridwidth\":2},\"zaxis\":{\"backgroundcolor\":\"#E5ECF6\",\"gridcolor\":\"white\",\"linecolor\":\"white\",\"showbackground\":true,\"ticks\":\"\",\"zerolinecolor\":\"white\",\"gridwidth\":2}},\"shapedefaults\":{\"line\":{\"color\":\"#2a3f5f\"}},\"annotationdefaults\":{\"arrowcolor\":\"#2a3f5f\",\"arrowhead\":0,\"arrowwidth\":1},\"geo\":{\"bgcolor\":\"white\",\"landcolor\":\"#E5ECF6\",\"subunitcolor\":\"white\",\"showland\":true,\"showlakes\":true,\"lakecolor\":\"white\"},\"title\":{\"x\":0.05},\"mapbox\":{\"style\":\"light\"}}},\"xaxis\":{\"anchor\":\"y\",\"domain\":[0.0,1.0],\"title\":{\"text\":\"x\"},\"categoryorder\":\"array\",\"categoryarray\":[\"w0\",\"w1\",\"w2\",\"w3\",\"w4\"]},\"yaxis\":{\"anchor\":\"x\",\"domain\":[0.0,1.0],\"title\":{\"text\":\"y\"}},\"legend\":{\"title\":{\"text\":\"c\"},\"tracegroupgap\":0},\"margin\":{\"t\":60},\"barmode\":\"relative\"},                        {\"responsive\": true}                    ).then(function(){\n",
              "                            \n",
              "var gd = document.getElementById('485705ec-e8e6-4e7a-bfb2-d63c1290233c');\n",
              "var x = new MutationObserver(function (mutations, observer) {{\n",
              "        var display = window.getComputedStyle(gd).display;\n",
              "        if (!display || display === 'none') {{\n",
              "            console.log([gd, 'removed!']);\n",
              "            Plotly.purge(gd);\n",
              "            observer.disconnect();\n",
              "        }}\n",
              "}});\n",
              "\n",
              "// Listen for the removal of the full notebook cells\n",
              "var notebookContainer = gd.closest('#notebook-container');\n",
              "if (notebookContainer) {{\n",
              "    x.observe(notebookContainer, {childList: true});\n",
              "}}\n",
              "\n",
              "// Listen for the clearing of the current output cell\n",
              "var outputEl = gd.closest('.output');\n",
              "if (outputEl) {{\n",
              "    x.observe(outputEl, {childList: true});\n",
              "}}\n",
              "\n",
              "                        })                };                            </script>        </div>\n",
              "</body>\n",
              "</html>"
            ]
          },
          "metadata": {}
        }
      ]
    },
    {
      "cell_type": "markdown",
      "source": [
        "Если поиграться с параметром, так называемого, сужения, то можно увидеть, что веса стремятся к 0, но не достигают его"
      ],
      "metadata": {
        "id": "7diwKdZ_P0sX"
      }
    },
    {
      "cell_type": "markdown",
      "source": [
        "### Lasso регуляризация"
      ],
      "metadata": {
        "id": "AfO6zgcpPuc-"
      }
    },
    {
      "cell_type": "code",
      "source": [
        "model_l_1 = Lasso(tol=0.015).fit(X_train_1_, y_train_1)\n",
        "\n",
        "y_pred_l_1 = model_l_1.predict(X_test_1_)\n",
        "\n",
        "print(f'R2 score: {r2_score(y_test_1, y_pred_l_1)}')\n",
        "print(f'MAE: {mean_absolute_error(y_test_1, y_pred_l_1)}')\n",
        "print(f'MSE: {mean_squared_error(y_test_1, y_pred_l_1)}')"
      ],
      "metadata": {
        "colab": {
          "base_uri": "https://localhost:8080/"
        },
        "id": "30lylIJtOfzx",
        "outputId": "17cddde7-ad5e-43e5-8ad9-41c54b1d3090"
      },
      "execution_count": null,
      "outputs": [
        {
          "output_type": "stream",
          "name": "stdout",
          "text": [
            "R2 score: 0.8920799235098659\n",
            "MAE: 0.20879156990937578\n",
            "MSE: 0.0775127045516469\n"
          ]
        }
      ]
    },
    {
      "cell_type": "markdown",
      "source": [
        "Пришлось задать допустимое отклонение для оптимизации побольше, так как модель просто не достигала такого маленького, как дефолтное: 0.0001"
      ],
      "metadata": {
        "id": "3HtKRnToRG62"
      }
    },
    {
      "cell_type": "code",
      "source": [
        "model_l_1 = Lasso(alpha=0.03, tol=0.015).fit(X_train_1_, y_train_1)\n",
        "\n",
        "y_pred_1 = model_l_1.predict(X_test_1_)\n",
        "\n",
        "print(f'R2 score: {r2_score(y_test_1, y_pred_1)}')\n",
        "print(f'MAE: {mean_absolute_error(y_test_1, y_pred_1)}')\n",
        "print(f'MSE: {mean_squared_error(y_test_1, y_pred_1)}')"
      ],
      "metadata": {
        "colab": {
          "base_uri": "https://localhost:8080/"
        },
        "id": "51DkfXJ_RGU5",
        "outputId": "9674bf96-d62a-44da-fdcf-f0add333165a"
      },
      "execution_count": null,
      "outputs": [
        {
          "output_type": "stream",
          "name": "stdout",
          "text": [
            "R2 score: 0.9787655902671205\n",
            "MAE: 0.08770112386989493\n",
            "MSE: 0.015251439597559705\n"
          ]
        }
      ]
    },
    {
      "cell_type": "code",
      "source": [
        "plot_weights(model_l_1.coef_)"
      ],
      "metadata": {
        "colab": {
          "base_uri": "https://localhost:8080/",
          "height": 542
        },
        "id": "gy5ZsrgkSK8L",
        "outputId": "874acbbc-0d9c-4566-ae1a-ea5eef7da34a"
      },
      "execution_count": null,
      "outputs": [
        {
          "output_type": "display_data",
          "data": {
            "text/html": [
              "<html>\n",
              "<head><meta charset=\"utf-8\" /></head>\n",
              "<body>\n",
              "    <div>            <script src=\"https://cdnjs.cloudflare.com/ajax/libs/mathjax/2.7.5/MathJax.js?config=TeX-AMS-MML_SVG\"></script><script type=\"text/javascript\">if (window.MathJax && window.MathJax.Hub && window.MathJax.Hub.Config) {window.MathJax.Hub.Config({SVG: {font: \"STIX-Web\"}});}</script>                <script type=\"text/javascript\">window.PlotlyConfig = {MathJaxConfig: 'local'};</script>\n",
              "        <script src=\"https://cdn.plot.ly/plotly-2.16.1.min.js\"></script>                <div id=\"609982ce-af8d-459b-b89b-457f4b09c431\" class=\"plotly-graph-div\" style=\"height:525px; width:100%;\"></div>            <script type=\"text/javascript\">                                    window.PLOTLYENV=window.PLOTLYENV || {};                                    if (document.getElementById(\"609982ce-af8d-459b-b89b-457f4b09c431\")) {                    Plotly.newPlot(                        \"609982ce-af8d-459b-b89b-457f4b09c431\",                        [{\"alignmentgroup\":\"True\",\"hovertemplate\":\"c=>=0<br>x=%{x}<br>y=%{y}<extra></extra>\",\"legendgroup\":\">=0\",\"marker\":{\"color\":\"blue\",\"pattern\":{\"shape\":\"\"}},\"name\":\">=0\",\"offsetgroup\":\">=0\",\"orientation\":\"v\",\"showlegend\":true,\"textposition\":\"auto\",\"x\":[\"w0\",\"w1\"],\"xaxis\":\"x\",\"y\":[0.24819786327761978,0.05433428411109764],\"yaxis\":\"y\",\"type\":\"bar\"},{\"alignmentgroup\":\"True\",\"hovertemplate\":\"c=<0<br>x=%{x}<br>y=%{y}<extra></extra>\",\"legendgroup\":\"<0\",\"marker\":{\"color\":\"red\",\"pattern\":{\"shape\":\"\"}},\"name\":\"<0\",\"offsetgroup\":\"<0\",\"orientation\":\"v\",\"showlegend\":true,\"textposition\":\"auto\",\"x\":[\"w2\",\"w3\",\"w4\"],\"xaxis\":\"x\",\"y\":[-0.00018496964596478936,-0.00030450960278007516,-2.8060756584894255e-05],\"yaxis\":\"y\",\"type\":\"bar\"}],                        {\"template\":{\"data\":{\"histogram2dcontour\":[{\"type\":\"histogram2dcontour\",\"colorbar\":{\"outlinewidth\":0,\"ticks\":\"\"},\"colorscale\":[[0.0,\"#0d0887\"],[0.1111111111111111,\"#46039f\"],[0.2222222222222222,\"#7201a8\"],[0.3333333333333333,\"#9c179e\"],[0.4444444444444444,\"#bd3786\"],[0.5555555555555556,\"#d8576b\"],[0.6666666666666666,\"#ed7953\"],[0.7777777777777778,\"#fb9f3a\"],[0.8888888888888888,\"#fdca26\"],[1.0,\"#f0f921\"]]}],\"choropleth\":[{\"type\":\"choropleth\",\"colorbar\":{\"outlinewidth\":0,\"ticks\":\"\"}}],\"histogram2d\":[{\"type\":\"histogram2d\",\"colorbar\":{\"outlinewidth\":0,\"ticks\":\"\"},\"colorscale\":[[0.0,\"#0d0887\"],[0.1111111111111111,\"#46039f\"],[0.2222222222222222,\"#7201a8\"],[0.3333333333333333,\"#9c179e\"],[0.4444444444444444,\"#bd3786\"],[0.5555555555555556,\"#d8576b\"],[0.6666666666666666,\"#ed7953\"],[0.7777777777777778,\"#fb9f3a\"],[0.8888888888888888,\"#fdca26\"],[1.0,\"#f0f921\"]]}],\"heatmap\":[{\"type\":\"heatmap\",\"colorbar\":{\"outlinewidth\":0,\"ticks\":\"\"},\"colorscale\":[[0.0,\"#0d0887\"],[0.1111111111111111,\"#46039f\"],[0.2222222222222222,\"#7201a8\"],[0.3333333333333333,\"#9c179e\"],[0.4444444444444444,\"#bd3786\"],[0.5555555555555556,\"#d8576b\"],[0.6666666666666666,\"#ed7953\"],[0.7777777777777778,\"#fb9f3a\"],[0.8888888888888888,\"#fdca26\"],[1.0,\"#f0f921\"]]}],\"heatmapgl\":[{\"type\":\"heatmapgl\",\"colorbar\":{\"outlinewidth\":0,\"ticks\":\"\"},\"colorscale\":[[0.0,\"#0d0887\"],[0.1111111111111111,\"#46039f\"],[0.2222222222222222,\"#7201a8\"],[0.3333333333333333,\"#9c179e\"],[0.4444444444444444,\"#bd3786\"],[0.5555555555555556,\"#d8576b\"],[0.6666666666666666,\"#ed7953\"],[0.7777777777777778,\"#fb9f3a\"],[0.8888888888888888,\"#fdca26\"],[1.0,\"#f0f921\"]]}],\"contourcarpet\":[{\"type\":\"contourcarpet\",\"colorbar\":{\"outlinewidth\":0,\"ticks\":\"\"}}],\"contour\":[{\"type\":\"contour\",\"colorbar\":{\"outlinewidth\":0,\"ticks\":\"\"},\"colorscale\":[[0.0,\"#0d0887\"],[0.1111111111111111,\"#46039f\"],[0.2222222222222222,\"#7201a8\"],[0.3333333333333333,\"#9c179e\"],[0.4444444444444444,\"#bd3786\"],[0.5555555555555556,\"#d8576b\"],[0.6666666666666666,\"#ed7953\"],[0.7777777777777778,\"#fb9f3a\"],[0.8888888888888888,\"#fdca26\"],[1.0,\"#f0f921\"]]}],\"surface\":[{\"type\":\"surface\",\"colorbar\":{\"outlinewidth\":0,\"ticks\":\"\"},\"colorscale\":[[0.0,\"#0d0887\"],[0.1111111111111111,\"#46039f\"],[0.2222222222222222,\"#7201a8\"],[0.3333333333333333,\"#9c179e\"],[0.4444444444444444,\"#bd3786\"],[0.5555555555555556,\"#d8576b\"],[0.6666666666666666,\"#ed7953\"],[0.7777777777777778,\"#fb9f3a\"],[0.8888888888888888,\"#fdca26\"],[1.0,\"#f0f921\"]]}],\"mesh3d\":[{\"type\":\"mesh3d\",\"colorbar\":{\"outlinewidth\":0,\"ticks\":\"\"}}],\"scatter\":[{\"fillpattern\":{\"fillmode\":\"overlay\",\"size\":10,\"solidity\":0.2},\"type\":\"scatter\"}],\"parcoords\":[{\"type\":\"parcoords\",\"line\":{\"colorbar\":{\"outlinewidth\":0,\"ticks\":\"\"}}}],\"scatterpolargl\":[{\"type\":\"scatterpolargl\",\"marker\":{\"colorbar\":{\"outlinewidth\":0,\"ticks\":\"\"}}}],\"bar\":[{\"error_x\":{\"color\":\"#2a3f5f\"},\"error_y\":{\"color\":\"#2a3f5f\"},\"marker\":{\"line\":{\"color\":\"#E5ECF6\",\"width\":0.5},\"pattern\":{\"fillmode\":\"overlay\",\"size\":10,\"solidity\":0.2}},\"type\":\"bar\"}],\"scattergeo\":[{\"type\":\"scattergeo\",\"marker\":{\"colorbar\":{\"outlinewidth\":0,\"ticks\":\"\"}}}],\"scatterpolar\":[{\"type\":\"scatterpolar\",\"marker\":{\"colorbar\":{\"outlinewidth\":0,\"ticks\":\"\"}}}],\"histogram\":[{\"marker\":{\"pattern\":{\"fillmode\":\"overlay\",\"size\":10,\"solidity\":0.2}},\"type\":\"histogram\"}],\"scattergl\":[{\"type\":\"scattergl\",\"marker\":{\"colorbar\":{\"outlinewidth\":0,\"ticks\":\"\"}}}],\"scatter3d\":[{\"type\":\"scatter3d\",\"line\":{\"colorbar\":{\"outlinewidth\":0,\"ticks\":\"\"}},\"marker\":{\"colorbar\":{\"outlinewidth\":0,\"ticks\":\"\"}}}],\"scattermapbox\":[{\"type\":\"scattermapbox\",\"marker\":{\"colorbar\":{\"outlinewidth\":0,\"ticks\":\"\"}}}],\"scatterternary\":[{\"type\":\"scatterternary\",\"marker\":{\"colorbar\":{\"outlinewidth\":0,\"ticks\":\"\"}}}],\"scattercarpet\":[{\"type\":\"scattercarpet\",\"marker\":{\"colorbar\":{\"outlinewidth\":0,\"ticks\":\"\"}}}],\"carpet\":[{\"aaxis\":{\"endlinecolor\":\"#2a3f5f\",\"gridcolor\":\"white\",\"linecolor\":\"white\",\"minorgridcolor\":\"white\",\"startlinecolor\":\"#2a3f5f\"},\"baxis\":{\"endlinecolor\":\"#2a3f5f\",\"gridcolor\":\"white\",\"linecolor\":\"white\",\"minorgridcolor\":\"white\",\"startlinecolor\":\"#2a3f5f\"},\"type\":\"carpet\"}],\"table\":[{\"cells\":{\"fill\":{\"color\":\"#EBF0F8\"},\"line\":{\"color\":\"white\"}},\"header\":{\"fill\":{\"color\":\"#C8D4E3\"},\"line\":{\"color\":\"white\"}},\"type\":\"table\"}],\"barpolar\":[{\"marker\":{\"line\":{\"color\":\"#E5ECF6\",\"width\":0.5},\"pattern\":{\"fillmode\":\"overlay\",\"size\":10,\"solidity\":0.2}},\"type\":\"barpolar\"}],\"pie\":[{\"automargin\":true,\"type\":\"pie\"}]},\"layout\":{\"autotypenumbers\":\"strict\",\"colorway\":[\"#636efa\",\"#EF553B\",\"#00cc96\",\"#ab63fa\",\"#FFA15A\",\"#19d3f3\",\"#FF6692\",\"#B6E880\",\"#FF97FF\",\"#FECB52\"],\"font\":{\"color\":\"#2a3f5f\"},\"hovermode\":\"closest\",\"hoverlabel\":{\"align\":\"left\"},\"paper_bgcolor\":\"white\",\"plot_bgcolor\":\"#E5ECF6\",\"polar\":{\"bgcolor\":\"#E5ECF6\",\"angularaxis\":{\"gridcolor\":\"white\",\"linecolor\":\"white\",\"ticks\":\"\"},\"radialaxis\":{\"gridcolor\":\"white\",\"linecolor\":\"white\",\"ticks\":\"\"}},\"ternary\":{\"bgcolor\":\"#E5ECF6\",\"aaxis\":{\"gridcolor\":\"white\",\"linecolor\":\"white\",\"ticks\":\"\"},\"baxis\":{\"gridcolor\":\"white\",\"linecolor\":\"white\",\"ticks\":\"\"},\"caxis\":{\"gridcolor\":\"white\",\"linecolor\":\"white\",\"ticks\":\"\"}},\"coloraxis\":{\"colorbar\":{\"outlinewidth\":0,\"ticks\":\"\"}},\"colorscale\":{\"sequential\":[[0.0,\"#0d0887\"],[0.1111111111111111,\"#46039f\"],[0.2222222222222222,\"#7201a8\"],[0.3333333333333333,\"#9c179e\"],[0.4444444444444444,\"#bd3786\"],[0.5555555555555556,\"#d8576b\"],[0.6666666666666666,\"#ed7953\"],[0.7777777777777778,\"#fb9f3a\"],[0.8888888888888888,\"#fdca26\"],[1.0,\"#f0f921\"]],\"sequentialminus\":[[0.0,\"#0d0887\"],[0.1111111111111111,\"#46039f\"],[0.2222222222222222,\"#7201a8\"],[0.3333333333333333,\"#9c179e\"],[0.4444444444444444,\"#bd3786\"],[0.5555555555555556,\"#d8576b\"],[0.6666666666666666,\"#ed7953\"],[0.7777777777777778,\"#fb9f3a\"],[0.8888888888888888,\"#fdca26\"],[1.0,\"#f0f921\"]],\"diverging\":[[0,\"#8e0152\"],[0.1,\"#c51b7d\"],[0.2,\"#de77ae\"],[0.3,\"#f1b6da\"],[0.4,\"#fde0ef\"],[0.5,\"#f7f7f7\"],[0.6,\"#e6f5d0\"],[0.7,\"#b8e186\"],[0.8,\"#7fbc41\"],[0.9,\"#4d9221\"],[1,\"#276419\"]]},\"xaxis\":{\"gridcolor\":\"white\",\"linecolor\":\"white\",\"ticks\":\"\",\"title\":{\"standoff\":15},\"zerolinecolor\":\"white\",\"automargin\":true,\"zerolinewidth\":2},\"yaxis\":{\"gridcolor\":\"white\",\"linecolor\":\"white\",\"ticks\":\"\",\"title\":{\"standoff\":15},\"zerolinecolor\":\"white\",\"automargin\":true,\"zerolinewidth\":2},\"scene\":{\"xaxis\":{\"backgroundcolor\":\"#E5ECF6\",\"gridcolor\":\"white\",\"linecolor\":\"white\",\"showbackground\":true,\"ticks\":\"\",\"zerolinecolor\":\"white\",\"gridwidth\":2},\"yaxis\":{\"backgroundcolor\":\"#E5ECF6\",\"gridcolor\":\"white\",\"linecolor\":\"white\",\"showbackground\":true,\"ticks\":\"\",\"zerolinecolor\":\"white\",\"gridwidth\":2},\"zaxis\":{\"backgroundcolor\":\"#E5ECF6\",\"gridcolor\":\"white\",\"linecolor\":\"white\",\"showbackground\":true,\"ticks\":\"\",\"zerolinecolor\":\"white\",\"gridwidth\":2}},\"shapedefaults\":{\"line\":{\"color\":\"#2a3f5f\"}},\"annotationdefaults\":{\"arrowcolor\":\"#2a3f5f\",\"arrowhead\":0,\"arrowwidth\":1},\"geo\":{\"bgcolor\":\"white\",\"landcolor\":\"#E5ECF6\",\"subunitcolor\":\"white\",\"showland\":true,\"showlakes\":true,\"lakecolor\":\"white\"},\"title\":{\"x\":0.05},\"mapbox\":{\"style\":\"light\"}}},\"xaxis\":{\"anchor\":\"y\",\"domain\":[0.0,1.0],\"title\":{\"text\":\"x\"},\"categoryorder\":\"array\",\"categoryarray\":[\"w0\",\"w1\",\"w2\",\"w3\",\"w4\"]},\"yaxis\":{\"anchor\":\"x\",\"domain\":[0.0,1.0],\"title\":{\"text\":\"y\"}},\"legend\":{\"title\":{\"text\":\"c\"},\"tracegroupgap\":0},\"margin\":{\"t\":60},\"barmode\":\"relative\"},                        {\"responsive\": true}                    ).then(function(){\n",
              "                            \n",
              "var gd = document.getElementById('609982ce-af8d-459b-b89b-457f4b09c431');\n",
              "var x = new MutationObserver(function (mutations, observer) {{\n",
              "        var display = window.getComputedStyle(gd).display;\n",
              "        if (!display || display === 'none') {{\n",
              "            console.log([gd, 'removed!']);\n",
              "            Plotly.purge(gd);\n",
              "            observer.disconnect();\n",
              "        }}\n",
              "}});\n",
              "\n",
              "// Listen for the removal of the full notebook cells\n",
              "var notebookContainer = gd.closest('#notebook-container');\n",
              "if (notebookContainer) {{\n",
              "    x.observe(notebookContainer, {childList: true});\n",
              "}}\n",
              "\n",
              "// Listen for the clearing of the current output cell\n",
              "var outputEl = gd.closest('.output');\n",
              "if (outputEl) {{\n",
              "    x.observe(outputEl, {childList: true});\n",
              "}}\n",
              "\n",
              "                        })                };                            </script>        </div>\n",
              "</body>\n",
              "</html>"
            ]
          },
          "metadata": {}
        }
      ]
    },
    {
      "cell_type": "markdown",
      "source": [
        "Здесь же видим другую ситуацию, веса легко становятся незначимыми, поэтому Lasso можно использовать и как feature selection"
      ],
      "metadata": {
        "id": "rLPx6wZ4VdRC"
      }
    },
    {
      "cell_type": "markdown",
      "source": [
        "## 2 датасет"
      ],
      "metadata": {
        "id": "jK7i5JuBVqvD"
      }
    },
    {
      "cell_type": "markdown",
      "source": [
        "### Линейная регрессия"
      ],
      "metadata": {
        "id": "42wU3GIhVuE4"
      }
    },
    {
      "cell_type": "code",
      "source": [
        "model_lr_2 = LinearRegression().fit(X_train_2, y_train_2)\n",
        "\n",
        "y_pred_lr_2 = model_lr_2.predict(X_test_2)\n",
        "\n",
        "print(f'R2 score: {r2_score(y_test_2, y_pred_lr_2)}')\n",
        "print(f'MAE: {mean_absolute_error(y_test_2, y_pred_lr_2)}')\n",
        "print(f'MSE: {mean_squared_error(y_test_2, y_pred_lr_2)}')"
      ],
      "metadata": {
        "colab": {
          "base_uri": "https://localhost:8080/"
        },
        "id": "7RC00XksVsnd",
        "outputId": "eb95db6c-cdf9-44b6-b670-c318fcd214f3"
      },
      "execution_count": null,
      "outputs": [
        {
          "output_type": "stream",
          "name": "stdout",
          "text": [
            "R2 score: 0.6284452858156906\n",
            "MAE: 13.839191220395222\n",
            "MSE: 243.6532036089167\n"
          ]
        }
      ]
    },
    {
      "cell_type": "markdown",
      "source": [
        "Видим очень плохие результаты, оно и понятно, сейчас посмотрим на графике"
      ],
      "metadata": {
        "id": "dsSVncsGWNTj"
      }
    },
    {
      "cell_type": "code",
      "source": [
        "plot_test(X_train_2, X_test_2, y_train_2, y_test_2, y_pred_lr_2)"
      ],
      "metadata": {
        "colab": {
          "base_uri": "https://localhost:8080/",
          "height": 542
        },
        "id": "_5h1VcckWMxq",
        "outputId": "68118ef8-b2d3-4244-fadb-644888a416b5"
      },
      "execution_count": null,
      "outputs": [
        {
          "output_type": "display_data",
          "data": {
            "text/html": [
              "<html>\n",
              "<head><meta charset=\"utf-8\" /></head>\n",
              "<body>\n",
              "    <div>            <script src=\"https://cdnjs.cloudflare.com/ajax/libs/mathjax/2.7.5/MathJax.js?config=TeX-AMS-MML_SVG\"></script><script type=\"text/javascript\">if (window.MathJax && window.MathJax.Hub && window.MathJax.Hub.Config) {window.MathJax.Hub.Config({SVG: {font: \"STIX-Web\"}});}</script>                <script type=\"text/javascript\">window.PlotlyConfig = {MathJaxConfig: 'local'};</script>\n",
              "        <script src=\"https://cdn.plot.ly/plotly-2.16.1.min.js\"></script>                <div id=\"d51cbfa1-890c-4a79-9018-f7bf6bf19fcf\" class=\"plotly-graph-div\" style=\"height:525px; width:100%;\"></div>            <script type=\"text/javascript\">                                    window.PLOTLYENV=window.PLOTLYENV || {};                                    if (document.getElementById(\"d51cbfa1-890c-4a79-9018-f7bf6bf19fcf\")) {                    Plotly.newPlot(                        \"d51cbfa1-890c-4a79-9018-f7bf6bf19fcf\",                        [{\"hovertemplate\":\"train=%{x}<br>y_train=%{y}<extra></extra>\",\"legendgroup\":\"\",\"marker\":{\"color\":\"#636efa\",\"symbol\":\"circle\"},\"mode\":\"markers\",\"name\":\"train\",\"orientation\":\"v\",\"showlegend\":true,\"x\":[-0.7907493165967789,-1.9449631333641006,-0.9510045241645582,1.2559999535323123,-0.9194218885469083,3.118381630758107,-1.0602540823895188,0.7361834935469052,2.351642415044223,2.7438059921621787,2.145134199817726,3.102119984880248,2.7789854806754963,0.789198893314869,6.099433249184581,3.078158273057382,-0.3078864492205753,2.6553174791071035,-0.45002196948377904,-4.158512088167452,-2.5674572834524634,-2.420639609859407,-3.46126566997673,4.1439119011458265,-0.8847260396302703,2.4069772444222255,4.475722436654028,6.164748933712072,1.9567075703876011,3.4295218479151792,-0.14709257058613412,2.0903036139051734,-0.7124466841272117,3.010627143252151,0.7641789773305567,2.553556250456576,-6.205053984458042,7.8698109008288295,-1.9395996466838437,3.571363032502695,0.07282039957095754,0.6526989297626233,2.0697260676503175,4.805266424774928,7.856597267276079,2.043382171692937,4.161440558231339,-1.77159905177745,-2.5896198645487827,6.066202150987925,3.26810422694153,2.92895628323844,5.962216032921623,3.51624088291128,1.1915307111626299,-0.6095191153152766,2.386679557272263,2.170325051312616,2.901930991910251,1.5975567548409684,1.6349369360115453,-2.059532274410012,2.370143371151107,-2.3872423283058124,4.589932154050775,5.248379238913225,4.225131202868268,1.20942655712633,2.3356067397582847,4.874085054771335,0.8648101006211841,3.5408421381307873,-3.284921163118047,4.383455757608572,6.100689230786545,3.9761391077981916,4.617962724531196,0.5969939640695694,4.746213581192281,0.22453390271880114],\"xaxis\":\"x\",\"y\":[-8.665767214906303,-18.73003639646707,-2.6042844668672696,-0.8755280614544826,-7.531959514506516,-11.368790826350214,-7.084622439355119,-1.6315067255376714,-2.7439469059819466,1.478562069292451,-5.390870248878167,-6.390490092726722,-3.696283248182479,-1.4446460070945422,40.4391930414698,-3.2391838378074773,-6.287037780418608,-6.549668221856804,-7.431936741654939,-79.97766796198212,-28.486406628241188,-24.26756156810065,-55.0996778293265,0.753924554202106,-10.4775521898977,-0.199901786580293,6.575978361483285,47.6165585881611,-5.847595302794762,-3.9181194733192637,-1.0524863441398487,-2.7031547612420725,-4.233013081342238,-3.0804433385566377,-1.0867020102280458,-5.988564688423807,-208.4266236160998,124.97823487161467,-12.58623315049141,-6.716722526412858,-0.3493309204874182,0.37007509254319737,-3.8854195496749977,9.533158291146576,125.71141762850566,-6.232621283787205,-2.975364708496395,-13.657026587298546,-25.824908595510227,36.73977916105577,-5.346919966079138,-6.428907034121749,38.22288795563061,0.5911929684251715,-6.189354813215884,-4.082816645961647,-9.134811605238564,-4.55786702011793,-7.446672530226413,-1.8327806476568842,-11.532390520558447,-15.197209361045793,3.9816697108206816,-22.49925405131715,5.484179203264449,24.54109508719001,12.11257209465109,-5.313362449030627,-5.657121867108019,14.500570003151092,-3.2987967158157416,-2.051577564608963,-48.24902716140522,7.871425424910313,42.351499998600445,0.10294618402390832,8.301765564307136,-4.631953621218002,11.288665903574959,-2.0250649267015133],\"yaxis\":\"y\",\"type\":\"scatter\"},{\"hovertemplate\":\"X_test=%{x}<br>y_test=%{y}<extra></extra>\",\"legendgroup\":\"\",\"marker\":{\"color\":\"red\",\"symbol\":\"circle\"},\"mode\":\"markers\",\"name\":\"test\",\"orientation\":\"v\",\"showlegend\":true,\"x\":[-0.313509213678393,-1.2578909589883156,2.751661639364473,4.161475454335071,6.172525850893541,4.774409772029147,6.860326531499403,0.07236306203396392,2.3013333112125114,2.6465131318663087,3.2344204018301306,3.772590851486431,5.226065005810108,2.1953989813439994,-2.7247492126828625,-3.1510690744898664,5.539987241722153,3.835583627651478,-2.2963753059676844,5.732867940811712],\"xaxis\":\"x\",\"y\":[-5.675871318373987,-9.926186566151465,-7.690897508566971,2.449235434859233,46.17682951296979,5.5883202409969215,74.15482525590112,-3.9160805384679724,-2.3867760825238777,-2.5532757754061035,-6.660183516485531,1.0570932026653561,18.695314811366835,-5.082390813528248,-31.80006764332177,-42.66789914516155,31.274062715772292,-3.522713529910286,-16.05053841334029,31.547338584306335],\"yaxis\":\"y\",\"type\":\"scatter\"},{\"hovertemplate\":\"X_test=%{x}<br>y_pred=%{y}<extra></extra>\",\"legendgroup\":\"\",\"marker\":{\"color\":\"lime\",\"symbol\":\"circle\"},\"mode\":\"markers\",\"name\":\"predictions\",\"orientation\":\"v\",\"showlegend\":true,\"x\":[-0.313509213678393,-1.2578909589883156,2.751661639364473,4.161475454335071,6.172525850893541,4.774409772029147,6.860326531499403,0.07236306203396392,2.3013333112125114,2.6465131318663087,3.2344204018301306,3.772590851486431,5.226065005810108,2.1953989813439994,-2.7247492126828625,-3.1510690744898664,5.539987241722153,3.835583627651478,-2.2963753059676844,5.732867940811712],\"xaxis\":\"x\",\"y\":[-22.335472563403087,-31.305619653706383,6.778848573418291,20.16987116892359,39.27169937847053,25.991786950032004,45.8047283198766,-18.670290460508895,2.5014349506805935,5.7801024802535395,11.36430051587256,16.47607667741561,30.281804097484358,1.495224776084921,-45.2384750499608,-49.28784585463641,33.26357354086112,17.074409365053054,-41.16959403657148,35.09563801087697],\"yaxis\":\"y\",\"type\":\"scatter\"},{\"hovertemplate\":\"<b>LOWESS trendline</b><br><br>X_test=%{x}<br>y_pred=%{y} <b>(trend)</b><extra></extra>\",\"legendgroup\":\"\",\"marker\":{\"color\":\"lime\",\"symbol\":\"circle\"},\"mode\":\"lines\",\"name\":\"\",\"showlegend\":true,\"x\":[-3.1510690744898664,-2.7247492126828625,-2.2963753059676844,-1.2578909589883156,-0.313509213678393,0.07236306203396392,2.1953989813439994,2.3013333112125114,2.6465131318663087,2.751661639364473,3.2344204018301306,3.772590851486431,3.835583627651478,4.161475454335071,4.774409772029147,5.226065005810108,5.539987241722153,5.732867940811712,6.172525850893541,6.860326531499403],\"xaxis\":\"x\",\"y\":[-49.28784585463641,-45.2384750499608,-41.16959403657148,-31.305619653706383,-22.335472563403087,-18.670290460508895,1.495224776084921,2.5014349506805935,5.7801024802535395,6.778848573418291,11.36430051587256,16.47607667741561,17.074409365053054,20.16987116892359,25.991786950032004,30.281804097484358,33.26357354086112,35.09563801087697,39.27169937847053,45.8047283198766],\"yaxis\":\"y\",\"type\":\"scatter\"}],                        {\"template\":{\"data\":{\"histogram2dcontour\":[{\"type\":\"histogram2dcontour\",\"colorbar\":{\"outlinewidth\":0,\"ticks\":\"\"},\"colorscale\":[[0.0,\"#0d0887\"],[0.1111111111111111,\"#46039f\"],[0.2222222222222222,\"#7201a8\"],[0.3333333333333333,\"#9c179e\"],[0.4444444444444444,\"#bd3786\"],[0.5555555555555556,\"#d8576b\"],[0.6666666666666666,\"#ed7953\"],[0.7777777777777778,\"#fb9f3a\"],[0.8888888888888888,\"#fdca26\"],[1.0,\"#f0f921\"]]}],\"choropleth\":[{\"type\":\"choropleth\",\"colorbar\":{\"outlinewidth\":0,\"ticks\":\"\"}}],\"histogram2d\":[{\"type\":\"histogram2d\",\"colorbar\":{\"outlinewidth\":0,\"ticks\":\"\"},\"colorscale\":[[0.0,\"#0d0887\"],[0.1111111111111111,\"#46039f\"],[0.2222222222222222,\"#7201a8\"],[0.3333333333333333,\"#9c179e\"],[0.4444444444444444,\"#bd3786\"],[0.5555555555555556,\"#d8576b\"],[0.6666666666666666,\"#ed7953\"],[0.7777777777777778,\"#fb9f3a\"],[0.8888888888888888,\"#fdca26\"],[1.0,\"#f0f921\"]]}],\"heatmap\":[{\"type\":\"heatmap\",\"colorbar\":{\"outlinewidth\":0,\"ticks\":\"\"},\"colorscale\":[[0.0,\"#0d0887\"],[0.1111111111111111,\"#46039f\"],[0.2222222222222222,\"#7201a8\"],[0.3333333333333333,\"#9c179e\"],[0.4444444444444444,\"#bd3786\"],[0.5555555555555556,\"#d8576b\"],[0.6666666666666666,\"#ed7953\"],[0.7777777777777778,\"#fb9f3a\"],[0.8888888888888888,\"#fdca26\"],[1.0,\"#f0f921\"]]}],\"heatmapgl\":[{\"type\":\"heatmapgl\",\"colorbar\":{\"outlinewidth\":0,\"ticks\":\"\"},\"colorscale\":[[0.0,\"#0d0887\"],[0.1111111111111111,\"#46039f\"],[0.2222222222222222,\"#7201a8\"],[0.3333333333333333,\"#9c179e\"],[0.4444444444444444,\"#bd3786\"],[0.5555555555555556,\"#d8576b\"],[0.6666666666666666,\"#ed7953\"],[0.7777777777777778,\"#fb9f3a\"],[0.8888888888888888,\"#fdca26\"],[1.0,\"#f0f921\"]]}],\"contourcarpet\":[{\"type\":\"contourcarpet\",\"colorbar\":{\"outlinewidth\":0,\"ticks\":\"\"}}],\"contour\":[{\"type\":\"contour\",\"colorbar\":{\"outlinewidth\":0,\"ticks\":\"\"},\"colorscale\":[[0.0,\"#0d0887\"],[0.1111111111111111,\"#46039f\"],[0.2222222222222222,\"#7201a8\"],[0.3333333333333333,\"#9c179e\"],[0.4444444444444444,\"#bd3786\"],[0.5555555555555556,\"#d8576b\"],[0.6666666666666666,\"#ed7953\"],[0.7777777777777778,\"#fb9f3a\"],[0.8888888888888888,\"#fdca26\"],[1.0,\"#f0f921\"]]}],\"surface\":[{\"type\":\"surface\",\"colorbar\":{\"outlinewidth\":0,\"ticks\":\"\"},\"colorscale\":[[0.0,\"#0d0887\"],[0.1111111111111111,\"#46039f\"],[0.2222222222222222,\"#7201a8\"],[0.3333333333333333,\"#9c179e\"],[0.4444444444444444,\"#bd3786\"],[0.5555555555555556,\"#d8576b\"],[0.6666666666666666,\"#ed7953\"],[0.7777777777777778,\"#fb9f3a\"],[0.8888888888888888,\"#fdca26\"],[1.0,\"#f0f921\"]]}],\"mesh3d\":[{\"type\":\"mesh3d\",\"colorbar\":{\"outlinewidth\":0,\"ticks\":\"\"}}],\"scatter\":[{\"fillpattern\":{\"fillmode\":\"overlay\",\"size\":10,\"solidity\":0.2},\"type\":\"scatter\"}],\"parcoords\":[{\"type\":\"parcoords\",\"line\":{\"colorbar\":{\"outlinewidth\":0,\"ticks\":\"\"}}}],\"scatterpolargl\":[{\"type\":\"scatterpolargl\",\"marker\":{\"colorbar\":{\"outlinewidth\":0,\"ticks\":\"\"}}}],\"bar\":[{\"error_x\":{\"color\":\"#2a3f5f\"},\"error_y\":{\"color\":\"#2a3f5f\"},\"marker\":{\"line\":{\"color\":\"#E5ECF6\",\"width\":0.5},\"pattern\":{\"fillmode\":\"overlay\",\"size\":10,\"solidity\":0.2}},\"type\":\"bar\"}],\"scattergeo\":[{\"type\":\"scattergeo\",\"marker\":{\"colorbar\":{\"outlinewidth\":0,\"ticks\":\"\"}}}],\"scatterpolar\":[{\"type\":\"scatterpolar\",\"marker\":{\"colorbar\":{\"outlinewidth\":0,\"ticks\":\"\"}}}],\"histogram\":[{\"marker\":{\"pattern\":{\"fillmode\":\"overlay\",\"size\":10,\"solidity\":0.2}},\"type\":\"histogram\"}],\"scattergl\":[{\"type\":\"scattergl\",\"marker\":{\"colorbar\":{\"outlinewidth\":0,\"ticks\":\"\"}}}],\"scatter3d\":[{\"type\":\"scatter3d\",\"line\":{\"colorbar\":{\"outlinewidth\":0,\"ticks\":\"\"}},\"marker\":{\"colorbar\":{\"outlinewidth\":0,\"ticks\":\"\"}}}],\"scattermapbox\":[{\"type\":\"scattermapbox\",\"marker\":{\"colorbar\":{\"outlinewidth\":0,\"ticks\":\"\"}}}],\"scatterternary\":[{\"type\":\"scatterternary\",\"marker\":{\"colorbar\":{\"outlinewidth\":0,\"ticks\":\"\"}}}],\"scattercarpet\":[{\"type\":\"scattercarpet\",\"marker\":{\"colorbar\":{\"outlinewidth\":0,\"ticks\":\"\"}}}],\"carpet\":[{\"aaxis\":{\"endlinecolor\":\"#2a3f5f\",\"gridcolor\":\"white\",\"linecolor\":\"white\",\"minorgridcolor\":\"white\",\"startlinecolor\":\"#2a3f5f\"},\"baxis\":{\"endlinecolor\":\"#2a3f5f\",\"gridcolor\":\"white\",\"linecolor\":\"white\",\"minorgridcolor\":\"white\",\"startlinecolor\":\"#2a3f5f\"},\"type\":\"carpet\"}],\"table\":[{\"cells\":{\"fill\":{\"color\":\"#EBF0F8\"},\"line\":{\"color\":\"white\"}},\"header\":{\"fill\":{\"color\":\"#C8D4E3\"},\"line\":{\"color\":\"white\"}},\"type\":\"table\"}],\"barpolar\":[{\"marker\":{\"line\":{\"color\":\"#E5ECF6\",\"width\":0.5},\"pattern\":{\"fillmode\":\"overlay\",\"size\":10,\"solidity\":0.2}},\"type\":\"barpolar\"}],\"pie\":[{\"automargin\":true,\"type\":\"pie\"}]},\"layout\":{\"autotypenumbers\":\"strict\",\"colorway\":[\"#636efa\",\"#EF553B\",\"#00cc96\",\"#ab63fa\",\"#FFA15A\",\"#19d3f3\",\"#FF6692\",\"#B6E880\",\"#FF97FF\",\"#FECB52\"],\"font\":{\"color\":\"#2a3f5f\"},\"hovermode\":\"closest\",\"hoverlabel\":{\"align\":\"left\"},\"paper_bgcolor\":\"white\",\"plot_bgcolor\":\"#E5ECF6\",\"polar\":{\"bgcolor\":\"#E5ECF6\",\"angularaxis\":{\"gridcolor\":\"white\",\"linecolor\":\"white\",\"ticks\":\"\"},\"radialaxis\":{\"gridcolor\":\"white\",\"linecolor\":\"white\",\"ticks\":\"\"}},\"ternary\":{\"bgcolor\":\"#E5ECF6\",\"aaxis\":{\"gridcolor\":\"white\",\"linecolor\":\"white\",\"ticks\":\"\"},\"baxis\":{\"gridcolor\":\"white\",\"linecolor\":\"white\",\"ticks\":\"\"},\"caxis\":{\"gridcolor\":\"white\",\"linecolor\":\"white\",\"ticks\":\"\"}},\"coloraxis\":{\"colorbar\":{\"outlinewidth\":0,\"ticks\":\"\"}},\"colorscale\":{\"sequential\":[[0.0,\"#0d0887\"],[0.1111111111111111,\"#46039f\"],[0.2222222222222222,\"#7201a8\"],[0.3333333333333333,\"#9c179e\"],[0.4444444444444444,\"#bd3786\"],[0.5555555555555556,\"#d8576b\"],[0.6666666666666666,\"#ed7953\"],[0.7777777777777778,\"#fb9f3a\"],[0.8888888888888888,\"#fdca26\"],[1.0,\"#f0f921\"]],\"sequentialminus\":[[0.0,\"#0d0887\"],[0.1111111111111111,\"#46039f\"],[0.2222222222222222,\"#7201a8\"],[0.3333333333333333,\"#9c179e\"],[0.4444444444444444,\"#bd3786\"],[0.5555555555555556,\"#d8576b\"],[0.6666666666666666,\"#ed7953\"],[0.7777777777777778,\"#fb9f3a\"],[0.8888888888888888,\"#fdca26\"],[1.0,\"#f0f921\"]],\"diverging\":[[0,\"#8e0152\"],[0.1,\"#c51b7d\"],[0.2,\"#de77ae\"],[0.3,\"#f1b6da\"],[0.4,\"#fde0ef\"],[0.5,\"#f7f7f7\"],[0.6,\"#e6f5d0\"],[0.7,\"#b8e186\"],[0.8,\"#7fbc41\"],[0.9,\"#4d9221\"],[1,\"#276419\"]]},\"xaxis\":{\"gridcolor\":\"white\",\"linecolor\":\"white\",\"ticks\":\"\",\"title\":{\"standoff\":15},\"zerolinecolor\":\"white\",\"automargin\":true,\"zerolinewidth\":2},\"yaxis\":{\"gridcolor\":\"white\",\"linecolor\":\"white\",\"ticks\":\"\",\"title\":{\"standoff\":15},\"zerolinecolor\":\"white\",\"automargin\":true,\"zerolinewidth\":2},\"scene\":{\"xaxis\":{\"backgroundcolor\":\"#E5ECF6\",\"gridcolor\":\"white\",\"linecolor\":\"white\",\"showbackground\":true,\"ticks\":\"\",\"zerolinecolor\":\"white\",\"gridwidth\":2},\"yaxis\":{\"backgroundcolor\":\"#E5ECF6\",\"gridcolor\":\"white\",\"linecolor\":\"white\",\"showbackground\":true,\"ticks\":\"\",\"zerolinecolor\":\"white\",\"gridwidth\":2},\"zaxis\":{\"backgroundcolor\":\"#E5ECF6\",\"gridcolor\":\"white\",\"linecolor\":\"white\",\"showbackground\":true,\"ticks\":\"\",\"zerolinecolor\":\"white\",\"gridwidth\":2}},\"shapedefaults\":{\"line\":{\"color\":\"#2a3f5f\"}},\"annotationdefaults\":{\"arrowcolor\":\"#2a3f5f\",\"arrowhead\":0,\"arrowwidth\":1},\"geo\":{\"bgcolor\":\"white\",\"landcolor\":\"#E5ECF6\",\"subunitcolor\":\"white\",\"showland\":true,\"showlakes\":true,\"lakecolor\":\"white\"},\"title\":{\"x\":0.05},\"mapbox\":{\"style\":\"light\"}}}},                        {\"responsive\": true}                    ).then(function(){\n",
              "                            \n",
              "var gd = document.getElementById('d51cbfa1-890c-4a79-9018-f7bf6bf19fcf');\n",
              "var x = new MutationObserver(function (mutations, observer) {{\n",
              "        var display = window.getComputedStyle(gd).display;\n",
              "        if (!display || display === 'none') {{\n",
              "            console.log([gd, 'removed!']);\n",
              "            Plotly.purge(gd);\n",
              "            observer.disconnect();\n",
              "        }}\n",
              "}});\n",
              "\n",
              "// Listen for the removal of the full notebook cells\n",
              "var notebookContainer = gd.closest('#notebook-container');\n",
              "if (notebookContainer) {{\n",
              "    x.observe(notebookContainer, {childList: true});\n",
              "}}\n",
              "\n",
              "// Listen for the clearing of the current output cell\n",
              "var outputEl = gd.closest('.output');\n",
              "if (outputEl) {{\n",
              "    x.observe(outputEl, {childList: true});\n",
              "}}\n",
              "\n",
              "                        })                };                            </script>        </div>\n",
              "</body>\n",
              "</html>"
            ]
          },
          "metadata": {}
        }
      ]
    },
    {
      "cell_type": "markdown",
      "source": [
        "Для того, чтобы линия была более кривой, нужно добавить полиномиальные фичи"
      ],
      "metadata": {
        "id": "Tv54wH_8Xelm"
      }
    },
    {
      "cell_type": "code",
      "source": [
        "poly = PolynomialFeatures(degree=5, include_bias=False)\n",
        "\n",
        "X_train_2_ = poly.fit_transform(X_train_2)\n",
        "X_test_2_ = poly.fit_transform(X_test_2)\n",
        "\n",
        "pd.DataFrame(X_train_2_).head()"
      ],
      "metadata": {
        "colab": {
          "base_uri": "https://localhost:8080/",
          "height": 206
        },
        "id": "v0weFXwLXsNY",
        "outputId": "a8c10929-19f2-484f-de1b-d9e3bab62525"
      },
      "execution_count": null,
      "outputs": [
        {
          "output_type": "execute_result",
          "data": {
            "text/plain": [
              "          0         1         2          3          4\n",
              "0 -0.790749  0.625284 -0.494443   0.390981  -0.309168\n",
              "1 -1.944963  3.782882 -7.357565  14.310193 -27.832798\n",
              "2 -0.951005  0.904410 -0.860098   0.817957  -0.777881\n",
              "3  1.256000  1.577536  1.981385   2.488619   3.125706\n",
              "4 -0.919422  0.845337 -0.777221   0.714594  -0.657013"
            ],
            "text/html": [
              "<div>\n",
              "<style scoped>\n",
              "    .dataframe tbody tr th:only-of-type {\n",
              "        vertical-align: middle;\n",
              "    }\n",
              "\n",
              "    .dataframe tbody tr th {\n",
              "        vertical-align: top;\n",
              "    }\n",
              "\n",
              "    .dataframe thead th {\n",
              "        text-align: right;\n",
              "    }\n",
              "</style>\n",
              "<table border=\"1\" class=\"dataframe\">\n",
              "  <thead>\n",
              "    <tr style=\"text-align: right;\">\n",
              "      <th></th>\n",
              "      <th>0</th>\n",
              "      <th>1</th>\n",
              "      <th>2</th>\n",
              "      <th>3</th>\n",
              "      <th>4</th>\n",
              "    </tr>\n",
              "  </thead>\n",
              "  <tbody>\n",
              "    <tr>\n",
              "      <th>0</th>\n",
              "      <td>-0.790749</td>\n",
              "      <td>0.625284</td>\n",
              "      <td>-0.494443</td>\n",
              "      <td>0.390981</td>\n",
              "      <td>-0.309168</td>\n",
              "    </tr>\n",
              "    <tr>\n",
              "      <th>1</th>\n",
              "      <td>-1.944963</td>\n",
              "      <td>3.782882</td>\n",
              "      <td>-7.357565</td>\n",
              "      <td>14.310193</td>\n",
              "      <td>-27.832798</td>\n",
              "    </tr>\n",
              "    <tr>\n",
              "      <th>2</th>\n",
              "      <td>-0.951005</td>\n",
              "      <td>0.904410</td>\n",
              "      <td>-0.860098</td>\n",
              "      <td>0.817957</td>\n",
              "      <td>-0.777881</td>\n",
              "    </tr>\n",
              "    <tr>\n",
              "      <th>3</th>\n",
              "      <td>1.256000</td>\n",
              "      <td>1.577536</td>\n",
              "      <td>1.981385</td>\n",
              "      <td>2.488619</td>\n",
              "      <td>3.125706</td>\n",
              "    </tr>\n",
              "    <tr>\n",
              "      <th>4</th>\n",
              "      <td>-0.919422</td>\n",
              "      <td>0.845337</td>\n",
              "      <td>-0.777221</td>\n",
              "      <td>0.714594</td>\n",
              "      <td>-0.657013</td>\n",
              "    </tr>\n",
              "  </tbody>\n",
              "</table>\n",
              "</div>"
            ]
          },
          "metadata": {},
          "execution_count": 133
        }
      ]
    },
    {
      "cell_type": "code",
      "source": [
        "model_lr_2 = LinearRegression().fit(X_train_2_, y_train_2)\n",
        "\n",
        "y_pred_2 = model_lr_2.predict(X_test_2_)\n",
        "\n",
        "print(f'R2 score: {r2_score(y_test_2, y_pred_2)}')\n",
        "print(f'MAE: {mean_absolute_error(y_test_2, y_pred_2)}')\n",
        "print(f'MSE: {mean_squared_error(y_test_2, y_pred_2)}')"
      ],
      "metadata": {
        "colab": {
          "base_uri": "https://localhost:8080/"
        },
        "id": "Ope3HkvYX93j",
        "outputId": "47723988-72c0-4ba9-efb8-f405959bde4e"
      },
      "execution_count": null,
      "outputs": [
        {
          "output_type": "stream",
          "name": "stdout",
          "text": [
            "R2 score: 0.9884761809782425\n",
            "MAE: 2.1138534406914777\n",
            "MSE: 7.5569366106004\n"
          ]
        }
      ]
    },
    {
      "cell_type": "code",
      "source": [
        "plot_test(X_train_2, X_test_2, y_train_2, y_test_2, y_pred_2)"
      ],
      "metadata": {
        "colab": {
          "base_uri": "https://localhost:8080/",
          "height": 542
        },
        "id": "1AKZ7qLuYFT3",
        "outputId": "e2534bd9-497a-4a29-fef4-8dfb42b82d3f"
      },
      "execution_count": null,
      "outputs": [
        {
          "output_type": "display_data",
          "data": {
            "text/html": [
              "<html>\n",
              "<head><meta charset=\"utf-8\" /></head>\n",
              "<body>\n",
              "    <div>            <script src=\"https://cdnjs.cloudflare.com/ajax/libs/mathjax/2.7.5/MathJax.js?config=TeX-AMS-MML_SVG\"></script><script type=\"text/javascript\">if (window.MathJax && window.MathJax.Hub && window.MathJax.Hub.Config) {window.MathJax.Hub.Config({SVG: {font: \"STIX-Web\"}});}</script>                <script type=\"text/javascript\">window.PlotlyConfig = {MathJaxConfig: 'local'};</script>\n",
              "        <script src=\"https://cdn.plot.ly/plotly-2.16.1.min.js\"></script>                <div id=\"cdc767c0-9328-4b77-8739-d1cdf43dff59\" class=\"plotly-graph-div\" style=\"height:525px; width:100%;\"></div>            <script type=\"text/javascript\">                                    window.PLOTLYENV=window.PLOTLYENV || {};                                    if (document.getElementById(\"cdc767c0-9328-4b77-8739-d1cdf43dff59\")) {                    Plotly.newPlot(                        \"cdc767c0-9328-4b77-8739-d1cdf43dff59\",                        [{\"hovertemplate\":\"train=%{x}<br>y_train=%{y}<extra></extra>\",\"legendgroup\":\"\",\"marker\":{\"color\":\"#636efa\",\"symbol\":\"circle\"},\"mode\":\"markers\",\"name\":\"train\",\"orientation\":\"v\",\"showlegend\":true,\"x\":[-0.7907493165967789,-1.9449631333641006,-0.9510045241645582,1.2559999535323123,-0.9194218885469083,3.118381630758107,-1.0602540823895188,0.7361834935469052,2.351642415044223,2.7438059921621787,2.145134199817726,3.102119984880248,2.7789854806754963,0.789198893314869,6.099433249184581,3.078158273057382,-0.3078864492205753,2.6553174791071035,-0.45002196948377904,-4.158512088167452,-2.5674572834524634,-2.420639609859407,-3.46126566997673,4.1439119011458265,-0.8847260396302703,2.4069772444222255,4.475722436654028,6.164748933712072,1.9567075703876011,3.4295218479151792,-0.14709257058613412,2.0903036139051734,-0.7124466841272117,3.010627143252151,0.7641789773305567,2.553556250456576,-6.205053984458042,7.8698109008288295,-1.9395996466838437,3.571363032502695,0.07282039957095754,0.6526989297626233,2.0697260676503175,4.805266424774928,7.856597267276079,2.043382171692937,4.161440558231339,-1.77159905177745,-2.5896198645487827,6.066202150987925,3.26810422694153,2.92895628323844,5.962216032921623,3.51624088291128,1.1915307111626299,-0.6095191153152766,2.386679557272263,2.170325051312616,2.901930991910251,1.5975567548409684,1.6349369360115453,-2.059532274410012,2.370143371151107,-2.3872423283058124,4.589932154050775,5.248379238913225,4.225131202868268,1.20942655712633,2.3356067397582847,4.874085054771335,0.8648101006211841,3.5408421381307873,-3.284921163118047,4.383455757608572,6.100689230786545,3.9761391077981916,4.617962724531196,0.5969939640695694,4.746213581192281,0.22453390271880114],\"xaxis\":\"x\",\"y\":[-8.665767214906303,-18.73003639646707,-2.6042844668672696,-0.8755280614544826,-7.531959514506516,-11.368790826350214,-7.084622439355119,-1.6315067255376714,-2.7439469059819466,1.478562069292451,-5.390870248878167,-6.390490092726722,-3.696283248182479,-1.4446460070945422,40.4391930414698,-3.2391838378074773,-6.287037780418608,-6.549668221856804,-7.431936741654939,-79.97766796198212,-28.486406628241188,-24.26756156810065,-55.0996778293265,0.753924554202106,-10.4775521898977,-0.199901786580293,6.575978361483285,47.6165585881611,-5.847595302794762,-3.9181194733192637,-1.0524863441398487,-2.7031547612420725,-4.233013081342238,-3.0804433385566377,-1.0867020102280458,-5.988564688423807,-208.4266236160998,124.97823487161467,-12.58623315049141,-6.716722526412858,-0.3493309204874182,0.37007509254319737,-3.8854195496749977,9.533158291146576,125.71141762850566,-6.232621283787205,-2.975364708496395,-13.657026587298546,-25.824908595510227,36.73977916105577,-5.346919966079138,-6.428907034121749,38.22288795563061,0.5911929684251715,-6.189354813215884,-4.082816645961647,-9.134811605238564,-4.55786702011793,-7.446672530226413,-1.8327806476568842,-11.532390520558447,-15.197209361045793,3.9816697108206816,-22.49925405131715,5.484179203264449,24.54109508719001,12.11257209465109,-5.313362449030627,-5.657121867108019,14.500570003151092,-3.2987967158157416,-2.051577564608963,-48.24902716140522,7.871425424910313,42.351499998600445,0.10294618402390832,8.301765564307136,-4.631953621218002,11.288665903574959,-2.0250649267015133],\"yaxis\":\"y\",\"type\":\"scatter\"},{\"hovertemplate\":\"X_test=%{x}<br>y_test=%{y}<extra></extra>\",\"legendgroup\":\"\",\"marker\":{\"color\":\"red\",\"symbol\":\"circle\"},\"mode\":\"markers\",\"name\":\"test\",\"orientation\":\"v\",\"showlegend\":true,\"x\":[-0.313509213678393,-1.2578909589883156,2.751661639364473,4.161475454335071,6.172525850893541,4.774409772029147,6.860326531499403,0.07236306203396392,2.3013333112125114,2.6465131318663087,3.2344204018301306,3.772590851486431,5.226065005810108,2.1953989813439994,-2.7247492126828625,-3.1510690744898664,5.539987241722153,3.835583627651478,-2.2963753059676844,5.732867940811712],\"xaxis\":\"x\",\"y\":[-5.675871318373987,-9.926186566151465,-7.690897508566971,2.449235434859233,46.17682951296979,5.5883202409969215,74.15482525590112,-3.9160805384679724,-2.3867760825238777,-2.5532757754061035,-6.660183516485531,1.0570932026653561,18.695314811366835,-5.082390813528248,-31.80006764332177,-42.66789914516155,31.274062715772292,-3.522713529910286,-16.05053841334029,31.547338584306335],\"yaxis\":\"y\",\"type\":\"scatter\"},{\"hovertemplate\":\"X_test=%{x}<br>y_pred=%{y}<extra></extra>\",\"legendgroup\":\"\",\"marker\":{\"color\":\"lime\",\"symbol\":\"circle\"},\"mode\":\"markers\",\"name\":\"predictions\",\"orientation\":\"v\",\"showlegend\":true,\"x\":[-0.313509213678393,-1.2578909589883156,2.751661639364473,4.161475454335071,6.172525850893541,4.774409772029147,6.860326531499403,0.07236306203396392,2.3013333112125114,2.6465131318663087,3.2344204018301306,3.772590851486431,5.226065005810108,2.1953989813439994,-2.7247492126828625,-3.1510690744898664,5.539987241722153,3.835583627651478,-2.2963753059676844,5.732867940811712],\"xaxis\":\"x\",\"y\":[-3.250711610268615,-8.411797931347513,-4.841578121645596,2.625873351799411,44.990122539268285,10.719132184225872,71.8051832663254,-2.613514880043727,-5.008907044626902,-4.948507563633622,-3.6836523349377077,-0.7842257502016872,19.161839758892274,-4.951809096163681,-31.5411996126839,-42.84072402672074,26.433312091800495,-0.3129991741602929,-22.448401948816677,31.51784295920873],\"yaxis\":\"y\",\"type\":\"scatter\"},{\"hovertemplate\":\"<b>LOWESS trendline</b><br><br>X_test=%{x}<br>y_pred=%{y} <b>(trend)</b><extra></extra>\",\"legendgroup\":\"\",\"marker\":{\"color\":\"lime\",\"symbol\":\"circle\"},\"mode\":\"lines\",\"name\":\"\",\"showlegend\":true,\"x\":[-3.1510690744898664,-2.7247492126828625,-2.2963753059676844,-1.2578909589883156,-0.313509213678393,0.07236306203396392,2.1953989813439994,2.3013333112125114,2.6465131318663087,2.751661639364473,3.2344204018301306,3.772590851486431,3.835583627651478,4.161475454335071,4.774409772029147,5.226065005810108,5.539987241722153,5.732867940811712,6.172525850893541,6.860326531499403],\"xaxis\":\"x\",\"y\":[-42.84072402672074,-31.5411996126839,-22.448401948816677,-8.411797931347513,-3.250711610268615,-2.613514880043727,-4.951809096163681,-5.008907044626902,-4.948507563633622,-4.841578121645596,-3.6836523349377077,-0.7842257502016872,-0.3129991741602929,2.625873351799411,10.719132184225872,19.161839758892274,26.433312091800495,31.51784295920873,44.990122539268285,71.8051832663254],\"yaxis\":\"y\",\"type\":\"scatter\"}],                        {\"template\":{\"data\":{\"histogram2dcontour\":[{\"type\":\"histogram2dcontour\",\"colorbar\":{\"outlinewidth\":0,\"ticks\":\"\"},\"colorscale\":[[0.0,\"#0d0887\"],[0.1111111111111111,\"#46039f\"],[0.2222222222222222,\"#7201a8\"],[0.3333333333333333,\"#9c179e\"],[0.4444444444444444,\"#bd3786\"],[0.5555555555555556,\"#d8576b\"],[0.6666666666666666,\"#ed7953\"],[0.7777777777777778,\"#fb9f3a\"],[0.8888888888888888,\"#fdca26\"],[1.0,\"#f0f921\"]]}],\"choropleth\":[{\"type\":\"choropleth\",\"colorbar\":{\"outlinewidth\":0,\"ticks\":\"\"}}],\"histogram2d\":[{\"type\":\"histogram2d\",\"colorbar\":{\"outlinewidth\":0,\"ticks\":\"\"},\"colorscale\":[[0.0,\"#0d0887\"],[0.1111111111111111,\"#46039f\"],[0.2222222222222222,\"#7201a8\"],[0.3333333333333333,\"#9c179e\"],[0.4444444444444444,\"#bd3786\"],[0.5555555555555556,\"#d8576b\"],[0.6666666666666666,\"#ed7953\"],[0.7777777777777778,\"#fb9f3a\"],[0.8888888888888888,\"#fdca26\"],[1.0,\"#f0f921\"]]}],\"heatmap\":[{\"type\":\"heatmap\",\"colorbar\":{\"outlinewidth\":0,\"ticks\":\"\"},\"colorscale\":[[0.0,\"#0d0887\"],[0.1111111111111111,\"#46039f\"],[0.2222222222222222,\"#7201a8\"],[0.3333333333333333,\"#9c179e\"],[0.4444444444444444,\"#bd3786\"],[0.5555555555555556,\"#d8576b\"],[0.6666666666666666,\"#ed7953\"],[0.7777777777777778,\"#fb9f3a\"],[0.8888888888888888,\"#fdca26\"],[1.0,\"#f0f921\"]]}],\"heatmapgl\":[{\"type\":\"heatmapgl\",\"colorbar\":{\"outlinewidth\":0,\"ticks\":\"\"},\"colorscale\":[[0.0,\"#0d0887\"],[0.1111111111111111,\"#46039f\"],[0.2222222222222222,\"#7201a8\"],[0.3333333333333333,\"#9c179e\"],[0.4444444444444444,\"#bd3786\"],[0.5555555555555556,\"#d8576b\"],[0.6666666666666666,\"#ed7953\"],[0.7777777777777778,\"#fb9f3a\"],[0.8888888888888888,\"#fdca26\"],[1.0,\"#f0f921\"]]}],\"contourcarpet\":[{\"type\":\"contourcarpet\",\"colorbar\":{\"outlinewidth\":0,\"ticks\":\"\"}}],\"contour\":[{\"type\":\"contour\",\"colorbar\":{\"outlinewidth\":0,\"ticks\":\"\"},\"colorscale\":[[0.0,\"#0d0887\"],[0.1111111111111111,\"#46039f\"],[0.2222222222222222,\"#7201a8\"],[0.3333333333333333,\"#9c179e\"],[0.4444444444444444,\"#bd3786\"],[0.5555555555555556,\"#d8576b\"],[0.6666666666666666,\"#ed7953\"],[0.7777777777777778,\"#fb9f3a\"],[0.8888888888888888,\"#fdca26\"],[1.0,\"#f0f921\"]]}],\"surface\":[{\"type\":\"surface\",\"colorbar\":{\"outlinewidth\":0,\"ticks\":\"\"},\"colorscale\":[[0.0,\"#0d0887\"],[0.1111111111111111,\"#46039f\"],[0.2222222222222222,\"#7201a8\"],[0.3333333333333333,\"#9c179e\"],[0.4444444444444444,\"#bd3786\"],[0.5555555555555556,\"#d8576b\"],[0.6666666666666666,\"#ed7953\"],[0.7777777777777778,\"#fb9f3a\"],[0.8888888888888888,\"#fdca26\"],[1.0,\"#f0f921\"]]}],\"mesh3d\":[{\"type\":\"mesh3d\",\"colorbar\":{\"outlinewidth\":0,\"ticks\":\"\"}}],\"scatter\":[{\"fillpattern\":{\"fillmode\":\"overlay\",\"size\":10,\"solidity\":0.2},\"type\":\"scatter\"}],\"parcoords\":[{\"type\":\"parcoords\",\"line\":{\"colorbar\":{\"outlinewidth\":0,\"ticks\":\"\"}}}],\"scatterpolargl\":[{\"type\":\"scatterpolargl\",\"marker\":{\"colorbar\":{\"outlinewidth\":0,\"ticks\":\"\"}}}],\"bar\":[{\"error_x\":{\"color\":\"#2a3f5f\"},\"error_y\":{\"color\":\"#2a3f5f\"},\"marker\":{\"line\":{\"color\":\"#E5ECF6\",\"width\":0.5},\"pattern\":{\"fillmode\":\"overlay\",\"size\":10,\"solidity\":0.2}},\"type\":\"bar\"}],\"scattergeo\":[{\"type\":\"scattergeo\",\"marker\":{\"colorbar\":{\"outlinewidth\":0,\"ticks\":\"\"}}}],\"scatterpolar\":[{\"type\":\"scatterpolar\",\"marker\":{\"colorbar\":{\"outlinewidth\":0,\"ticks\":\"\"}}}],\"histogram\":[{\"marker\":{\"pattern\":{\"fillmode\":\"overlay\",\"size\":10,\"solidity\":0.2}},\"type\":\"histogram\"}],\"scattergl\":[{\"type\":\"scattergl\",\"marker\":{\"colorbar\":{\"outlinewidth\":0,\"ticks\":\"\"}}}],\"scatter3d\":[{\"type\":\"scatter3d\",\"line\":{\"colorbar\":{\"outlinewidth\":0,\"ticks\":\"\"}},\"marker\":{\"colorbar\":{\"outlinewidth\":0,\"ticks\":\"\"}}}],\"scattermapbox\":[{\"type\":\"scattermapbox\",\"marker\":{\"colorbar\":{\"outlinewidth\":0,\"ticks\":\"\"}}}],\"scatterternary\":[{\"type\":\"scatterternary\",\"marker\":{\"colorbar\":{\"outlinewidth\":0,\"ticks\":\"\"}}}],\"scattercarpet\":[{\"type\":\"scattercarpet\",\"marker\":{\"colorbar\":{\"outlinewidth\":0,\"ticks\":\"\"}}}],\"carpet\":[{\"aaxis\":{\"endlinecolor\":\"#2a3f5f\",\"gridcolor\":\"white\",\"linecolor\":\"white\",\"minorgridcolor\":\"white\",\"startlinecolor\":\"#2a3f5f\"},\"baxis\":{\"endlinecolor\":\"#2a3f5f\",\"gridcolor\":\"white\",\"linecolor\":\"white\",\"minorgridcolor\":\"white\",\"startlinecolor\":\"#2a3f5f\"},\"type\":\"carpet\"}],\"table\":[{\"cells\":{\"fill\":{\"color\":\"#EBF0F8\"},\"line\":{\"color\":\"white\"}},\"header\":{\"fill\":{\"color\":\"#C8D4E3\"},\"line\":{\"color\":\"white\"}},\"type\":\"table\"}],\"barpolar\":[{\"marker\":{\"line\":{\"color\":\"#E5ECF6\",\"width\":0.5},\"pattern\":{\"fillmode\":\"overlay\",\"size\":10,\"solidity\":0.2}},\"type\":\"barpolar\"}],\"pie\":[{\"automargin\":true,\"type\":\"pie\"}]},\"layout\":{\"autotypenumbers\":\"strict\",\"colorway\":[\"#636efa\",\"#EF553B\",\"#00cc96\",\"#ab63fa\",\"#FFA15A\",\"#19d3f3\",\"#FF6692\",\"#B6E880\",\"#FF97FF\",\"#FECB52\"],\"font\":{\"color\":\"#2a3f5f\"},\"hovermode\":\"closest\",\"hoverlabel\":{\"align\":\"left\"},\"paper_bgcolor\":\"white\",\"plot_bgcolor\":\"#E5ECF6\",\"polar\":{\"bgcolor\":\"#E5ECF6\",\"angularaxis\":{\"gridcolor\":\"white\",\"linecolor\":\"white\",\"ticks\":\"\"},\"radialaxis\":{\"gridcolor\":\"white\",\"linecolor\":\"white\",\"ticks\":\"\"}},\"ternary\":{\"bgcolor\":\"#E5ECF6\",\"aaxis\":{\"gridcolor\":\"white\",\"linecolor\":\"white\",\"ticks\":\"\"},\"baxis\":{\"gridcolor\":\"white\",\"linecolor\":\"white\",\"ticks\":\"\"},\"caxis\":{\"gridcolor\":\"white\",\"linecolor\":\"white\",\"ticks\":\"\"}},\"coloraxis\":{\"colorbar\":{\"outlinewidth\":0,\"ticks\":\"\"}},\"colorscale\":{\"sequential\":[[0.0,\"#0d0887\"],[0.1111111111111111,\"#46039f\"],[0.2222222222222222,\"#7201a8\"],[0.3333333333333333,\"#9c179e\"],[0.4444444444444444,\"#bd3786\"],[0.5555555555555556,\"#d8576b\"],[0.6666666666666666,\"#ed7953\"],[0.7777777777777778,\"#fb9f3a\"],[0.8888888888888888,\"#fdca26\"],[1.0,\"#f0f921\"]],\"sequentialminus\":[[0.0,\"#0d0887\"],[0.1111111111111111,\"#46039f\"],[0.2222222222222222,\"#7201a8\"],[0.3333333333333333,\"#9c179e\"],[0.4444444444444444,\"#bd3786\"],[0.5555555555555556,\"#d8576b\"],[0.6666666666666666,\"#ed7953\"],[0.7777777777777778,\"#fb9f3a\"],[0.8888888888888888,\"#fdca26\"],[1.0,\"#f0f921\"]],\"diverging\":[[0,\"#8e0152\"],[0.1,\"#c51b7d\"],[0.2,\"#de77ae\"],[0.3,\"#f1b6da\"],[0.4,\"#fde0ef\"],[0.5,\"#f7f7f7\"],[0.6,\"#e6f5d0\"],[0.7,\"#b8e186\"],[0.8,\"#7fbc41\"],[0.9,\"#4d9221\"],[1,\"#276419\"]]},\"xaxis\":{\"gridcolor\":\"white\",\"linecolor\":\"white\",\"ticks\":\"\",\"title\":{\"standoff\":15},\"zerolinecolor\":\"white\",\"automargin\":true,\"zerolinewidth\":2},\"yaxis\":{\"gridcolor\":\"white\",\"linecolor\":\"white\",\"ticks\":\"\",\"title\":{\"standoff\":15},\"zerolinecolor\":\"white\",\"automargin\":true,\"zerolinewidth\":2},\"scene\":{\"xaxis\":{\"backgroundcolor\":\"#E5ECF6\",\"gridcolor\":\"white\",\"linecolor\":\"white\",\"showbackground\":true,\"ticks\":\"\",\"zerolinecolor\":\"white\",\"gridwidth\":2},\"yaxis\":{\"backgroundcolor\":\"#E5ECF6\",\"gridcolor\":\"white\",\"linecolor\":\"white\",\"showbackground\":true,\"ticks\":\"\",\"zerolinecolor\":\"white\",\"gridwidth\":2},\"zaxis\":{\"backgroundcolor\":\"#E5ECF6\",\"gridcolor\":\"white\",\"linecolor\":\"white\",\"showbackground\":true,\"ticks\":\"\",\"zerolinecolor\":\"white\",\"gridwidth\":2}},\"shapedefaults\":{\"line\":{\"color\":\"#2a3f5f\"}},\"annotationdefaults\":{\"arrowcolor\":\"#2a3f5f\",\"arrowhead\":0,\"arrowwidth\":1},\"geo\":{\"bgcolor\":\"white\",\"landcolor\":\"#E5ECF6\",\"subunitcolor\":\"white\",\"showland\":true,\"showlakes\":true,\"lakecolor\":\"white\"},\"title\":{\"x\":0.05},\"mapbox\":{\"style\":\"light\"}}}},                        {\"responsive\": true}                    ).then(function(){\n",
              "                            \n",
              "var gd = document.getElementById('cdc767c0-9328-4b77-8739-d1cdf43dff59');\n",
              "var x = new MutationObserver(function (mutations, observer) {{\n",
              "        var display = window.getComputedStyle(gd).display;\n",
              "        if (!display || display === 'none') {{\n",
              "            console.log([gd, 'removed!']);\n",
              "            Plotly.purge(gd);\n",
              "            observer.disconnect();\n",
              "        }}\n",
              "}});\n",
              "\n",
              "// Listen for the removal of the full notebook cells\n",
              "var notebookContainer = gd.closest('#notebook-container');\n",
              "if (notebookContainer) {{\n",
              "    x.observe(notebookContainer, {childList: true});\n",
              "}}\n",
              "\n",
              "// Listen for the clearing of the current output cell\n",
              "var outputEl = gd.closest('.output');\n",
              "if (outputEl) {{\n",
              "    x.observe(outputEl, {childList: true});\n",
              "}}\n",
              "\n",
              "                        })                };                            </script>        </div>\n",
              "</body>\n",
              "</html>"
            ]
          },
          "metadata": {}
        }
      ]
    },
    {
      "cell_type": "code",
      "source": [
        "plot_weights(model_lr_2.coef_)"
      ],
      "metadata": {
        "colab": {
          "base_uri": "https://localhost:8080/",
          "height": 542
        },
        "id": "dwI4PcHfaXG-",
        "outputId": "a25b1ad2-30d2-42e7-fdc1-f4a8769c28d9"
      },
      "execution_count": null,
      "outputs": [
        {
          "output_type": "display_data",
          "data": {
            "text/html": [
              "<html>\n",
              "<head><meta charset=\"utf-8\" /></head>\n",
              "<body>\n",
              "    <div>            <script src=\"https://cdnjs.cloudflare.com/ajax/libs/mathjax/2.7.5/MathJax.js?config=TeX-AMS-MML_SVG\"></script><script type=\"text/javascript\">if (window.MathJax && window.MathJax.Hub && window.MathJax.Hub.Config) {window.MathJax.Hub.Config({SVG: {font: \"STIX-Web\"}});}</script>                <script type=\"text/javascript\">window.PlotlyConfig = {MathJaxConfig: 'local'};</script>\n",
              "        <script src=\"https://cdn.plot.ly/plotly-2.16.1.min.js\"></script>                <div id=\"75f30b0b-360a-4214-bddc-8c2db11f8490\" class=\"plotly-graph-div\" style=\"height:525px; width:100%;\"></div>            <script type=\"text/javascript\">                                    window.PLOTLYENV=window.PLOTLYENV || {};                                    if (document.getElementById(\"75f30b0b-360a-4214-bddc-8c2db11f8490\")) {                    Plotly.newPlot(                        \"75f30b0b-360a-4214-bddc-8c2db11f8490\",                        [{\"alignmentgroup\":\"True\",\"hovertemplate\":\"c=>=0<br>x=%{x}<br>y=%{y}<extra></extra>\",\"legendgroup\":\">=0\",\"marker\":{\"color\":\"blue\",\"pattern\":{\"shape\":\"\"}},\"name\":\">=0\",\"offsetgroup\":\">=0\",\"orientation\":\"v\",\"showlegend\":true,\"textposition\":\"auto\",\"x\":[\"w0\",\"w2\",\"w3\"],\"xaxis\":\"x\",\"y\":[1.1028401372506798,0.5120506248507332,0.0016007191344297456],\"yaxis\":\"y\",\"type\":\"bar\"},{\"alignmentgroup\":\"True\",\"hovertemplate\":\"c=<0<br>x=%{x}<br>y=%{y}<extra></extra>\",\"legendgroup\":\"<0\",\"marker\":{\"color\":\"red\",\"pattern\":{\"shape\":\"\"}},\"name\":\"<0\",\"offsetgroup\":\"<0\",\"orientation\":\"v\",\"showlegend\":true,\"textposition\":\"auto\",\"x\":[\"w1\",\"w4\"],\"xaxis\":\"x\",\"y\":[-2.102971053572127,-0.00019595668314043024],\"yaxis\":\"y\",\"type\":\"bar\"}],                        {\"template\":{\"data\":{\"histogram2dcontour\":[{\"type\":\"histogram2dcontour\",\"colorbar\":{\"outlinewidth\":0,\"ticks\":\"\"},\"colorscale\":[[0.0,\"#0d0887\"],[0.1111111111111111,\"#46039f\"],[0.2222222222222222,\"#7201a8\"],[0.3333333333333333,\"#9c179e\"],[0.4444444444444444,\"#bd3786\"],[0.5555555555555556,\"#d8576b\"],[0.6666666666666666,\"#ed7953\"],[0.7777777777777778,\"#fb9f3a\"],[0.8888888888888888,\"#fdca26\"],[1.0,\"#f0f921\"]]}],\"choropleth\":[{\"type\":\"choropleth\",\"colorbar\":{\"outlinewidth\":0,\"ticks\":\"\"}}],\"histogram2d\":[{\"type\":\"histogram2d\",\"colorbar\":{\"outlinewidth\":0,\"ticks\":\"\"},\"colorscale\":[[0.0,\"#0d0887\"],[0.1111111111111111,\"#46039f\"],[0.2222222222222222,\"#7201a8\"],[0.3333333333333333,\"#9c179e\"],[0.4444444444444444,\"#bd3786\"],[0.5555555555555556,\"#d8576b\"],[0.6666666666666666,\"#ed7953\"],[0.7777777777777778,\"#fb9f3a\"],[0.8888888888888888,\"#fdca26\"],[1.0,\"#f0f921\"]]}],\"heatmap\":[{\"type\":\"heatmap\",\"colorbar\":{\"outlinewidth\":0,\"ticks\":\"\"},\"colorscale\":[[0.0,\"#0d0887\"],[0.1111111111111111,\"#46039f\"],[0.2222222222222222,\"#7201a8\"],[0.3333333333333333,\"#9c179e\"],[0.4444444444444444,\"#bd3786\"],[0.5555555555555556,\"#d8576b\"],[0.6666666666666666,\"#ed7953\"],[0.7777777777777778,\"#fb9f3a\"],[0.8888888888888888,\"#fdca26\"],[1.0,\"#f0f921\"]]}],\"heatmapgl\":[{\"type\":\"heatmapgl\",\"colorbar\":{\"outlinewidth\":0,\"ticks\":\"\"},\"colorscale\":[[0.0,\"#0d0887\"],[0.1111111111111111,\"#46039f\"],[0.2222222222222222,\"#7201a8\"],[0.3333333333333333,\"#9c179e\"],[0.4444444444444444,\"#bd3786\"],[0.5555555555555556,\"#d8576b\"],[0.6666666666666666,\"#ed7953\"],[0.7777777777777778,\"#fb9f3a\"],[0.8888888888888888,\"#fdca26\"],[1.0,\"#f0f921\"]]}],\"contourcarpet\":[{\"type\":\"contourcarpet\",\"colorbar\":{\"outlinewidth\":0,\"ticks\":\"\"}}],\"contour\":[{\"type\":\"contour\",\"colorbar\":{\"outlinewidth\":0,\"ticks\":\"\"},\"colorscale\":[[0.0,\"#0d0887\"],[0.1111111111111111,\"#46039f\"],[0.2222222222222222,\"#7201a8\"],[0.3333333333333333,\"#9c179e\"],[0.4444444444444444,\"#bd3786\"],[0.5555555555555556,\"#d8576b\"],[0.6666666666666666,\"#ed7953\"],[0.7777777777777778,\"#fb9f3a\"],[0.8888888888888888,\"#fdca26\"],[1.0,\"#f0f921\"]]}],\"surface\":[{\"type\":\"surface\",\"colorbar\":{\"outlinewidth\":0,\"ticks\":\"\"},\"colorscale\":[[0.0,\"#0d0887\"],[0.1111111111111111,\"#46039f\"],[0.2222222222222222,\"#7201a8\"],[0.3333333333333333,\"#9c179e\"],[0.4444444444444444,\"#bd3786\"],[0.5555555555555556,\"#d8576b\"],[0.6666666666666666,\"#ed7953\"],[0.7777777777777778,\"#fb9f3a\"],[0.8888888888888888,\"#fdca26\"],[1.0,\"#f0f921\"]]}],\"mesh3d\":[{\"type\":\"mesh3d\",\"colorbar\":{\"outlinewidth\":0,\"ticks\":\"\"}}],\"scatter\":[{\"fillpattern\":{\"fillmode\":\"overlay\",\"size\":10,\"solidity\":0.2},\"type\":\"scatter\"}],\"parcoords\":[{\"type\":\"parcoords\",\"line\":{\"colorbar\":{\"outlinewidth\":0,\"ticks\":\"\"}}}],\"scatterpolargl\":[{\"type\":\"scatterpolargl\",\"marker\":{\"colorbar\":{\"outlinewidth\":0,\"ticks\":\"\"}}}],\"bar\":[{\"error_x\":{\"color\":\"#2a3f5f\"},\"error_y\":{\"color\":\"#2a3f5f\"},\"marker\":{\"line\":{\"color\":\"#E5ECF6\",\"width\":0.5},\"pattern\":{\"fillmode\":\"overlay\",\"size\":10,\"solidity\":0.2}},\"type\":\"bar\"}],\"scattergeo\":[{\"type\":\"scattergeo\",\"marker\":{\"colorbar\":{\"outlinewidth\":0,\"ticks\":\"\"}}}],\"scatterpolar\":[{\"type\":\"scatterpolar\",\"marker\":{\"colorbar\":{\"outlinewidth\":0,\"ticks\":\"\"}}}],\"histogram\":[{\"marker\":{\"pattern\":{\"fillmode\":\"overlay\",\"size\":10,\"solidity\":0.2}},\"type\":\"histogram\"}],\"scattergl\":[{\"type\":\"scattergl\",\"marker\":{\"colorbar\":{\"outlinewidth\":0,\"ticks\":\"\"}}}],\"scatter3d\":[{\"type\":\"scatter3d\",\"line\":{\"colorbar\":{\"outlinewidth\":0,\"ticks\":\"\"}},\"marker\":{\"colorbar\":{\"outlinewidth\":0,\"ticks\":\"\"}}}],\"scattermapbox\":[{\"type\":\"scattermapbox\",\"marker\":{\"colorbar\":{\"outlinewidth\":0,\"ticks\":\"\"}}}],\"scatterternary\":[{\"type\":\"scatterternary\",\"marker\":{\"colorbar\":{\"outlinewidth\":0,\"ticks\":\"\"}}}],\"scattercarpet\":[{\"type\":\"scattercarpet\",\"marker\":{\"colorbar\":{\"outlinewidth\":0,\"ticks\":\"\"}}}],\"carpet\":[{\"aaxis\":{\"endlinecolor\":\"#2a3f5f\",\"gridcolor\":\"white\",\"linecolor\":\"white\",\"minorgridcolor\":\"white\",\"startlinecolor\":\"#2a3f5f\"},\"baxis\":{\"endlinecolor\":\"#2a3f5f\",\"gridcolor\":\"white\",\"linecolor\":\"white\",\"minorgridcolor\":\"white\",\"startlinecolor\":\"#2a3f5f\"},\"type\":\"carpet\"}],\"table\":[{\"cells\":{\"fill\":{\"color\":\"#EBF0F8\"},\"line\":{\"color\":\"white\"}},\"header\":{\"fill\":{\"color\":\"#C8D4E3\"},\"line\":{\"color\":\"white\"}},\"type\":\"table\"}],\"barpolar\":[{\"marker\":{\"line\":{\"color\":\"#E5ECF6\",\"width\":0.5},\"pattern\":{\"fillmode\":\"overlay\",\"size\":10,\"solidity\":0.2}},\"type\":\"barpolar\"}],\"pie\":[{\"automargin\":true,\"type\":\"pie\"}]},\"layout\":{\"autotypenumbers\":\"strict\",\"colorway\":[\"#636efa\",\"#EF553B\",\"#00cc96\",\"#ab63fa\",\"#FFA15A\",\"#19d3f3\",\"#FF6692\",\"#B6E880\",\"#FF97FF\",\"#FECB52\"],\"font\":{\"color\":\"#2a3f5f\"},\"hovermode\":\"closest\",\"hoverlabel\":{\"align\":\"left\"},\"paper_bgcolor\":\"white\",\"plot_bgcolor\":\"#E5ECF6\",\"polar\":{\"bgcolor\":\"#E5ECF6\",\"angularaxis\":{\"gridcolor\":\"white\",\"linecolor\":\"white\",\"ticks\":\"\"},\"radialaxis\":{\"gridcolor\":\"white\",\"linecolor\":\"white\",\"ticks\":\"\"}},\"ternary\":{\"bgcolor\":\"#E5ECF6\",\"aaxis\":{\"gridcolor\":\"white\",\"linecolor\":\"white\",\"ticks\":\"\"},\"baxis\":{\"gridcolor\":\"white\",\"linecolor\":\"white\",\"ticks\":\"\"},\"caxis\":{\"gridcolor\":\"white\",\"linecolor\":\"white\",\"ticks\":\"\"}},\"coloraxis\":{\"colorbar\":{\"outlinewidth\":0,\"ticks\":\"\"}},\"colorscale\":{\"sequential\":[[0.0,\"#0d0887\"],[0.1111111111111111,\"#46039f\"],[0.2222222222222222,\"#7201a8\"],[0.3333333333333333,\"#9c179e\"],[0.4444444444444444,\"#bd3786\"],[0.5555555555555556,\"#d8576b\"],[0.6666666666666666,\"#ed7953\"],[0.7777777777777778,\"#fb9f3a\"],[0.8888888888888888,\"#fdca26\"],[1.0,\"#f0f921\"]],\"sequentialminus\":[[0.0,\"#0d0887\"],[0.1111111111111111,\"#46039f\"],[0.2222222222222222,\"#7201a8\"],[0.3333333333333333,\"#9c179e\"],[0.4444444444444444,\"#bd3786\"],[0.5555555555555556,\"#d8576b\"],[0.6666666666666666,\"#ed7953\"],[0.7777777777777778,\"#fb9f3a\"],[0.8888888888888888,\"#fdca26\"],[1.0,\"#f0f921\"]],\"diverging\":[[0,\"#8e0152\"],[0.1,\"#c51b7d\"],[0.2,\"#de77ae\"],[0.3,\"#f1b6da\"],[0.4,\"#fde0ef\"],[0.5,\"#f7f7f7\"],[0.6,\"#e6f5d0\"],[0.7,\"#b8e186\"],[0.8,\"#7fbc41\"],[0.9,\"#4d9221\"],[1,\"#276419\"]]},\"xaxis\":{\"gridcolor\":\"white\",\"linecolor\":\"white\",\"ticks\":\"\",\"title\":{\"standoff\":15},\"zerolinecolor\":\"white\",\"automargin\":true,\"zerolinewidth\":2},\"yaxis\":{\"gridcolor\":\"white\",\"linecolor\":\"white\",\"ticks\":\"\",\"title\":{\"standoff\":15},\"zerolinecolor\":\"white\",\"automargin\":true,\"zerolinewidth\":2},\"scene\":{\"xaxis\":{\"backgroundcolor\":\"#E5ECF6\",\"gridcolor\":\"white\",\"linecolor\":\"white\",\"showbackground\":true,\"ticks\":\"\",\"zerolinecolor\":\"white\",\"gridwidth\":2},\"yaxis\":{\"backgroundcolor\":\"#E5ECF6\",\"gridcolor\":\"white\",\"linecolor\":\"white\",\"showbackground\":true,\"ticks\":\"\",\"zerolinecolor\":\"white\",\"gridwidth\":2},\"zaxis\":{\"backgroundcolor\":\"#E5ECF6\",\"gridcolor\":\"white\",\"linecolor\":\"white\",\"showbackground\":true,\"ticks\":\"\",\"zerolinecolor\":\"white\",\"gridwidth\":2}},\"shapedefaults\":{\"line\":{\"color\":\"#2a3f5f\"}},\"annotationdefaults\":{\"arrowcolor\":\"#2a3f5f\",\"arrowhead\":0,\"arrowwidth\":1},\"geo\":{\"bgcolor\":\"white\",\"landcolor\":\"#E5ECF6\",\"subunitcolor\":\"white\",\"showland\":true,\"showlakes\":true,\"lakecolor\":\"white\"},\"title\":{\"x\":0.05},\"mapbox\":{\"style\":\"light\"}}},\"xaxis\":{\"anchor\":\"y\",\"domain\":[0.0,1.0],\"title\":{\"text\":\"x\"},\"categoryorder\":\"array\",\"categoryarray\":[\"w0\",\"w1\",\"w2\",\"w3\",\"w4\"]},\"yaxis\":{\"anchor\":\"x\",\"domain\":[0.0,1.0],\"title\":{\"text\":\"y\"}},\"legend\":{\"title\":{\"text\":\"c\"},\"tracegroupgap\":0},\"margin\":{\"t\":60},\"barmode\":\"relative\"},                        {\"responsive\": true}                    ).then(function(){\n",
              "                            \n",
              "var gd = document.getElementById('75f30b0b-360a-4214-bddc-8c2db11f8490');\n",
              "var x = new MutationObserver(function (mutations, observer) {{\n",
              "        var display = window.getComputedStyle(gd).display;\n",
              "        if (!display || display === 'none') {{\n",
              "            console.log([gd, 'removed!']);\n",
              "            Plotly.purge(gd);\n",
              "            observer.disconnect();\n",
              "        }}\n",
              "}});\n",
              "\n",
              "// Listen for the removal of the full notebook cells\n",
              "var notebookContainer = gd.closest('#notebook-container');\n",
              "if (notebookContainer) {{\n",
              "    x.observe(notebookContainer, {childList: true});\n",
              "}}\n",
              "\n",
              "// Listen for the clearing of the current output cell\n",
              "var outputEl = gd.closest('.output');\n",
              "if (outputEl) {{\n",
              "    x.observe(outputEl, {childList: true});\n",
              "}}\n",
              "\n",
              "                        })                };                            </script>        </div>\n",
              "</body>\n",
              "</html>"
            ]
          },
          "metadata": {}
        }
      ]
    },
    {
      "cell_type": "markdown",
      "source": [
        "Как видно, сработала только одна дополнительная фича, но вполне неплохо"
      ],
      "metadata": {
        "id": "ZkM68C_wagbR"
      }
    },
    {
      "cell_type": "markdown",
      "source": [
        "Теперь видим эффект приминения полиномиальных фич"
      ],
      "metadata": {
        "id": "clS13AfgZb-i"
      }
    },
    {
      "cell_type": "markdown",
      "source": [
        "### Ridge регуляризация"
      ],
      "metadata": {
        "id": "M7DKkH3RZh4F"
      }
    },
    {
      "cell_type": "code",
      "source": [
        "model_r_2 = Ridge().fit(X_train_2_, y_train_2)\n",
        "\n",
        "y_pred_r_2 = model_r_2.predict(X_test_2_)\n",
        "\n",
        "print(f'R2 score: {r2_score(y_test_2, y_pred_r_2)}')\n",
        "print(f'MAE: {mean_absolute_error(y_test_2, y_pred_r_2)}')\n",
        "print(f'MSE: {mean_squared_error(y_test_2, y_pred_r_2)}')"
      ],
      "metadata": {
        "colab": {
          "base_uri": "https://localhost:8080/"
        },
        "id": "7AC7pJBkZg1m",
        "outputId": "6221a7b5-6fd9-4933-ac4d-808ceebe4b32"
      },
      "execution_count": null,
      "outputs": [
        {
          "output_type": "stream",
          "name": "stdout",
          "text": [
            "R2 score: 0.9885057101550612\n",
            "MAE: 2.110931859326434\n",
            "MSE: 7.5375723601760996\n"
          ]
        }
      ]
    },
    {
      "cell_type": "code",
      "source": [
        "plot_test(X_train_2, X_test_2, y_train_2, y_test_2, y_pred_r_2)"
      ],
      "metadata": {
        "colab": {
          "base_uri": "https://localhost:8080/",
          "height": 542
        },
        "id": "sANZGku0bTf4",
        "outputId": "b694c01a-6c70-44e5-e355-0bfd35a9c543"
      },
      "execution_count": null,
      "outputs": [
        {
          "output_type": "display_data",
          "data": {
            "text/html": [
              "<html>\n",
              "<head><meta charset=\"utf-8\" /></head>\n",
              "<body>\n",
              "    <div>            <script src=\"https://cdnjs.cloudflare.com/ajax/libs/mathjax/2.7.5/MathJax.js?config=TeX-AMS-MML_SVG\"></script><script type=\"text/javascript\">if (window.MathJax && window.MathJax.Hub && window.MathJax.Hub.Config) {window.MathJax.Hub.Config({SVG: {font: \"STIX-Web\"}});}</script>                <script type=\"text/javascript\">window.PlotlyConfig = {MathJaxConfig: 'local'};</script>\n",
              "        <script src=\"https://cdn.plot.ly/plotly-2.16.1.min.js\"></script>                <div id=\"be2f0087-d7ad-45c4-9fc8-28812cf82d3e\" class=\"plotly-graph-div\" style=\"height:525px; width:100%;\"></div>            <script type=\"text/javascript\">                                    window.PLOTLYENV=window.PLOTLYENV || {};                                    if (document.getElementById(\"be2f0087-d7ad-45c4-9fc8-28812cf82d3e\")) {                    Plotly.newPlot(                        \"be2f0087-d7ad-45c4-9fc8-28812cf82d3e\",                        [{\"hovertemplate\":\"train=%{x}<br>y_train=%{y}<extra></extra>\",\"legendgroup\":\"\",\"marker\":{\"color\":\"#636efa\",\"symbol\":\"circle\"},\"mode\":\"markers\",\"name\":\"train\",\"orientation\":\"v\",\"showlegend\":true,\"x\":[-0.7907493165967789,-1.9449631333641006,-0.9510045241645582,1.2559999535323123,-0.9194218885469083,3.118381630758107,-1.0602540823895188,0.7361834935469052,2.351642415044223,2.7438059921621787,2.145134199817726,3.102119984880248,2.7789854806754963,0.789198893314869,6.099433249184581,3.078158273057382,-0.3078864492205753,2.6553174791071035,-0.45002196948377904,-4.158512088167452,-2.5674572834524634,-2.420639609859407,-3.46126566997673,4.1439119011458265,-0.8847260396302703,2.4069772444222255,4.475722436654028,6.164748933712072,1.9567075703876011,3.4295218479151792,-0.14709257058613412,2.0903036139051734,-0.7124466841272117,3.010627143252151,0.7641789773305567,2.553556250456576,-6.205053984458042,7.8698109008288295,-1.9395996466838437,3.571363032502695,0.07282039957095754,0.6526989297626233,2.0697260676503175,4.805266424774928,7.856597267276079,2.043382171692937,4.161440558231339,-1.77159905177745,-2.5896198645487827,6.066202150987925,3.26810422694153,2.92895628323844,5.962216032921623,3.51624088291128,1.1915307111626299,-0.6095191153152766,2.386679557272263,2.170325051312616,2.901930991910251,1.5975567548409684,1.6349369360115453,-2.059532274410012,2.370143371151107,-2.3872423283058124,4.589932154050775,5.248379238913225,4.225131202868268,1.20942655712633,2.3356067397582847,4.874085054771335,0.8648101006211841,3.5408421381307873,-3.284921163118047,4.383455757608572,6.100689230786545,3.9761391077981916,4.617962724531196,0.5969939640695694,4.746213581192281,0.22453390271880114],\"xaxis\":\"x\",\"y\":[-8.665767214906303,-18.73003639646707,-2.6042844668672696,-0.8755280614544826,-7.531959514506516,-11.368790826350214,-7.084622439355119,-1.6315067255376714,-2.7439469059819466,1.478562069292451,-5.390870248878167,-6.390490092726722,-3.696283248182479,-1.4446460070945422,40.4391930414698,-3.2391838378074773,-6.287037780418608,-6.549668221856804,-7.431936741654939,-79.97766796198212,-28.486406628241188,-24.26756156810065,-55.0996778293265,0.753924554202106,-10.4775521898977,-0.199901786580293,6.575978361483285,47.6165585881611,-5.847595302794762,-3.9181194733192637,-1.0524863441398487,-2.7031547612420725,-4.233013081342238,-3.0804433385566377,-1.0867020102280458,-5.988564688423807,-208.4266236160998,124.97823487161467,-12.58623315049141,-6.716722526412858,-0.3493309204874182,0.37007509254319737,-3.8854195496749977,9.533158291146576,125.71141762850566,-6.232621283787205,-2.975364708496395,-13.657026587298546,-25.824908595510227,36.73977916105577,-5.346919966079138,-6.428907034121749,38.22288795563061,0.5911929684251715,-6.189354813215884,-4.082816645961647,-9.134811605238564,-4.55786702011793,-7.446672530226413,-1.8327806476568842,-11.532390520558447,-15.197209361045793,3.9816697108206816,-22.49925405131715,5.484179203264449,24.54109508719001,12.11257209465109,-5.313362449030627,-5.657121867108019,14.500570003151092,-3.2987967158157416,-2.051577564608963,-48.24902716140522,7.871425424910313,42.351499998600445,0.10294618402390832,8.301765564307136,-4.631953621218002,11.288665903574959,-2.0250649267015133],\"yaxis\":\"y\",\"type\":\"scatter\"},{\"hovertemplate\":\"X_test=%{x}<br>y_test=%{y}<extra></extra>\",\"legendgroup\":\"\",\"marker\":{\"color\":\"red\",\"symbol\":\"circle\"},\"mode\":\"markers\",\"name\":\"test\",\"orientation\":\"v\",\"showlegend\":true,\"x\":[-0.313509213678393,-1.2578909589883156,2.751661639364473,4.161475454335071,6.172525850893541,4.774409772029147,6.860326531499403,0.07236306203396392,2.3013333112125114,2.6465131318663087,3.2344204018301306,3.772590851486431,5.226065005810108,2.1953989813439994,-2.7247492126828625,-3.1510690744898664,5.539987241722153,3.835583627651478,-2.2963753059676844,5.732867940811712],\"xaxis\":\"x\",\"y\":[-5.675871318373987,-9.926186566151465,-7.690897508566971,2.449235434859233,46.17682951296979,5.5883202409969215,74.15482525590112,-3.9160805384679724,-2.3867760825238777,-2.5532757754061035,-6.660183516485531,1.0570932026653561,18.695314811366835,-5.082390813528248,-31.80006764332177,-42.66789914516155,31.274062715772292,-3.522713529910286,-16.05053841334029,31.547338584306335],\"yaxis\":\"y\",\"type\":\"scatter\"},{\"hovertemplate\":\"X_test=%{x}<br>y_pred=%{y}<extra></extra>\",\"legendgroup\":\"\",\"marker\":{\"color\":\"lime\",\"symbol\":\"circle\"},\"mode\":\"markers\",\"name\":\"predictions\",\"orientation\":\"v\",\"showlegend\":true,\"x\":[-0.313509213678393,-1.2578909589883156,2.751661639364473,4.161475454335071,6.172525850893541,4.774409772029147,6.860326531499403,0.07236306203396392,2.3013333112125114,2.6465131318663087,3.2344204018301306,3.772590851486431,5.226065005810108,2.1953989813439994,-2.7247492126828625,-3.1510690744898664,5.539987241722153,3.835583627651478,-2.2963753059676844,5.732867940811712],\"xaxis\":\"x\",\"y\":[-3.2560142678745105,-8.403901514876669,-4.850082757652983,2.628498316582007,44.99924850449119,10.725914871328468,71.80987163995259,-2.6226160980712776,-5.020229167026269,-4.957731872726854,-3.6885075014444357,-0.7846894346669402,19.17071631264007,-4.96368067707998,-31.50749434294895,-42.80052859483107,26.442971203045932,-0.3129503698585956,-22.42214606061033,31.52765936935252],\"yaxis\":\"y\",\"type\":\"scatter\"},{\"hovertemplate\":\"<b>LOWESS trendline</b><br><br>X_test=%{x}<br>y_pred=%{y} <b>(trend)</b><extra></extra>\",\"legendgroup\":\"\",\"marker\":{\"color\":\"lime\",\"symbol\":\"circle\"},\"mode\":\"lines\",\"name\":\"\",\"showlegend\":true,\"x\":[-3.1510690744898664,-2.7247492126828625,-2.2963753059676844,-1.2578909589883156,-0.313509213678393,0.07236306203396392,2.1953989813439994,2.3013333112125114,2.6465131318663087,2.751661639364473,3.2344204018301306,3.772590851486431,3.835583627651478,4.161475454335071,4.774409772029147,5.226065005810108,5.539987241722153,5.732867940811712,6.172525850893541,6.860326531499403],\"xaxis\":\"x\",\"y\":[-42.80052859483107,-31.50749434294895,-22.42214606061033,-8.403901514876669,-3.2560142678745105,-2.6226160980712776,-4.96368067707998,-5.020229167026269,-4.957731872726854,-4.850082757652983,-3.6885075014444357,-0.7846894346669402,-0.3129503698585956,2.628498316582007,10.725914871328468,19.17071631264007,26.442971203045932,31.52765936935252,44.99924850449119,71.80987163995259],\"yaxis\":\"y\",\"type\":\"scatter\"}],                        {\"template\":{\"data\":{\"histogram2dcontour\":[{\"type\":\"histogram2dcontour\",\"colorbar\":{\"outlinewidth\":0,\"ticks\":\"\"},\"colorscale\":[[0.0,\"#0d0887\"],[0.1111111111111111,\"#46039f\"],[0.2222222222222222,\"#7201a8\"],[0.3333333333333333,\"#9c179e\"],[0.4444444444444444,\"#bd3786\"],[0.5555555555555556,\"#d8576b\"],[0.6666666666666666,\"#ed7953\"],[0.7777777777777778,\"#fb9f3a\"],[0.8888888888888888,\"#fdca26\"],[1.0,\"#f0f921\"]]}],\"choropleth\":[{\"type\":\"choropleth\",\"colorbar\":{\"outlinewidth\":0,\"ticks\":\"\"}}],\"histogram2d\":[{\"type\":\"histogram2d\",\"colorbar\":{\"outlinewidth\":0,\"ticks\":\"\"},\"colorscale\":[[0.0,\"#0d0887\"],[0.1111111111111111,\"#46039f\"],[0.2222222222222222,\"#7201a8\"],[0.3333333333333333,\"#9c179e\"],[0.4444444444444444,\"#bd3786\"],[0.5555555555555556,\"#d8576b\"],[0.6666666666666666,\"#ed7953\"],[0.7777777777777778,\"#fb9f3a\"],[0.8888888888888888,\"#fdca26\"],[1.0,\"#f0f921\"]]}],\"heatmap\":[{\"type\":\"heatmap\",\"colorbar\":{\"outlinewidth\":0,\"ticks\":\"\"},\"colorscale\":[[0.0,\"#0d0887\"],[0.1111111111111111,\"#46039f\"],[0.2222222222222222,\"#7201a8\"],[0.3333333333333333,\"#9c179e\"],[0.4444444444444444,\"#bd3786\"],[0.5555555555555556,\"#d8576b\"],[0.6666666666666666,\"#ed7953\"],[0.7777777777777778,\"#fb9f3a\"],[0.8888888888888888,\"#fdca26\"],[1.0,\"#f0f921\"]]}],\"heatmapgl\":[{\"type\":\"heatmapgl\",\"colorbar\":{\"outlinewidth\":0,\"ticks\":\"\"},\"colorscale\":[[0.0,\"#0d0887\"],[0.1111111111111111,\"#46039f\"],[0.2222222222222222,\"#7201a8\"],[0.3333333333333333,\"#9c179e\"],[0.4444444444444444,\"#bd3786\"],[0.5555555555555556,\"#d8576b\"],[0.6666666666666666,\"#ed7953\"],[0.7777777777777778,\"#fb9f3a\"],[0.8888888888888888,\"#fdca26\"],[1.0,\"#f0f921\"]]}],\"contourcarpet\":[{\"type\":\"contourcarpet\",\"colorbar\":{\"outlinewidth\":0,\"ticks\":\"\"}}],\"contour\":[{\"type\":\"contour\",\"colorbar\":{\"outlinewidth\":0,\"ticks\":\"\"},\"colorscale\":[[0.0,\"#0d0887\"],[0.1111111111111111,\"#46039f\"],[0.2222222222222222,\"#7201a8\"],[0.3333333333333333,\"#9c179e\"],[0.4444444444444444,\"#bd3786\"],[0.5555555555555556,\"#d8576b\"],[0.6666666666666666,\"#ed7953\"],[0.7777777777777778,\"#fb9f3a\"],[0.8888888888888888,\"#fdca26\"],[1.0,\"#f0f921\"]]}],\"surface\":[{\"type\":\"surface\",\"colorbar\":{\"outlinewidth\":0,\"ticks\":\"\"},\"colorscale\":[[0.0,\"#0d0887\"],[0.1111111111111111,\"#46039f\"],[0.2222222222222222,\"#7201a8\"],[0.3333333333333333,\"#9c179e\"],[0.4444444444444444,\"#bd3786\"],[0.5555555555555556,\"#d8576b\"],[0.6666666666666666,\"#ed7953\"],[0.7777777777777778,\"#fb9f3a\"],[0.8888888888888888,\"#fdca26\"],[1.0,\"#f0f921\"]]}],\"mesh3d\":[{\"type\":\"mesh3d\",\"colorbar\":{\"outlinewidth\":0,\"ticks\":\"\"}}],\"scatter\":[{\"fillpattern\":{\"fillmode\":\"overlay\",\"size\":10,\"solidity\":0.2},\"type\":\"scatter\"}],\"parcoords\":[{\"type\":\"parcoords\",\"line\":{\"colorbar\":{\"outlinewidth\":0,\"ticks\":\"\"}}}],\"scatterpolargl\":[{\"type\":\"scatterpolargl\",\"marker\":{\"colorbar\":{\"outlinewidth\":0,\"ticks\":\"\"}}}],\"bar\":[{\"error_x\":{\"color\":\"#2a3f5f\"},\"error_y\":{\"color\":\"#2a3f5f\"},\"marker\":{\"line\":{\"color\":\"#E5ECF6\",\"width\":0.5},\"pattern\":{\"fillmode\":\"overlay\",\"size\":10,\"solidity\":0.2}},\"type\":\"bar\"}],\"scattergeo\":[{\"type\":\"scattergeo\",\"marker\":{\"colorbar\":{\"outlinewidth\":0,\"ticks\":\"\"}}}],\"scatterpolar\":[{\"type\":\"scatterpolar\",\"marker\":{\"colorbar\":{\"outlinewidth\":0,\"ticks\":\"\"}}}],\"histogram\":[{\"marker\":{\"pattern\":{\"fillmode\":\"overlay\",\"size\":10,\"solidity\":0.2}},\"type\":\"histogram\"}],\"scattergl\":[{\"type\":\"scattergl\",\"marker\":{\"colorbar\":{\"outlinewidth\":0,\"ticks\":\"\"}}}],\"scatter3d\":[{\"type\":\"scatter3d\",\"line\":{\"colorbar\":{\"outlinewidth\":0,\"ticks\":\"\"}},\"marker\":{\"colorbar\":{\"outlinewidth\":0,\"ticks\":\"\"}}}],\"scattermapbox\":[{\"type\":\"scattermapbox\",\"marker\":{\"colorbar\":{\"outlinewidth\":0,\"ticks\":\"\"}}}],\"scatterternary\":[{\"type\":\"scatterternary\",\"marker\":{\"colorbar\":{\"outlinewidth\":0,\"ticks\":\"\"}}}],\"scattercarpet\":[{\"type\":\"scattercarpet\",\"marker\":{\"colorbar\":{\"outlinewidth\":0,\"ticks\":\"\"}}}],\"carpet\":[{\"aaxis\":{\"endlinecolor\":\"#2a3f5f\",\"gridcolor\":\"white\",\"linecolor\":\"white\",\"minorgridcolor\":\"white\",\"startlinecolor\":\"#2a3f5f\"},\"baxis\":{\"endlinecolor\":\"#2a3f5f\",\"gridcolor\":\"white\",\"linecolor\":\"white\",\"minorgridcolor\":\"white\",\"startlinecolor\":\"#2a3f5f\"},\"type\":\"carpet\"}],\"table\":[{\"cells\":{\"fill\":{\"color\":\"#EBF0F8\"},\"line\":{\"color\":\"white\"}},\"header\":{\"fill\":{\"color\":\"#C8D4E3\"},\"line\":{\"color\":\"white\"}},\"type\":\"table\"}],\"barpolar\":[{\"marker\":{\"line\":{\"color\":\"#E5ECF6\",\"width\":0.5},\"pattern\":{\"fillmode\":\"overlay\",\"size\":10,\"solidity\":0.2}},\"type\":\"barpolar\"}],\"pie\":[{\"automargin\":true,\"type\":\"pie\"}]},\"layout\":{\"autotypenumbers\":\"strict\",\"colorway\":[\"#636efa\",\"#EF553B\",\"#00cc96\",\"#ab63fa\",\"#FFA15A\",\"#19d3f3\",\"#FF6692\",\"#B6E880\",\"#FF97FF\",\"#FECB52\"],\"font\":{\"color\":\"#2a3f5f\"},\"hovermode\":\"closest\",\"hoverlabel\":{\"align\":\"left\"},\"paper_bgcolor\":\"white\",\"plot_bgcolor\":\"#E5ECF6\",\"polar\":{\"bgcolor\":\"#E5ECF6\",\"angularaxis\":{\"gridcolor\":\"white\",\"linecolor\":\"white\",\"ticks\":\"\"},\"radialaxis\":{\"gridcolor\":\"white\",\"linecolor\":\"white\",\"ticks\":\"\"}},\"ternary\":{\"bgcolor\":\"#E5ECF6\",\"aaxis\":{\"gridcolor\":\"white\",\"linecolor\":\"white\",\"ticks\":\"\"},\"baxis\":{\"gridcolor\":\"white\",\"linecolor\":\"white\",\"ticks\":\"\"},\"caxis\":{\"gridcolor\":\"white\",\"linecolor\":\"white\",\"ticks\":\"\"}},\"coloraxis\":{\"colorbar\":{\"outlinewidth\":0,\"ticks\":\"\"}},\"colorscale\":{\"sequential\":[[0.0,\"#0d0887\"],[0.1111111111111111,\"#46039f\"],[0.2222222222222222,\"#7201a8\"],[0.3333333333333333,\"#9c179e\"],[0.4444444444444444,\"#bd3786\"],[0.5555555555555556,\"#d8576b\"],[0.6666666666666666,\"#ed7953\"],[0.7777777777777778,\"#fb9f3a\"],[0.8888888888888888,\"#fdca26\"],[1.0,\"#f0f921\"]],\"sequentialminus\":[[0.0,\"#0d0887\"],[0.1111111111111111,\"#46039f\"],[0.2222222222222222,\"#7201a8\"],[0.3333333333333333,\"#9c179e\"],[0.4444444444444444,\"#bd3786\"],[0.5555555555555556,\"#d8576b\"],[0.6666666666666666,\"#ed7953\"],[0.7777777777777778,\"#fb9f3a\"],[0.8888888888888888,\"#fdca26\"],[1.0,\"#f0f921\"]],\"diverging\":[[0,\"#8e0152\"],[0.1,\"#c51b7d\"],[0.2,\"#de77ae\"],[0.3,\"#f1b6da\"],[0.4,\"#fde0ef\"],[0.5,\"#f7f7f7\"],[0.6,\"#e6f5d0\"],[0.7,\"#b8e186\"],[0.8,\"#7fbc41\"],[0.9,\"#4d9221\"],[1,\"#276419\"]]},\"xaxis\":{\"gridcolor\":\"white\",\"linecolor\":\"white\",\"ticks\":\"\",\"title\":{\"standoff\":15},\"zerolinecolor\":\"white\",\"automargin\":true,\"zerolinewidth\":2},\"yaxis\":{\"gridcolor\":\"white\",\"linecolor\":\"white\",\"ticks\":\"\",\"title\":{\"standoff\":15},\"zerolinecolor\":\"white\",\"automargin\":true,\"zerolinewidth\":2},\"scene\":{\"xaxis\":{\"backgroundcolor\":\"#E5ECF6\",\"gridcolor\":\"white\",\"linecolor\":\"white\",\"showbackground\":true,\"ticks\":\"\",\"zerolinecolor\":\"white\",\"gridwidth\":2},\"yaxis\":{\"backgroundcolor\":\"#E5ECF6\",\"gridcolor\":\"white\",\"linecolor\":\"white\",\"showbackground\":true,\"ticks\":\"\",\"zerolinecolor\":\"white\",\"gridwidth\":2},\"zaxis\":{\"backgroundcolor\":\"#E5ECF6\",\"gridcolor\":\"white\",\"linecolor\":\"white\",\"showbackground\":true,\"ticks\":\"\",\"zerolinecolor\":\"white\",\"gridwidth\":2}},\"shapedefaults\":{\"line\":{\"color\":\"#2a3f5f\"}},\"annotationdefaults\":{\"arrowcolor\":\"#2a3f5f\",\"arrowhead\":0,\"arrowwidth\":1},\"geo\":{\"bgcolor\":\"white\",\"landcolor\":\"#E5ECF6\",\"subunitcolor\":\"white\",\"showland\":true,\"showlakes\":true,\"lakecolor\":\"white\"},\"title\":{\"x\":0.05},\"mapbox\":{\"style\":\"light\"}}}},                        {\"responsive\": true}                    ).then(function(){\n",
              "                            \n",
              "var gd = document.getElementById('be2f0087-d7ad-45c4-9fc8-28812cf82d3e');\n",
              "var x = new MutationObserver(function (mutations, observer) {{\n",
              "        var display = window.getComputedStyle(gd).display;\n",
              "        if (!display || display === 'none') {{\n",
              "            console.log([gd, 'removed!']);\n",
              "            Plotly.purge(gd);\n",
              "            observer.disconnect();\n",
              "        }}\n",
              "}});\n",
              "\n",
              "// Listen for the removal of the full notebook cells\n",
              "var notebookContainer = gd.closest('#notebook-container');\n",
              "if (notebookContainer) {{\n",
              "    x.observe(notebookContainer, {childList: true});\n",
              "}}\n",
              "\n",
              "// Listen for the clearing of the current output cell\n",
              "var outputEl = gd.closest('.output');\n",
              "if (outputEl) {{\n",
              "    x.observe(outputEl, {childList: true});\n",
              "}}\n",
              "\n",
              "                        })                };                            </script>        </div>\n",
              "</body>\n",
              "</html>"
            ]
          },
          "metadata": {}
        }
      ]
    },
    {
      "cell_type": "markdown",
      "source": [
        "Паттерн степенной функции повторяется"
      ],
      "metadata": {
        "id": "lYLQFr05bcpX"
      }
    },
    {
      "cell_type": "markdown",
      "source": [
        "Видим, что тут дефолтный параметр альфа 1 сжатия, сделал всё прекрасно, лучше чем обычная регрессия, посмотрим на веса"
      ],
      "metadata": {
        "id": "7oOlSf68ZweR"
      }
    },
    {
      "cell_type": "code",
      "source": [
        "model_r_2.coef_"
      ],
      "metadata": {
        "colab": {
          "base_uri": "https://localhost:8080/"
        },
        "id": "J9Da-Le8aLKf",
        "outputId": "18827ba0-0320-4201-dc2c-9ea495f7f5bf"
      },
      "execution_count": null,
      "outputs": [
        {
          "output_type": "execute_result",
          "data": {
            "text/plain": [
              "array([[ 1.09382575e+00, -2.09947620e+00,  5.12184013e-01,\n",
              "         1.51050167e-03, -1.91529032e-04]])"
            ]
          },
          "metadata": {},
          "execution_count": 139
        }
      ]
    },
    {
      "cell_type": "code",
      "source": [
        "plot_weights(model_r_2.coef_)"
      ],
      "metadata": {
        "colab": {
          "base_uri": "https://localhost:8080/",
          "height": 542
        },
        "id": "PAHJ-4MPZ97k",
        "outputId": "a1bfaf38-e25e-4b9a-ba81-2637fad8f047"
      },
      "execution_count": null,
      "outputs": [
        {
          "output_type": "display_data",
          "data": {
            "text/html": [
              "<html>\n",
              "<head><meta charset=\"utf-8\" /></head>\n",
              "<body>\n",
              "    <div>            <script src=\"https://cdnjs.cloudflare.com/ajax/libs/mathjax/2.7.5/MathJax.js?config=TeX-AMS-MML_SVG\"></script><script type=\"text/javascript\">if (window.MathJax && window.MathJax.Hub && window.MathJax.Hub.Config) {window.MathJax.Hub.Config({SVG: {font: \"STIX-Web\"}});}</script>                <script type=\"text/javascript\">window.PlotlyConfig = {MathJaxConfig: 'local'};</script>\n",
              "        <script src=\"https://cdn.plot.ly/plotly-2.16.1.min.js\"></script>                <div id=\"7766fc25-9382-4bbf-9659-b2390e406f66\" class=\"plotly-graph-div\" style=\"height:525px; width:100%;\"></div>            <script type=\"text/javascript\">                                    window.PLOTLYENV=window.PLOTLYENV || {};                                    if (document.getElementById(\"7766fc25-9382-4bbf-9659-b2390e406f66\")) {                    Plotly.newPlot(                        \"7766fc25-9382-4bbf-9659-b2390e406f66\",                        [{\"alignmentgroup\":\"True\",\"hovertemplate\":\"c=>=0<br>x=%{x}<br>y=%{y}<extra></extra>\",\"legendgroup\":\">=0\",\"marker\":{\"color\":\"blue\",\"pattern\":{\"shape\":\"\"}},\"name\":\">=0\",\"offsetgroup\":\">=0\",\"orientation\":\"v\",\"showlegend\":true,\"textposition\":\"auto\",\"x\":[\"w0\",\"w2\",\"w3\"],\"xaxis\":\"x\",\"y\":[1.0938257492796601,0.5121840134960578,0.0015105016660986092],\"yaxis\":\"y\",\"type\":\"bar\"},{\"alignmentgroup\":\"True\",\"hovertemplate\":\"c=<0<br>x=%{x}<br>y=%{y}<extra></extra>\",\"legendgroup\":\"<0\",\"marker\":{\"color\":\"red\",\"pattern\":{\"shape\":\"\"}},\"name\":\"<0\",\"offsetgroup\":\"<0\",\"orientation\":\"v\",\"showlegend\":true,\"textposition\":\"auto\",\"x\":[\"w1\",\"w4\"],\"xaxis\":\"x\",\"y\":[-2.099476204759164,-0.00019152903158704335],\"yaxis\":\"y\",\"type\":\"bar\"}],                        {\"template\":{\"data\":{\"histogram2dcontour\":[{\"type\":\"histogram2dcontour\",\"colorbar\":{\"outlinewidth\":0,\"ticks\":\"\"},\"colorscale\":[[0.0,\"#0d0887\"],[0.1111111111111111,\"#46039f\"],[0.2222222222222222,\"#7201a8\"],[0.3333333333333333,\"#9c179e\"],[0.4444444444444444,\"#bd3786\"],[0.5555555555555556,\"#d8576b\"],[0.6666666666666666,\"#ed7953\"],[0.7777777777777778,\"#fb9f3a\"],[0.8888888888888888,\"#fdca26\"],[1.0,\"#f0f921\"]]}],\"choropleth\":[{\"type\":\"choropleth\",\"colorbar\":{\"outlinewidth\":0,\"ticks\":\"\"}}],\"histogram2d\":[{\"type\":\"histogram2d\",\"colorbar\":{\"outlinewidth\":0,\"ticks\":\"\"},\"colorscale\":[[0.0,\"#0d0887\"],[0.1111111111111111,\"#46039f\"],[0.2222222222222222,\"#7201a8\"],[0.3333333333333333,\"#9c179e\"],[0.4444444444444444,\"#bd3786\"],[0.5555555555555556,\"#d8576b\"],[0.6666666666666666,\"#ed7953\"],[0.7777777777777778,\"#fb9f3a\"],[0.8888888888888888,\"#fdca26\"],[1.0,\"#f0f921\"]]}],\"heatmap\":[{\"type\":\"heatmap\",\"colorbar\":{\"outlinewidth\":0,\"ticks\":\"\"},\"colorscale\":[[0.0,\"#0d0887\"],[0.1111111111111111,\"#46039f\"],[0.2222222222222222,\"#7201a8\"],[0.3333333333333333,\"#9c179e\"],[0.4444444444444444,\"#bd3786\"],[0.5555555555555556,\"#d8576b\"],[0.6666666666666666,\"#ed7953\"],[0.7777777777777778,\"#fb9f3a\"],[0.8888888888888888,\"#fdca26\"],[1.0,\"#f0f921\"]]}],\"heatmapgl\":[{\"type\":\"heatmapgl\",\"colorbar\":{\"outlinewidth\":0,\"ticks\":\"\"},\"colorscale\":[[0.0,\"#0d0887\"],[0.1111111111111111,\"#46039f\"],[0.2222222222222222,\"#7201a8\"],[0.3333333333333333,\"#9c179e\"],[0.4444444444444444,\"#bd3786\"],[0.5555555555555556,\"#d8576b\"],[0.6666666666666666,\"#ed7953\"],[0.7777777777777778,\"#fb9f3a\"],[0.8888888888888888,\"#fdca26\"],[1.0,\"#f0f921\"]]}],\"contourcarpet\":[{\"type\":\"contourcarpet\",\"colorbar\":{\"outlinewidth\":0,\"ticks\":\"\"}}],\"contour\":[{\"type\":\"contour\",\"colorbar\":{\"outlinewidth\":0,\"ticks\":\"\"},\"colorscale\":[[0.0,\"#0d0887\"],[0.1111111111111111,\"#46039f\"],[0.2222222222222222,\"#7201a8\"],[0.3333333333333333,\"#9c179e\"],[0.4444444444444444,\"#bd3786\"],[0.5555555555555556,\"#d8576b\"],[0.6666666666666666,\"#ed7953\"],[0.7777777777777778,\"#fb9f3a\"],[0.8888888888888888,\"#fdca26\"],[1.0,\"#f0f921\"]]}],\"surface\":[{\"type\":\"surface\",\"colorbar\":{\"outlinewidth\":0,\"ticks\":\"\"},\"colorscale\":[[0.0,\"#0d0887\"],[0.1111111111111111,\"#46039f\"],[0.2222222222222222,\"#7201a8\"],[0.3333333333333333,\"#9c179e\"],[0.4444444444444444,\"#bd3786\"],[0.5555555555555556,\"#d8576b\"],[0.6666666666666666,\"#ed7953\"],[0.7777777777777778,\"#fb9f3a\"],[0.8888888888888888,\"#fdca26\"],[1.0,\"#f0f921\"]]}],\"mesh3d\":[{\"type\":\"mesh3d\",\"colorbar\":{\"outlinewidth\":0,\"ticks\":\"\"}}],\"scatter\":[{\"fillpattern\":{\"fillmode\":\"overlay\",\"size\":10,\"solidity\":0.2},\"type\":\"scatter\"}],\"parcoords\":[{\"type\":\"parcoords\",\"line\":{\"colorbar\":{\"outlinewidth\":0,\"ticks\":\"\"}}}],\"scatterpolargl\":[{\"type\":\"scatterpolargl\",\"marker\":{\"colorbar\":{\"outlinewidth\":0,\"ticks\":\"\"}}}],\"bar\":[{\"error_x\":{\"color\":\"#2a3f5f\"},\"error_y\":{\"color\":\"#2a3f5f\"},\"marker\":{\"line\":{\"color\":\"#E5ECF6\",\"width\":0.5},\"pattern\":{\"fillmode\":\"overlay\",\"size\":10,\"solidity\":0.2}},\"type\":\"bar\"}],\"scattergeo\":[{\"type\":\"scattergeo\",\"marker\":{\"colorbar\":{\"outlinewidth\":0,\"ticks\":\"\"}}}],\"scatterpolar\":[{\"type\":\"scatterpolar\",\"marker\":{\"colorbar\":{\"outlinewidth\":0,\"ticks\":\"\"}}}],\"histogram\":[{\"marker\":{\"pattern\":{\"fillmode\":\"overlay\",\"size\":10,\"solidity\":0.2}},\"type\":\"histogram\"}],\"scattergl\":[{\"type\":\"scattergl\",\"marker\":{\"colorbar\":{\"outlinewidth\":0,\"ticks\":\"\"}}}],\"scatter3d\":[{\"type\":\"scatter3d\",\"line\":{\"colorbar\":{\"outlinewidth\":0,\"ticks\":\"\"}},\"marker\":{\"colorbar\":{\"outlinewidth\":0,\"ticks\":\"\"}}}],\"scattermapbox\":[{\"type\":\"scattermapbox\",\"marker\":{\"colorbar\":{\"outlinewidth\":0,\"ticks\":\"\"}}}],\"scatterternary\":[{\"type\":\"scatterternary\",\"marker\":{\"colorbar\":{\"outlinewidth\":0,\"ticks\":\"\"}}}],\"scattercarpet\":[{\"type\":\"scattercarpet\",\"marker\":{\"colorbar\":{\"outlinewidth\":0,\"ticks\":\"\"}}}],\"carpet\":[{\"aaxis\":{\"endlinecolor\":\"#2a3f5f\",\"gridcolor\":\"white\",\"linecolor\":\"white\",\"minorgridcolor\":\"white\",\"startlinecolor\":\"#2a3f5f\"},\"baxis\":{\"endlinecolor\":\"#2a3f5f\",\"gridcolor\":\"white\",\"linecolor\":\"white\",\"minorgridcolor\":\"white\",\"startlinecolor\":\"#2a3f5f\"},\"type\":\"carpet\"}],\"table\":[{\"cells\":{\"fill\":{\"color\":\"#EBF0F8\"},\"line\":{\"color\":\"white\"}},\"header\":{\"fill\":{\"color\":\"#C8D4E3\"},\"line\":{\"color\":\"white\"}},\"type\":\"table\"}],\"barpolar\":[{\"marker\":{\"line\":{\"color\":\"#E5ECF6\",\"width\":0.5},\"pattern\":{\"fillmode\":\"overlay\",\"size\":10,\"solidity\":0.2}},\"type\":\"barpolar\"}],\"pie\":[{\"automargin\":true,\"type\":\"pie\"}]},\"layout\":{\"autotypenumbers\":\"strict\",\"colorway\":[\"#636efa\",\"#EF553B\",\"#00cc96\",\"#ab63fa\",\"#FFA15A\",\"#19d3f3\",\"#FF6692\",\"#B6E880\",\"#FF97FF\",\"#FECB52\"],\"font\":{\"color\":\"#2a3f5f\"},\"hovermode\":\"closest\",\"hoverlabel\":{\"align\":\"left\"},\"paper_bgcolor\":\"white\",\"plot_bgcolor\":\"#E5ECF6\",\"polar\":{\"bgcolor\":\"#E5ECF6\",\"angularaxis\":{\"gridcolor\":\"white\",\"linecolor\":\"white\",\"ticks\":\"\"},\"radialaxis\":{\"gridcolor\":\"white\",\"linecolor\":\"white\",\"ticks\":\"\"}},\"ternary\":{\"bgcolor\":\"#E5ECF6\",\"aaxis\":{\"gridcolor\":\"white\",\"linecolor\":\"white\",\"ticks\":\"\"},\"baxis\":{\"gridcolor\":\"white\",\"linecolor\":\"white\",\"ticks\":\"\"},\"caxis\":{\"gridcolor\":\"white\",\"linecolor\":\"white\",\"ticks\":\"\"}},\"coloraxis\":{\"colorbar\":{\"outlinewidth\":0,\"ticks\":\"\"}},\"colorscale\":{\"sequential\":[[0.0,\"#0d0887\"],[0.1111111111111111,\"#46039f\"],[0.2222222222222222,\"#7201a8\"],[0.3333333333333333,\"#9c179e\"],[0.4444444444444444,\"#bd3786\"],[0.5555555555555556,\"#d8576b\"],[0.6666666666666666,\"#ed7953\"],[0.7777777777777778,\"#fb9f3a\"],[0.8888888888888888,\"#fdca26\"],[1.0,\"#f0f921\"]],\"sequentialminus\":[[0.0,\"#0d0887\"],[0.1111111111111111,\"#46039f\"],[0.2222222222222222,\"#7201a8\"],[0.3333333333333333,\"#9c179e\"],[0.4444444444444444,\"#bd3786\"],[0.5555555555555556,\"#d8576b\"],[0.6666666666666666,\"#ed7953\"],[0.7777777777777778,\"#fb9f3a\"],[0.8888888888888888,\"#fdca26\"],[1.0,\"#f0f921\"]],\"diverging\":[[0,\"#8e0152\"],[0.1,\"#c51b7d\"],[0.2,\"#de77ae\"],[0.3,\"#f1b6da\"],[0.4,\"#fde0ef\"],[0.5,\"#f7f7f7\"],[0.6,\"#e6f5d0\"],[0.7,\"#b8e186\"],[0.8,\"#7fbc41\"],[0.9,\"#4d9221\"],[1,\"#276419\"]]},\"xaxis\":{\"gridcolor\":\"white\",\"linecolor\":\"white\",\"ticks\":\"\",\"title\":{\"standoff\":15},\"zerolinecolor\":\"white\",\"automargin\":true,\"zerolinewidth\":2},\"yaxis\":{\"gridcolor\":\"white\",\"linecolor\":\"white\",\"ticks\":\"\",\"title\":{\"standoff\":15},\"zerolinecolor\":\"white\",\"automargin\":true,\"zerolinewidth\":2},\"scene\":{\"xaxis\":{\"backgroundcolor\":\"#E5ECF6\",\"gridcolor\":\"white\",\"linecolor\":\"white\",\"showbackground\":true,\"ticks\":\"\",\"zerolinecolor\":\"white\",\"gridwidth\":2},\"yaxis\":{\"backgroundcolor\":\"#E5ECF6\",\"gridcolor\":\"white\",\"linecolor\":\"white\",\"showbackground\":true,\"ticks\":\"\",\"zerolinecolor\":\"white\",\"gridwidth\":2},\"zaxis\":{\"backgroundcolor\":\"#E5ECF6\",\"gridcolor\":\"white\",\"linecolor\":\"white\",\"showbackground\":true,\"ticks\":\"\",\"zerolinecolor\":\"white\",\"gridwidth\":2}},\"shapedefaults\":{\"line\":{\"color\":\"#2a3f5f\"}},\"annotationdefaults\":{\"arrowcolor\":\"#2a3f5f\",\"arrowhead\":0,\"arrowwidth\":1},\"geo\":{\"bgcolor\":\"white\",\"landcolor\":\"#E5ECF6\",\"subunitcolor\":\"white\",\"showland\":true,\"showlakes\":true,\"lakecolor\":\"white\"},\"title\":{\"x\":0.05},\"mapbox\":{\"style\":\"light\"}}},\"xaxis\":{\"anchor\":\"y\",\"domain\":[0.0,1.0],\"title\":{\"text\":\"x\"},\"categoryorder\":\"array\",\"categoryarray\":[\"w0\",\"w1\",\"w2\",\"w3\",\"w4\"]},\"yaxis\":{\"anchor\":\"x\",\"domain\":[0.0,1.0],\"title\":{\"text\":\"y\"}},\"legend\":{\"title\":{\"text\":\"c\"},\"tracegroupgap\":0},\"margin\":{\"t\":60},\"barmode\":\"relative\"},                        {\"responsive\": true}                    ).then(function(){\n",
              "                            \n",
              "var gd = document.getElementById('7766fc25-9382-4bbf-9659-b2390e406f66');\n",
              "var x = new MutationObserver(function (mutations, observer) {{\n",
              "        var display = window.getComputedStyle(gd).display;\n",
              "        if (!display || display === 'none') {{\n",
              "            console.log([gd, 'removed!']);\n",
              "            Plotly.purge(gd);\n",
              "            observer.disconnect();\n",
              "        }}\n",
              "}});\n",
              "\n",
              "// Listen for the removal of the full notebook cells\n",
              "var notebookContainer = gd.closest('#notebook-container');\n",
              "if (notebookContainer) {{\n",
              "    x.observe(notebookContainer, {childList: true});\n",
              "}}\n",
              "\n",
              "// Listen for the clearing of the current output cell\n",
              "var outputEl = gd.closest('.output');\n",
              "if (outputEl) {{\n",
              "    x.observe(outputEl, {childList: true});\n",
              "}}\n",
              "\n",
              "                        })                };                            </script>        </div>\n",
              "</body>\n",
              "</html>"
            ]
          },
          "metadata": {}
        }
      ]
    },
    {
      "cell_type": "markdown",
      "source": [
        "Как видно чуть выше, веса не нулевые  и отличаются от обычной регресии, чего мы и добивались"
      ],
      "metadata": {
        "id": "eSsMesJaaNdx"
      }
    },
    {
      "cell_type": "markdown",
      "source": [
        "### Lasso регуляризация"
      ],
      "metadata": {
        "id": "xx73wtYHbBVZ"
      }
    },
    {
      "cell_type": "code",
      "source": [
        "model_l_2 = Lasso().fit(X_train_2_, y_train_2)\n",
        "\n",
        "y_pred_l_2 = model_l_2.predict(X_test_2_)\n",
        "\n",
        "print(f'R2 score: {r2_score(y_test_2, y_pred_l_2)}')\n",
        "print(f'MAE: {mean_absolute_error(y_test_2, y_pred_l_2)}')\n",
        "print(f'MSE: {mean_squared_error(y_test_2, y_pred_l_2)}')"
      ],
      "metadata": {
        "colab": {
          "base_uri": "https://localhost:8080/"
        },
        "id": "xnhEMsUcbFPU",
        "outputId": "ab2424d5-d48e-4a1e-a005-b0c31dc1ded6"
      },
      "execution_count": null,
      "outputs": [
        {
          "output_type": "stream",
          "name": "stdout",
          "text": [
            "R2 score: 0.9891935700662424\n",
            "MAE: 2.269077473631924\n",
            "MSE: 7.086496745750383\n"
          ]
        }
      ]
    },
    {
      "cell_type": "markdown",
      "source": [
        "Хорошие результаты лучше чем у Ridge, посмотрим на график"
      ],
      "metadata": {
        "id": "8ZKpDH8HbMqm"
      }
    },
    {
      "cell_type": "code",
      "source": [
        "plot_test(X_train_2, X_test_2, y_train_2, y_test_2, y_pred_l_2)"
      ],
      "metadata": {
        "colab": {
          "base_uri": "https://localhost:8080/",
          "height": 542
        },
        "id": "ZvE9yHAme10i",
        "outputId": "38ade44f-673c-4f11-eeb8-52361a829317"
      },
      "execution_count": null,
      "outputs": [
        {
          "output_type": "display_data",
          "data": {
            "text/html": [
              "<html>\n",
              "<head><meta charset=\"utf-8\" /></head>\n",
              "<body>\n",
              "    <div>            <script src=\"https://cdnjs.cloudflare.com/ajax/libs/mathjax/2.7.5/MathJax.js?config=TeX-AMS-MML_SVG\"></script><script type=\"text/javascript\">if (window.MathJax && window.MathJax.Hub && window.MathJax.Hub.Config) {window.MathJax.Hub.Config({SVG: {font: \"STIX-Web\"}});}</script>                <script type=\"text/javascript\">window.PlotlyConfig = {MathJaxConfig: 'local'};</script>\n",
              "        <script src=\"https://cdn.plot.ly/plotly-2.16.1.min.js\"></script>                <div id=\"ae1b1e3e-d0eb-4c0b-88e1-062262b1dcf2\" class=\"plotly-graph-div\" style=\"height:525px; width:100%;\"></div>            <script type=\"text/javascript\">                                    window.PLOTLYENV=window.PLOTLYENV || {};                                    if (document.getElementById(\"ae1b1e3e-d0eb-4c0b-88e1-062262b1dcf2\")) {                    Plotly.newPlot(                        \"ae1b1e3e-d0eb-4c0b-88e1-062262b1dcf2\",                        [{\"hovertemplate\":\"train=%{x}<br>y_train=%{y}<extra></extra>\",\"legendgroup\":\"\",\"marker\":{\"color\":\"#636efa\",\"symbol\":\"circle\"},\"mode\":\"markers\",\"name\":\"train\",\"orientation\":\"v\",\"showlegend\":true,\"x\":[-0.7907493165967789,-1.9449631333641006,-0.9510045241645582,1.2559999535323123,-0.9194218885469083,3.118381630758107,-1.0602540823895188,0.7361834935469052,2.351642415044223,2.7438059921621787,2.145134199817726,3.102119984880248,2.7789854806754963,0.789198893314869,6.099433249184581,3.078158273057382,-0.3078864492205753,2.6553174791071035,-0.45002196948377904,-4.158512088167452,-2.5674572834524634,-2.420639609859407,-3.46126566997673,4.1439119011458265,-0.8847260396302703,2.4069772444222255,4.475722436654028,6.164748933712072,1.9567075703876011,3.4295218479151792,-0.14709257058613412,2.0903036139051734,-0.7124466841272117,3.010627143252151,0.7641789773305567,2.553556250456576,-6.205053984458042,7.8698109008288295,-1.9395996466838437,3.571363032502695,0.07282039957095754,0.6526989297626233,2.0697260676503175,4.805266424774928,7.856597267276079,2.043382171692937,4.161440558231339,-1.77159905177745,-2.5896198645487827,6.066202150987925,3.26810422694153,2.92895628323844,5.962216032921623,3.51624088291128,1.1915307111626299,-0.6095191153152766,2.386679557272263,2.170325051312616,2.901930991910251,1.5975567548409684,1.6349369360115453,-2.059532274410012,2.370143371151107,-2.3872423283058124,4.589932154050775,5.248379238913225,4.225131202868268,1.20942655712633,2.3356067397582847,4.874085054771335,0.8648101006211841,3.5408421381307873,-3.284921163118047,4.383455757608572,6.100689230786545,3.9761391077981916,4.617962724531196,0.5969939640695694,4.746213581192281,0.22453390271880114],\"xaxis\":\"x\",\"y\":[-8.665767214906303,-18.73003639646707,-2.6042844668672696,-0.8755280614544826,-7.531959514506516,-11.368790826350214,-7.084622439355119,-1.6315067255376714,-2.7439469059819466,1.478562069292451,-5.390870248878167,-6.390490092726722,-3.696283248182479,-1.4446460070945422,40.4391930414698,-3.2391838378074773,-6.287037780418608,-6.549668221856804,-7.431936741654939,-79.97766796198212,-28.486406628241188,-24.26756156810065,-55.0996778293265,0.753924554202106,-10.4775521898977,-0.199901786580293,6.575978361483285,47.6165585881611,-5.847595302794762,-3.9181194733192637,-1.0524863441398487,-2.7031547612420725,-4.233013081342238,-3.0804433385566377,-1.0867020102280458,-5.988564688423807,-208.4266236160998,124.97823487161467,-12.58623315049141,-6.716722526412858,-0.3493309204874182,0.37007509254319737,-3.8854195496749977,9.533158291146576,125.71141762850566,-6.232621283787205,-2.975364708496395,-13.657026587298546,-25.824908595510227,36.73977916105577,-5.346919966079138,-6.428907034121749,38.22288795563061,0.5911929684251715,-6.189354813215884,-4.082816645961647,-9.134811605238564,-4.55786702011793,-7.446672530226413,-1.8327806476568842,-11.532390520558447,-15.197209361045793,3.9816697108206816,-22.49925405131715,5.484179203264449,24.54109508719001,12.11257209465109,-5.313362449030627,-5.657121867108019,14.500570003151092,-3.2987967158157416,-2.051577564608963,-48.24902716140522,7.871425424910313,42.351499998600445,0.10294618402390832,8.301765564307136,-4.631953621218002,11.288665903574959,-2.0250649267015133],\"yaxis\":\"y\",\"type\":\"scatter\"},{\"hovertemplate\":\"X_test=%{x}<br>y_test=%{y}<extra></extra>\",\"legendgroup\":\"\",\"marker\":{\"color\":\"red\",\"symbol\":\"circle\"},\"mode\":\"markers\",\"name\":\"test\",\"orientation\":\"v\",\"showlegend\":true,\"x\":[-0.313509213678393,-1.2578909589883156,2.751661639364473,4.161475454335071,6.172525850893541,4.774409772029147,6.860326531499403,0.07236306203396392,2.3013333112125114,2.6465131318663087,3.2344204018301306,3.772590851486431,5.226065005810108,2.1953989813439994,-2.7247492126828625,-3.1510690744898664,5.539987241722153,3.835583627651478,-2.2963753059676844,5.732867940811712],\"xaxis\":\"x\",\"y\":[-5.675871318373987,-9.926186566151465,-7.690897508566971,2.449235434859233,46.17682951296979,5.5883202409969215,74.15482525590112,-3.9160805384679724,-2.3867760825238777,-2.5532757754061035,-6.660183516485531,1.0570932026653561,18.695314811366835,-5.082390813528248,-31.80006764332177,-42.66789914516155,31.274062715772292,-3.522713529910286,-16.05053841334029,31.547338584306335],\"yaxis\":\"y\",\"type\":\"scatter\"},{\"hovertemplate\":\"X_test=%{x}<br>y_pred=%{y}<extra></extra>\",\"legendgroup\":\"\",\"marker\":{\"color\":\"lime\",\"symbol\":\"circle\"},\"mode\":\"markers\",\"name\":\"predictions\",\"orientation\":\"v\",\"showlegend\":true,\"x\":[-0.313509213678393,-1.2578909589883156,2.751661639364473,4.161475454335071,6.172525850893541,4.774409772029147,6.860326531499403,0.07236306203396392,2.3013333112125114,2.6465131318663087,3.2344204018301306,3.772590851486431,5.226065005810108,2.1953989813439994,-2.7247492126828625,-3.1510690744898664,5.539987241722153,3.835583627651478,-2.2963753059676844,5.732867940811712],\"xaxis\":\"x\",\"y\":[-3.2216758630782576,-7.604508044736717,-5.559041369285747,2.586186384774883,45.79055602047734,11.038851759950226,72.39669317412253,-2.8541815712858574,-5.831343659974195,-5.696595509604974,-4.217808191924426,-1.0472360078414682,19.716738952854456,-5.788617276991758,-29.56999004284749,-40.65266612244783,27.117246442401207,-0.540935569327075,-20.770964399658943,32.260797635501824],\"yaxis\":\"y\",\"type\":\"scatter\"},{\"hovertemplate\":\"<b>LOWESS trendline</b><br><br>X_test=%{x}<br>y_pred=%{y} <b>(trend)</b><extra></extra>\",\"legendgroup\":\"\",\"marker\":{\"color\":\"lime\",\"symbol\":\"circle\"},\"mode\":\"lines\",\"name\":\"\",\"showlegend\":true,\"x\":[-3.1510690744898664,-2.7247492126828625,-2.2963753059676844,-1.2578909589883156,-0.313509213678393,0.07236306203396392,2.1953989813439994,2.3013333112125114,2.6465131318663087,2.751661639364473,3.2344204018301306,3.772590851486431,3.835583627651478,4.161475454335071,4.774409772029147,5.226065005810108,5.539987241722153,5.732867940811712,6.172525850893541,6.860326531499403],\"xaxis\":\"x\",\"y\":[-40.65266612244783,-29.56999004284749,-20.770964399658943,-7.604508044736717,-3.2216758630782576,-2.8541815712858574,-5.788617276991758,-5.831343659974195,-5.696595509604974,-5.559041369285747,-4.217808191924426,-1.0472360078414682,-0.540935569327075,2.586186384774883,11.038851759950226,19.716738952854456,27.117246442401207,32.260797635501824,45.79055602047734,72.39669317412253],\"yaxis\":\"y\",\"type\":\"scatter\"}],                        {\"template\":{\"data\":{\"histogram2dcontour\":[{\"type\":\"histogram2dcontour\",\"colorbar\":{\"outlinewidth\":0,\"ticks\":\"\"},\"colorscale\":[[0.0,\"#0d0887\"],[0.1111111111111111,\"#46039f\"],[0.2222222222222222,\"#7201a8\"],[0.3333333333333333,\"#9c179e\"],[0.4444444444444444,\"#bd3786\"],[0.5555555555555556,\"#d8576b\"],[0.6666666666666666,\"#ed7953\"],[0.7777777777777778,\"#fb9f3a\"],[0.8888888888888888,\"#fdca26\"],[1.0,\"#f0f921\"]]}],\"choropleth\":[{\"type\":\"choropleth\",\"colorbar\":{\"outlinewidth\":0,\"ticks\":\"\"}}],\"histogram2d\":[{\"type\":\"histogram2d\",\"colorbar\":{\"outlinewidth\":0,\"ticks\":\"\"},\"colorscale\":[[0.0,\"#0d0887\"],[0.1111111111111111,\"#46039f\"],[0.2222222222222222,\"#7201a8\"],[0.3333333333333333,\"#9c179e\"],[0.4444444444444444,\"#bd3786\"],[0.5555555555555556,\"#d8576b\"],[0.6666666666666666,\"#ed7953\"],[0.7777777777777778,\"#fb9f3a\"],[0.8888888888888888,\"#fdca26\"],[1.0,\"#f0f921\"]]}],\"heatmap\":[{\"type\":\"heatmap\",\"colorbar\":{\"outlinewidth\":0,\"ticks\":\"\"},\"colorscale\":[[0.0,\"#0d0887\"],[0.1111111111111111,\"#46039f\"],[0.2222222222222222,\"#7201a8\"],[0.3333333333333333,\"#9c179e\"],[0.4444444444444444,\"#bd3786\"],[0.5555555555555556,\"#d8576b\"],[0.6666666666666666,\"#ed7953\"],[0.7777777777777778,\"#fb9f3a\"],[0.8888888888888888,\"#fdca26\"],[1.0,\"#f0f921\"]]}],\"heatmapgl\":[{\"type\":\"heatmapgl\",\"colorbar\":{\"outlinewidth\":0,\"ticks\":\"\"},\"colorscale\":[[0.0,\"#0d0887\"],[0.1111111111111111,\"#46039f\"],[0.2222222222222222,\"#7201a8\"],[0.3333333333333333,\"#9c179e\"],[0.4444444444444444,\"#bd3786\"],[0.5555555555555556,\"#d8576b\"],[0.6666666666666666,\"#ed7953\"],[0.7777777777777778,\"#fb9f3a\"],[0.8888888888888888,\"#fdca26\"],[1.0,\"#f0f921\"]]}],\"contourcarpet\":[{\"type\":\"contourcarpet\",\"colorbar\":{\"outlinewidth\":0,\"ticks\":\"\"}}],\"contour\":[{\"type\":\"contour\",\"colorbar\":{\"outlinewidth\":0,\"ticks\":\"\"},\"colorscale\":[[0.0,\"#0d0887\"],[0.1111111111111111,\"#46039f\"],[0.2222222222222222,\"#7201a8\"],[0.3333333333333333,\"#9c179e\"],[0.4444444444444444,\"#bd3786\"],[0.5555555555555556,\"#d8576b\"],[0.6666666666666666,\"#ed7953\"],[0.7777777777777778,\"#fb9f3a\"],[0.8888888888888888,\"#fdca26\"],[1.0,\"#f0f921\"]]}],\"surface\":[{\"type\":\"surface\",\"colorbar\":{\"outlinewidth\":0,\"ticks\":\"\"},\"colorscale\":[[0.0,\"#0d0887\"],[0.1111111111111111,\"#46039f\"],[0.2222222222222222,\"#7201a8\"],[0.3333333333333333,\"#9c179e\"],[0.4444444444444444,\"#bd3786\"],[0.5555555555555556,\"#d8576b\"],[0.6666666666666666,\"#ed7953\"],[0.7777777777777778,\"#fb9f3a\"],[0.8888888888888888,\"#fdca26\"],[1.0,\"#f0f921\"]]}],\"mesh3d\":[{\"type\":\"mesh3d\",\"colorbar\":{\"outlinewidth\":0,\"ticks\":\"\"}}],\"scatter\":[{\"fillpattern\":{\"fillmode\":\"overlay\",\"size\":10,\"solidity\":0.2},\"type\":\"scatter\"}],\"parcoords\":[{\"type\":\"parcoords\",\"line\":{\"colorbar\":{\"outlinewidth\":0,\"ticks\":\"\"}}}],\"scatterpolargl\":[{\"type\":\"scatterpolargl\",\"marker\":{\"colorbar\":{\"outlinewidth\":0,\"ticks\":\"\"}}}],\"bar\":[{\"error_x\":{\"color\":\"#2a3f5f\"},\"error_y\":{\"color\":\"#2a3f5f\"},\"marker\":{\"line\":{\"color\":\"#E5ECF6\",\"width\":0.5},\"pattern\":{\"fillmode\":\"overlay\",\"size\":10,\"solidity\":0.2}},\"type\":\"bar\"}],\"scattergeo\":[{\"type\":\"scattergeo\",\"marker\":{\"colorbar\":{\"outlinewidth\":0,\"ticks\":\"\"}}}],\"scatterpolar\":[{\"type\":\"scatterpolar\",\"marker\":{\"colorbar\":{\"outlinewidth\":0,\"ticks\":\"\"}}}],\"histogram\":[{\"marker\":{\"pattern\":{\"fillmode\":\"overlay\",\"size\":10,\"solidity\":0.2}},\"type\":\"histogram\"}],\"scattergl\":[{\"type\":\"scattergl\",\"marker\":{\"colorbar\":{\"outlinewidth\":0,\"ticks\":\"\"}}}],\"scatter3d\":[{\"type\":\"scatter3d\",\"line\":{\"colorbar\":{\"outlinewidth\":0,\"ticks\":\"\"}},\"marker\":{\"colorbar\":{\"outlinewidth\":0,\"ticks\":\"\"}}}],\"scattermapbox\":[{\"type\":\"scattermapbox\",\"marker\":{\"colorbar\":{\"outlinewidth\":0,\"ticks\":\"\"}}}],\"scatterternary\":[{\"type\":\"scatterternary\",\"marker\":{\"colorbar\":{\"outlinewidth\":0,\"ticks\":\"\"}}}],\"scattercarpet\":[{\"type\":\"scattercarpet\",\"marker\":{\"colorbar\":{\"outlinewidth\":0,\"ticks\":\"\"}}}],\"carpet\":[{\"aaxis\":{\"endlinecolor\":\"#2a3f5f\",\"gridcolor\":\"white\",\"linecolor\":\"white\",\"minorgridcolor\":\"white\",\"startlinecolor\":\"#2a3f5f\"},\"baxis\":{\"endlinecolor\":\"#2a3f5f\",\"gridcolor\":\"white\",\"linecolor\":\"white\",\"minorgridcolor\":\"white\",\"startlinecolor\":\"#2a3f5f\"},\"type\":\"carpet\"}],\"table\":[{\"cells\":{\"fill\":{\"color\":\"#EBF0F8\"},\"line\":{\"color\":\"white\"}},\"header\":{\"fill\":{\"color\":\"#C8D4E3\"},\"line\":{\"color\":\"white\"}},\"type\":\"table\"}],\"barpolar\":[{\"marker\":{\"line\":{\"color\":\"#E5ECF6\",\"width\":0.5},\"pattern\":{\"fillmode\":\"overlay\",\"size\":10,\"solidity\":0.2}},\"type\":\"barpolar\"}],\"pie\":[{\"automargin\":true,\"type\":\"pie\"}]},\"layout\":{\"autotypenumbers\":\"strict\",\"colorway\":[\"#636efa\",\"#EF553B\",\"#00cc96\",\"#ab63fa\",\"#FFA15A\",\"#19d3f3\",\"#FF6692\",\"#B6E880\",\"#FF97FF\",\"#FECB52\"],\"font\":{\"color\":\"#2a3f5f\"},\"hovermode\":\"closest\",\"hoverlabel\":{\"align\":\"left\"},\"paper_bgcolor\":\"white\",\"plot_bgcolor\":\"#E5ECF6\",\"polar\":{\"bgcolor\":\"#E5ECF6\",\"angularaxis\":{\"gridcolor\":\"white\",\"linecolor\":\"white\",\"ticks\":\"\"},\"radialaxis\":{\"gridcolor\":\"white\",\"linecolor\":\"white\",\"ticks\":\"\"}},\"ternary\":{\"bgcolor\":\"#E5ECF6\",\"aaxis\":{\"gridcolor\":\"white\",\"linecolor\":\"white\",\"ticks\":\"\"},\"baxis\":{\"gridcolor\":\"white\",\"linecolor\":\"white\",\"ticks\":\"\"},\"caxis\":{\"gridcolor\":\"white\",\"linecolor\":\"white\",\"ticks\":\"\"}},\"coloraxis\":{\"colorbar\":{\"outlinewidth\":0,\"ticks\":\"\"}},\"colorscale\":{\"sequential\":[[0.0,\"#0d0887\"],[0.1111111111111111,\"#46039f\"],[0.2222222222222222,\"#7201a8\"],[0.3333333333333333,\"#9c179e\"],[0.4444444444444444,\"#bd3786\"],[0.5555555555555556,\"#d8576b\"],[0.6666666666666666,\"#ed7953\"],[0.7777777777777778,\"#fb9f3a\"],[0.8888888888888888,\"#fdca26\"],[1.0,\"#f0f921\"]],\"sequentialminus\":[[0.0,\"#0d0887\"],[0.1111111111111111,\"#46039f\"],[0.2222222222222222,\"#7201a8\"],[0.3333333333333333,\"#9c179e\"],[0.4444444444444444,\"#bd3786\"],[0.5555555555555556,\"#d8576b\"],[0.6666666666666666,\"#ed7953\"],[0.7777777777777778,\"#fb9f3a\"],[0.8888888888888888,\"#fdca26\"],[1.0,\"#f0f921\"]],\"diverging\":[[0,\"#8e0152\"],[0.1,\"#c51b7d\"],[0.2,\"#de77ae\"],[0.3,\"#f1b6da\"],[0.4,\"#fde0ef\"],[0.5,\"#f7f7f7\"],[0.6,\"#e6f5d0\"],[0.7,\"#b8e186\"],[0.8,\"#7fbc41\"],[0.9,\"#4d9221\"],[1,\"#276419\"]]},\"xaxis\":{\"gridcolor\":\"white\",\"linecolor\":\"white\",\"ticks\":\"\",\"title\":{\"standoff\":15},\"zerolinecolor\":\"white\",\"automargin\":true,\"zerolinewidth\":2},\"yaxis\":{\"gridcolor\":\"white\",\"linecolor\":\"white\",\"ticks\":\"\",\"title\":{\"standoff\":15},\"zerolinecolor\":\"white\",\"automargin\":true,\"zerolinewidth\":2},\"scene\":{\"xaxis\":{\"backgroundcolor\":\"#E5ECF6\",\"gridcolor\":\"white\",\"linecolor\":\"white\",\"showbackground\":true,\"ticks\":\"\",\"zerolinecolor\":\"white\",\"gridwidth\":2},\"yaxis\":{\"backgroundcolor\":\"#E5ECF6\",\"gridcolor\":\"white\",\"linecolor\":\"white\",\"showbackground\":true,\"ticks\":\"\",\"zerolinecolor\":\"white\",\"gridwidth\":2},\"zaxis\":{\"backgroundcolor\":\"#E5ECF6\",\"gridcolor\":\"white\",\"linecolor\":\"white\",\"showbackground\":true,\"ticks\":\"\",\"zerolinecolor\":\"white\",\"gridwidth\":2}},\"shapedefaults\":{\"line\":{\"color\":\"#2a3f5f\"}},\"annotationdefaults\":{\"arrowcolor\":\"#2a3f5f\",\"arrowhead\":0,\"arrowwidth\":1},\"geo\":{\"bgcolor\":\"white\",\"landcolor\":\"#E5ECF6\",\"subunitcolor\":\"white\",\"showland\":true,\"showlakes\":true,\"lakecolor\":\"white\"},\"title\":{\"x\":0.05},\"mapbox\":{\"style\":\"light\"}}}},                        {\"responsive\": true}                    ).then(function(){\n",
              "                            \n",
              "var gd = document.getElementById('ae1b1e3e-d0eb-4c0b-88e1-062262b1dcf2');\n",
              "var x = new MutationObserver(function (mutations, observer) {{\n",
              "        var display = window.getComputedStyle(gd).display;\n",
              "        if (!display || display === 'none') {{\n",
              "            console.log([gd, 'removed!']);\n",
              "            Plotly.purge(gd);\n",
              "            observer.disconnect();\n",
              "        }}\n",
              "}});\n",
              "\n",
              "// Listen for the removal of the full notebook cells\n",
              "var notebookContainer = gd.closest('#notebook-container');\n",
              "if (notebookContainer) {{\n",
              "    x.observe(notebookContainer, {childList: true});\n",
              "}}\n",
              "\n",
              "// Listen for the clearing of the current output cell\n",
              "var outputEl = gd.closest('.output');\n",
              "if (outputEl) {{\n",
              "    x.observe(outputEl, {childList: true});\n",
              "}}\n",
              "\n",
              "                        })                };                            </script>        </div>\n",
              "</body>\n",
              "</html>"
            ]
          },
          "metadata": {}
        }
      ]
    },
    {
      "cell_type": "markdown",
      "source": [
        "Также видим практически точное попадание в тестовые точки"
      ],
      "metadata": {
        "id": "1_zReaNZffoy"
      }
    },
    {
      "cell_type": "code",
      "source": [
        "model_l_2.coef_"
      ],
      "metadata": {
        "colab": {
          "base_uri": "https://localhost:8080/"
        },
        "id": "_5cfYC1uf_cF",
        "outputId": "606d98e9-e2d7-4593-f626-41a5e24c8ef6"
      },
      "execution_count": null,
      "outputs": [
        {
          "output_type": "execute_result",
          "data": {
            "text/plain": [
              "array([ 4.34815620e-01, -1.96644714e+00,  5.35743794e-01, -1.98701240e-03,\n",
              "       -2.46033150e-04])"
            ]
          },
          "metadata": {},
          "execution_count": 143
        }
      ]
    },
    {
      "cell_type": "code",
      "source": [
        "plot_weights(model_l_2.coef_)"
      ],
      "metadata": {
        "colab": {
          "base_uri": "https://localhost:8080/",
          "height": 542
        },
        "id": "oBJfkynXflfc",
        "outputId": "2b7474bc-9e6f-4826-dd43-92c0e199f93f"
      },
      "execution_count": null,
      "outputs": [
        {
          "output_type": "display_data",
          "data": {
            "text/html": [
              "<html>\n",
              "<head><meta charset=\"utf-8\" /></head>\n",
              "<body>\n",
              "    <div>            <script src=\"https://cdnjs.cloudflare.com/ajax/libs/mathjax/2.7.5/MathJax.js?config=TeX-AMS-MML_SVG\"></script><script type=\"text/javascript\">if (window.MathJax && window.MathJax.Hub && window.MathJax.Hub.Config) {window.MathJax.Hub.Config({SVG: {font: \"STIX-Web\"}});}</script>                <script type=\"text/javascript\">window.PlotlyConfig = {MathJaxConfig: 'local'};</script>\n",
              "        <script src=\"https://cdn.plot.ly/plotly-2.16.1.min.js\"></script>                <div id=\"9e7d9116-ed50-41b3-814a-68044dfbf082\" class=\"plotly-graph-div\" style=\"height:525px; width:100%;\"></div>            <script type=\"text/javascript\">                                    window.PLOTLYENV=window.PLOTLYENV || {};                                    if (document.getElementById(\"9e7d9116-ed50-41b3-814a-68044dfbf082\")) {                    Plotly.newPlot(                        \"9e7d9116-ed50-41b3-814a-68044dfbf082\",                        [{\"alignmentgroup\":\"True\",\"hovertemplate\":\"c=>=0<br>x=%{x}<br>y=%{y}<extra></extra>\",\"legendgroup\":\">=0\",\"marker\":{\"color\":\"blue\",\"pattern\":{\"shape\":\"\"}},\"name\":\">=0\",\"offsetgroup\":\">=0\",\"orientation\":\"v\",\"showlegend\":true,\"textposition\":\"auto\",\"x\":[\"w0\",\"w2\"],\"xaxis\":\"x\",\"y\":[0.4348156200249819,0.5357437937315995],\"yaxis\":\"y\",\"type\":\"bar\"},{\"alignmentgroup\":\"True\",\"hovertemplate\":\"c=<0<br>x=%{x}<br>y=%{y}<extra></extra>\",\"legendgroup\":\"<0\",\"marker\":{\"color\":\"red\",\"pattern\":{\"shape\":\"\"}},\"name\":\"<0\",\"offsetgroup\":\"<0\",\"orientation\":\"v\",\"showlegend\":true,\"textposition\":\"auto\",\"x\":[\"w1\",\"w3\",\"w4\"],\"xaxis\":\"x\",\"y\":[-1.9664471353112951,-0.0019870124022583514,-0.0002460331500280399],\"yaxis\":\"y\",\"type\":\"bar\"}],                        {\"template\":{\"data\":{\"histogram2dcontour\":[{\"type\":\"histogram2dcontour\",\"colorbar\":{\"outlinewidth\":0,\"ticks\":\"\"},\"colorscale\":[[0.0,\"#0d0887\"],[0.1111111111111111,\"#46039f\"],[0.2222222222222222,\"#7201a8\"],[0.3333333333333333,\"#9c179e\"],[0.4444444444444444,\"#bd3786\"],[0.5555555555555556,\"#d8576b\"],[0.6666666666666666,\"#ed7953\"],[0.7777777777777778,\"#fb9f3a\"],[0.8888888888888888,\"#fdca26\"],[1.0,\"#f0f921\"]]}],\"choropleth\":[{\"type\":\"choropleth\",\"colorbar\":{\"outlinewidth\":0,\"ticks\":\"\"}}],\"histogram2d\":[{\"type\":\"histogram2d\",\"colorbar\":{\"outlinewidth\":0,\"ticks\":\"\"},\"colorscale\":[[0.0,\"#0d0887\"],[0.1111111111111111,\"#46039f\"],[0.2222222222222222,\"#7201a8\"],[0.3333333333333333,\"#9c179e\"],[0.4444444444444444,\"#bd3786\"],[0.5555555555555556,\"#d8576b\"],[0.6666666666666666,\"#ed7953\"],[0.7777777777777778,\"#fb9f3a\"],[0.8888888888888888,\"#fdca26\"],[1.0,\"#f0f921\"]]}],\"heatmap\":[{\"type\":\"heatmap\",\"colorbar\":{\"outlinewidth\":0,\"ticks\":\"\"},\"colorscale\":[[0.0,\"#0d0887\"],[0.1111111111111111,\"#46039f\"],[0.2222222222222222,\"#7201a8\"],[0.3333333333333333,\"#9c179e\"],[0.4444444444444444,\"#bd3786\"],[0.5555555555555556,\"#d8576b\"],[0.6666666666666666,\"#ed7953\"],[0.7777777777777778,\"#fb9f3a\"],[0.8888888888888888,\"#fdca26\"],[1.0,\"#f0f921\"]]}],\"heatmapgl\":[{\"type\":\"heatmapgl\",\"colorbar\":{\"outlinewidth\":0,\"ticks\":\"\"},\"colorscale\":[[0.0,\"#0d0887\"],[0.1111111111111111,\"#46039f\"],[0.2222222222222222,\"#7201a8\"],[0.3333333333333333,\"#9c179e\"],[0.4444444444444444,\"#bd3786\"],[0.5555555555555556,\"#d8576b\"],[0.6666666666666666,\"#ed7953\"],[0.7777777777777778,\"#fb9f3a\"],[0.8888888888888888,\"#fdca26\"],[1.0,\"#f0f921\"]]}],\"contourcarpet\":[{\"type\":\"contourcarpet\",\"colorbar\":{\"outlinewidth\":0,\"ticks\":\"\"}}],\"contour\":[{\"type\":\"contour\",\"colorbar\":{\"outlinewidth\":0,\"ticks\":\"\"},\"colorscale\":[[0.0,\"#0d0887\"],[0.1111111111111111,\"#46039f\"],[0.2222222222222222,\"#7201a8\"],[0.3333333333333333,\"#9c179e\"],[0.4444444444444444,\"#bd3786\"],[0.5555555555555556,\"#d8576b\"],[0.6666666666666666,\"#ed7953\"],[0.7777777777777778,\"#fb9f3a\"],[0.8888888888888888,\"#fdca26\"],[1.0,\"#f0f921\"]]}],\"surface\":[{\"type\":\"surface\",\"colorbar\":{\"outlinewidth\":0,\"ticks\":\"\"},\"colorscale\":[[0.0,\"#0d0887\"],[0.1111111111111111,\"#46039f\"],[0.2222222222222222,\"#7201a8\"],[0.3333333333333333,\"#9c179e\"],[0.4444444444444444,\"#bd3786\"],[0.5555555555555556,\"#d8576b\"],[0.6666666666666666,\"#ed7953\"],[0.7777777777777778,\"#fb9f3a\"],[0.8888888888888888,\"#fdca26\"],[1.0,\"#f0f921\"]]}],\"mesh3d\":[{\"type\":\"mesh3d\",\"colorbar\":{\"outlinewidth\":0,\"ticks\":\"\"}}],\"scatter\":[{\"fillpattern\":{\"fillmode\":\"overlay\",\"size\":10,\"solidity\":0.2},\"type\":\"scatter\"}],\"parcoords\":[{\"type\":\"parcoords\",\"line\":{\"colorbar\":{\"outlinewidth\":0,\"ticks\":\"\"}}}],\"scatterpolargl\":[{\"type\":\"scatterpolargl\",\"marker\":{\"colorbar\":{\"outlinewidth\":0,\"ticks\":\"\"}}}],\"bar\":[{\"error_x\":{\"color\":\"#2a3f5f\"},\"error_y\":{\"color\":\"#2a3f5f\"},\"marker\":{\"line\":{\"color\":\"#E5ECF6\",\"width\":0.5},\"pattern\":{\"fillmode\":\"overlay\",\"size\":10,\"solidity\":0.2}},\"type\":\"bar\"}],\"scattergeo\":[{\"type\":\"scattergeo\",\"marker\":{\"colorbar\":{\"outlinewidth\":0,\"ticks\":\"\"}}}],\"scatterpolar\":[{\"type\":\"scatterpolar\",\"marker\":{\"colorbar\":{\"outlinewidth\":0,\"ticks\":\"\"}}}],\"histogram\":[{\"marker\":{\"pattern\":{\"fillmode\":\"overlay\",\"size\":10,\"solidity\":0.2}},\"type\":\"histogram\"}],\"scattergl\":[{\"type\":\"scattergl\",\"marker\":{\"colorbar\":{\"outlinewidth\":0,\"ticks\":\"\"}}}],\"scatter3d\":[{\"type\":\"scatter3d\",\"line\":{\"colorbar\":{\"outlinewidth\":0,\"ticks\":\"\"}},\"marker\":{\"colorbar\":{\"outlinewidth\":0,\"ticks\":\"\"}}}],\"scattermapbox\":[{\"type\":\"scattermapbox\",\"marker\":{\"colorbar\":{\"outlinewidth\":0,\"ticks\":\"\"}}}],\"scatterternary\":[{\"type\":\"scatterternary\",\"marker\":{\"colorbar\":{\"outlinewidth\":0,\"ticks\":\"\"}}}],\"scattercarpet\":[{\"type\":\"scattercarpet\",\"marker\":{\"colorbar\":{\"outlinewidth\":0,\"ticks\":\"\"}}}],\"carpet\":[{\"aaxis\":{\"endlinecolor\":\"#2a3f5f\",\"gridcolor\":\"white\",\"linecolor\":\"white\",\"minorgridcolor\":\"white\",\"startlinecolor\":\"#2a3f5f\"},\"baxis\":{\"endlinecolor\":\"#2a3f5f\",\"gridcolor\":\"white\",\"linecolor\":\"white\",\"minorgridcolor\":\"white\",\"startlinecolor\":\"#2a3f5f\"},\"type\":\"carpet\"}],\"table\":[{\"cells\":{\"fill\":{\"color\":\"#EBF0F8\"},\"line\":{\"color\":\"white\"}},\"header\":{\"fill\":{\"color\":\"#C8D4E3\"},\"line\":{\"color\":\"white\"}},\"type\":\"table\"}],\"barpolar\":[{\"marker\":{\"line\":{\"color\":\"#E5ECF6\",\"width\":0.5},\"pattern\":{\"fillmode\":\"overlay\",\"size\":10,\"solidity\":0.2}},\"type\":\"barpolar\"}],\"pie\":[{\"automargin\":true,\"type\":\"pie\"}]},\"layout\":{\"autotypenumbers\":\"strict\",\"colorway\":[\"#636efa\",\"#EF553B\",\"#00cc96\",\"#ab63fa\",\"#FFA15A\",\"#19d3f3\",\"#FF6692\",\"#B6E880\",\"#FF97FF\",\"#FECB52\"],\"font\":{\"color\":\"#2a3f5f\"},\"hovermode\":\"closest\",\"hoverlabel\":{\"align\":\"left\"},\"paper_bgcolor\":\"white\",\"plot_bgcolor\":\"#E5ECF6\",\"polar\":{\"bgcolor\":\"#E5ECF6\",\"angularaxis\":{\"gridcolor\":\"white\",\"linecolor\":\"white\",\"ticks\":\"\"},\"radialaxis\":{\"gridcolor\":\"white\",\"linecolor\":\"white\",\"ticks\":\"\"}},\"ternary\":{\"bgcolor\":\"#E5ECF6\",\"aaxis\":{\"gridcolor\":\"white\",\"linecolor\":\"white\",\"ticks\":\"\"},\"baxis\":{\"gridcolor\":\"white\",\"linecolor\":\"white\",\"ticks\":\"\"},\"caxis\":{\"gridcolor\":\"white\",\"linecolor\":\"white\",\"ticks\":\"\"}},\"coloraxis\":{\"colorbar\":{\"outlinewidth\":0,\"ticks\":\"\"}},\"colorscale\":{\"sequential\":[[0.0,\"#0d0887\"],[0.1111111111111111,\"#46039f\"],[0.2222222222222222,\"#7201a8\"],[0.3333333333333333,\"#9c179e\"],[0.4444444444444444,\"#bd3786\"],[0.5555555555555556,\"#d8576b\"],[0.6666666666666666,\"#ed7953\"],[0.7777777777777778,\"#fb9f3a\"],[0.8888888888888888,\"#fdca26\"],[1.0,\"#f0f921\"]],\"sequentialminus\":[[0.0,\"#0d0887\"],[0.1111111111111111,\"#46039f\"],[0.2222222222222222,\"#7201a8\"],[0.3333333333333333,\"#9c179e\"],[0.4444444444444444,\"#bd3786\"],[0.5555555555555556,\"#d8576b\"],[0.6666666666666666,\"#ed7953\"],[0.7777777777777778,\"#fb9f3a\"],[0.8888888888888888,\"#fdca26\"],[1.0,\"#f0f921\"]],\"diverging\":[[0,\"#8e0152\"],[0.1,\"#c51b7d\"],[0.2,\"#de77ae\"],[0.3,\"#f1b6da\"],[0.4,\"#fde0ef\"],[0.5,\"#f7f7f7\"],[0.6,\"#e6f5d0\"],[0.7,\"#b8e186\"],[0.8,\"#7fbc41\"],[0.9,\"#4d9221\"],[1,\"#276419\"]]},\"xaxis\":{\"gridcolor\":\"white\",\"linecolor\":\"white\",\"ticks\":\"\",\"title\":{\"standoff\":15},\"zerolinecolor\":\"white\",\"automargin\":true,\"zerolinewidth\":2},\"yaxis\":{\"gridcolor\":\"white\",\"linecolor\":\"white\",\"ticks\":\"\",\"title\":{\"standoff\":15},\"zerolinecolor\":\"white\",\"automargin\":true,\"zerolinewidth\":2},\"scene\":{\"xaxis\":{\"backgroundcolor\":\"#E5ECF6\",\"gridcolor\":\"white\",\"linecolor\":\"white\",\"showbackground\":true,\"ticks\":\"\",\"zerolinecolor\":\"white\",\"gridwidth\":2},\"yaxis\":{\"backgroundcolor\":\"#E5ECF6\",\"gridcolor\":\"white\",\"linecolor\":\"white\",\"showbackground\":true,\"ticks\":\"\",\"zerolinecolor\":\"white\",\"gridwidth\":2},\"zaxis\":{\"backgroundcolor\":\"#E5ECF6\",\"gridcolor\":\"white\",\"linecolor\":\"white\",\"showbackground\":true,\"ticks\":\"\",\"zerolinecolor\":\"white\",\"gridwidth\":2}},\"shapedefaults\":{\"line\":{\"color\":\"#2a3f5f\"}},\"annotationdefaults\":{\"arrowcolor\":\"#2a3f5f\",\"arrowhead\":0,\"arrowwidth\":1},\"geo\":{\"bgcolor\":\"white\",\"landcolor\":\"#E5ECF6\",\"subunitcolor\":\"white\",\"showland\":true,\"showlakes\":true,\"lakecolor\":\"white\"},\"title\":{\"x\":0.05},\"mapbox\":{\"style\":\"light\"}}},\"xaxis\":{\"anchor\":\"y\",\"domain\":[0.0,1.0],\"title\":{\"text\":\"x\"},\"categoryorder\":\"array\",\"categoryarray\":[\"w0\",\"w1\",\"w2\",\"w3\",\"w4\"]},\"yaxis\":{\"anchor\":\"x\",\"domain\":[0.0,1.0],\"title\":{\"text\":\"y\"}},\"legend\":{\"title\":{\"text\":\"c\"},\"tracegroupgap\":0},\"margin\":{\"t\":60},\"barmode\":\"relative\"},                        {\"responsive\": true}                    ).then(function(){\n",
              "                            \n",
              "var gd = document.getElementById('9e7d9116-ed50-41b3-814a-68044dfbf082');\n",
              "var x = new MutationObserver(function (mutations, observer) {{\n",
              "        var display = window.getComputedStyle(gd).display;\n",
              "        if (!display || display === 'none') {{\n",
              "            console.log([gd, 'removed!']);\n",
              "            Plotly.purge(gd);\n",
              "            observer.disconnect();\n",
              "        }}\n",
              "}});\n",
              "\n",
              "// Listen for the removal of the full notebook cells\n",
              "var notebookContainer = gd.closest('#notebook-container');\n",
              "if (notebookContainer) {{\n",
              "    x.observe(notebookContainer, {childList: true});\n",
              "}}\n",
              "\n",
              "// Listen for the clearing of the current output cell\n",
              "var outputEl = gd.closest('.output');\n",
              "if (outputEl) {{\n",
              "    x.observe(outputEl, {childList: true});\n",
              "}}\n",
              "\n",
              "                        })                };                            </script>        </div>\n",
              "</body>\n",
              "</html>"
            ]
          },
          "metadata": {}
        }
      ]
    },
    {
      "cell_type": "markdown",
      "source": [
        "Для таких данных на уровне сжатия 1 не должно быть ухода какого-нибудь веса в 0, так что тут всё логично"
      ],
      "metadata": {
        "id": "DP8sip9ogLBs"
      }
    },
    {
      "cell_type": "markdown",
      "source": [
        "## 3 датасет"
      ],
      "metadata": {
        "id": "fSJhKn_SgX8J"
      }
    },
    {
      "cell_type": "markdown",
      "source": [
        "### Линейная регрессия"
      ],
      "metadata": {
        "id": "lKcUHZ_FgaDG"
      }
    },
    {
      "cell_type": "code",
      "source": [
        "model_lr_3 = LinearRegression().fit(X_train_3, y_train_3)\n",
        "\n",
        "y_pred_lr_3 = model_lr_3.predict(X_test_3)\n",
        "\n",
        "print(f'R2 score: {r2_score(y_test_3, y_pred_lr_3)}')\n",
        "print(f'MAE: {mean_absolute_error(y_test_3, y_pred_lr_3)}')\n",
        "print(f'MSE: {mean_squared_error(y_test_3, y_pred_lr_3)}')"
      ],
      "metadata": {
        "colab": {
          "base_uri": "https://localhost:8080/"
        },
        "id": "22Rzuw5hgc_j",
        "outputId": "0f548c10-8d2c-4d1d-e296-e89d38f2cf60"
      },
      "execution_count": null,
      "outputs": [
        {
          "output_type": "stream",
          "name": "stdout",
          "text": [
            "R2 score: 0.6602198796622915\n",
            "MAE: 108.2982921881781\n",
            "MSE: 20728.40656075496\n"
          ]
        }
      ]
    },
    {
      "cell_type": "markdown",
      "source": [
        "Неплохая точность, но это обычная линейная регрессия, посмотрим на график"
      ],
      "metadata": {
        "id": "-Zlg8bihgq55"
      }
    },
    {
      "cell_type": "code",
      "source": [
        "plot_test(X_train_3, X_test_3, y_train_3, y_test_3, y_pred_lr_3)"
      ],
      "metadata": {
        "colab": {
          "base_uri": "https://localhost:8080/",
          "height": 542
        },
        "id": "ga3oGfBsgwFz",
        "outputId": "8fd9660d-ac45-49ef-bd34-f6d68f0cb087"
      },
      "execution_count": null,
      "outputs": [
        {
          "output_type": "display_data",
          "data": {
            "text/html": [
              "<html>\n",
              "<head><meta charset=\"utf-8\" /></head>\n",
              "<body>\n",
              "    <div>            <script src=\"https://cdnjs.cloudflare.com/ajax/libs/mathjax/2.7.5/MathJax.js?config=TeX-AMS-MML_SVG\"></script><script type=\"text/javascript\">if (window.MathJax && window.MathJax.Hub && window.MathJax.Hub.Config) {window.MathJax.Hub.Config({SVG: {font: \"STIX-Web\"}});}</script>                <script type=\"text/javascript\">window.PlotlyConfig = {MathJaxConfig: 'local'};</script>\n",
              "        <script src=\"https://cdn.plot.ly/plotly-2.16.1.min.js\"></script>                <div id=\"d4d65412-c19f-4a5e-8913-c9461b6b3109\" class=\"plotly-graph-div\" style=\"height:525px; width:100%;\"></div>            <script type=\"text/javascript\">                                    window.PLOTLYENV=window.PLOTLYENV || {};                                    if (document.getElementById(\"d4d65412-c19f-4a5e-8913-c9461b6b3109\")) {                    Plotly.newPlot(                        \"d4d65412-c19f-4a5e-8913-c9461b6b3109\",                        [{\"hovertemplate\":\"train=%{x}<br>y_train=%{y}<extra></extra>\",\"legendgroup\":\"\",\"marker\":{\"color\":\"#636efa\",\"symbol\":\"circle\"},\"mode\":\"markers\",\"name\":\"train\",\"orientation\":\"v\",\"showlegend\":true,\"x\":[4.463936422065711,-4.763530796868802,-8.410200555415276,1.7203540953649181,-1.388616905596134,-3.359663175536822,4.805832422459188,5.077382906866944,9.756331163767126,4.899435630660111,-3.9416425724116566,-8.563151096375933,-6.402719924976226,-2.794602164625526,2.557563805424918,7.932785394720508,7.830895167188476,-8.765189254707849,9.299111590880859,-9.79946112023403,-6.183432936755857,7.283011681761462,-2.414503323011525,8.276256745964972,6.113715995074212,5.1008550637115775,2.190570790364907,-1.7276937586695666,9.190273165371952,-7.87058299658038,-3.9478634340324774,-0.4880085370235161,4.00147822454004,-0.07919611276555116,8.995763809846686,1.518138112280539,-2.9550245320976583,0.1145368833482685,-5.336968758320544,1.835564856066064,8.50953150991608,-0.4110086886960076,-9.41002963308,6.317904049348893,8.157722478740588,-4.061074233578285,-4.786583206061019,-4.962363018984668,8.73884800471998,9.217119767480153,-1.8761429092715716,-6.37374552760591,-3.5847411276240653,-8.485600946372383,-9.893205817571447,-8.881879243265313,-6.86464992359676,6.119428755622163,-0.3532225301812417,-6.298967878230027,1.6712547764110592,-1.2492566717839715,6.153117447938126,-7.734095044469433,5.555736172218831,-1.01632690512497,3.7284532573882974,-5.614006515459353,-3.654575766142518,1.7085435850749757,-6.30070488407279,6.396156504353694,-0.03391818102696931,-6.861361957380085,-6.752744544012876,9.953077208895309,-6.079160702933615,-0.9161132326131831,6.642764139015714,-6.447407370845535,-5.303184933509035,8.551465649551922,-2.4739449961266136,3.0157143537945075,-0.7400443381796471,-4.186263915954513,-2.6120685663076326,-4.671292594775503,7.746023753043222,-4.984632713287091,3.6684502491011646,2.751329022747676,-8.684579083335473,-9.358334573422784,-1.1529891268390031,-9.88884915005612,-5.196755741064816,4.197728167628963,7.8768952627096525,-9.199772536010578,8.378440461267719,-5.40427093587823,4.716348601080094,3.454818502781688,4.622543625659327,3.6275115379694647,-0.010388616624208424,-8.973280246609434,2.474852543476217,1.9474937801876209,-7.622440817269993,-7.094611199202472,-9.392392203626407,-6.52803540050866,0.9270517446139692,5.366377687406425,-5.830757080851474,-5.695392173543874,-3.5087419483092708,-4.3028136948080675,6.6752678001757495,2.5266501812360715,1.7072137861118755,-9.318120839913375,-4.283918423922506,-2.0787161682954984,3.5312961616314276,5.121309061346489,0.080162149856708,-4.914774035263898,-5.812831117781013,-2.3158226285144696,-5.81905222540414,-4.9790730667265715,-5.64589506750573,-6.162450161324921,-6.390505053949392,-8.4089720508011,-0.7727601092136283,-2.70061567320907,6.847099112984914,-9.697773951963963,1.2998242284531454,-7.709639081833668,-4.333195997964527,2.7378809645436313,8.214701523545667,-3.541978695895846,5.851899341506861,1.4139245711381925,0.15483523541794675,7.651323226902573,-0.8428883248654184,-6.161350523839133,-7.796082993486251,-5.107562819269919,-0.9088262531239337,6.190539271185088,8.204034052948181,3.2743818814713936,7.953495299731909,2.924994026517636,1.2724779891367568,6.36000622858662,3.5745637237693373,4.908848764384253,-3.282250507261364,6.253634602878112,-2.3219198032457093,-3.558402175141895,4.9207663345970225,-3.16632966452699,9.223665054887825,8.38328164657226,-4.471580460462297,7.899370220986693,5.38756956433307,1.3250577972325832,-1.0519457650527002,7.7248608821562925,-0.5270114761085782,9.830852351443788,8.723034716621846,7.170175721535024,-4.53448760826457,-1.6052313773145706,7.719370259591319,3.9441910598675793,-8.38717214525319,-1.5677544226458124,-9.976791254583011,9.094565313142098,-8.20962316172632,2.095080407630011,0.7435993583338423,0.776584267983333,-4.8819904082774475,4.829750156390887,3.3766017268198603,1.001432786707138,0.46829137374760776,-0.5498907050754003,3.778873373511768,4.637678633418554,2.9583105941783465,-5.116906310515774,7.618756769033013,8.08218950593061,-4.118868303974786,-1.935114964101679,9.399342322262761,-3.640048227309638,7.627599001031829,-3.793419404952192,6.4819530106699155,4.073827512174056,6.995250257398602,7.08539070396008,-7.052939019855233,-3.48564868136555,-9.734604830426619,-0.6266198254955118,-8.443611080857371,-4.7767267068547525,-9.168325358293838,7.710526934934382,-0.2834430312750271,2.884342499154366,-4.203544124146211,-8.69932035775179,-2.262467816038205,3.5122813699566144,-5.118120300633608,-5.05607214641052,1.7835458262476784,-3.742984725661424,-4.672950766142314,-7.010210306002218,-8.473372522891703,-3.1927630603573736],\"xaxis\":\"x\",\"y\":[-49.4111073730262,-57.14078230048166,-278.05892612202507,120.4099553986259,-149.3231557961126,17.539737671677237,206.63383083314503,62.89209554092422,474.9196623442929,-93.57305462049098,-21.432779862387036,-264.6108022411547,46.22014832115357,56.79171776245623,168.09299306479093,386.43329596022846,560.6455210226558,-265.6851185835825,588.7063334263271,-488.8764102868613,-48.233112602776714,220.24918311612385,-55.22478801664968,472.35948949111497,273.0777312638241,93.8574506186295,-33.40523486801882,37.149803099521165,597.8683916581047,-245.60235930621556,191.43395164548025,-215.64192633415777,70.28646431073354,-135.46416417348897,435.67035160609487,-191.8276173539705,96.23648833735486,88.42144772722997,-121.39983439439857,-66.06051507349197,582.4577920329803,-22.878284043003084,-453.5057216708155,193.40642509049775,323.3420232104004,-38.39873125782043,151.9322798158064,-90.78271158654277,413.15905129978654,701.8205374687536,42.801535048653975,-67.92342795585073,-76.78868281265144,-339.17169958588414,-581.0207286309537,-327.45061414398367,-128.41959346148928,150.628765075527,-179.8665835510019,-213.45861530481966,-34.107933354029626,21.649316604225294,113.96473766967935,-148.77842315258573,5.80730330691398,-105.65431897549153,22.689630672981973,-174.01615225834365,-155.1991433345016,197.12256544008332,-52.2516820945661,136.23192820640958,-121.71578160500151,30.673107934553855,-38.89847791449428,573.6448576333897,-211.7788137747856,-2.5749637798767333,407.6140874597305,-255.76383169169307,21.283856249589988,515.5076511901995,-10.305868881612557,-74.00615651199203,-105.94942517239399,3.346906208719087,-117.11099695764868,32.73353481882726,201.40587993492892,-74.86791203679213,162.29814536276263,133.89134374100607,-174.37344372877016,-426.6327120746763,68.48580930186577,-384.3657018076853,37.84019760305522,-54.690467322294026,338.34479242780674,-466.6993807303603,535.6061515421969,-119.51101820930734,113.51319805920897,-141.59741545271805,148.66834771643303,64.307147381981,85.42090952215163,-435.076660017526,19.3614213713002,89.40568477285265,-157.08789145246016,-113.40056851899443,-314.13996684036334,10.727305963864453,34.080561171746815,140.19151122113627,27.510803178692612,35.224408089052986,96.35660364680889,107.63364361571652,264.6728779555466,39.99546242082746,-108.4125584036364,-395.9908201121856,2.582886019820588,81.87200928091664,76.68510070647443,138.63079093874663,31.151853960439073,74.2783755039091,159.02843876327597,93.259697747795,-128.60418679247763,-5.114517460407853,-95.73386275013063,76.02370390956837,-226.12617473951056,-224.78830863777137,-126.83840346180419,42.83318700618102,51.450136678281865,-377.05838119864046,-51.558453141559355,-244.85135788631635,21.955895590115382,82.77008294947777,322.62551382424004,42.34692105841219,122.99703012624582,111.76759487874098,-114.6655890298768,285.70516742662755,-154.35267919868974,-279.3842014336691,-229.66850122719325,-19.99919002067758,-44.4173626094035,284.4248684999188,395.3279392628401,84.2422493383422,346.967080099734,92.62569942512673,6.089707038883976,-27.50908988428432,129.24408871085365,37.71659343604817,57.31445801482137,141.59885575238337,49.473070055235766,125.89754426895949,146.80374173256212,53.09752348883289,403.8216316455473,556.6939625233215,-142.91225272642492,565.5451638267402,201.2848685826102,183.87249884168637,-59.85695780416373,450.3099665121537,254.22159168880478,785.8070550047112,396.51838167384267,378.1824722258862,-166.87868214981364,-133.28355534962535,415.9091648578659,-97.55521995035245,-265.28515461311855,133.79802649029685,-528.9189728140526,361.9587664479669,-382.1119313133411,-48.032993458131806,10.804940128046615,90.50634450091522,-31.625735856164045,200.56430322213924,-50.93995869705231,44.18148549514585,-30.93503384236002,-87.03723626488424,159.78134742412504,100.42166777775424,-179.11022103785484,140.87729493326214,361.3696707199264,414.503521041255,-112.69877380642954,95.37516199720457,478.2082624980857,65.81937076023989,568.9506675048852,105.3883136506823,39.857894465024,18.31630967796692,310.10503614149934,311.7633246059828,-70.10782915016895,53.2462645446288,-495.19300440065064,-48.61514975636548,-210.152044666186,-69.22482360506864,-348.4049133315476,360.3973021366284,85.13110832976375,148.92999785852447,32.321124877372576,-323.69456925222823,190.26405476550772,-112.83580848443054,-2.3572748153483687,-96.5359207621575,-70.25508400581258,-31.400199058997103,-142.0111081518601,-50.80352518444997,-318.25856866816645,-27.34339044606123],\"yaxis\":\"y\",\"type\":\"scatter\"},{\"hovertemplate\":\"X_test=%{x}<br>y_test=%{y}<extra></extra>\",\"legendgroup\":\"\",\"marker\":{\"color\":\"red\",\"symbol\":\"circle\"},\"mode\":\"markers\",\"name\":\"test\",\"orientation\":\"v\",\"showlegend\":true,\"x\":[5.709680770537446,5.708086862620988,9.651575699842962,-9.392386661015998,-4.075772270046332,-5.680984253596437,8.849006857443275,6.586250184279198,7.40613602742291,-0.4210359744855623,6.861417304478479,4.565152361164577,-8.98102434382021,6.808572269703813,-0.5910393187825882,-2.5569833311765233,4.892085612916988,-8.471104166629672,2.1248038956795057,3.7418589836183553,-4.463027752695012,-4.279846840779937,3.101120697393105,-2.420109319857861,6.230392180893247,9.8388066384559,6.001604101962897,0.5008733373016643,2.818230722899022,-4.5685157202594,-6.064352022403064,-5.658268670775475,-4.475202808163658,-1.5857132391033169,-1.8616936145411849,7.464798466472956,6.503971246034261,0.6427288963145994,-8.64157359605328,5.722343832218154,-6.524055028997033,2.3834587622570993,-2.8061069656983157,4.754142456568495,-6.5235862462737675,-5.672323682905955,2.5992586982417443,9.093031737861253,-7.949482403770746,-5.193228279251098,2.790916838549034,-0.1708178913926126,-0.14005854284733488,-3.9226965114846024,6.372978033208941,7.432250062012759,9.926608861602382,1.5250345109425485,9.805346764800642,2.1687997835628323],\"xaxis\":\"x\",\"y\":[164.38900494134856,109.44772552318369,435.47715068207884,-226.95896274375622,159.5823988620017,0.9587006174929513,630.5677699014416,112.20472707421271,324.86700127258143,92.5268778498099,269.8468677998322,7.94994572649972,-311.1325077659619,290.95801113992815,-4.584758418151267,-18.61926629460691,170.93744485300653,-424.22052061758694,-5.920642460373308,160.47547453403948,195.7611436474107,-92.5379344211401,98.64433944088032,-106.6841512464861,229.43489253857433,727.7532120739917,170.74049016979535,8.010898761966736,-13.658136148099953,-44.925961757536264,-209.6058503144791,-23.18591993366391,-97.10080357314064,-39.183555196188266,14.1935704698333,276.25916750643063,119.29137440878692,-114.1652807622291,-357.82059026837356,191.74062613520323,-47.31769847062486,-180.01837054136786,36.94724009134232,145.27332613887316,-151.61193514004978,-76.23674025573823,-44.60815061619704,477.91093862560854,-292.38633871360366,-10.867154788922022,-64.10467780426458,42.51047370629925,-63.39273506983655,-98.42070146950715,108.56576425175356,374.08869170252603,802.6851065930193,-135.03705758753676,647.0330773694262,88.20340085860221],\"yaxis\":\"y\",\"type\":\"scatter\"},{\"hovertemplate\":\"X_test=%{x}<br>y_pred=%{y}<extra></extra>\",\"legendgroup\":\"\",\"marker\":{\"color\":\"lime\",\"symbol\":\"circle\"},\"mode\":\"markers\",\"name\":\"predictions\",\"orientation\":\"v\",\"showlegend\":true,\"x\":[5.709680770537446,5.708086862620988,9.651575699842962,-9.392386661015998,-4.075772270046332,-5.680984253596437,8.849006857443275,6.586250184279198,7.40613602742291,-0.4210359744855623,6.861417304478479,4.565152361164577,-8.98102434382021,6.808572269703813,-0.5910393187825882,-2.5569833311765233,4.892085612916988,-8.471104166629672,2.1248038956795057,3.7418589836183553,-4.463027752695012,-4.279846840779937,3.101120697393105,-2.420109319857861,6.230392180893247,9.8388066384559,6.001604101962897,0.5008733373016643,2.818230722899022,-4.5685157202594,-6.064352022403064,-5.658268670775475,-4.475202808163658,-1.5857132391033169,-1.8616936145411849,7.464798466472956,6.503971246034261,0.6427288963145994,-8.64157359605328,5.722343832218154,-6.524055028997033,2.3834587622570993,-2.8061069656983157,4.754142456568495,-6.5235862462737675,-5.672323682905955,2.5992586982417443,9.093031737861253,-7.949482403770746,-5.193228279251098,2.790916838549034,-0.1708178913926126,-0.14005854284733488,-3.9226965114846024,6.372978033208941,7.432250062012759,9.926608861602382,1.5250345109425485,9.805346764800642,2.1687997835628323],\"xaxis\":\"x\",\"y\":[238.0252737968023,237.97151927498584,370.9656242321208,-271.2917355741798,-91.98899084336392,-146.1247421617584,343.8990014350794,267.58756481003354,295.2382032109116,31.26693875243724,276.8675720257547,199.4260694664085,-257.41854727650815,275.0853739794591,25.53357838354368,-40.76785547783808,210.45188873262143,-240.22149655205038,117.12535217077182,171.6605120162625,-105.0491764887444,-98.87140283932305,150.0516224249011,-36.15178139252589,255.5862587063024,377.27998497433435,247.87038399784524,62.358317182498446,140.5111620579102,-108.60675669476728,-159.05381471310065,-145.35865945414722,-105.45978006128973,-8.011785434564587,-17.31921967164223,297.21659313366825,264.8127087877664,67.14239389296014,-245.97057563521003,238.45233537190978,-174.55729207329978,125.8484838679132,-49.169546509435946,205.7997577463819,-174.54148238262394,-145.8326645383791,133.1263336402237,352.1287370570327,-222.62981001732805,-129.6751788630701,139.5900016966225,39.70554004653384,40.74289863881163,-86.82651306267539,260.3949645480145,296.118898656101,380.24111370136256,96.89813819950702,376.1515512111252,118.6091128639958],\"yaxis\":\"y\",\"type\":\"scatter\"},{\"hovertemplate\":\"<b>LOWESS trendline</b><br><br>X_test=%{x}<br>y_pred=%{y} <b>(trend)</b><extra></extra>\",\"legendgroup\":\"\",\"marker\":{\"color\":\"lime\",\"symbol\":\"circle\"},\"mode\":\"lines\",\"name\":\"\",\"showlegend\":true,\"x\":[-9.392386661015998,-8.98102434382021,-8.64157359605328,-8.471104166629672,-7.949482403770746,-6.524055028997033,-6.5235862462737675,-6.064352022403064,-5.680984253596437,-5.672323682905955,-5.658268670775475,-5.193228279251098,-4.5685157202594,-4.475202808163658,-4.463027752695012,-4.279846840779937,-4.075772270046332,-3.9226965114846024,-2.8061069656983157,-2.5569833311765233,-2.420109319857861,-1.8616936145411849,-1.5857132391033169,-0.5910393187825882,-0.4210359744855623,-0.1708178913926126,-0.14005854284733488,0.5008733373016643,0.6427288963145994,1.5250345109425485,2.1248038956795057,2.1687997835628323,2.3834587622570993,2.5992586982417443,2.790916838549034,2.818230722899022,3.101120697393105,3.7418589836183553,4.565152361164577,4.754142456568495,4.892085612916988,5.708086862620988,5.709680770537446,5.722343832218154,6.001604101962897,6.230392180893247,6.372978033208941,6.503971246034261,6.586250184279198,6.808572269703813,6.861417304478479,7.40613602742291,7.432250062012759,7.464798466472956,8.849006857443275,9.093031737861253,9.651575699842962,9.805346764800642,9.8388066384559,9.926608861602382],\"xaxis\":\"x\",\"y\":[-271.2917355741798,-257.41854727650815,-245.97057563521003,-240.22149655205038,-222.62981001732805,-174.55729207330003,-174.54148238262388,-159.0538147128741,-146.1247421617587,-145.83266453837894,-145.35865945414736,-129.67517886306993,-108.60675669476741,-105.45978006128962,-105.04917648874452,-98.87140283932318,-91.98899084336395,-86.8265130626754,-49.16954650943587,-40.767855477838104,-36.151781392525905,-17.31921967164223,-8.011785434564583,25.533578383543684,31.26693875243724,39.70554004653385,40.74289863881162,62.358317182498446,67.14239389296014,96.89813819950712,117.12535217077188,118.60911286399579,125.84848386791315,133.12633364022372,139.5900016966225,140.51116205791024,150.05162242490118,171.66051201626254,199.42606946640845,205.7997577463818,210.45188873262146,237.9715192749863,238.0252737968035,238.4523353719106,247.87038399784518,255.5862587063025,260.3949645480146,264.81270878776604,267.5875648100293,275.08537397945497,276.8675720257578,295.2382032109116,296.118898656101,297.21659313366825,343.8990014350753,352.128737057033,370.9656242321207,376.1515512111247,377.2799849743348,380.241113701362],\"yaxis\":\"y\",\"type\":\"scatter\"}],                        {\"template\":{\"data\":{\"histogram2dcontour\":[{\"type\":\"histogram2dcontour\",\"colorbar\":{\"outlinewidth\":0,\"ticks\":\"\"},\"colorscale\":[[0.0,\"#0d0887\"],[0.1111111111111111,\"#46039f\"],[0.2222222222222222,\"#7201a8\"],[0.3333333333333333,\"#9c179e\"],[0.4444444444444444,\"#bd3786\"],[0.5555555555555556,\"#d8576b\"],[0.6666666666666666,\"#ed7953\"],[0.7777777777777778,\"#fb9f3a\"],[0.8888888888888888,\"#fdca26\"],[1.0,\"#f0f921\"]]}],\"choropleth\":[{\"type\":\"choropleth\",\"colorbar\":{\"outlinewidth\":0,\"ticks\":\"\"}}],\"histogram2d\":[{\"type\":\"histogram2d\",\"colorbar\":{\"outlinewidth\":0,\"ticks\":\"\"},\"colorscale\":[[0.0,\"#0d0887\"],[0.1111111111111111,\"#46039f\"],[0.2222222222222222,\"#7201a8\"],[0.3333333333333333,\"#9c179e\"],[0.4444444444444444,\"#bd3786\"],[0.5555555555555556,\"#d8576b\"],[0.6666666666666666,\"#ed7953\"],[0.7777777777777778,\"#fb9f3a\"],[0.8888888888888888,\"#fdca26\"],[1.0,\"#f0f921\"]]}],\"heatmap\":[{\"type\":\"heatmap\",\"colorbar\":{\"outlinewidth\":0,\"ticks\":\"\"},\"colorscale\":[[0.0,\"#0d0887\"],[0.1111111111111111,\"#46039f\"],[0.2222222222222222,\"#7201a8\"],[0.3333333333333333,\"#9c179e\"],[0.4444444444444444,\"#bd3786\"],[0.5555555555555556,\"#d8576b\"],[0.6666666666666666,\"#ed7953\"],[0.7777777777777778,\"#fb9f3a\"],[0.8888888888888888,\"#fdca26\"],[1.0,\"#f0f921\"]]}],\"heatmapgl\":[{\"type\":\"heatmapgl\",\"colorbar\":{\"outlinewidth\":0,\"ticks\":\"\"},\"colorscale\":[[0.0,\"#0d0887\"],[0.1111111111111111,\"#46039f\"],[0.2222222222222222,\"#7201a8\"],[0.3333333333333333,\"#9c179e\"],[0.4444444444444444,\"#bd3786\"],[0.5555555555555556,\"#d8576b\"],[0.6666666666666666,\"#ed7953\"],[0.7777777777777778,\"#fb9f3a\"],[0.8888888888888888,\"#fdca26\"],[1.0,\"#f0f921\"]]}],\"contourcarpet\":[{\"type\":\"contourcarpet\",\"colorbar\":{\"outlinewidth\":0,\"ticks\":\"\"}}],\"contour\":[{\"type\":\"contour\",\"colorbar\":{\"outlinewidth\":0,\"ticks\":\"\"},\"colorscale\":[[0.0,\"#0d0887\"],[0.1111111111111111,\"#46039f\"],[0.2222222222222222,\"#7201a8\"],[0.3333333333333333,\"#9c179e\"],[0.4444444444444444,\"#bd3786\"],[0.5555555555555556,\"#d8576b\"],[0.6666666666666666,\"#ed7953\"],[0.7777777777777778,\"#fb9f3a\"],[0.8888888888888888,\"#fdca26\"],[1.0,\"#f0f921\"]]}],\"surface\":[{\"type\":\"surface\",\"colorbar\":{\"outlinewidth\":0,\"ticks\":\"\"},\"colorscale\":[[0.0,\"#0d0887\"],[0.1111111111111111,\"#46039f\"],[0.2222222222222222,\"#7201a8\"],[0.3333333333333333,\"#9c179e\"],[0.4444444444444444,\"#bd3786\"],[0.5555555555555556,\"#d8576b\"],[0.6666666666666666,\"#ed7953\"],[0.7777777777777778,\"#fb9f3a\"],[0.8888888888888888,\"#fdca26\"],[1.0,\"#f0f921\"]]}],\"mesh3d\":[{\"type\":\"mesh3d\",\"colorbar\":{\"outlinewidth\":0,\"ticks\":\"\"}}],\"scatter\":[{\"fillpattern\":{\"fillmode\":\"overlay\",\"size\":10,\"solidity\":0.2},\"type\":\"scatter\"}],\"parcoords\":[{\"type\":\"parcoords\",\"line\":{\"colorbar\":{\"outlinewidth\":0,\"ticks\":\"\"}}}],\"scatterpolargl\":[{\"type\":\"scatterpolargl\",\"marker\":{\"colorbar\":{\"outlinewidth\":0,\"ticks\":\"\"}}}],\"bar\":[{\"error_x\":{\"color\":\"#2a3f5f\"},\"error_y\":{\"color\":\"#2a3f5f\"},\"marker\":{\"line\":{\"color\":\"#E5ECF6\",\"width\":0.5},\"pattern\":{\"fillmode\":\"overlay\",\"size\":10,\"solidity\":0.2}},\"type\":\"bar\"}],\"scattergeo\":[{\"type\":\"scattergeo\",\"marker\":{\"colorbar\":{\"outlinewidth\":0,\"ticks\":\"\"}}}],\"scatterpolar\":[{\"type\":\"scatterpolar\",\"marker\":{\"colorbar\":{\"outlinewidth\":0,\"ticks\":\"\"}}}],\"histogram\":[{\"marker\":{\"pattern\":{\"fillmode\":\"overlay\",\"size\":10,\"solidity\":0.2}},\"type\":\"histogram\"}],\"scattergl\":[{\"type\":\"scattergl\",\"marker\":{\"colorbar\":{\"outlinewidth\":0,\"ticks\":\"\"}}}],\"scatter3d\":[{\"type\":\"scatter3d\",\"line\":{\"colorbar\":{\"outlinewidth\":0,\"ticks\":\"\"}},\"marker\":{\"colorbar\":{\"outlinewidth\":0,\"ticks\":\"\"}}}],\"scattermapbox\":[{\"type\":\"scattermapbox\",\"marker\":{\"colorbar\":{\"outlinewidth\":0,\"ticks\":\"\"}}}],\"scatterternary\":[{\"type\":\"scatterternary\",\"marker\":{\"colorbar\":{\"outlinewidth\":0,\"ticks\":\"\"}}}],\"scattercarpet\":[{\"type\":\"scattercarpet\",\"marker\":{\"colorbar\":{\"outlinewidth\":0,\"ticks\":\"\"}}}],\"carpet\":[{\"aaxis\":{\"endlinecolor\":\"#2a3f5f\",\"gridcolor\":\"white\",\"linecolor\":\"white\",\"minorgridcolor\":\"white\",\"startlinecolor\":\"#2a3f5f\"},\"baxis\":{\"endlinecolor\":\"#2a3f5f\",\"gridcolor\":\"white\",\"linecolor\":\"white\",\"minorgridcolor\":\"white\",\"startlinecolor\":\"#2a3f5f\"},\"type\":\"carpet\"}],\"table\":[{\"cells\":{\"fill\":{\"color\":\"#EBF0F8\"},\"line\":{\"color\":\"white\"}},\"header\":{\"fill\":{\"color\":\"#C8D4E3\"},\"line\":{\"color\":\"white\"}},\"type\":\"table\"}],\"barpolar\":[{\"marker\":{\"line\":{\"color\":\"#E5ECF6\",\"width\":0.5},\"pattern\":{\"fillmode\":\"overlay\",\"size\":10,\"solidity\":0.2}},\"type\":\"barpolar\"}],\"pie\":[{\"automargin\":true,\"type\":\"pie\"}]},\"layout\":{\"autotypenumbers\":\"strict\",\"colorway\":[\"#636efa\",\"#EF553B\",\"#00cc96\",\"#ab63fa\",\"#FFA15A\",\"#19d3f3\",\"#FF6692\",\"#B6E880\",\"#FF97FF\",\"#FECB52\"],\"font\":{\"color\":\"#2a3f5f\"},\"hovermode\":\"closest\",\"hoverlabel\":{\"align\":\"left\"},\"paper_bgcolor\":\"white\",\"plot_bgcolor\":\"#E5ECF6\",\"polar\":{\"bgcolor\":\"#E5ECF6\",\"angularaxis\":{\"gridcolor\":\"white\",\"linecolor\":\"white\",\"ticks\":\"\"},\"radialaxis\":{\"gridcolor\":\"white\",\"linecolor\":\"white\",\"ticks\":\"\"}},\"ternary\":{\"bgcolor\":\"#E5ECF6\",\"aaxis\":{\"gridcolor\":\"white\",\"linecolor\":\"white\",\"ticks\":\"\"},\"baxis\":{\"gridcolor\":\"white\",\"linecolor\":\"white\",\"ticks\":\"\"},\"caxis\":{\"gridcolor\":\"white\",\"linecolor\":\"white\",\"ticks\":\"\"}},\"coloraxis\":{\"colorbar\":{\"outlinewidth\":0,\"ticks\":\"\"}},\"colorscale\":{\"sequential\":[[0.0,\"#0d0887\"],[0.1111111111111111,\"#46039f\"],[0.2222222222222222,\"#7201a8\"],[0.3333333333333333,\"#9c179e\"],[0.4444444444444444,\"#bd3786\"],[0.5555555555555556,\"#d8576b\"],[0.6666666666666666,\"#ed7953\"],[0.7777777777777778,\"#fb9f3a\"],[0.8888888888888888,\"#fdca26\"],[1.0,\"#f0f921\"]],\"sequentialminus\":[[0.0,\"#0d0887\"],[0.1111111111111111,\"#46039f\"],[0.2222222222222222,\"#7201a8\"],[0.3333333333333333,\"#9c179e\"],[0.4444444444444444,\"#bd3786\"],[0.5555555555555556,\"#d8576b\"],[0.6666666666666666,\"#ed7953\"],[0.7777777777777778,\"#fb9f3a\"],[0.8888888888888888,\"#fdca26\"],[1.0,\"#f0f921\"]],\"diverging\":[[0,\"#8e0152\"],[0.1,\"#c51b7d\"],[0.2,\"#de77ae\"],[0.3,\"#f1b6da\"],[0.4,\"#fde0ef\"],[0.5,\"#f7f7f7\"],[0.6,\"#e6f5d0\"],[0.7,\"#b8e186\"],[0.8,\"#7fbc41\"],[0.9,\"#4d9221\"],[1,\"#276419\"]]},\"xaxis\":{\"gridcolor\":\"white\",\"linecolor\":\"white\",\"ticks\":\"\",\"title\":{\"standoff\":15},\"zerolinecolor\":\"white\",\"automargin\":true,\"zerolinewidth\":2},\"yaxis\":{\"gridcolor\":\"white\",\"linecolor\":\"white\",\"ticks\":\"\",\"title\":{\"standoff\":15},\"zerolinecolor\":\"white\",\"automargin\":true,\"zerolinewidth\":2},\"scene\":{\"xaxis\":{\"backgroundcolor\":\"#E5ECF6\",\"gridcolor\":\"white\",\"linecolor\":\"white\",\"showbackground\":true,\"ticks\":\"\",\"zerolinecolor\":\"white\",\"gridwidth\":2},\"yaxis\":{\"backgroundcolor\":\"#E5ECF6\",\"gridcolor\":\"white\",\"linecolor\":\"white\",\"showbackground\":true,\"ticks\":\"\",\"zerolinecolor\":\"white\",\"gridwidth\":2},\"zaxis\":{\"backgroundcolor\":\"#E5ECF6\",\"gridcolor\":\"white\",\"linecolor\":\"white\",\"showbackground\":true,\"ticks\":\"\",\"zerolinecolor\":\"white\",\"gridwidth\":2}},\"shapedefaults\":{\"line\":{\"color\":\"#2a3f5f\"}},\"annotationdefaults\":{\"arrowcolor\":\"#2a3f5f\",\"arrowhead\":0,\"arrowwidth\":1},\"geo\":{\"bgcolor\":\"white\",\"landcolor\":\"#E5ECF6\",\"subunitcolor\":\"white\",\"showland\":true,\"showlakes\":true,\"lakecolor\":\"white\"},\"title\":{\"x\":0.05},\"mapbox\":{\"style\":\"light\"}}}},                        {\"responsive\": true}                    ).then(function(){\n",
              "                            \n",
              "var gd = document.getElementById('d4d65412-c19f-4a5e-8913-c9461b6b3109');\n",
              "var x = new MutationObserver(function (mutations, observer) {{\n",
              "        var display = window.getComputedStyle(gd).display;\n",
              "        if (!display || display === 'none') {{\n",
              "            console.log([gd, 'removed!']);\n",
              "            Plotly.purge(gd);\n",
              "            observer.disconnect();\n",
              "        }}\n",
              "}});\n",
              "\n",
              "// Listen for the removal of the full notebook cells\n",
              "var notebookContainer = gd.closest('#notebook-container');\n",
              "if (notebookContainer) {{\n",
              "    x.observe(notebookContainer, {childList: true});\n",
              "}}\n",
              "\n",
              "// Listen for the clearing of the current output cell\n",
              "var outputEl = gd.closest('.output');\n",
              "if (outputEl) {{\n",
              "    x.observe(outputEl, {childList: true});\n",
              "}}\n",
              "\n",
              "                        })                };                            </script>        </div>\n",
              "</body>\n",
              "</html>"
            ]
          },
          "metadata": {}
        }
      ]
    },
    {
      "cell_type": "markdown",
      "source": [
        "Видим попадания и большую точность исключительно потому, что линия касается изначальной функции до применения шума во многих местах, сделаем полиномиальную регрессию. "
      ],
      "metadata": {
        "id": "f-H0jDxZhMgL"
      }
    },
    {
      "cell_type": "code",
      "source": [
        "poly = PolynomialFeatures(degree=5, include_bias=False)\n",
        "\n",
        "X_train_3_ = poly.fit_transform(X_train_3)\n",
        "X_test_3_ = poly.fit_transform(X_test_3)\n",
        "\n",
        "pd.DataFrame(X_train_3_).head()"
      ],
      "metadata": {
        "colab": {
          "base_uri": "https://localhost:8080/",
          "height": 206
        },
        "id": "tpMzdmeNhjZl",
        "outputId": "b59a01c7-9ab7-4742-c974-416b0ef34829"
      },
      "execution_count": null,
      "outputs": [
        {
          "output_type": "execute_result",
          "data": {
            "text/plain": [
              "          0          1           2            3             4\n",
              "0  4.463936  19.926728   88.951649   397.074504   1772.515340\n",
              "1 -4.763531  22.691226 -108.090352   514.891722  -2452.702573\n",
              "2 -8.410201  70.731473 -594.865877  5002.941327 -42075.739926\n",
              "3  1.720354   2.959618    5.091591     8.759340     15.069166\n",
              "4 -1.388617   1.928257   -2.677610     3.718175     -5.163120"
            ],
            "text/html": [
              "<div>\n",
              "<style scoped>\n",
              "    .dataframe tbody tr th:only-of-type {\n",
              "        vertical-align: middle;\n",
              "    }\n",
              "\n",
              "    .dataframe tbody tr th {\n",
              "        vertical-align: top;\n",
              "    }\n",
              "\n",
              "    .dataframe thead th {\n",
              "        text-align: right;\n",
              "    }\n",
              "</style>\n",
              "<table border=\"1\" class=\"dataframe\">\n",
              "  <thead>\n",
              "    <tr style=\"text-align: right;\">\n",
              "      <th></th>\n",
              "      <th>0</th>\n",
              "      <th>1</th>\n",
              "      <th>2</th>\n",
              "      <th>3</th>\n",
              "      <th>4</th>\n",
              "    </tr>\n",
              "  </thead>\n",
              "  <tbody>\n",
              "    <tr>\n",
              "      <th>0</th>\n",
              "      <td>4.463936</td>\n",
              "      <td>19.926728</td>\n",
              "      <td>88.951649</td>\n",
              "      <td>397.074504</td>\n",
              "      <td>1772.515340</td>\n",
              "    </tr>\n",
              "    <tr>\n",
              "      <th>1</th>\n",
              "      <td>-4.763531</td>\n",
              "      <td>22.691226</td>\n",
              "      <td>-108.090352</td>\n",
              "      <td>514.891722</td>\n",
              "      <td>-2452.702573</td>\n",
              "    </tr>\n",
              "    <tr>\n",
              "      <th>2</th>\n",
              "      <td>-8.410201</td>\n",
              "      <td>70.731473</td>\n",
              "      <td>-594.865877</td>\n",
              "      <td>5002.941327</td>\n",
              "      <td>-42075.739926</td>\n",
              "    </tr>\n",
              "    <tr>\n",
              "      <th>3</th>\n",
              "      <td>1.720354</td>\n",
              "      <td>2.959618</td>\n",
              "      <td>5.091591</td>\n",
              "      <td>8.759340</td>\n",
              "      <td>15.069166</td>\n",
              "    </tr>\n",
              "    <tr>\n",
              "      <th>4</th>\n",
              "      <td>-1.388617</td>\n",
              "      <td>1.928257</td>\n",
              "      <td>-2.677610</td>\n",
              "      <td>3.718175</td>\n",
              "      <td>-5.163120</td>\n",
              "    </tr>\n",
              "  </tbody>\n",
              "</table>\n",
              "</div>"
            ]
          },
          "metadata": {},
          "execution_count": 147
        }
      ]
    },
    {
      "cell_type": "code",
      "source": [
        "model_lr_3 = LinearRegression().fit(X_train_3_, y_train_3)\n",
        "\n",
        "y_pred_lr_3 = model_lr_3.predict(X_test_3_)\n",
        "\n",
        "print(f'R2 score: {r2_score(y_test_3, y_pred_lr_3)}')\n",
        "print(f'MAE: {mean_absolute_error(y_test_3, y_pred_lr_3)}')\n",
        "print(f'MSE: {mean_squared_error(y_test_3, y_pred_lr_3)}')"
      ],
      "metadata": {
        "colab": {
          "base_uri": "https://localhost:8080/"
        },
        "id": "KAmfJpZYhY47",
        "outputId": "c5d0e8b1-ab20-4e3a-c622-fb24a15b1cdf"
      },
      "execution_count": null,
      "outputs": [
        {
          "output_type": "stream",
          "name": "stdout",
          "text": [
            "R2 score: 0.8726005177012481\n",
            "MAE: 71.57930247517943\n",
            "MSE: 7772.0505310715225\n"
          ]
        }
      ]
    },
    {
      "cell_type": "code",
      "source": [
        "plot_test(X_train_3, X_test_3, y_train_3, y_test_3, y_pred_lr_3)"
      ],
      "metadata": {
        "colab": {
          "base_uri": "https://localhost:8080/",
          "height": 542
        },
        "id": "jamaKFgshrYc",
        "outputId": "f74d1818-fce2-4091-ac8e-dfba44279856"
      },
      "execution_count": null,
      "outputs": [
        {
          "output_type": "display_data",
          "data": {
            "text/html": [
              "<html>\n",
              "<head><meta charset=\"utf-8\" /></head>\n",
              "<body>\n",
              "    <div>            <script src=\"https://cdnjs.cloudflare.com/ajax/libs/mathjax/2.7.5/MathJax.js?config=TeX-AMS-MML_SVG\"></script><script type=\"text/javascript\">if (window.MathJax && window.MathJax.Hub && window.MathJax.Hub.Config) {window.MathJax.Hub.Config({SVG: {font: \"STIX-Web\"}});}</script>                <script type=\"text/javascript\">window.PlotlyConfig = {MathJaxConfig: 'local'};</script>\n",
              "        <script src=\"https://cdn.plot.ly/plotly-2.16.1.min.js\"></script>                <div id=\"ddb8e1e0-5c7c-40c5-b013-22c5a9c93ef9\" class=\"plotly-graph-div\" style=\"height:525px; width:100%;\"></div>            <script type=\"text/javascript\">                                    window.PLOTLYENV=window.PLOTLYENV || {};                                    if (document.getElementById(\"ddb8e1e0-5c7c-40c5-b013-22c5a9c93ef9\")) {                    Plotly.newPlot(                        \"ddb8e1e0-5c7c-40c5-b013-22c5a9c93ef9\",                        [{\"hovertemplate\":\"train=%{x}<br>y_train=%{y}<extra></extra>\",\"legendgroup\":\"\",\"marker\":{\"color\":\"#636efa\",\"symbol\":\"circle\"},\"mode\":\"markers\",\"name\":\"train\",\"orientation\":\"v\",\"showlegend\":true,\"x\":[4.463936422065711,-4.763530796868802,-8.410200555415276,1.7203540953649181,-1.388616905596134,-3.359663175536822,4.805832422459188,5.077382906866944,9.756331163767126,4.899435630660111,-3.9416425724116566,-8.563151096375933,-6.402719924976226,-2.794602164625526,2.557563805424918,7.932785394720508,7.830895167188476,-8.765189254707849,9.299111590880859,-9.79946112023403,-6.183432936755857,7.283011681761462,-2.414503323011525,8.276256745964972,6.113715995074212,5.1008550637115775,2.190570790364907,-1.7276937586695666,9.190273165371952,-7.87058299658038,-3.9478634340324774,-0.4880085370235161,4.00147822454004,-0.07919611276555116,8.995763809846686,1.518138112280539,-2.9550245320976583,0.1145368833482685,-5.336968758320544,1.835564856066064,8.50953150991608,-0.4110086886960076,-9.41002963308,6.317904049348893,8.157722478740588,-4.061074233578285,-4.786583206061019,-4.962363018984668,8.73884800471998,9.217119767480153,-1.8761429092715716,-6.37374552760591,-3.5847411276240653,-8.485600946372383,-9.893205817571447,-8.881879243265313,-6.86464992359676,6.119428755622163,-0.3532225301812417,-6.298967878230027,1.6712547764110592,-1.2492566717839715,6.153117447938126,-7.734095044469433,5.555736172218831,-1.01632690512497,3.7284532573882974,-5.614006515459353,-3.654575766142518,1.7085435850749757,-6.30070488407279,6.396156504353694,-0.03391818102696931,-6.861361957380085,-6.752744544012876,9.953077208895309,-6.079160702933615,-0.9161132326131831,6.642764139015714,-6.447407370845535,-5.303184933509035,8.551465649551922,-2.4739449961266136,3.0157143537945075,-0.7400443381796471,-4.186263915954513,-2.6120685663076326,-4.671292594775503,7.746023753043222,-4.984632713287091,3.6684502491011646,2.751329022747676,-8.684579083335473,-9.358334573422784,-1.1529891268390031,-9.88884915005612,-5.196755741064816,4.197728167628963,7.8768952627096525,-9.199772536010578,8.378440461267719,-5.40427093587823,4.716348601080094,3.454818502781688,4.622543625659327,3.6275115379694647,-0.010388616624208424,-8.973280246609434,2.474852543476217,1.9474937801876209,-7.622440817269993,-7.094611199202472,-9.392392203626407,-6.52803540050866,0.9270517446139692,5.366377687406425,-5.830757080851474,-5.695392173543874,-3.5087419483092708,-4.3028136948080675,6.6752678001757495,2.5266501812360715,1.7072137861118755,-9.318120839913375,-4.283918423922506,-2.0787161682954984,3.5312961616314276,5.121309061346489,0.080162149856708,-4.914774035263898,-5.812831117781013,-2.3158226285144696,-5.81905222540414,-4.9790730667265715,-5.64589506750573,-6.162450161324921,-6.390505053949392,-8.4089720508011,-0.7727601092136283,-2.70061567320907,6.847099112984914,-9.697773951963963,1.2998242284531454,-7.709639081833668,-4.333195997964527,2.7378809645436313,8.214701523545667,-3.541978695895846,5.851899341506861,1.4139245711381925,0.15483523541794675,7.651323226902573,-0.8428883248654184,-6.161350523839133,-7.796082993486251,-5.107562819269919,-0.9088262531239337,6.190539271185088,8.204034052948181,3.2743818814713936,7.953495299731909,2.924994026517636,1.2724779891367568,6.36000622858662,3.5745637237693373,4.908848764384253,-3.282250507261364,6.253634602878112,-2.3219198032457093,-3.558402175141895,4.9207663345970225,-3.16632966452699,9.223665054887825,8.38328164657226,-4.471580460462297,7.899370220986693,5.38756956433307,1.3250577972325832,-1.0519457650527002,7.7248608821562925,-0.5270114761085782,9.830852351443788,8.723034716621846,7.170175721535024,-4.53448760826457,-1.6052313773145706,7.719370259591319,3.9441910598675793,-8.38717214525319,-1.5677544226458124,-9.976791254583011,9.094565313142098,-8.20962316172632,2.095080407630011,0.7435993583338423,0.776584267983333,-4.8819904082774475,4.829750156390887,3.3766017268198603,1.001432786707138,0.46829137374760776,-0.5498907050754003,3.778873373511768,4.637678633418554,2.9583105941783465,-5.116906310515774,7.618756769033013,8.08218950593061,-4.118868303974786,-1.935114964101679,9.399342322262761,-3.640048227309638,7.627599001031829,-3.793419404952192,6.4819530106699155,4.073827512174056,6.995250257398602,7.08539070396008,-7.052939019855233,-3.48564868136555,-9.734604830426619,-0.6266198254955118,-8.443611080857371,-4.7767267068547525,-9.168325358293838,7.710526934934382,-0.2834430312750271,2.884342499154366,-4.203544124146211,-8.69932035775179,-2.262467816038205,3.5122813699566144,-5.118120300633608,-5.05607214641052,1.7835458262476784,-3.742984725661424,-4.672950766142314,-7.010210306002218,-8.473372522891703,-3.1927630603573736],\"xaxis\":\"x\",\"y\":[-49.4111073730262,-57.14078230048166,-278.05892612202507,120.4099553986259,-149.3231557961126,17.539737671677237,206.63383083314503,62.89209554092422,474.9196623442929,-93.57305462049098,-21.432779862387036,-264.6108022411547,46.22014832115357,56.79171776245623,168.09299306479093,386.43329596022846,560.6455210226558,-265.6851185835825,588.7063334263271,-488.8764102868613,-48.233112602776714,220.24918311612385,-55.22478801664968,472.35948949111497,273.0777312638241,93.8574506186295,-33.40523486801882,37.149803099521165,597.8683916581047,-245.60235930621556,191.43395164548025,-215.64192633415777,70.28646431073354,-135.46416417348897,435.67035160609487,-191.8276173539705,96.23648833735486,88.42144772722997,-121.39983439439857,-66.06051507349197,582.4577920329803,-22.878284043003084,-453.5057216708155,193.40642509049775,323.3420232104004,-38.39873125782043,151.9322798158064,-90.78271158654277,413.15905129978654,701.8205374687536,42.801535048653975,-67.92342795585073,-76.78868281265144,-339.17169958588414,-581.0207286309537,-327.45061414398367,-128.41959346148928,150.628765075527,-179.8665835510019,-213.45861530481966,-34.107933354029626,21.649316604225294,113.96473766967935,-148.77842315258573,5.80730330691398,-105.65431897549153,22.689630672981973,-174.01615225834365,-155.1991433345016,197.12256544008332,-52.2516820945661,136.23192820640958,-121.71578160500151,30.673107934553855,-38.89847791449428,573.6448576333897,-211.7788137747856,-2.5749637798767333,407.6140874597305,-255.76383169169307,21.283856249589988,515.5076511901995,-10.305868881612557,-74.00615651199203,-105.94942517239399,3.346906208719087,-117.11099695764868,32.73353481882726,201.40587993492892,-74.86791203679213,162.29814536276263,133.89134374100607,-174.37344372877016,-426.6327120746763,68.48580930186577,-384.3657018076853,37.84019760305522,-54.690467322294026,338.34479242780674,-466.6993807303603,535.6061515421969,-119.51101820930734,113.51319805920897,-141.59741545271805,148.66834771643303,64.307147381981,85.42090952215163,-435.076660017526,19.3614213713002,89.40568477285265,-157.08789145246016,-113.40056851899443,-314.13996684036334,10.727305963864453,34.080561171746815,140.19151122113627,27.510803178692612,35.224408089052986,96.35660364680889,107.63364361571652,264.6728779555466,39.99546242082746,-108.4125584036364,-395.9908201121856,2.582886019820588,81.87200928091664,76.68510070647443,138.63079093874663,31.151853960439073,74.2783755039091,159.02843876327597,93.259697747795,-128.60418679247763,-5.114517460407853,-95.73386275013063,76.02370390956837,-226.12617473951056,-224.78830863777137,-126.83840346180419,42.83318700618102,51.450136678281865,-377.05838119864046,-51.558453141559355,-244.85135788631635,21.955895590115382,82.77008294947777,322.62551382424004,42.34692105841219,122.99703012624582,111.76759487874098,-114.6655890298768,285.70516742662755,-154.35267919868974,-279.3842014336691,-229.66850122719325,-19.99919002067758,-44.4173626094035,284.4248684999188,395.3279392628401,84.2422493383422,346.967080099734,92.62569942512673,6.089707038883976,-27.50908988428432,129.24408871085365,37.71659343604817,57.31445801482137,141.59885575238337,49.473070055235766,125.89754426895949,146.80374173256212,53.09752348883289,403.8216316455473,556.6939625233215,-142.91225272642492,565.5451638267402,201.2848685826102,183.87249884168637,-59.85695780416373,450.3099665121537,254.22159168880478,785.8070550047112,396.51838167384267,378.1824722258862,-166.87868214981364,-133.28355534962535,415.9091648578659,-97.55521995035245,-265.28515461311855,133.79802649029685,-528.9189728140526,361.9587664479669,-382.1119313133411,-48.032993458131806,10.804940128046615,90.50634450091522,-31.625735856164045,200.56430322213924,-50.93995869705231,44.18148549514585,-30.93503384236002,-87.03723626488424,159.78134742412504,100.42166777775424,-179.11022103785484,140.87729493326214,361.3696707199264,414.503521041255,-112.69877380642954,95.37516199720457,478.2082624980857,65.81937076023989,568.9506675048852,105.3883136506823,39.857894465024,18.31630967796692,310.10503614149934,311.7633246059828,-70.10782915016895,53.2462645446288,-495.19300440065064,-48.61514975636548,-210.152044666186,-69.22482360506864,-348.4049133315476,360.3973021366284,85.13110832976375,148.92999785852447,32.321124877372576,-323.69456925222823,190.26405476550772,-112.83580848443054,-2.3572748153483687,-96.5359207621575,-70.25508400581258,-31.400199058997103,-142.0111081518601,-50.80352518444997,-318.25856866816645,-27.34339044606123],\"yaxis\":\"y\",\"type\":\"scatter\"},{\"hovertemplate\":\"X_test=%{x}<br>y_test=%{y}<extra></extra>\",\"legendgroup\":\"\",\"marker\":{\"color\":\"red\",\"symbol\":\"circle\"},\"mode\":\"markers\",\"name\":\"test\",\"orientation\":\"v\",\"showlegend\":true,\"x\":[5.709680770537446,5.708086862620988,9.651575699842962,-9.392386661015998,-4.075772270046332,-5.680984253596437,8.849006857443275,6.586250184279198,7.40613602742291,-0.4210359744855623,6.861417304478479,4.565152361164577,-8.98102434382021,6.808572269703813,-0.5910393187825882,-2.5569833311765233,4.892085612916988,-8.471104166629672,2.1248038956795057,3.7418589836183553,-4.463027752695012,-4.279846840779937,3.101120697393105,-2.420109319857861,6.230392180893247,9.8388066384559,6.001604101962897,0.5008733373016643,2.818230722899022,-4.5685157202594,-6.064352022403064,-5.658268670775475,-4.475202808163658,-1.5857132391033169,-1.8616936145411849,7.464798466472956,6.503971246034261,0.6427288963145994,-8.64157359605328,5.722343832218154,-6.524055028997033,2.3834587622570993,-2.8061069656983157,4.754142456568495,-6.5235862462737675,-5.672323682905955,2.5992586982417443,9.093031737861253,-7.949482403770746,-5.193228279251098,2.790916838549034,-0.1708178913926126,-0.14005854284733488,-3.9226965114846024,6.372978033208941,7.432250062012759,9.926608861602382,1.5250345109425485,9.805346764800642,2.1687997835628323],\"xaxis\":\"x\",\"y\":[164.38900494134856,109.44772552318369,435.47715068207884,-226.95896274375622,159.5823988620017,0.9587006174929513,630.5677699014416,112.20472707421271,324.86700127258143,92.5268778498099,269.8468677998322,7.94994572649972,-311.1325077659619,290.95801113992815,-4.584758418151267,-18.61926629460691,170.93744485300653,-424.22052061758694,-5.920642460373308,160.47547453403948,195.7611436474107,-92.5379344211401,98.64433944088032,-106.6841512464861,229.43489253857433,727.7532120739917,170.74049016979535,8.010898761966736,-13.658136148099953,-44.925961757536264,-209.6058503144791,-23.18591993366391,-97.10080357314064,-39.183555196188266,14.1935704698333,276.25916750643063,119.29137440878692,-114.1652807622291,-357.82059026837356,191.74062613520323,-47.31769847062486,-180.01837054136786,36.94724009134232,145.27332613887316,-151.61193514004978,-76.23674025573823,-44.60815061619704,477.91093862560854,-292.38633871360366,-10.867154788922022,-64.10467780426458,42.51047370629925,-63.39273506983655,-98.42070146950715,108.56576425175356,374.08869170252603,802.6851065930193,-135.03705758753676,647.0330773694262,88.20340085860221],\"yaxis\":\"y\",\"type\":\"scatter\"},{\"hovertemplate\":\"X_test=%{x}<br>y_pred=%{y}<extra></extra>\",\"legendgroup\":\"\",\"marker\":{\"color\":\"lime\",\"symbol\":\"circle\"},\"mode\":\"markers\",\"name\":\"predictions\",\"orientation\":\"v\",\"showlegend\":true,\"x\":[5.709680770537446,5.708086862620988,9.651575699842962,-9.392386661015998,-4.075772270046332,-5.680984253596437,8.849006857443275,6.586250184279198,7.40613602742291,-0.4210359744855623,6.861417304478479,4.565152361164577,-8.98102434382021,6.808572269703813,-0.5910393187825882,-2.5569833311765233,4.892085612916988,-8.471104166629672,2.1248038956795057,3.7418589836183553,-4.463027752695012,-4.279846840779937,3.101120697393105,-2.420109319857861,6.230392180893247,9.8388066384559,6.001604101962897,0.5008733373016643,2.818230722899022,-4.5685157202594,-6.064352022403064,-5.658268670775475,-4.475202808163658,-1.5857132391033169,-1.8616936145411849,7.464798466472956,6.503971246034261,0.6427288963145994,-8.64157359605328,5.722343832218154,-6.524055028997033,2.3834587622570993,-2.8061069656983157,4.754142456568495,-6.5235862462737675,-5.672323682905955,2.5992586982417443,9.093031737861253,-7.949482403770746,-5.193228279251098,2.790916838549034,-0.1708178913926126,-0.14005854284733488,-3.9226965114846024,6.372978033208941,7.432250062012759,9.926608861602382,1.5250345109425485,9.805346764800642,2.1687997835628323],\"xaxis\":\"x\",\"y\":[156.01322420806673,155.886268684692,596.7634263352194,-407.03038807105435,4.587054901328015,-43.979672032019536,491.96485245529436,233.3128554136845,318.34368658481367,-5.479482357041964,260.55097443442787,77.91925782912733,-346.5769184254599,255.21458676597902,-3.9126197028463423,12.066297495182177,97.551159245186,-278.9540982243653,-5.451720461159012,37.783202954622304,-2.5776015933973575,1.1315369763381966,15.355777870935523,11.524281470269791,200.1550443215612,621.5148871655712,180.10931708425971,-11.839841172186377,7.749253230335324,-4.986340868786369,-63.83047931222824,-42.9135201596774,-2.8452572476887985,5.655742079495017,7.98874970229906,324.85726583157987,225.4359487621508,-12.346054759935527,-300.6635097909905,157.02363059544086,-92.46770077520307,-1.3902518403820592,12.643940679243588,89.00779469224355,-92.43570513579687,-43.57176846551167,2.771639257244569,523.4676977642272,-218.06071840915635,-23.66133955280938,7.0857815664884,-7.621234269124017,-7.867722288235958,6.734956536084097,213.15514235681354,321.2366006942644,633.1239131448898,-11.304775251073238,617.0902296785694,-4.829930977846533],\"yaxis\":\"y\",\"type\":\"scatter\"},{\"hovertemplate\":\"<b>LOWESS trendline</b><br><br>X_test=%{x}<br>y_pred=%{y} <b>(trend)</b><extra></extra>\",\"legendgroup\":\"\",\"marker\":{\"color\":\"lime\",\"symbol\":\"circle\"},\"mode\":\"lines\",\"name\":\"\",\"showlegend\":true,\"x\":[-9.392386661015998,-8.98102434382021,-8.64157359605328,-8.471104166629672,-7.949482403770746,-6.524055028997033,-6.5235862462737675,-6.064352022403064,-5.680984253596437,-5.672323682905955,-5.658268670775475,-5.193228279251098,-4.5685157202594,-4.475202808163658,-4.463027752695012,-4.279846840779937,-4.075772270046332,-3.9226965114846024,-2.8061069656983157,-2.5569833311765233,-2.420109319857861,-1.8616936145411849,-1.5857132391033169,-0.5910393187825882,-0.4210359744855623,-0.1708178913926126,-0.14005854284733488,0.5008733373016643,0.6427288963145994,1.5250345109425485,2.1248038956795057,2.1687997835628323,2.3834587622570993,2.5992586982417443,2.790916838549034,2.818230722899022,3.101120697393105,3.7418589836183553,4.565152361164577,4.754142456568495,4.892085612916988,5.708086862620988,5.709680770537446,5.722343832218154,6.001604101962897,6.230392180893247,6.372978033208941,6.503971246034261,6.586250184279198,6.808572269703813,6.861417304478479,7.40613602742291,7.432250062012759,7.464798466472956,8.849006857443275,9.093031737861253,9.651575699842962,9.805346764800642,9.8388066384559,9.926608861602382],\"xaxis\":\"x\",\"y\":[-407.03038807105435,-346.5769184254599,-300.6635097909905,-278.9540982243653,-218.06071840915635,-92.46535071675825,-92.4361556771338,-63.83034387761037,-44.61860804599816,-44.22661618487275,-43.59146791805533,-24.135019519806068,-4.81308194416074,-2.918886258197151,-2.6751569780548317,0.9205350163192633,4.375994542027498,6.8841315950313335,12.455800318463384,11.429920386303614,10.649761622503211,7.487345644211246,5.571466858491696,-3.9137573937061068,-5.444248181681169,-7.511535439280623,-7.753014549830583,-11.65475537839884,-12.486607979327658,-8.250436509228614,-5.538333410645382,-4.802837813276462,-1.141608332575134,2.996071732843405,7.527018000397509,8.19378379803669,15.28811477309811,42.56249137361822,77.61906950239036,89.10254954730928,97.50909500566976,155.85067846424025,155.98357926345224,157.03962078737985,180.43476554929617,200.47195097673603,213.3280173956624,225.53781638280793,233.51140339736256,255.2671979869376,260.4756613471228,318.4811048125306,321.25398903523546,324.7103259479056,491.83366067923674,523.6978543323854,596.8579134409222,617.0994926134747,621.5061093447216,633.0731080619008],\"yaxis\":\"y\",\"type\":\"scatter\"}],                        {\"template\":{\"data\":{\"histogram2dcontour\":[{\"type\":\"histogram2dcontour\",\"colorbar\":{\"outlinewidth\":0,\"ticks\":\"\"},\"colorscale\":[[0.0,\"#0d0887\"],[0.1111111111111111,\"#46039f\"],[0.2222222222222222,\"#7201a8\"],[0.3333333333333333,\"#9c179e\"],[0.4444444444444444,\"#bd3786\"],[0.5555555555555556,\"#d8576b\"],[0.6666666666666666,\"#ed7953\"],[0.7777777777777778,\"#fb9f3a\"],[0.8888888888888888,\"#fdca26\"],[1.0,\"#f0f921\"]]}],\"choropleth\":[{\"type\":\"choropleth\",\"colorbar\":{\"outlinewidth\":0,\"ticks\":\"\"}}],\"histogram2d\":[{\"type\":\"histogram2d\",\"colorbar\":{\"outlinewidth\":0,\"ticks\":\"\"},\"colorscale\":[[0.0,\"#0d0887\"],[0.1111111111111111,\"#46039f\"],[0.2222222222222222,\"#7201a8\"],[0.3333333333333333,\"#9c179e\"],[0.4444444444444444,\"#bd3786\"],[0.5555555555555556,\"#d8576b\"],[0.6666666666666666,\"#ed7953\"],[0.7777777777777778,\"#fb9f3a\"],[0.8888888888888888,\"#fdca26\"],[1.0,\"#f0f921\"]]}],\"heatmap\":[{\"type\":\"heatmap\",\"colorbar\":{\"outlinewidth\":0,\"ticks\":\"\"},\"colorscale\":[[0.0,\"#0d0887\"],[0.1111111111111111,\"#46039f\"],[0.2222222222222222,\"#7201a8\"],[0.3333333333333333,\"#9c179e\"],[0.4444444444444444,\"#bd3786\"],[0.5555555555555556,\"#d8576b\"],[0.6666666666666666,\"#ed7953\"],[0.7777777777777778,\"#fb9f3a\"],[0.8888888888888888,\"#fdca26\"],[1.0,\"#f0f921\"]]}],\"heatmapgl\":[{\"type\":\"heatmapgl\",\"colorbar\":{\"outlinewidth\":0,\"ticks\":\"\"},\"colorscale\":[[0.0,\"#0d0887\"],[0.1111111111111111,\"#46039f\"],[0.2222222222222222,\"#7201a8\"],[0.3333333333333333,\"#9c179e\"],[0.4444444444444444,\"#bd3786\"],[0.5555555555555556,\"#d8576b\"],[0.6666666666666666,\"#ed7953\"],[0.7777777777777778,\"#fb9f3a\"],[0.8888888888888888,\"#fdca26\"],[1.0,\"#f0f921\"]]}],\"contourcarpet\":[{\"type\":\"contourcarpet\",\"colorbar\":{\"outlinewidth\":0,\"ticks\":\"\"}}],\"contour\":[{\"type\":\"contour\",\"colorbar\":{\"outlinewidth\":0,\"ticks\":\"\"},\"colorscale\":[[0.0,\"#0d0887\"],[0.1111111111111111,\"#46039f\"],[0.2222222222222222,\"#7201a8\"],[0.3333333333333333,\"#9c179e\"],[0.4444444444444444,\"#bd3786\"],[0.5555555555555556,\"#d8576b\"],[0.6666666666666666,\"#ed7953\"],[0.7777777777777778,\"#fb9f3a\"],[0.8888888888888888,\"#fdca26\"],[1.0,\"#f0f921\"]]}],\"surface\":[{\"type\":\"surface\",\"colorbar\":{\"outlinewidth\":0,\"ticks\":\"\"},\"colorscale\":[[0.0,\"#0d0887\"],[0.1111111111111111,\"#46039f\"],[0.2222222222222222,\"#7201a8\"],[0.3333333333333333,\"#9c179e\"],[0.4444444444444444,\"#bd3786\"],[0.5555555555555556,\"#d8576b\"],[0.6666666666666666,\"#ed7953\"],[0.7777777777777778,\"#fb9f3a\"],[0.8888888888888888,\"#fdca26\"],[1.0,\"#f0f921\"]]}],\"mesh3d\":[{\"type\":\"mesh3d\",\"colorbar\":{\"outlinewidth\":0,\"ticks\":\"\"}}],\"scatter\":[{\"fillpattern\":{\"fillmode\":\"overlay\",\"size\":10,\"solidity\":0.2},\"type\":\"scatter\"}],\"parcoords\":[{\"type\":\"parcoords\",\"line\":{\"colorbar\":{\"outlinewidth\":0,\"ticks\":\"\"}}}],\"scatterpolargl\":[{\"type\":\"scatterpolargl\",\"marker\":{\"colorbar\":{\"outlinewidth\":0,\"ticks\":\"\"}}}],\"bar\":[{\"error_x\":{\"color\":\"#2a3f5f\"},\"error_y\":{\"color\":\"#2a3f5f\"},\"marker\":{\"line\":{\"color\":\"#E5ECF6\",\"width\":0.5},\"pattern\":{\"fillmode\":\"overlay\",\"size\":10,\"solidity\":0.2}},\"type\":\"bar\"}],\"scattergeo\":[{\"type\":\"scattergeo\",\"marker\":{\"colorbar\":{\"outlinewidth\":0,\"ticks\":\"\"}}}],\"scatterpolar\":[{\"type\":\"scatterpolar\",\"marker\":{\"colorbar\":{\"outlinewidth\":0,\"ticks\":\"\"}}}],\"histogram\":[{\"marker\":{\"pattern\":{\"fillmode\":\"overlay\",\"size\":10,\"solidity\":0.2}},\"type\":\"histogram\"}],\"scattergl\":[{\"type\":\"scattergl\",\"marker\":{\"colorbar\":{\"outlinewidth\":0,\"ticks\":\"\"}}}],\"scatter3d\":[{\"type\":\"scatter3d\",\"line\":{\"colorbar\":{\"outlinewidth\":0,\"ticks\":\"\"}},\"marker\":{\"colorbar\":{\"outlinewidth\":0,\"ticks\":\"\"}}}],\"scattermapbox\":[{\"type\":\"scattermapbox\",\"marker\":{\"colorbar\":{\"outlinewidth\":0,\"ticks\":\"\"}}}],\"scatterternary\":[{\"type\":\"scatterternary\",\"marker\":{\"colorbar\":{\"outlinewidth\":0,\"ticks\":\"\"}}}],\"scattercarpet\":[{\"type\":\"scattercarpet\",\"marker\":{\"colorbar\":{\"outlinewidth\":0,\"ticks\":\"\"}}}],\"carpet\":[{\"aaxis\":{\"endlinecolor\":\"#2a3f5f\",\"gridcolor\":\"white\",\"linecolor\":\"white\",\"minorgridcolor\":\"white\",\"startlinecolor\":\"#2a3f5f\"},\"baxis\":{\"endlinecolor\":\"#2a3f5f\",\"gridcolor\":\"white\",\"linecolor\":\"white\",\"minorgridcolor\":\"white\",\"startlinecolor\":\"#2a3f5f\"},\"type\":\"carpet\"}],\"table\":[{\"cells\":{\"fill\":{\"color\":\"#EBF0F8\"},\"line\":{\"color\":\"white\"}},\"header\":{\"fill\":{\"color\":\"#C8D4E3\"},\"line\":{\"color\":\"white\"}},\"type\":\"table\"}],\"barpolar\":[{\"marker\":{\"line\":{\"color\":\"#E5ECF6\",\"width\":0.5},\"pattern\":{\"fillmode\":\"overlay\",\"size\":10,\"solidity\":0.2}},\"type\":\"barpolar\"}],\"pie\":[{\"automargin\":true,\"type\":\"pie\"}]},\"layout\":{\"autotypenumbers\":\"strict\",\"colorway\":[\"#636efa\",\"#EF553B\",\"#00cc96\",\"#ab63fa\",\"#FFA15A\",\"#19d3f3\",\"#FF6692\",\"#B6E880\",\"#FF97FF\",\"#FECB52\"],\"font\":{\"color\":\"#2a3f5f\"},\"hovermode\":\"closest\",\"hoverlabel\":{\"align\":\"left\"},\"paper_bgcolor\":\"white\",\"plot_bgcolor\":\"#E5ECF6\",\"polar\":{\"bgcolor\":\"#E5ECF6\",\"angularaxis\":{\"gridcolor\":\"white\",\"linecolor\":\"white\",\"ticks\":\"\"},\"radialaxis\":{\"gridcolor\":\"white\",\"linecolor\":\"white\",\"ticks\":\"\"}},\"ternary\":{\"bgcolor\":\"#E5ECF6\",\"aaxis\":{\"gridcolor\":\"white\",\"linecolor\":\"white\",\"ticks\":\"\"},\"baxis\":{\"gridcolor\":\"white\",\"linecolor\":\"white\",\"ticks\":\"\"},\"caxis\":{\"gridcolor\":\"white\",\"linecolor\":\"white\",\"ticks\":\"\"}},\"coloraxis\":{\"colorbar\":{\"outlinewidth\":0,\"ticks\":\"\"}},\"colorscale\":{\"sequential\":[[0.0,\"#0d0887\"],[0.1111111111111111,\"#46039f\"],[0.2222222222222222,\"#7201a8\"],[0.3333333333333333,\"#9c179e\"],[0.4444444444444444,\"#bd3786\"],[0.5555555555555556,\"#d8576b\"],[0.6666666666666666,\"#ed7953\"],[0.7777777777777778,\"#fb9f3a\"],[0.8888888888888888,\"#fdca26\"],[1.0,\"#f0f921\"]],\"sequentialminus\":[[0.0,\"#0d0887\"],[0.1111111111111111,\"#46039f\"],[0.2222222222222222,\"#7201a8\"],[0.3333333333333333,\"#9c179e\"],[0.4444444444444444,\"#bd3786\"],[0.5555555555555556,\"#d8576b\"],[0.6666666666666666,\"#ed7953\"],[0.7777777777777778,\"#fb9f3a\"],[0.8888888888888888,\"#fdca26\"],[1.0,\"#f0f921\"]],\"diverging\":[[0,\"#8e0152\"],[0.1,\"#c51b7d\"],[0.2,\"#de77ae\"],[0.3,\"#f1b6da\"],[0.4,\"#fde0ef\"],[0.5,\"#f7f7f7\"],[0.6,\"#e6f5d0\"],[0.7,\"#b8e186\"],[0.8,\"#7fbc41\"],[0.9,\"#4d9221\"],[1,\"#276419\"]]},\"xaxis\":{\"gridcolor\":\"white\",\"linecolor\":\"white\",\"ticks\":\"\",\"title\":{\"standoff\":15},\"zerolinecolor\":\"white\",\"automargin\":true,\"zerolinewidth\":2},\"yaxis\":{\"gridcolor\":\"white\",\"linecolor\":\"white\",\"ticks\":\"\",\"title\":{\"standoff\":15},\"zerolinecolor\":\"white\",\"automargin\":true,\"zerolinewidth\":2},\"scene\":{\"xaxis\":{\"backgroundcolor\":\"#E5ECF6\",\"gridcolor\":\"white\",\"linecolor\":\"white\",\"showbackground\":true,\"ticks\":\"\",\"zerolinecolor\":\"white\",\"gridwidth\":2},\"yaxis\":{\"backgroundcolor\":\"#E5ECF6\",\"gridcolor\":\"white\",\"linecolor\":\"white\",\"showbackground\":true,\"ticks\":\"\",\"zerolinecolor\":\"white\",\"gridwidth\":2},\"zaxis\":{\"backgroundcolor\":\"#E5ECF6\",\"gridcolor\":\"white\",\"linecolor\":\"white\",\"showbackground\":true,\"ticks\":\"\",\"zerolinecolor\":\"white\",\"gridwidth\":2}},\"shapedefaults\":{\"line\":{\"color\":\"#2a3f5f\"}},\"annotationdefaults\":{\"arrowcolor\":\"#2a3f5f\",\"arrowhead\":0,\"arrowwidth\":1},\"geo\":{\"bgcolor\":\"white\",\"landcolor\":\"#E5ECF6\",\"subunitcolor\":\"white\",\"showland\":true,\"showlakes\":true,\"lakecolor\":\"white\"},\"title\":{\"x\":0.05},\"mapbox\":{\"style\":\"light\"}}}},                        {\"responsive\": true}                    ).then(function(){\n",
              "                            \n",
              "var gd = document.getElementById('ddb8e1e0-5c7c-40c5-b013-22c5a9c93ef9');\n",
              "var x = new MutationObserver(function (mutations, observer) {{\n",
              "        var display = window.getComputedStyle(gd).display;\n",
              "        if (!display || display === 'none') {{\n",
              "            console.log([gd, 'removed!']);\n",
              "            Plotly.purge(gd);\n",
              "            observer.disconnect();\n",
              "        }}\n",
              "}});\n",
              "\n",
              "// Listen for the removal of the full notebook cells\n",
              "var notebookContainer = gd.closest('#notebook-container');\n",
              "if (notebookContainer) {{\n",
              "    x.observe(notebookContainer, {childList: true});\n",
              "}}\n",
              "\n",
              "// Listen for the clearing of the current output cell\n",
              "var outputEl = gd.closest('.output');\n",
              "if (outputEl) {{\n",
              "    x.observe(outputEl, {childList: true});\n",
              "}}\n",
              "\n",
              "                        })                };                            </script>        </div>\n",
              "</body>\n",
              "</html>"
            ]
          },
          "metadata": {}
        }
      ]
    },
    {
      "cell_type": "markdown",
      "source": [
        "Другое дело, прослеживается практически точное попадание"
      ],
      "metadata": {
        "id": "8qVv1RFqht4o"
      }
    },
    {
      "cell_type": "code",
      "source": [
        "plot_weights(model_lr_3.coef_)"
      ],
      "metadata": {
        "colab": {
          "base_uri": "https://localhost:8080/",
          "height": 542
        },
        "id": "0m-Pxtuih0bH",
        "outputId": "67972e33-c861-407c-ebe0-c60615f536b1"
      },
      "execution_count": null,
      "outputs": [
        {
          "output_type": "display_data",
          "data": {
            "text/html": [
              "<html>\n",
              "<head><meta charset=\"utf-8\" /></head>\n",
              "<body>\n",
              "    <div>            <script src=\"https://cdnjs.cloudflare.com/ajax/libs/mathjax/2.7.5/MathJax.js?config=TeX-AMS-MML_SVG\"></script><script type=\"text/javascript\">if (window.MathJax && window.MathJax.Hub && window.MathJax.Hub.Config) {window.MathJax.Hub.Config({SVG: {font: \"STIX-Web\"}});}</script>                <script type=\"text/javascript\">window.PlotlyConfig = {MathJaxConfig: 'local'};</script>\n",
              "        <script src=\"https://cdn.plot.ly/plotly-2.16.1.min.js\"></script>                <div id=\"f7685ccf-f66b-4270-a757-ee26141ef9f1\" class=\"plotly-graph-div\" style=\"height:525px; width:100%;\"></div>            <script type=\"text/javascript\">                                    window.PLOTLYENV=window.PLOTLYENV || {};                                    if (document.getElementById(\"f7685ccf-f66b-4270-a757-ee26141ef9f1\")) {                    Plotly.newPlot(                        \"f7685ccf-f66b-4270-a757-ee26141ef9f1\",                        [{\"alignmentgroup\":\"True\",\"hovertemplate\":\"c=<0<br>x=%{x}<br>y=%{y}<extra></extra>\",\"legendgroup\":\"<0\",\"marker\":{\"color\":\"red\",\"pattern\":{\"shape\":\"\"}},\"name\":\"<0\",\"offsetgroup\":\"<0\",\"orientation\":\"v\",\"showlegend\":true,\"textposition\":\"auto\",\"x\":[\"w0\",\"w3\",\"w4\"],\"xaxis\":\"x\",\"y\":[-7.2803997121055595,-0.017771820650263573,-0.0017359800742844378],\"yaxis\":\"y\",\"type\":\"bar\"},{\"alignmentgroup\":\"True\",\"hovertemplate\":\"c=>=0<br>x=%{x}<br>y=%{y}<extra></extra>\",\"legendgroup\":\">=0\",\"marker\":{\"color\":\"blue\",\"pattern\":{\"shape\":\"\"}},\"name\":\">=0\",\"offsetgroup\":\">=0\",\"orientation\":\"v\",\"showlegend\":true,\"textposition\":\"auto\",\"x\":[\"w1\",\"w2\"],\"xaxis\":\"x\",\"y\":[2.5508110351489037,0.8207962485909619],\"yaxis\":\"y\",\"type\":\"bar\"}],                        {\"template\":{\"data\":{\"histogram2dcontour\":[{\"type\":\"histogram2dcontour\",\"colorbar\":{\"outlinewidth\":0,\"ticks\":\"\"},\"colorscale\":[[0.0,\"#0d0887\"],[0.1111111111111111,\"#46039f\"],[0.2222222222222222,\"#7201a8\"],[0.3333333333333333,\"#9c179e\"],[0.4444444444444444,\"#bd3786\"],[0.5555555555555556,\"#d8576b\"],[0.6666666666666666,\"#ed7953\"],[0.7777777777777778,\"#fb9f3a\"],[0.8888888888888888,\"#fdca26\"],[1.0,\"#f0f921\"]]}],\"choropleth\":[{\"type\":\"choropleth\",\"colorbar\":{\"outlinewidth\":0,\"ticks\":\"\"}}],\"histogram2d\":[{\"type\":\"histogram2d\",\"colorbar\":{\"outlinewidth\":0,\"ticks\":\"\"},\"colorscale\":[[0.0,\"#0d0887\"],[0.1111111111111111,\"#46039f\"],[0.2222222222222222,\"#7201a8\"],[0.3333333333333333,\"#9c179e\"],[0.4444444444444444,\"#bd3786\"],[0.5555555555555556,\"#d8576b\"],[0.6666666666666666,\"#ed7953\"],[0.7777777777777778,\"#fb9f3a\"],[0.8888888888888888,\"#fdca26\"],[1.0,\"#f0f921\"]]}],\"heatmap\":[{\"type\":\"heatmap\",\"colorbar\":{\"outlinewidth\":0,\"ticks\":\"\"},\"colorscale\":[[0.0,\"#0d0887\"],[0.1111111111111111,\"#46039f\"],[0.2222222222222222,\"#7201a8\"],[0.3333333333333333,\"#9c179e\"],[0.4444444444444444,\"#bd3786\"],[0.5555555555555556,\"#d8576b\"],[0.6666666666666666,\"#ed7953\"],[0.7777777777777778,\"#fb9f3a\"],[0.8888888888888888,\"#fdca26\"],[1.0,\"#f0f921\"]]}],\"heatmapgl\":[{\"type\":\"heatmapgl\",\"colorbar\":{\"outlinewidth\":0,\"ticks\":\"\"},\"colorscale\":[[0.0,\"#0d0887\"],[0.1111111111111111,\"#46039f\"],[0.2222222222222222,\"#7201a8\"],[0.3333333333333333,\"#9c179e\"],[0.4444444444444444,\"#bd3786\"],[0.5555555555555556,\"#d8576b\"],[0.6666666666666666,\"#ed7953\"],[0.7777777777777778,\"#fb9f3a\"],[0.8888888888888888,\"#fdca26\"],[1.0,\"#f0f921\"]]}],\"contourcarpet\":[{\"type\":\"contourcarpet\",\"colorbar\":{\"outlinewidth\":0,\"ticks\":\"\"}}],\"contour\":[{\"type\":\"contour\",\"colorbar\":{\"outlinewidth\":0,\"ticks\":\"\"},\"colorscale\":[[0.0,\"#0d0887\"],[0.1111111111111111,\"#46039f\"],[0.2222222222222222,\"#7201a8\"],[0.3333333333333333,\"#9c179e\"],[0.4444444444444444,\"#bd3786\"],[0.5555555555555556,\"#d8576b\"],[0.6666666666666666,\"#ed7953\"],[0.7777777777777778,\"#fb9f3a\"],[0.8888888888888888,\"#fdca26\"],[1.0,\"#f0f921\"]]}],\"surface\":[{\"type\":\"surface\",\"colorbar\":{\"outlinewidth\":0,\"ticks\":\"\"},\"colorscale\":[[0.0,\"#0d0887\"],[0.1111111111111111,\"#46039f\"],[0.2222222222222222,\"#7201a8\"],[0.3333333333333333,\"#9c179e\"],[0.4444444444444444,\"#bd3786\"],[0.5555555555555556,\"#d8576b\"],[0.6666666666666666,\"#ed7953\"],[0.7777777777777778,\"#fb9f3a\"],[0.8888888888888888,\"#fdca26\"],[1.0,\"#f0f921\"]]}],\"mesh3d\":[{\"type\":\"mesh3d\",\"colorbar\":{\"outlinewidth\":0,\"ticks\":\"\"}}],\"scatter\":[{\"fillpattern\":{\"fillmode\":\"overlay\",\"size\":10,\"solidity\":0.2},\"type\":\"scatter\"}],\"parcoords\":[{\"type\":\"parcoords\",\"line\":{\"colorbar\":{\"outlinewidth\":0,\"ticks\":\"\"}}}],\"scatterpolargl\":[{\"type\":\"scatterpolargl\",\"marker\":{\"colorbar\":{\"outlinewidth\":0,\"ticks\":\"\"}}}],\"bar\":[{\"error_x\":{\"color\":\"#2a3f5f\"},\"error_y\":{\"color\":\"#2a3f5f\"},\"marker\":{\"line\":{\"color\":\"#E5ECF6\",\"width\":0.5},\"pattern\":{\"fillmode\":\"overlay\",\"size\":10,\"solidity\":0.2}},\"type\":\"bar\"}],\"scattergeo\":[{\"type\":\"scattergeo\",\"marker\":{\"colorbar\":{\"outlinewidth\":0,\"ticks\":\"\"}}}],\"scatterpolar\":[{\"type\":\"scatterpolar\",\"marker\":{\"colorbar\":{\"outlinewidth\":0,\"ticks\":\"\"}}}],\"histogram\":[{\"marker\":{\"pattern\":{\"fillmode\":\"overlay\",\"size\":10,\"solidity\":0.2}},\"type\":\"histogram\"}],\"scattergl\":[{\"type\":\"scattergl\",\"marker\":{\"colorbar\":{\"outlinewidth\":0,\"ticks\":\"\"}}}],\"scatter3d\":[{\"type\":\"scatter3d\",\"line\":{\"colorbar\":{\"outlinewidth\":0,\"ticks\":\"\"}},\"marker\":{\"colorbar\":{\"outlinewidth\":0,\"ticks\":\"\"}}}],\"scattermapbox\":[{\"type\":\"scattermapbox\",\"marker\":{\"colorbar\":{\"outlinewidth\":0,\"ticks\":\"\"}}}],\"scatterternary\":[{\"type\":\"scatterternary\",\"marker\":{\"colorbar\":{\"outlinewidth\":0,\"ticks\":\"\"}}}],\"scattercarpet\":[{\"type\":\"scattercarpet\",\"marker\":{\"colorbar\":{\"outlinewidth\":0,\"ticks\":\"\"}}}],\"carpet\":[{\"aaxis\":{\"endlinecolor\":\"#2a3f5f\",\"gridcolor\":\"white\",\"linecolor\":\"white\",\"minorgridcolor\":\"white\",\"startlinecolor\":\"#2a3f5f\"},\"baxis\":{\"endlinecolor\":\"#2a3f5f\",\"gridcolor\":\"white\",\"linecolor\":\"white\",\"minorgridcolor\":\"white\",\"startlinecolor\":\"#2a3f5f\"},\"type\":\"carpet\"}],\"table\":[{\"cells\":{\"fill\":{\"color\":\"#EBF0F8\"},\"line\":{\"color\":\"white\"}},\"header\":{\"fill\":{\"color\":\"#C8D4E3\"},\"line\":{\"color\":\"white\"}},\"type\":\"table\"}],\"barpolar\":[{\"marker\":{\"line\":{\"color\":\"#E5ECF6\",\"width\":0.5},\"pattern\":{\"fillmode\":\"overlay\",\"size\":10,\"solidity\":0.2}},\"type\":\"barpolar\"}],\"pie\":[{\"automargin\":true,\"type\":\"pie\"}]},\"layout\":{\"autotypenumbers\":\"strict\",\"colorway\":[\"#636efa\",\"#EF553B\",\"#00cc96\",\"#ab63fa\",\"#FFA15A\",\"#19d3f3\",\"#FF6692\",\"#B6E880\",\"#FF97FF\",\"#FECB52\"],\"font\":{\"color\":\"#2a3f5f\"},\"hovermode\":\"closest\",\"hoverlabel\":{\"align\":\"left\"},\"paper_bgcolor\":\"white\",\"plot_bgcolor\":\"#E5ECF6\",\"polar\":{\"bgcolor\":\"#E5ECF6\",\"angularaxis\":{\"gridcolor\":\"white\",\"linecolor\":\"white\",\"ticks\":\"\"},\"radialaxis\":{\"gridcolor\":\"white\",\"linecolor\":\"white\",\"ticks\":\"\"}},\"ternary\":{\"bgcolor\":\"#E5ECF6\",\"aaxis\":{\"gridcolor\":\"white\",\"linecolor\":\"white\",\"ticks\":\"\"},\"baxis\":{\"gridcolor\":\"white\",\"linecolor\":\"white\",\"ticks\":\"\"},\"caxis\":{\"gridcolor\":\"white\",\"linecolor\":\"white\",\"ticks\":\"\"}},\"coloraxis\":{\"colorbar\":{\"outlinewidth\":0,\"ticks\":\"\"}},\"colorscale\":{\"sequential\":[[0.0,\"#0d0887\"],[0.1111111111111111,\"#46039f\"],[0.2222222222222222,\"#7201a8\"],[0.3333333333333333,\"#9c179e\"],[0.4444444444444444,\"#bd3786\"],[0.5555555555555556,\"#d8576b\"],[0.6666666666666666,\"#ed7953\"],[0.7777777777777778,\"#fb9f3a\"],[0.8888888888888888,\"#fdca26\"],[1.0,\"#f0f921\"]],\"sequentialminus\":[[0.0,\"#0d0887\"],[0.1111111111111111,\"#46039f\"],[0.2222222222222222,\"#7201a8\"],[0.3333333333333333,\"#9c179e\"],[0.4444444444444444,\"#bd3786\"],[0.5555555555555556,\"#d8576b\"],[0.6666666666666666,\"#ed7953\"],[0.7777777777777778,\"#fb9f3a\"],[0.8888888888888888,\"#fdca26\"],[1.0,\"#f0f921\"]],\"diverging\":[[0,\"#8e0152\"],[0.1,\"#c51b7d\"],[0.2,\"#de77ae\"],[0.3,\"#f1b6da\"],[0.4,\"#fde0ef\"],[0.5,\"#f7f7f7\"],[0.6,\"#e6f5d0\"],[0.7,\"#b8e186\"],[0.8,\"#7fbc41\"],[0.9,\"#4d9221\"],[1,\"#276419\"]]},\"xaxis\":{\"gridcolor\":\"white\",\"linecolor\":\"white\",\"ticks\":\"\",\"title\":{\"standoff\":15},\"zerolinecolor\":\"white\",\"automargin\":true,\"zerolinewidth\":2},\"yaxis\":{\"gridcolor\":\"white\",\"linecolor\":\"white\",\"ticks\":\"\",\"title\":{\"standoff\":15},\"zerolinecolor\":\"white\",\"automargin\":true,\"zerolinewidth\":2},\"scene\":{\"xaxis\":{\"backgroundcolor\":\"#E5ECF6\",\"gridcolor\":\"white\",\"linecolor\":\"white\",\"showbackground\":true,\"ticks\":\"\",\"zerolinecolor\":\"white\",\"gridwidth\":2},\"yaxis\":{\"backgroundcolor\":\"#E5ECF6\",\"gridcolor\":\"white\",\"linecolor\":\"white\",\"showbackground\":true,\"ticks\":\"\",\"zerolinecolor\":\"white\",\"gridwidth\":2},\"zaxis\":{\"backgroundcolor\":\"#E5ECF6\",\"gridcolor\":\"white\",\"linecolor\":\"white\",\"showbackground\":true,\"ticks\":\"\",\"zerolinecolor\":\"white\",\"gridwidth\":2}},\"shapedefaults\":{\"line\":{\"color\":\"#2a3f5f\"}},\"annotationdefaults\":{\"arrowcolor\":\"#2a3f5f\",\"arrowhead\":0,\"arrowwidth\":1},\"geo\":{\"bgcolor\":\"white\",\"landcolor\":\"#E5ECF6\",\"subunitcolor\":\"white\",\"showland\":true,\"showlakes\":true,\"lakecolor\":\"white\"},\"title\":{\"x\":0.05},\"mapbox\":{\"style\":\"light\"}}},\"xaxis\":{\"anchor\":\"y\",\"domain\":[0.0,1.0],\"title\":{\"text\":\"x\"},\"categoryorder\":\"array\",\"categoryarray\":[\"w0\",\"w1\",\"w2\",\"w3\",\"w4\"]},\"yaxis\":{\"anchor\":\"x\",\"domain\":[0.0,1.0],\"title\":{\"text\":\"y\"}},\"legend\":{\"title\":{\"text\":\"c\"},\"tracegroupgap\":0},\"margin\":{\"t\":60},\"barmode\":\"relative\"},                        {\"responsive\": true}                    ).then(function(){\n",
              "                            \n",
              "var gd = document.getElementById('f7685ccf-f66b-4270-a757-ee26141ef9f1');\n",
              "var x = new MutationObserver(function (mutations, observer) {{\n",
              "        var display = window.getComputedStyle(gd).display;\n",
              "        if (!display || display === 'none') {{\n",
              "            console.log([gd, 'removed!']);\n",
              "            Plotly.purge(gd);\n",
              "            observer.disconnect();\n",
              "        }}\n",
              "}});\n",
              "\n",
              "// Listen for the removal of the full notebook cells\n",
              "var notebookContainer = gd.closest('#notebook-container');\n",
              "if (notebookContainer) {{\n",
              "    x.observe(notebookContainer, {childList: true});\n",
              "}}\n",
              "\n",
              "// Listen for the clearing of the current output cell\n",
              "var outputEl = gd.closest('.output');\n",
              "if (outputEl) {{\n",
              "    x.observe(outputEl, {childList: true});\n",
              "}}\n",
              "\n",
              "                        })                };                            </script>        </div>\n",
              "</body>\n",
              "</html>"
            ]
          },
          "metadata": {}
        }
      ]
    },
    {
      "cell_type": "markdown",
      "source": [
        "Если приблизить два последних веса на графике, то будет видно, что они не нулевые, а главный вес у одной фичи, так как она описывает функцию, которая была в основе генерации данных"
      ],
      "metadata": {
        "id": "2jK2rt6Ti4it"
      }
    },
    {
      "cell_type": "markdown",
      "source": [
        "### Ridge регуляризация"
      ],
      "metadata": {
        "id": "SAJK4QBjjHGB"
      }
    },
    {
      "cell_type": "code",
      "source": [
        "model_r_3 = Ridge().fit(X_train_3_, y_train_3)\n",
        "\n",
        "y_pred_r_3 = model_r_3.predict(X_test_3_)\n",
        "\n",
        "print(f'R2 score: {r2_score(y_test_3, y_pred_r_3)}')\n",
        "print(f'MAE: {mean_absolute_error(y_test_3, y_pred_r_3)}')\n",
        "print(f'MSE: {mean_squared_error(y_test_3, y_pred_r_3)}')"
      ],
      "metadata": {
        "colab": {
          "base_uri": "https://localhost:8080/"
        },
        "id": "PuuO2FBpjMIW",
        "outputId": "817e24c2-89ea-4f56-a70d-1554f431158a"
      },
      "execution_count": null,
      "outputs": [
        {
          "output_type": "stream",
          "name": "stdout",
          "text": [
            "R2 score: 0.8726011914818962\n",
            "MAE: 71.57934965689\n",
            "MSE: 7772.009426844497\n"
          ]
        }
      ]
    },
    {
      "cell_type": "markdown",
      "source": [
        "Видим, что совсем чутка лучше, попробуем задать параметр alpha побольше"
      ],
      "metadata": {
        "id": "xL8tW-4UjZIh"
      }
    },
    {
      "cell_type": "code",
      "source": [
        "model_r_3 = Ridge(alpha=5).fit(X_train_3_, y_train_3)\n",
        "\n",
        "y_pred_r_3 = model_r_3.predict(X_test_3_)\n",
        "\n",
        "print(f'R2 score: {r2_score(y_test_3, y_pred_r_3)}')\n",
        "print(f'MAE: {mean_absolute_error(y_test_3, y_pred_r_3)}')\n",
        "print(f'MSE: {mean_squared_error(y_test_3, y_pred_r_3)}')"
      ],
      "metadata": {
        "colab": {
          "base_uri": "https://localhost:8080/"
        },
        "id": "41POitUejGWD",
        "outputId": "c6d5ee55-ab45-4409-96a2-aea26150e8f4"
      },
      "execution_count": null,
      "outputs": [
        {
          "output_type": "stream",
          "name": "stdout",
          "text": [
            "R2 score: 0.8726037116900817\n",
            "MAE: 71.57953492926474\n",
            "MSE: 7771.855680651707\n"
          ]
        }
      ]
    },
    {
      "cell_type": "markdown",
      "source": [
        "Другое дело, посмотрим на график и веса"
      ],
      "metadata": {
        "id": "_6uMqhlUjpGG"
      }
    },
    {
      "cell_type": "code",
      "source": [
        "plot_test(X_train_3, X_test_3, y_train_3, y_test_3, y_pred_r_3)"
      ],
      "metadata": {
        "colab": {
          "base_uri": "https://localhost:8080/",
          "height": 542
        },
        "id": "_JJJfnXejvIK",
        "outputId": "59ecbf1a-8fcd-4307-bb3e-8933e293dd35"
      },
      "execution_count": null,
      "outputs": [
        {
          "output_type": "display_data",
          "data": {
            "text/html": [
              "<html>\n",
              "<head><meta charset=\"utf-8\" /></head>\n",
              "<body>\n",
              "    <div>            <script src=\"https://cdnjs.cloudflare.com/ajax/libs/mathjax/2.7.5/MathJax.js?config=TeX-AMS-MML_SVG\"></script><script type=\"text/javascript\">if (window.MathJax && window.MathJax.Hub && window.MathJax.Hub.Config) {window.MathJax.Hub.Config({SVG: {font: \"STIX-Web\"}});}</script>                <script type=\"text/javascript\">window.PlotlyConfig = {MathJaxConfig: 'local'};</script>\n",
              "        <script src=\"https://cdn.plot.ly/plotly-2.16.1.min.js\"></script>                <div id=\"5b43f8ff-b4e8-40af-a947-c73300482fad\" class=\"plotly-graph-div\" style=\"height:525px; width:100%;\"></div>            <script type=\"text/javascript\">                                    window.PLOTLYENV=window.PLOTLYENV || {};                                    if (document.getElementById(\"5b43f8ff-b4e8-40af-a947-c73300482fad\")) {                    Plotly.newPlot(                        \"5b43f8ff-b4e8-40af-a947-c73300482fad\",                        [{\"hovertemplate\":\"train=%{x}<br>y_train=%{y}<extra></extra>\",\"legendgroup\":\"\",\"marker\":{\"color\":\"#636efa\",\"symbol\":\"circle\"},\"mode\":\"markers\",\"name\":\"train\",\"orientation\":\"v\",\"showlegend\":true,\"x\":[4.463936422065711,-4.763530796868802,-8.410200555415276,1.7203540953649181,-1.388616905596134,-3.359663175536822,4.805832422459188,5.077382906866944,9.756331163767126,4.899435630660111,-3.9416425724116566,-8.563151096375933,-6.402719924976226,-2.794602164625526,2.557563805424918,7.932785394720508,7.830895167188476,-8.765189254707849,9.299111590880859,-9.79946112023403,-6.183432936755857,7.283011681761462,-2.414503323011525,8.276256745964972,6.113715995074212,5.1008550637115775,2.190570790364907,-1.7276937586695666,9.190273165371952,-7.87058299658038,-3.9478634340324774,-0.4880085370235161,4.00147822454004,-0.07919611276555116,8.995763809846686,1.518138112280539,-2.9550245320976583,0.1145368833482685,-5.336968758320544,1.835564856066064,8.50953150991608,-0.4110086886960076,-9.41002963308,6.317904049348893,8.157722478740588,-4.061074233578285,-4.786583206061019,-4.962363018984668,8.73884800471998,9.217119767480153,-1.8761429092715716,-6.37374552760591,-3.5847411276240653,-8.485600946372383,-9.893205817571447,-8.881879243265313,-6.86464992359676,6.119428755622163,-0.3532225301812417,-6.298967878230027,1.6712547764110592,-1.2492566717839715,6.153117447938126,-7.734095044469433,5.555736172218831,-1.01632690512497,3.7284532573882974,-5.614006515459353,-3.654575766142518,1.7085435850749757,-6.30070488407279,6.396156504353694,-0.03391818102696931,-6.861361957380085,-6.752744544012876,9.953077208895309,-6.079160702933615,-0.9161132326131831,6.642764139015714,-6.447407370845535,-5.303184933509035,8.551465649551922,-2.4739449961266136,3.0157143537945075,-0.7400443381796471,-4.186263915954513,-2.6120685663076326,-4.671292594775503,7.746023753043222,-4.984632713287091,3.6684502491011646,2.751329022747676,-8.684579083335473,-9.358334573422784,-1.1529891268390031,-9.88884915005612,-5.196755741064816,4.197728167628963,7.8768952627096525,-9.199772536010578,8.378440461267719,-5.40427093587823,4.716348601080094,3.454818502781688,4.622543625659327,3.6275115379694647,-0.010388616624208424,-8.973280246609434,2.474852543476217,1.9474937801876209,-7.622440817269993,-7.094611199202472,-9.392392203626407,-6.52803540050866,0.9270517446139692,5.366377687406425,-5.830757080851474,-5.695392173543874,-3.5087419483092708,-4.3028136948080675,6.6752678001757495,2.5266501812360715,1.7072137861118755,-9.318120839913375,-4.283918423922506,-2.0787161682954984,3.5312961616314276,5.121309061346489,0.080162149856708,-4.914774035263898,-5.812831117781013,-2.3158226285144696,-5.81905222540414,-4.9790730667265715,-5.64589506750573,-6.162450161324921,-6.390505053949392,-8.4089720508011,-0.7727601092136283,-2.70061567320907,6.847099112984914,-9.697773951963963,1.2998242284531454,-7.709639081833668,-4.333195997964527,2.7378809645436313,8.214701523545667,-3.541978695895846,5.851899341506861,1.4139245711381925,0.15483523541794675,7.651323226902573,-0.8428883248654184,-6.161350523839133,-7.796082993486251,-5.107562819269919,-0.9088262531239337,6.190539271185088,8.204034052948181,3.2743818814713936,7.953495299731909,2.924994026517636,1.2724779891367568,6.36000622858662,3.5745637237693373,4.908848764384253,-3.282250507261364,6.253634602878112,-2.3219198032457093,-3.558402175141895,4.9207663345970225,-3.16632966452699,9.223665054887825,8.38328164657226,-4.471580460462297,7.899370220986693,5.38756956433307,1.3250577972325832,-1.0519457650527002,7.7248608821562925,-0.5270114761085782,9.830852351443788,8.723034716621846,7.170175721535024,-4.53448760826457,-1.6052313773145706,7.719370259591319,3.9441910598675793,-8.38717214525319,-1.5677544226458124,-9.976791254583011,9.094565313142098,-8.20962316172632,2.095080407630011,0.7435993583338423,0.776584267983333,-4.8819904082774475,4.829750156390887,3.3766017268198603,1.001432786707138,0.46829137374760776,-0.5498907050754003,3.778873373511768,4.637678633418554,2.9583105941783465,-5.116906310515774,7.618756769033013,8.08218950593061,-4.118868303974786,-1.935114964101679,9.399342322262761,-3.640048227309638,7.627599001031829,-3.793419404952192,6.4819530106699155,4.073827512174056,6.995250257398602,7.08539070396008,-7.052939019855233,-3.48564868136555,-9.734604830426619,-0.6266198254955118,-8.443611080857371,-4.7767267068547525,-9.168325358293838,7.710526934934382,-0.2834430312750271,2.884342499154366,-4.203544124146211,-8.69932035775179,-2.262467816038205,3.5122813699566144,-5.118120300633608,-5.05607214641052,1.7835458262476784,-3.742984725661424,-4.672950766142314,-7.010210306002218,-8.473372522891703,-3.1927630603573736],\"xaxis\":\"x\",\"y\":[-49.4111073730262,-57.14078230048166,-278.05892612202507,120.4099553986259,-149.3231557961126,17.539737671677237,206.63383083314503,62.89209554092422,474.9196623442929,-93.57305462049098,-21.432779862387036,-264.6108022411547,46.22014832115357,56.79171776245623,168.09299306479093,386.43329596022846,560.6455210226558,-265.6851185835825,588.7063334263271,-488.8764102868613,-48.233112602776714,220.24918311612385,-55.22478801664968,472.35948949111497,273.0777312638241,93.8574506186295,-33.40523486801882,37.149803099521165,597.8683916581047,-245.60235930621556,191.43395164548025,-215.64192633415777,70.28646431073354,-135.46416417348897,435.67035160609487,-191.8276173539705,96.23648833735486,88.42144772722997,-121.39983439439857,-66.06051507349197,582.4577920329803,-22.878284043003084,-453.5057216708155,193.40642509049775,323.3420232104004,-38.39873125782043,151.9322798158064,-90.78271158654277,413.15905129978654,701.8205374687536,42.801535048653975,-67.92342795585073,-76.78868281265144,-339.17169958588414,-581.0207286309537,-327.45061414398367,-128.41959346148928,150.628765075527,-179.8665835510019,-213.45861530481966,-34.107933354029626,21.649316604225294,113.96473766967935,-148.77842315258573,5.80730330691398,-105.65431897549153,22.689630672981973,-174.01615225834365,-155.1991433345016,197.12256544008332,-52.2516820945661,136.23192820640958,-121.71578160500151,30.673107934553855,-38.89847791449428,573.6448576333897,-211.7788137747856,-2.5749637798767333,407.6140874597305,-255.76383169169307,21.283856249589988,515.5076511901995,-10.305868881612557,-74.00615651199203,-105.94942517239399,3.346906208719087,-117.11099695764868,32.73353481882726,201.40587993492892,-74.86791203679213,162.29814536276263,133.89134374100607,-174.37344372877016,-426.6327120746763,68.48580930186577,-384.3657018076853,37.84019760305522,-54.690467322294026,338.34479242780674,-466.6993807303603,535.6061515421969,-119.51101820930734,113.51319805920897,-141.59741545271805,148.66834771643303,64.307147381981,85.42090952215163,-435.076660017526,19.3614213713002,89.40568477285265,-157.08789145246016,-113.40056851899443,-314.13996684036334,10.727305963864453,34.080561171746815,140.19151122113627,27.510803178692612,35.224408089052986,96.35660364680889,107.63364361571652,264.6728779555466,39.99546242082746,-108.4125584036364,-395.9908201121856,2.582886019820588,81.87200928091664,76.68510070647443,138.63079093874663,31.151853960439073,74.2783755039091,159.02843876327597,93.259697747795,-128.60418679247763,-5.114517460407853,-95.73386275013063,76.02370390956837,-226.12617473951056,-224.78830863777137,-126.83840346180419,42.83318700618102,51.450136678281865,-377.05838119864046,-51.558453141559355,-244.85135788631635,21.955895590115382,82.77008294947777,322.62551382424004,42.34692105841219,122.99703012624582,111.76759487874098,-114.6655890298768,285.70516742662755,-154.35267919868974,-279.3842014336691,-229.66850122719325,-19.99919002067758,-44.4173626094035,284.4248684999188,395.3279392628401,84.2422493383422,346.967080099734,92.62569942512673,6.089707038883976,-27.50908988428432,129.24408871085365,37.71659343604817,57.31445801482137,141.59885575238337,49.473070055235766,125.89754426895949,146.80374173256212,53.09752348883289,403.8216316455473,556.6939625233215,-142.91225272642492,565.5451638267402,201.2848685826102,183.87249884168637,-59.85695780416373,450.3099665121537,254.22159168880478,785.8070550047112,396.51838167384267,378.1824722258862,-166.87868214981364,-133.28355534962535,415.9091648578659,-97.55521995035245,-265.28515461311855,133.79802649029685,-528.9189728140526,361.9587664479669,-382.1119313133411,-48.032993458131806,10.804940128046615,90.50634450091522,-31.625735856164045,200.56430322213924,-50.93995869705231,44.18148549514585,-30.93503384236002,-87.03723626488424,159.78134742412504,100.42166777775424,-179.11022103785484,140.87729493326214,361.3696707199264,414.503521041255,-112.69877380642954,95.37516199720457,478.2082624980857,65.81937076023989,568.9506675048852,105.3883136506823,39.857894465024,18.31630967796692,310.10503614149934,311.7633246059828,-70.10782915016895,53.2462645446288,-495.19300440065064,-48.61514975636548,-210.152044666186,-69.22482360506864,-348.4049133315476,360.3973021366284,85.13110832976375,148.92999785852447,32.321124877372576,-323.69456925222823,190.26405476550772,-112.83580848443054,-2.3572748153483687,-96.5359207621575,-70.25508400581258,-31.400199058997103,-142.0111081518601,-50.80352518444997,-318.25856866816645,-27.34339044606123],\"yaxis\":\"y\",\"type\":\"scatter\"},{\"hovertemplate\":\"X_test=%{x}<br>y_test=%{y}<extra></extra>\",\"legendgroup\":\"\",\"marker\":{\"color\":\"red\",\"symbol\":\"circle\"},\"mode\":\"markers\",\"name\":\"test\",\"orientation\":\"v\",\"showlegend\":true,\"x\":[5.709680770537446,5.708086862620988,9.651575699842962,-9.392386661015998,-4.075772270046332,-5.680984253596437,8.849006857443275,6.586250184279198,7.40613602742291,-0.4210359744855623,6.861417304478479,4.565152361164577,-8.98102434382021,6.808572269703813,-0.5910393187825882,-2.5569833311765233,4.892085612916988,-8.471104166629672,2.1248038956795057,3.7418589836183553,-4.463027752695012,-4.279846840779937,3.101120697393105,-2.420109319857861,6.230392180893247,9.8388066384559,6.001604101962897,0.5008733373016643,2.818230722899022,-4.5685157202594,-6.064352022403064,-5.658268670775475,-4.475202808163658,-1.5857132391033169,-1.8616936145411849,7.464798466472956,6.503971246034261,0.6427288963145994,-8.64157359605328,5.722343832218154,-6.524055028997033,2.3834587622570993,-2.8061069656983157,4.754142456568495,-6.5235862462737675,-5.672323682905955,2.5992586982417443,9.093031737861253,-7.949482403770746,-5.193228279251098,2.790916838549034,-0.1708178913926126,-0.14005854284733488,-3.9226965114846024,6.372978033208941,7.432250062012759,9.926608861602382,1.5250345109425485,9.805346764800642,2.1687997835628323],\"xaxis\":\"x\",\"y\":[164.38900494134856,109.44772552318369,435.47715068207884,-226.95896274375622,159.5823988620017,0.9587006174929513,630.5677699014416,112.20472707421271,324.86700127258143,92.5268778498099,269.8468677998322,7.94994572649972,-311.1325077659619,290.95801113992815,-4.584758418151267,-18.61926629460691,170.93744485300653,-424.22052061758694,-5.920642460373308,160.47547453403948,195.7611436474107,-92.5379344211401,98.64433944088032,-106.6841512464861,229.43489253857433,727.7532120739917,170.74049016979535,8.010898761966736,-13.658136148099953,-44.925961757536264,-209.6058503144791,-23.18591993366391,-97.10080357314064,-39.183555196188266,14.1935704698333,276.25916750643063,119.29137440878692,-114.1652807622291,-357.82059026837356,191.74062613520323,-47.31769847062486,-180.01837054136786,36.94724009134232,145.27332613887316,-151.61193514004978,-76.23674025573823,-44.60815061619704,477.91093862560854,-292.38633871360366,-10.867154788922022,-64.10467780426458,42.51047370629925,-63.39273506983655,-98.42070146950715,108.56576425175356,374.08869170252603,802.6851065930193,-135.03705758753676,647.0330773694262,88.20340085860221],\"yaxis\":\"y\",\"type\":\"scatter\"},{\"hovertemplate\":\"X_test=%{x}<br>y_pred=%{y}<extra></extra>\",\"legendgroup\":\"\",\"marker\":{\"color\":\"lime\",\"symbol\":\"circle\"},\"mode\":\"markers\",\"name\":\"predictions\",\"orientation\":\"v\",\"showlegend\":true,\"x\":[5.709680770537446,5.708086862620988,9.651575699842962,-9.392386661015998,-4.075772270046332,-5.680984253596437,8.849006857443275,6.586250184279198,7.40613602742291,-0.4210359744855623,6.861417304478479,4.565152361164577,-8.98102434382021,6.808572269703813,-0.5910393187825882,-2.5569833311765233,4.892085612916988,-8.471104166629672,2.1248038956795057,3.7418589836183553,-4.463027752695012,-4.279846840779937,3.101120697393105,-2.420109319857861,6.230392180893247,9.8388066384559,6.001604101962897,0.5008733373016643,2.818230722899022,-4.5685157202594,-6.064352022403064,-5.658268670775475,-4.475202808163658,-1.5857132391033169,-1.8616936145411849,7.464798466472956,6.503971246034261,0.6427288963145994,-8.64157359605328,5.722343832218154,-6.524055028997033,2.3834587622570993,-2.8061069656983157,4.754142456568495,-6.5235862462737675,-5.672323682905955,2.5992586982417443,9.093031737861253,-7.949482403770746,-5.193228279251098,2.790916838549034,-0.1708178913926126,-0.14005854284733488,-3.9226965114846024,6.372978033208941,7.432250062012759,9.926608861602382,1.5250345109425485,9.805346764800642,2.1687997835628323],\"xaxis\":\"x\",\"y\":[156.07509616413682,155.9482813268395,596.890470307277,-407.0387859897443,4.435961954432004,-44.02811455730773,491.92356898688627,233.296419642592,318.2690748080637,-5.49872723543626,260.5120040328603,78.06743501007112,-346.5145584691806,255.17977096866377,-3.945883170564123,11.913191611961619,97.67851885270967,-278.84738389127125,-5.286883085417841,37.965402605263435,-2.7122878401470425,0.9883169910554344,15.544312257218653,11.375727918700434,200.1700278267819,621.7042661203092,180.14501793537005,-11.781921383608392,7.934908591596713,-5.115505366506472,-63.844791216557404,-42.963926376030464,-2.9793284800823887,5.549089842118724,7.86576742273494,324.779822633365,225.4266112663721,-12.27666612352076,-300.5669882505252,157.08438372598567,-92.44051510862914,-1.2154723428121983,12.484438544046856,89.14439126349025,-92.4085609624962,-43.62096068340699,2.9527656960209097,523.4625504014195,-217.94626331157752,-23.749579100603626,7.270979877275181,-7.619507764804558,-7.863402006344972,6.579122322887715,213.1573411907093,321.1606993215504,633.3460469363373,-11.171740701279816,617.2677313495794,-4.6632297935282],\"yaxis\":\"y\",\"type\":\"scatter\"},{\"hovertemplate\":\"<b>LOWESS trendline</b><br><br>X_test=%{x}<br>y_pred=%{y} <b>(trend)</b><extra></extra>\",\"legendgroup\":\"\",\"marker\":{\"color\":\"lime\",\"symbol\":\"circle\"},\"mode\":\"lines\",\"name\":\"\",\"showlegend\":true,\"x\":[-9.392386661015998,-8.98102434382021,-8.64157359605328,-8.471104166629672,-7.949482403770746,-6.524055028997033,-6.5235862462737675,-6.064352022403064,-5.680984253596437,-5.672323682905955,-5.658268670775475,-5.193228279251098,-4.5685157202594,-4.475202808163658,-4.463027752695012,-4.279846840779937,-4.075772270046332,-3.9226965114846024,-2.8061069656983157,-2.5569833311765233,-2.420109319857861,-1.8616936145411849,-1.5857132391033169,-0.5910393187825882,-0.4210359744855623,-0.1708178913926126,-0.14005854284733488,0.5008733373016643,0.6427288963145994,1.5250345109425485,2.1248038956795057,2.1687997835628323,2.3834587622570993,2.5992586982417443,2.790916838549034,2.818230722899022,3.101120697393105,3.7418589836183553,4.565152361164577,4.754142456568495,4.892085612916988,5.708086862620988,5.709680770537446,5.722343832218154,6.001604101962897,6.230392180893247,6.372978033208941,6.503971246034261,6.586250184279198,6.808572269703813,6.861417304478479,7.40613602742291,7.432250062012759,7.464798466472956,8.849006857443275,9.093031737861253,9.651575699842962,9.805346764800642,9.8388066384559,9.926608861602382],\"xaxis\":\"x\",\"y\":[-407.0387859897443,-346.5145584691806,-300.5669882505252,-278.84738389127125,-217.94626331157752,-92.43816475156643,-92.40901202880225,-63.84465585418027,-44.66658840543754,-44.275326082414516,-43.64136102073149,-24.221663152983865,-4.942566229177847,-3.052728496230076,-2.8095610971198393,0.7777463037603023,4.225263402250169,6.7278873065468705,12.298969326141,11.28341285341828,10.509128055323039,7.369798600317328,5.465565869316932,-3.9467556039607703,-5.463333359648411,-7.5099199453936984,-7.7488569222018535,-11.596939215227255,-12.416978186829592,-8.124067486821776,-5.373128521748713,-4.636064721800679,-0.9673847333069128,3.1766401005644047,7.711880588981545,8.37910533140499,15.477169623049132,42.76845857577623,77.79199515802021,89.24699898463278,97.6319277647552,155.9129238744041,156.04567916389038,157.100564412091,180.47061586537495,200.48704410268877,213.3298782559817,225.52844945654118,233.49531628225222,255.23257689482068,260.4365899682623,318.40693508704493,321.17811823177306,324.63233528736623,491.7884374477126,523.704725011372,596.9940831207675,617.2793097351994,621.6956900887435,633.2887352562403],\"yaxis\":\"y\",\"type\":\"scatter\"}],                        {\"template\":{\"data\":{\"histogram2dcontour\":[{\"type\":\"histogram2dcontour\",\"colorbar\":{\"outlinewidth\":0,\"ticks\":\"\"},\"colorscale\":[[0.0,\"#0d0887\"],[0.1111111111111111,\"#46039f\"],[0.2222222222222222,\"#7201a8\"],[0.3333333333333333,\"#9c179e\"],[0.4444444444444444,\"#bd3786\"],[0.5555555555555556,\"#d8576b\"],[0.6666666666666666,\"#ed7953\"],[0.7777777777777778,\"#fb9f3a\"],[0.8888888888888888,\"#fdca26\"],[1.0,\"#f0f921\"]]}],\"choropleth\":[{\"type\":\"choropleth\",\"colorbar\":{\"outlinewidth\":0,\"ticks\":\"\"}}],\"histogram2d\":[{\"type\":\"histogram2d\",\"colorbar\":{\"outlinewidth\":0,\"ticks\":\"\"},\"colorscale\":[[0.0,\"#0d0887\"],[0.1111111111111111,\"#46039f\"],[0.2222222222222222,\"#7201a8\"],[0.3333333333333333,\"#9c179e\"],[0.4444444444444444,\"#bd3786\"],[0.5555555555555556,\"#d8576b\"],[0.6666666666666666,\"#ed7953\"],[0.7777777777777778,\"#fb9f3a\"],[0.8888888888888888,\"#fdca26\"],[1.0,\"#f0f921\"]]}],\"heatmap\":[{\"type\":\"heatmap\",\"colorbar\":{\"outlinewidth\":0,\"ticks\":\"\"},\"colorscale\":[[0.0,\"#0d0887\"],[0.1111111111111111,\"#46039f\"],[0.2222222222222222,\"#7201a8\"],[0.3333333333333333,\"#9c179e\"],[0.4444444444444444,\"#bd3786\"],[0.5555555555555556,\"#d8576b\"],[0.6666666666666666,\"#ed7953\"],[0.7777777777777778,\"#fb9f3a\"],[0.8888888888888888,\"#fdca26\"],[1.0,\"#f0f921\"]]}],\"heatmapgl\":[{\"type\":\"heatmapgl\",\"colorbar\":{\"outlinewidth\":0,\"ticks\":\"\"},\"colorscale\":[[0.0,\"#0d0887\"],[0.1111111111111111,\"#46039f\"],[0.2222222222222222,\"#7201a8\"],[0.3333333333333333,\"#9c179e\"],[0.4444444444444444,\"#bd3786\"],[0.5555555555555556,\"#d8576b\"],[0.6666666666666666,\"#ed7953\"],[0.7777777777777778,\"#fb9f3a\"],[0.8888888888888888,\"#fdca26\"],[1.0,\"#f0f921\"]]}],\"contourcarpet\":[{\"type\":\"contourcarpet\",\"colorbar\":{\"outlinewidth\":0,\"ticks\":\"\"}}],\"contour\":[{\"type\":\"contour\",\"colorbar\":{\"outlinewidth\":0,\"ticks\":\"\"},\"colorscale\":[[0.0,\"#0d0887\"],[0.1111111111111111,\"#46039f\"],[0.2222222222222222,\"#7201a8\"],[0.3333333333333333,\"#9c179e\"],[0.4444444444444444,\"#bd3786\"],[0.5555555555555556,\"#d8576b\"],[0.6666666666666666,\"#ed7953\"],[0.7777777777777778,\"#fb9f3a\"],[0.8888888888888888,\"#fdca26\"],[1.0,\"#f0f921\"]]}],\"surface\":[{\"type\":\"surface\",\"colorbar\":{\"outlinewidth\":0,\"ticks\":\"\"},\"colorscale\":[[0.0,\"#0d0887\"],[0.1111111111111111,\"#46039f\"],[0.2222222222222222,\"#7201a8\"],[0.3333333333333333,\"#9c179e\"],[0.4444444444444444,\"#bd3786\"],[0.5555555555555556,\"#d8576b\"],[0.6666666666666666,\"#ed7953\"],[0.7777777777777778,\"#fb9f3a\"],[0.8888888888888888,\"#fdca26\"],[1.0,\"#f0f921\"]]}],\"mesh3d\":[{\"type\":\"mesh3d\",\"colorbar\":{\"outlinewidth\":0,\"ticks\":\"\"}}],\"scatter\":[{\"fillpattern\":{\"fillmode\":\"overlay\",\"size\":10,\"solidity\":0.2},\"type\":\"scatter\"}],\"parcoords\":[{\"type\":\"parcoords\",\"line\":{\"colorbar\":{\"outlinewidth\":0,\"ticks\":\"\"}}}],\"scatterpolargl\":[{\"type\":\"scatterpolargl\",\"marker\":{\"colorbar\":{\"outlinewidth\":0,\"ticks\":\"\"}}}],\"bar\":[{\"error_x\":{\"color\":\"#2a3f5f\"},\"error_y\":{\"color\":\"#2a3f5f\"},\"marker\":{\"line\":{\"color\":\"#E5ECF6\",\"width\":0.5},\"pattern\":{\"fillmode\":\"overlay\",\"size\":10,\"solidity\":0.2}},\"type\":\"bar\"}],\"scattergeo\":[{\"type\":\"scattergeo\",\"marker\":{\"colorbar\":{\"outlinewidth\":0,\"ticks\":\"\"}}}],\"scatterpolar\":[{\"type\":\"scatterpolar\",\"marker\":{\"colorbar\":{\"outlinewidth\":0,\"ticks\":\"\"}}}],\"histogram\":[{\"marker\":{\"pattern\":{\"fillmode\":\"overlay\",\"size\":10,\"solidity\":0.2}},\"type\":\"histogram\"}],\"scattergl\":[{\"type\":\"scattergl\",\"marker\":{\"colorbar\":{\"outlinewidth\":0,\"ticks\":\"\"}}}],\"scatter3d\":[{\"type\":\"scatter3d\",\"line\":{\"colorbar\":{\"outlinewidth\":0,\"ticks\":\"\"}},\"marker\":{\"colorbar\":{\"outlinewidth\":0,\"ticks\":\"\"}}}],\"scattermapbox\":[{\"type\":\"scattermapbox\",\"marker\":{\"colorbar\":{\"outlinewidth\":0,\"ticks\":\"\"}}}],\"scatterternary\":[{\"type\":\"scatterternary\",\"marker\":{\"colorbar\":{\"outlinewidth\":0,\"ticks\":\"\"}}}],\"scattercarpet\":[{\"type\":\"scattercarpet\",\"marker\":{\"colorbar\":{\"outlinewidth\":0,\"ticks\":\"\"}}}],\"carpet\":[{\"aaxis\":{\"endlinecolor\":\"#2a3f5f\",\"gridcolor\":\"white\",\"linecolor\":\"white\",\"minorgridcolor\":\"white\",\"startlinecolor\":\"#2a3f5f\"},\"baxis\":{\"endlinecolor\":\"#2a3f5f\",\"gridcolor\":\"white\",\"linecolor\":\"white\",\"minorgridcolor\":\"white\",\"startlinecolor\":\"#2a3f5f\"},\"type\":\"carpet\"}],\"table\":[{\"cells\":{\"fill\":{\"color\":\"#EBF0F8\"},\"line\":{\"color\":\"white\"}},\"header\":{\"fill\":{\"color\":\"#C8D4E3\"},\"line\":{\"color\":\"white\"}},\"type\":\"table\"}],\"barpolar\":[{\"marker\":{\"line\":{\"color\":\"#E5ECF6\",\"width\":0.5},\"pattern\":{\"fillmode\":\"overlay\",\"size\":10,\"solidity\":0.2}},\"type\":\"barpolar\"}],\"pie\":[{\"automargin\":true,\"type\":\"pie\"}]},\"layout\":{\"autotypenumbers\":\"strict\",\"colorway\":[\"#636efa\",\"#EF553B\",\"#00cc96\",\"#ab63fa\",\"#FFA15A\",\"#19d3f3\",\"#FF6692\",\"#B6E880\",\"#FF97FF\",\"#FECB52\"],\"font\":{\"color\":\"#2a3f5f\"},\"hovermode\":\"closest\",\"hoverlabel\":{\"align\":\"left\"},\"paper_bgcolor\":\"white\",\"plot_bgcolor\":\"#E5ECF6\",\"polar\":{\"bgcolor\":\"#E5ECF6\",\"angularaxis\":{\"gridcolor\":\"white\",\"linecolor\":\"white\",\"ticks\":\"\"},\"radialaxis\":{\"gridcolor\":\"white\",\"linecolor\":\"white\",\"ticks\":\"\"}},\"ternary\":{\"bgcolor\":\"#E5ECF6\",\"aaxis\":{\"gridcolor\":\"white\",\"linecolor\":\"white\",\"ticks\":\"\"},\"baxis\":{\"gridcolor\":\"white\",\"linecolor\":\"white\",\"ticks\":\"\"},\"caxis\":{\"gridcolor\":\"white\",\"linecolor\":\"white\",\"ticks\":\"\"}},\"coloraxis\":{\"colorbar\":{\"outlinewidth\":0,\"ticks\":\"\"}},\"colorscale\":{\"sequential\":[[0.0,\"#0d0887\"],[0.1111111111111111,\"#46039f\"],[0.2222222222222222,\"#7201a8\"],[0.3333333333333333,\"#9c179e\"],[0.4444444444444444,\"#bd3786\"],[0.5555555555555556,\"#d8576b\"],[0.6666666666666666,\"#ed7953\"],[0.7777777777777778,\"#fb9f3a\"],[0.8888888888888888,\"#fdca26\"],[1.0,\"#f0f921\"]],\"sequentialminus\":[[0.0,\"#0d0887\"],[0.1111111111111111,\"#46039f\"],[0.2222222222222222,\"#7201a8\"],[0.3333333333333333,\"#9c179e\"],[0.4444444444444444,\"#bd3786\"],[0.5555555555555556,\"#d8576b\"],[0.6666666666666666,\"#ed7953\"],[0.7777777777777778,\"#fb9f3a\"],[0.8888888888888888,\"#fdca26\"],[1.0,\"#f0f921\"]],\"diverging\":[[0,\"#8e0152\"],[0.1,\"#c51b7d\"],[0.2,\"#de77ae\"],[0.3,\"#f1b6da\"],[0.4,\"#fde0ef\"],[0.5,\"#f7f7f7\"],[0.6,\"#e6f5d0\"],[0.7,\"#b8e186\"],[0.8,\"#7fbc41\"],[0.9,\"#4d9221\"],[1,\"#276419\"]]},\"xaxis\":{\"gridcolor\":\"white\",\"linecolor\":\"white\",\"ticks\":\"\",\"title\":{\"standoff\":15},\"zerolinecolor\":\"white\",\"automargin\":true,\"zerolinewidth\":2},\"yaxis\":{\"gridcolor\":\"white\",\"linecolor\":\"white\",\"ticks\":\"\",\"title\":{\"standoff\":15},\"zerolinecolor\":\"white\",\"automargin\":true,\"zerolinewidth\":2},\"scene\":{\"xaxis\":{\"backgroundcolor\":\"#E5ECF6\",\"gridcolor\":\"white\",\"linecolor\":\"white\",\"showbackground\":true,\"ticks\":\"\",\"zerolinecolor\":\"white\",\"gridwidth\":2},\"yaxis\":{\"backgroundcolor\":\"#E5ECF6\",\"gridcolor\":\"white\",\"linecolor\":\"white\",\"showbackground\":true,\"ticks\":\"\",\"zerolinecolor\":\"white\",\"gridwidth\":2},\"zaxis\":{\"backgroundcolor\":\"#E5ECF6\",\"gridcolor\":\"white\",\"linecolor\":\"white\",\"showbackground\":true,\"ticks\":\"\",\"zerolinecolor\":\"white\",\"gridwidth\":2}},\"shapedefaults\":{\"line\":{\"color\":\"#2a3f5f\"}},\"annotationdefaults\":{\"arrowcolor\":\"#2a3f5f\",\"arrowhead\":0,\"arrowwidth\":1},\"geo\":{\"bgcolor\":\"white\",\"landcolor\":\"#E5ECF6\",\"subunitcolor\":\"white\",\"showland\":true,\"showlakes\":true,\"lakecolor\":\"white\"},\"title\":{\"x\":0.05},\"mapbox\":{\"style\":\"light\"}}}},                        {\"responsive\": true}                    ).then(function(){\n",
              "                            \n",
              "var gd = document.getElementById('5b43f8ff-b4e8-40af-a947-c73300482fad');\n",
              "var x = new MutationObserver(function (mutations, observer) {{\n",
              "        var display = window.getComputedStyle(gd).display;\n",
              "        if (!display || display === 'none') {{\n",
              "            console.log([gd, 'removed!']);\n",
              "            Plotly.purge(gd);\n",
              "            observer.disconnect();\n",
              "        }}\n",
              "}});\n",
              "\n",
              "// Listen for the removal of the full notebook cells\n",
              "var notebookContainer = gd.closest('#notebook-container');\n",
              "if (notebookContainer) {{\n",
              "    x.observe(notebookContainer, {childList: true});\n",
              "}}\n",
              "\n",
              "// Listen for the clearing of the current output cell\n",
              "var outputEl = gd.closest('.output');\n",
              "if (outputEl) {{\n",
              "    x.observe(outputEl, {childList: true});\n",
              "}}\n",
              "\n",
              "                        })                };                            </script>        </div>\n",
              "</body>\n",
              "</html>"
            ]
          },
          "metadata": {}
        }
      ]
    },
    {
      "cell_type": "markdown",
      "source": [
        "Тут как видно, попадания прям замечательные"
      ],
      "metadata": {
        "id": "-VWN_DWij3HM"
      }
    },
    {
      "cell_type": "code",
      "source": [
        "plot_weights(model_r_3.coef_)"
      ],
      "metadata": {
        "colab": {
          "base_uri": "https://localhost:8080/",
          "height": 542
        },
        "id": "7hviwKLSj7-g",
        "outputId": "ef4ff3c6-03f8-4cc9-9658-b301a99c7701"
      },
      "execution_count": null,
      "outputs": [
        {
          "output_type": "display_data",
          "data": {
            "text/html": [
              "<html>\n",
              "<head><meta charset=\"utf-8\" /></head>\n",
              "<body>\n",
              "    <div>            <script src=\"https://cdnjs.cloudflare.com/ajax/libs/mathjax/2.7.5/MathJax.js?config=TeX-AMS-MML_SVG\"></script><script type=\"text/javascript\">if (window.MathJax && window.MathJax.Hub && window.MathJax.Hub.Config) {window.MathJax.Hub.Config({SVG: {font: \"STIX-Web\"}});}</script>                <script type=\"text/javascript\">window.PlotlyConfig = {MathJaxConfig: 'local'};</script>\n",
              "        <script src=\"https://cdn.plot.ly/plotly-2.16.1.min.js\"></script>                <div id=\"27db06ea-d9d7-45e0-a75f-ecb6ecf35646\" class=\"plotly-graph-div\" style=\"height:525px; width:100%;\"></div>            <script type=\"text/javascript\">                                    window.PLOTLYENV=window.PLOTLYENV || {};                                    if (document.getElementById(\"27db06ea-d9d7-45e0-a75f-ecb6ecf35646\")) {                    Plotly.newPlot(                        \"27db06ea-d9d7-45e0-a75f-ecb6ecf35646\",                        [{\"alignmentgroup\":\"True\",\"hovertemplate\":\"c=<0<br>x=%{x}<br>y=%{y}<extra></extra>\",\"legendgroup\":\"<0\",\"marker\":{\"color\":\"red\",\"pattern\":{\"shape\":\"\"}},\"name\":\"<0\",\"offsetgroup\":\"<0\",\"orientation\":\"v\",\"showlegend\":true,\"textposition\":\"auto\",\"x\":[\"w0\",\"w3\",\"w4\"],\"xaxis\":\"x\",\"y\":[-7.195988659097975,-0.017765710194648194,-0.001711133947158001],\"yaxis\":\"y\",\"type\":\"bar\"},{\"alignmentgroup\":\"True\",\"hovertemplate\":\"c=>=0<br>x=%{x}<br>y=%{y}<extra></extra>\",\"legendgroup\":\">=0\",\"marker\":{\"color\":\"blue\",\"pattern\":{\"shape\":\"\"}},\"name\":\">=0\",\"offsetgroup\":\">=0\",\"orientation\":\"v\",\"showlegend\":true,\"textposition\":\"auto\",\"x\":[\"w1\",\"w2\"],\"xaxis\":\"x\",\"y\":[2.5503608543392478,0.8176866217506761],\"yaxis\":\"y\",\"type\":\"bar\"}],                        {\"template\":{\"data\":{\"histogram2dcontour\":[{\"type\":\"histogram2dcontour\",\"colorbar\":{\"outlinewidth\":0,\"ticks\":\"\"},\"colorscale\":[[0.0,\"#0d0887\"],[0.1111111111111111,\"#46039f\"],[0.2222222222222222,\"#7201a8\"],[0.3333333333333333,\"#9c179e\"],[0.4444444444444444,\"#bd3786\"],[0.5555555555555556,\"#d8576b\"],[0.6666666666666666,\"#ed7953\"],[0.7777777777777778,\"#fb9f3a\"],[0.8888888888888888,\"#fdca26\"],[1.0,\"#f0f921\"]]}],\"choropleth\":[{\"type\":\"choropleth\",\"colorbar\":{\"outlinewidth\":0,\"ticks\":\"\"}}],\"histogram2d\":[{\"type\":\"histogram2d\",\"colorbar\":{\"outlinewidth\":0,\"ticks\":\"\"},\"colorscale\":[[0.0,\"#0d0887\"],[0.1111111111111111,\"#46039f\"],[0.2222222222222222,\"#7201a8\"],[0.3333333333333333,\"#9c179e\"],[0.4444444444444444,\"#bd3786\"],[0.5555555555555556,\"#d8576b\"],[0.6666666666666666,\"#ed7953\"],[0.7777777777777778,\"#fb9f3a\"],[0.8888888888888888,\"#fdca26\"],[1.0,\"#f0f921\"]]}],\"heatmap\":[{\"type\":\"heatmap\",\"colorbar\":{\"outlinewidth\":0,\"ticks\":\"\"},\"colorscale\":[[0.0,\"#0d0887\"],[0.1111111111111111,\"#46039f\"],[0.2222222222222222,\"#7201a8\"],[0.3333333333333333,\"#9c179e\"],[0.4444444444444444,\"#bd3786\"],[0.5555555555555556,\"#d8576b\"],[0.6666666666666666,\"#ed7953\"],[0.7777777777777778,\"#fb9f3a\"],[0.8888888888888888,\"#fdca26\"],[1.0,\"#f0f921\"]]}],\"heatmapgl\":[{\"type\":\"heatmapgl\",\"colorbar\":{\"outlinewidth\":0,\"ticks\":\"\"},\"colorscale\":[[0.0,\"#0d0887\"],[0.1111111111111111,\"#46039f\"],[0.2222222222222222,\"#7201a8\"],[0.3333333333333333,\"#9c179e\"],[0.4444444444444444,\"#bd3786\"],[0.5555555555555556,\"#d8576b\"],[0.6666666666666666,\"#ed7953\"],[0.7777777777777778,\"#fb9f3a\"],[0.8888888888888888,\"#fdca26\"],[1.0,\"#f0f921\"]]}],\"contourcarpet\":[{\"type\":\"contourcarpet\",\"colorbar\":{\"outlinewidth\":0,\"ticks\":\"\"}}],\"contour\":[{\"type\":\"contour\",\"colorbar\":{\"outlinewidth\":0,\"ticks\":\"\"},\"colorscale\":[[0.0,\"#0d0887\"],[0.1111111111111111,\"#46039f\"],[0.2222222222222222,\"#7201a8\"],[0.3333333333333333,\"#9c179e\"],[0.4444444444444444,\"#bd3786\"],[0.5555555555555556,\"#d8576b\"],[0.6666666666666666,\"#ed7953\"],[0.7777777777777778,\"#fb9f3a\"],[0.8888888888888888,\"#fdca26\"],[1.0,\"#f0f921\"]]}],\"surface\":[{\"type\":\"surface\",\"colorbar\":{\"outlinewidth\":0,\"ticks\":\"\"},\"colorscale\":[[0.0,\"#0d0887\"],[0.1111111111111111,\"#46039f\"],[0.2222222222222222,\"#7201a8\"],[0.3333333333333333,\"#9c179e\"],[0.4444444444444444,\"#bd3786\"],[0.5555555555555556,\"#d8576b\"],[0.6666666666666666,\"#ed7953\"],[0.7777777777777778,\"#fb9f3a\"],[0.8888888888888888,\"#fdca26\"],[1.0,\"#f0f921\"]]}],\"mesh3d\":[{\"type\":\"mesh3d\",\"colorbar\":{\"outlinewidth\":0,\"ticks\":\"\"}}],\"scatter\":[{\"fillpattern\":{\"fillmode\":\"overlay\",\"size\":10,\"solidity\":0.2},\"type\":\"scatter\"}],\"parcoords\":[{\"type\":\"parcoords\",\"line\":{\"colorbar\":{\"outlinewidth\":0,\"ticks\":\"\"}}}],\"scatterpolargl\":[{\"type\":\"scatterpolargl\",\"marker\":{\"colorbar\":{\"outlinewidth\":0,\"ticks\":\"\"}}}],\"bar\":[{\"error_x\":{\"color\":\"#2a3f5f\"},\"error_y\":{\"color\":\"#2a3f5f\"},\"marker\":{\"line\":{\"color\":\"#E5ECF6\",\"width\":0.5},\"pattern\":{\"fillmode\":\"overlay\",\"size\":10,\"solidity\":0.2}},\"type\":\"bar\"}],\"scattergeo\":[{\"type\":\"scattergeo\",\"marker\":{\"colorbar\":{\"outlinewidth\":0,\"ticks\":\"\"}}}],\"scatterpolar\":[{\"type\":\"scatterpolar\",\"marker\":{\"colorbar\":{\"outlinewidth\":0,\"ticks\":\"\"}}}],\"histogram\":[{\"marker\":{\"pattern\":{\"fillmode\":\"overlay\",\"size\":10,\"solidity\":0.2}},\"type\":\"histogram\"}],\"scattergl\":[{\"type\":\"scattergl\",\"marker\":{\"colorbar\":{\"outlinewidth\":0,\"ticks\":\"\"}}}],\"scatter3d\":[{\"type\":\"scatter3d\",\"line\":{\"colorbar\":{\"outlinewidth\":0,\"ticks\":\"\"}},\"marker\":{\"colorbar\":{\"outlinewidth\":0,\"ticks\":\"\"}}}],\"scattermapbox\":[{\"type\":\"scattermapbox\",\"marker\":{\"colorbar\":{\"outlinewidth\":0,\"ticks\":\"\"}}}],\"scatterternary\":[{\"type\":\"scatterternary\",\"marker\":{\"colorbar\":{\"outlinewidth\":0,\"ticks\":\"\"}}}],\"scattercarpet\":[{\"type\":\"scattercarpet\",\"marker\":{\"colorbar\":{\"outlinewidth\":0,\"ticks\":\"\"}}}],\"carpet\":[{\"aaxis\":{\"endlinecolor\":\"#2a3f5f\",\"gridcolor\":\"white\",\"linecolor\":\"white\",\"minorgridcolor\":\"white\",\"startlinecolor\":\"#2a3f5f\"},\"baxis\":{\"endlinecolor\":\"#2a3f5f\",\"gridcolor\":\"white\",\"linecolor\":\"white\",\"minorgridcolor\":\"white\",\"startlinecolor\":\"#2a3f5f\"},\"type\":\"carpet\"}],\"table\":[{\"cells\":{\"fill\":{\"color\":\"#EBF0F8\"},\"line\":{\"color\":\"white\"}},\"header\":{\"fill\":{\"color\":\"#C8D4E3\"},\"line\":{\"color\":\"white\"}},\"type\":\"table\"}],\"barpolar\":[{\"marker\":{\"line\":{\"color\":\"#E5ECF6\",\"width\":0.5},\"pattern\":{\"fillmode\":\"overlay\",\"size\":10,\"solidity\":0.2}},\"type\":\"barpolar\"}],\"pie\":[{\"automargin\":true,\"type\":\"pie\"}]},\"layout\":{\"autotypenumbers\":\"strict\",\"colorway\":[\"#636efa\",\"#EF553B\",\"#00cc96\",\"#ab63fa\",\"#FFA15A\",\"#19d3f3\",\"#FF6692\",\"#B6E880\",\"#FF97FF\",\"#FECB52\"],\"font\":{\"color\":\"#2a3f5f\"},\"hovermode\":\"closest\",\"hoverlabel\":{\"align\":\"left\"},\"paper_bgcolor\":\"white\",\"plot_bgcolor\":\"#E5ECF6\",\"polar\":{\"bgcolor\":\"#E5ECF6\",\"angularaxis\":{\"gridcolor\":\"white\",\"linecolor\":\"white\",\"ticks\":\"\"},\"radialaxis\":{\"gridcolor\":\"white\",\"linecolor\":\"white\",\"ticks\":\"\"}},\"ternary\":{\"bgcolor\":\"#E5ECF6\",\"aaxis\":{\"gridcolor\":\"white\",\"linecolor\":\"white\",\"ticks\":\"\"},\"baxis\":{\"gridcolor\":\"white\",\"linecolor\":\"white\",\"ticks\":\"\"},\"caxis\":{\"gridcolor\":\"white\",\"linecolor\":\"white\",\"ticks\":\"\"}},\"coloraxis\":{\"colorbar\":{\"outlinewidth\":0,\"ticks\":\"\"}},\"colorscale\":{\"sequential\":[[0.0,\"#0d0887\"],[0.1111111111111111,\"#46039f\"],[0.2222222222222222,\"#7201a8\"],[0.3333333333333333,\"#9c179e\"],[0.4444444444444444,\"#bd3786\"],[0.5555555555555556,\"#d8576b\"],[0.6666666666666666,\"#ed7953\"],[0.7777777777777778,\"#fb9f3a\"],[0.8888888888888888,\"#fdca26\"],[1.0,\"#f0f921\"]],\"sequentialminus\":[[0.0,\"#0d0887\"],[0.1111111111111111,\"#46039f\"],[0.2222222222222222,\"#7201a8\"],[0.3333333333333333,\"#9c179e\"],[0.4444444444444444,\"#bd3786\"],[0.5555555555555556,\"#d8576b\"],[0.6666666666666666,\"#ed7953\"],[0.7777777777777778,\"#fb9f3a\"],[0.8888888888888888,\"#fdca26\"],[1.0,\"#f0f921\"]],\"diverging\":[[0,\"#8e0152\"],[0.1,\"#c51b7d\"],[0.2,\"#de77ae\"],[0.3,\"#f1b6da\"],[0.4,\"#fde0ef\"],[0.5,\"#f7f7f7\"],[0.6,\"#e6f5d0\"],[0.7,\"#b8e186\"],[0.8,\"#7fbc41\"],[0.9,\"#4d9221\"],[1,\"#276419\"]]},\"xaxis\":{\"gridcolor\":\"white\",\"linecolor\":\"white\",\"ticks\":\"\",\"title\":{\"standoff\":15},\"zerolinecolor\":\"white\",\"automargin\":true,\"zerolinewidth\":2},\"yaxis\":{\"gridcolor\":\"white\",\"linecolor\":\"white\",\"ticks\":\"\",\"title\":{\"standoff\":15},\"zerolinecolor\":\"white\",\"automargin\":true,\"zerolinewidth\":2},\"scene\":{\"xaxis\":{\"backgroundcolor\":\"#E5ECF6\",\"gridcolor\":\"white\",\"linecolor\":\"white\",\"showbackground\":true,\"ticks\":\"\",\"zerolinecolor\":\"white\",\"gridwidth\":2},\"yaxis\":{\"backgroundcolor\":\"#E5ECF6\",\"gridcolor\":\"white\",\"linecolor\":\"white\",\"showbackground\":true,\"ticks\":\"\",\"zerolinecolor\":\"white\",\"gridwidth\":2},\"zaxis\":{\"backgroundcolor\":\"#E5ECF6\",\"gridcolor\":\"white\",\"linecolor\":\"white\",\"showbackground\":true,\"ticks\":\"\",\"zerolinecolor\":\"white\",\"gridwidth\":2}},\"shapedefaults\":{\"line\":{\"color\":\"#2a3f5f\"}},\"annotationdefaults\":{\"arrowcolor\":\"#2a3f5f\",\"arrowhead\":0,\"arrowwidth\":1},\"geo\":{\"bgcolor\":\"white\",\"landcolor\":\"#E5ECF6\",\"subunitcolor\":\"white\",\"showland\":true,\"showlakes\":true,\"lakecolor\":\"white\"},\"title\":{\"x\":0.05},\"mapbox\":{\"style\":\"light\"}}},\"xaxis\":{\"anchor\":\"y\",\"domain\":[0.0,1.0],\"title\":{\"text\":\"x\"},\"categoryorder\":\"array\",\"categoryarray\":[\"w0\",\"w1\",\"w2\",\"w3\",\"w4\"]},\"yaxis\":{\"anchor\":\"x\",\"domain\":[0.0,1.0],\"title\":{\"text\":\"y\"}},\"legend\":{\"title\":{\"text\":\"c\"},\"tracegroupgap\":0},\"margin\":{\"t\":60},\"barmode\":\"relative\"},                        {\"responsive\": true}                    ).then(function(){\n",
              "                            \n",
              "var gd = document.getElementById('27db06ea-d9d7-45e0-a75f-ecb6ecf35646');\n",
              "var x = new MutationObserver(function (mutations, observer) {{\n",
              "        var display = window.getComputedStyle(gd).display;\n",
              "        if (!display || display === 'none') {{\n",
              "            console.log([gd, 'removed!']);\n",
              "            Plotly.purge(gd);\n",
              "            observer.disconnect();\n",
              "        }}\n",
              "}});\n",
              "\n",
              "// Listen for the removal of the full notebook cells\n",
              "var notebookContainer = gd.closest('#notebook-container');\n",
              "if (notebookContainer) {{\n",
              "    x.observe(notebookContainer, {childList: true});\n",
              "}}\n",
              "\n",
              "// Listen for the clearing of the current output cell\n",
              "var outputEl = gd.closest('.output');\n",
              "if (outputEl) {{\n",
              "    x.observe(outputEl, {childList: true});\n",
              "}}\n",
              "\n",
              "                        })                };                            </script>        </div>\n",
              "</body>\n",
              "</html>"
            ]
          },
          "metadata": {}
        }
      ]
    },
    {
      "cell_type": "markdown",
      "source": [
        "Вероятно регуляризация уже больше приближает к нулю те два последних веса и первые два, по идее с хорошим альфа у лассо, мы можем обнулить эти веса"
      ],
      "metadata": {
        "id": "r6001YF-kDYj"
      }
    },
    {
      "cell_type": "markdown",
      "source": [
        "### Lasso регуляризация"
      ],
      "metadata": {
        "id": "KLBZ39RNkL25"
      }
    },
    {
      "cell_type": "code",
      "source": [
        "model_l_3 = Lasso().fit(X_train_3_, y_train_3)\n",
        "\n",
        "y_pred_l_3 = model_l_3.predict(X_test_3_)\n",
        "\n",
        "print(f'R2 score: {r2_score(y_test_3, y_pred_l_3)}')\n",
        "print(f'MAE: {mean_absolute_error(y_test_3, y_pred_l_3)}')\n",
        "print(f'MSE: {mean_squared_error(y_test_3, y_pred_l_3)}')"
      ],
      "metadata": {
        "colab": {
          "base_uri": "https://localhost:8080/"
        },
        "id": "j2smyf00kLEY",
        "outputId": "6bb40a37-acaa-4423-8f4a-8a47087162da"
      },
      "execution_count": null,
      "outputs": [
        {
          "output_type": "stream",
          "name": "stdout",
          "text": [
            "R2 score: 0.8726502044105723\n",
            "MAE: 71.57918876149596\n",
            "MSE: 7769.019375774637\n"
          ]
        }
      ]
    },
    {
      "cell_type": "markdown",
      "source": [
        "Как и ожидалось, обнуление дало о себе знать, точность поднялась на одну десятитысячную, вместо статысячной как на Ridge"
      ],
      "metadata": {
        "id": "cEIPSvD-khor"
      }
    },
    {
      "cell_type": "code",
      "source": [
        "plot_test(X_train_3, X_test_3, y_train_3, y_test_3, y_pred_l_3)"
      ],
      "metadata": {
        "colab": {
          "base_uri": "https://localhost:8080/",
          "height": 542
        },
        "id": "d0gsZIUyk0JB",
        "outputId": "26364f34-7ab6-4b2b-aeb8-0173e115ad54"
      },
      "execution_count": null,
      "outputs": [
        {
          "output_type": "display_data",
          "data": {
            "text/html": [
              "<html>\n",
              "<head><meta charset=\"utf-8\" /></head>\n",
              "<body>\n",
              "    <div>            <script src=\"https://cdnjs.cloudflare.com/ajax/libs/mathjax/2.7.5/MathJax.js?config=TeX-AMS-MML_SVG\"></script><script type=\"text/javascript\">if (window.MathJax && window.MathJax.Hub && window.MathJax.Hub.Config) {window.MathJax.Hub.Config({SVG: {font: \"STIX-Web\"}});}</script>                <script type=\"text/javascript\">window.PlotlyConfig = {MathJaxConfig: 'local'};</script>\n",
              "        <script src=\"https://cdn.plot.ly/plotly-2.16.1.min.js\"></script>                <div id=\"0a78f4be-88a0-404b-bfe9-28695c489560\" class=\"plotly-graph-div\" style=\"height:525px; width:100%;\"></div>            <script type=\"text/javascript\">                                    window.PLOTLYENV=window.PLOTLYENV || {};                                    if (document.getElementById(\"0a78f4be-88a0-404b-bfe9-28695c489560\")) {                    Plotly.newPlot(                        \"0a78f4be-88a0-404b-bfe9-28695c489560\",                        [{\"hovertemplate\":\"train=%{x}<br>y_train=%{y}<extra></extra>\",\"legendgroup\":\"\",\"marker\":{\"color\":\"#636efa\",\"symbol\":\"circle\"},\"mode\":\"markers\",\"name\":\"train\",\"orientation\":\"v\",\"showlegend\":true,\"x\":[4.463936422065711,-4.763530796868802,-8.410200555415276,1.7203540953649181,-1.388616905596134,-3.359663175536822,4.805832422459188,5.077382906866944,9.756331163767126,4.899435630660111,-3.9416425724116566,-8.563151096375933,-6.402719924976226,-2.794602164625526,2.557563805424918,7.932785394720508,7.830895167188476,-8.765189254707849,9.299111590880859,-9.79946112023403,-6.183432936755857,7.283011681761462,-2.414503323011525,8.276256745964972,6.113715995074212,5.1008550637115775,2.190570790364907,-1.7276937586695666,9.190273165371952,-7.87058299658038,-3.9478634340324774,-0.4880085370235161,4.00147822454004,-0.07919611276555116,8.995763809846686,1.518138112280539,-2.9550245320976583,0.1145368833482685,-5.336968758320544,1.835564856066064,8.50953150991608,-0.4110086886960076,-9.41002963308,6.317904049348893,8.157722478740588,-4.061074233578285,-4.786583206061019,-4.962363018984668,8.73884800471998,9.217119767480153,-1.8761429092715716,-6.37374552760591,-3.5847411276240653,-8.485600946372383,-9.893205817571447,-8.881879243265313,-6.86464992359676,6.119428755622163,-0.3532225301812417,-6.298967878230027,1.6712547764110592,-1.2492566717839715,6.153117447938126,-7.734095044469433,5.555736172218831,-1.01632690512497,3.7284532573882974,-5.614006515459353,-3.654575766142518,1.7085435850749757,-6.30070488407279,6.396156504353694,-0.03391818102696931,-6.861361957380085,-6.752744544012876,9.953077208895309,-6.079160702933615,-0.9161132326131831,6.642764139015714,-6.447407370845535,-5.303184933509035,8.551465649551922,-2.4739449961266136,3.0157143537945075,-0.7400443381796471,-4.186263915954513,-2.6120685663076326,-4.671292594775503,7.746023753043222,-4.984632713287091,3.6684502491011646,2.751329022747676,-8.684579083335473,-9.358334573422784,-1.1529891268390031,-9.88884915005612,-5.196755741064816,4.197728167628963,7.8768952627096525,-9.199772536010578,8.378440461267719,-5.40427093587823,4.716348601080094,3.454818502781688,4.622543625659327,3.6275115379694647,-0.010388616624208424,-8.973280246609434,2.474852543476217,1.9474937801876209,-7.622440817269993,-7.094611199202472,-9.392392203626407,-6.52803540050866,0.9270517446139692,5.366377687406425,-5.830757080851474,-5.695392173543874,-3.5087419483092708,-4.3028136948080675,6.6752678001757495,2.5266501812360715,1.7072137861118755,-9.318120839913375,-4.283918423922506,-2.0787161682954984,3.5312961616314276,5.121309061346489,0.080162149856708,-4.914774035263898,-5.812831117781013,-2.3158226285144696,-5.81905222540414,-4.9790730667265715,-5.64589506750573,-6.162450161324921,-6.390505053949392,-8.4089720508011,-0.7727601092136283,-2.70061567320907,6.847099112984914,-9.697773951963963,1.2998242284531454,-7.709639081833668,-4.333195997964527,2.7378809645436313,8.214701523545667,-3.541978695895846,5.851899341506861,1.4139245711381925,0.15483523541794675,7.651323226902573,-0.8428883248654184,-6.161350523839133,-7.796082993486251,-5.107562819269919,-0.9088262531239337,6.190539271185088,8.204034052948181,3.2743818814713936,7.953495299731909,2.924994026517636,1.2724779891367568,6.36000622858662,3.5745637237693373,4.908848764384253,-3.282250507261364,6.253634602878112,-2.3219198032457093,-3.558402175141895,4.9207663345970225,-3.16632966452699,9.223665054887825,8.38328164657226,-4.471580460462297,7.899370220986693,5.38756956433307,1.3250577972325832,-1.0519457650527002,7.7248608821562925,-0.5270114761085782,9.830852351443788,8.723034716621846,7.170175721535024,-4.53448760826457,-1.6052313773145706,7.719370259591319,3.9441910598675793,-8.38717214525319,-1.5677544226458124,-9.976791254583011,9.094565313142098,-8.20962316172632,2.095080407630011,0.7435993583338423,0.776584267983333,-4.8819904082774475,4.829750156390887,3.3766017268198603,1.001432786707138,0.46829137374760776,-0.5498907050754003,3.778873373511768,4.637678633418554,2.9583105941783465,-5.116906310515774,7.618756769033013,8.08218950593061,-4.118868303974786,-1.935114964101679,9.399342322262761,-3.640048227309638,7.627599001031829,-3.793419404952192,6.4819530106699155,4.073827512174056,6.995250257398602,7.08539070396008,-7.052939019855233,-3.48564868136555,-9.734604830426619,-0.6266198254955118,-8.443611080857371,-4.7767267068547525,-9.168325358293838,7.710526934934382,-0.2834430312750271,2.884342499154366,-4.203544124146211,-8.69932035775179,-2.262467816038205,3.5122813699566144,-5.118120300633608,-5.05607214641052,1.7835458262476784,-3.742984725661424,-4.672950766142314,-7.010210306002218,-8.473372522891703,-3.1927630603573736],\"xaxis\":\"x\",\"y\":[-49.4111073730262,-57.14078230048166,-278.05892612202507,120.4099553986259,-149.3231557961126,17.539737671677237,206.63383083314503,62.89209554092422,474.9196623442929,-93.57305462049098,-21.432779862387036,-264.6108022411547,46.22014832115357,56.79171776245623,168.09299306479093,386.43329596022846,560.6455210226558,-265.6851185835825,588.7063334263271,-488.8764102868613,-48.233112602776714,220.24918311612385,-55.22478801664968,472.35948949111497,273.0777312638241,93.8574506186295,-33.40523486801882,37.149803099521165,597.8683916581047,-245.60235930621556,191.43395164548025,-215.64192633415777,70.28646431073354,-135.46416417348897,435.67035160609487,-191.8276173539705,96.23648833735486,88.42144772722997,-121.39983439439857,-66.06051507349197,582.4577920329803,-22.878284043003084,-453.5057216708155,193.40642509049775,323.3420232104004,-38.39873125782043,151.9322798158064,-90.78271158654277,413.15905129978654,701.8205374687536,42.801535048653975,-67.92342795585073,-76.78868281265144,-339.17169958588414,-581.0207286309537,-327.45061414398367,-128.41959346148928,150.628765075527,-179.8665835510019,-213.45861530481966,-34.107933354029626,21.649316604225294,113.96473766967935,-148.77842315258573,5.80730330691398,-105.65431897549153,22.689630672981973,-174.01615225834365,-155.1991433345016,197.12256544008332,-52.2516820945661,136.23192820640958,-121.71578160500151,30.673107934553855,-38.89847791449428,573.6448576333897,-211.7788137747856,-2.5749637798767333,407.6140874597305,-255.76383169169307,21.283856249589988,515.5076511901995,-10.305868881612557,-74.00615651199203,-105.94942517239399,3.346906208719087,-117.11099695764868,32.73353481882726,201.40587993492892,-74.86791203679213,162.29814536276263,133.89134374100607,-174.37344372877016,-426.6327120746763,68.48580930186577,-384.3657018076853,37.84019760305522,-54.690467322294026,338.34479242780674,-466.6993807303603,535.6061515421969,-119.51101820930734,113.51319805920897,-141.59741545271805,148.66834771643303,64.307147381981,85.42090952215163,-435.076660017526,19.3614213713002,89.40568477285265,-157.08789145246016,-113.40056851899443,-314.13996684036334,10.727305963864453,34.080561171746815,140.19151122113627,27.510803178692612,35.224408089052986,96.35660364680889,107.63364361571652,264.6728779555466,39.99546242082746,-108.4125584036364,-395.9908201121856,2.582886019820588,81.87200928091664,76.68510070647443,138.63079093874663,31.151853960439073,74.2783755039091,159.02843876327597,93.259697747795,-128.60418679247763,-5.114517460407853,-95.73386275013063,76.02370390956837,-226.12617473951056,-224.78830863777137,-126.83840346180419,42.83318700618102,51.450136678281865,-377.05838119864046,-51.558453141559355,-244.85135788631635,21.955895590115382,82.77008294947777,322.62551382424004,42.34692105841219,122.99703012624582,111.76759487874098,-114.6655890298768,285.70516742662755,-154.35267919868974,-279.3842014336691,-229.66850122719325,-19.99919002067758,-44.4173626094035,284.4248684999188,395.3279392628401,84.2422493383422,346.967080099734,92.62569942512673,6.089707038883976,-27.50908988428432,129.24408871085365,37.71659343604817,57.31445801482137,141.59885575238337,49.473070055235766,125.89754426895949,146.80374173256212,53.09752348883289,403.8216316455473,556.6939625233215,-142.91225272642492,565.5451638267402,201.2848685826102,183.87249884168637,-59.85695780416373,450.3099665121537,254.22159168880478,785.8070550047112,396.51838167384267,378.1824722258862,-166.87868214981364,-133.28355534962535,415.9091648578659,-97.55521995035245,-265.28515461311855,133.79802649029685,-528.9189728140526,361.9587664479669,-382.1119313133411,-48.032993458131806,10.804940128046615,90.50634450091522,-31.625735856164045,200.56430322213924,-50.93995869705231,44.18148549514585,-30.93503384236002,-87.03723626488424,159.78134742412504,100.42166777775424,-179.11022103785484,140.87729493326214,361.3696707199264,414.503521041255,-112.69877380642954,95.37516199720457,478.2082624980857,65.81937076023989,568.9506675048852,105.3883136506823,39.857894465024,18.31630967796692,310.10503614149934,311.7633246059828,-70.10782915016895,53.2462645446288,-495.19300440065064,-48.61514975636548,-210.152044666186,-69.22482360506864,-348.4049133315476,360.3973021366284,85.13110832976375,148.92999785852447,32.321124877372576,-323.69456925222823,190.26405476550772,-112.83580848443054,-2.3572748153483687,-96.5359207621575,-70.25508400581258,-31.400199058997103,-142.0111081518601,-50.80352518444997,-318.25856866816645,-27.34339044606123],\"yaxis\":\"y\",\"type\":\"scatter\"},{\"hovertemplate\":\"X_test=%{x}<br>y_test=%{y}<extra></extra>\",\"legendgroup\":\"\",\"marker\":{\"color\":\"red\",\"symbol\":\"circle\"},\"mode\":\"markers\",\"name\":\"test\",\"orientation\":\"v\",\"showlegend\":true,\"x\":[5.709680770537446,5.708086862620988,9.651575699842962,-9.392386661015998,-4.075772270046332,-5.680984253596437,8.849006857443275,6.586250184279198,7.40613602742291,-0.4210359744855623,6.861417304478479,4.565152361164577,-8.98102434382021,6.808572269703813,-0.5910393187825882,-2.5569833311765233,4.892085612916988,-8.471104166629672,2.1248038956795057,3.7418589836183553,-4.463027752695012,-4.279846840779937,3.101120697393105,-2.420109319857861,6.230392180893247,9.8388066384559,6.001604101962897,0.5008733373016643,2.818230722899022,-4.5685157202594,-6.064352022403064,-5.658268670775475,-4.475202808163658,-1.5857132391033169,-1.8616936145411849,7.464798466472956,6.503971246034261,0.6427288963145994,-8.64157359605328,5.722343832218154,-6.524055028997033,2.3834587622570993,-2.8061069656983157,4.754142456568495,-6.5235862462737675,-5.672323682905955,2.5992586982417443,9.093031737861253,-7.949482403770746,-5.193228279251098,2.790916838549034,-0.1708178913926126,-0.14005854284733488,-3.9226965114846024,6.372978033208941,7.432250062012759,9.926608861602382,1.5250345109425485,9.805346764800642,2.1687997835628323],\"xaxis\":\"x\",\"y\":[164.38900494134856,109.44772552318369,435.47715068207884,-226.95896274375622,159.5823988620017,0.9587006174929513,630.5677699014416,112.20472707421271,324.86700127258143,92.5268778498099,269.8468677998322,7.94994572649972,-311.1325077659619,290.95801113992815,-4.584758418151267,-18.61926629460691,170.93744485300653,-424.22052061758694,-5.920642460373308,160.47547453403948,195.7611436474107,-92.5379344211401,98.64433944088032,-106.6841512464861,229.43489253857433,727.7532120739917,170.74049016979535,8.010898761966736,-13.658136148099953,-44.925961757536264,-209.6058503144791,-23.18591993366391,-97.10080357314064,-39.183555196188266,14.1935704698333,276.25916750643063,119.29137440878692,-114.1652807622291,-357.82059026837356,191.74062613520323,-47.31769847062486,-180.01837054136786,36.94724009134232,145.27332613887316,-151.61193514004978,-76.23674025573823,-44.60815061619704,477.91093862560854,-292.38633871360366,-10.867154788922022,-64.10467780426458,42.51047370629925,-63.39273506983655,-98.42070146950715,108.56576425175356,374.08869170252603,802.6851065930193,-135.03705758753676,647.0330773694262,88.20340085860221],\"yaxis\":\"y\",\"type\":\"scatter\"},{\"hovertemplate\":\"X_test=%{x}<br>y_pred=%{y}<extra></extra>\",\"legendgroup\":\"\",\"marker\":{\"color\":\"lime\",\"symbol\":\"circle\"},\"mode\":\"markers\",\"name\":\"predictions\",\"orientation\":\"v\",\"showlegend\":true,\"x\":[5.709680770537446,5.708086862620988,9.651575699842962,-9.392386661015998,-4.075772270046332,-5.680984253596437,8.849006857443275,6.586250184279198,7.40613602742291,-0.4210359744855623,6.861417304478479,4.565152361164577,-8.98102434382021,6.808572269703813,-0.5910393187825882,-2.5569833311765233,4.892085612916988,-8.471104166629672,2.1248038956795057,3.7418589836183553,-4.463027752695012,-4.279846840779937,3.101120697393105,-2.420109319857861,6.230392180893247,9.8388066384559,6.001604101962897,0.5008733373016643,2.818230722899022,-4.5685157202594,-6.064352022403064,-5.658268670775475,-4.475202808163658,-1.5857132391033169,-1.8616936145411849,7.464798466472956,6.503971246034261,0.6427288963145994,-8.64157359605328,5.722343832218154,-6.524055028997033,2.3834587622570993,-2.8061069656983157,4.754142456568495,-6.5235862462737675,-5.672323682905955,2.5992586982417443,9.093031737861253,-7.949482403770746,-5.193228279251098,2.790916838549034,-0.1708178913926126,-0.14005854284733488,-3.9226965114846024,6.372978033208941,7.432250062012759,9.926608861602382,1.5250345109425485,9.805346764800642,2.1687997835628323],\"xaxis\":\"x\",\"y\":[156.33333417877333,156.20740531260736,597.8179550216057,-407.0444434756723,3.5430223398048675,-44.37842571371895,491.69755794996814,233.07375136336242,317.715051720524,-5.496959679586985,260.1565564578279,78.88740538297895,-346.14506635402773,254.84853000543498,-4.028194732834156,11.07378600436195,98.35871196919709,-278.255528141052,-4.243701161353408,39.03132689677696,-3.5255392276840674,0.13274201951348275,16.6820450960785,10.568347215426332,200.1372338458279,623.04835717676,180.23976500759522,-11.327007884922855,9.069899045533809,-5.900721319863715,-64.00365571850445,-43.32514814291634,-3.7894788871874168,5.015624323784687,7.228134620905111,324.2113787624801,225.24641830131048,-11.75586849728894,-300.02365145423204,157.3355786711627,-92.36217151960511,-0.12446519895623531,11.597439484991007,89.88610815814954,-92.33045711472079,-43.97543867578196,4.071487519411098,523.4906897269125,-217.3355115309676,-24.31840241570423,8.404606791680663,-7.49297640870977,-7.721522286322808,5.665080827020018,213.0467269247858,320.6000580468819,634.9079329904455,-10.295044937589266,618.5326739372068,-3.6108262155638453],\"yaxis\":\"y\",\"type\":\"scatter\"},{\"hovertemplate\":\"<b>LOWESS trendline</b><br><br>X_test=%{x}<br>y_pred=%{y} <b>(trend)</b><extra></extra>\",\"legendgroup\":\"\",\"marker\":{\"color\":\"lime\",\"symbol\":\"circle\"},\"mode\":\"lines\",\"name\":\"\",\"showlegend\":true,\"x\":[-9.392386661015998,-8.98102434382021,-8.64157359605328,-8.471104166629672,-7.949482403770746,-6.524055028997033,-6.5235862462737675,-6.064352022403064,-5.680984253596437,-5.672323682905955,-5.658268670775475,-5.193228279251098,-4.5685157202594,-4.475202808163658,-4.463027752695012,-4.279846840779937,-4.075772270046332,-3.9226965114846024,-2.8061069656983157,-2.5569833311765233,-2.420109319857861,-1.8616936145411849,-1.5857132391033169,-0.5910393187825882,-0.4210359744855623,-0.1708178913926126,-0.14005854284733488,0.5008733373016643,0.6427288963145994,1.5250345109425485,2.1248038956795057,2.1687997835628323,2.3834587622570993,2.5992586982417443,2.790916838549034,2.818230722899022,3.101120697393105,3.7418589836183553,4.565152361164577,4.754142456568495,4.892085612916988,5.708086862620988,5.709680770537446,5.722343832218154,6.001604101962897,6.230392180893247,6.372978033208941,6.503971246034261,6.586250184279198,6.808572269703813,6.861417304478479,7.40613602742291,7.432250062012759,7.464798466472956,8.849006857443275,9.093031737861253,9.651575699842962,9.805346764800642,9.8388066384559,9.926608861602382],\"xaxis\":\"x\",\"y\":[-407.0444434756723,-346.14506635402773,-300.02365145423204,-278.255528141052,-217.3355115309676,-92.35982160038736,-92.33091076184898,-64.0035208895579,-45.013696891600866,-44.62647276867436,-43.99905606706343,-24.796060658574714,-5.730664559192898,-3.86263276290713,-3.622250896964106,-0.07446857413313457,3.3381826921098012,5.812589166902843,11.456815488790749,10.557498659527766,9.822631689604584,6.815580466739583,4.936136075823503,-4.0276210371718175,-5.461739709783589,-7.382365357810222,-7.60579799233415,-11.144899506956168,-11.896179308019498,-7.294877988888312,-4.329974504190302,-3.5856897827441983,0.1182932665479942,4.300119205803193,8.804850679950281,9.472985247647616,16.607069475523367,43.8967475874267,78.7568257620209,90.03566966993728,98.2840848151534,156.17060311124754,156.3024595608375,157.35020408612579,180.56014488557236,200.45880328635934,213.2239611921705,225.3498438936548,233.27368692321699,254.901423236543,260.08020733951616,317.85631560235726,320.6180813868983,324.0605673067655,491.5368532339382,523.8084225471024,597.9798785138455,618.5590917403721,623.0411434575846,634.8092298909016],\"yaxis\":\"y\",\"type\":\"scatter\"}],                        {\"template\":{\"data\":{\"histogram2dcontour\":[{\"type\":\"histogram2dcontour\",\"colorbar\":{\"outlinewidth\":0,\"ticks\":\"\"},\"colorscale\":[[0.0,\"#0d0887\"],[0.1111111111111111,\"#46039f\"],[0.2222222222222222,\"#7201a8\"],[0.3333333333333333,\"#9c179e\"],[0.4444444444444444,\"#bd3786\"],[0.5555555555555556,\"#d8576b\"],[0.6666666666666666,\"#ed7953\"],[0.7777777777777778,\"#fb9f3a\"],[0.8888888888888888,\"#fdca26\"],[1.0,\"#f0f921\"]]}],\"choropleth\":[{\"type\":\"choropleth\",\"colorbar\":{\"outlinewidth\":0,\"ticks\":\"\"}}],\"histogram2d\":[{\"type\":\"histogram2d\",\"colorbar\":{\"outlinewidth\":0,\"ticks\":\"\"},\"colorscale\":[[0.0,\"#0d0887\"],[0.1111111111111111,\"#46039f\"],[0.2222222222222222,\"#7201a8\"],[0.3333333333333333,\"#9c179e\"],[0.4444444444444444,\"#bd3786\"],[0.5555555555555556,\"#d8576b\"],[0.6666666666666666,\"#ed7953\"],[0.7777777777777778,\"#fb9f3a\"],[0.8888888888888888,\"#fdca26\"],[1.0,\"#f0f921\"]]}],\"heatmap\":[{\"type\":\"heatmap\",\"colorbar\":{\"outlinewidth\":0,\"ticks\":\"\"},\"colorscale\":[[0.0,\"#0d0887\"],[0.1111111111111111,\"#46039f\"],[0.2222222222222222,\"#7201a8\"],[0.3333333333333333,\"#9c179e\"],[0.4444444444444444,\"#bd3786\"],[0.5555555555555556,\"#d8576b\"],[0.6666666666666666,\"#ed7953\"],[0.7777777777777778,\"#fb9f3a\"],[0.8888888888888888,\"#fdca26\"],[1.0,\"#f0f921\"]]}],\"heatmapgl\":[{\"type\":\"heatmapgl\",\"colorbar\":{\"outlinewidth\":0,\"ticks\":\"\"},\"colorscale\":[[0.0,\"#0d0887\"],[0.1111111111111111,\"#46039f\"],[0.2222222222222222,\"#7201a8\"],[0.3333333333333333,\"#9c179e\"],[0.4444444444444444,\"#bd3786\"],[0.5555555555555556,\"#d8576b\"],[0.6666666666666666,\"#ed7953\"],[0.7777777777777778,\"#fb9f3a\"],[0.8888888888888888,\"#fdca26\"],[1.0,\"#f0f921\"]]}],\"contourcarpet\":[{\"type\":\"contourcarpet\",\"colorbar\":{\"outlinewidth\":0,\"ticks\":\"\"}}],\"contour\":[{\"type\":\"contour\",\"colorbar\":{\"outlinewidth\":0,\"ticks\":\"\"},\"colorscale\":[[0.0,\"#0d0887\"],[0.1111111111111111,\"#46039f\"],[0.2222222222222222,\"#7201a8\"],[0.3333333333333333,\"#9c179e\"],[0.4444444444444444,\"#bd3786\"],[0.5555555555555556,\"#d8576b\"],[0.6666666666666666,\"#ed7953\"],[0.7777777777777778,\"#fb9f3a\"],[0.8888888888888888,\"#fdca26\"],[1.0,\"#f0f921\"]]}],\"surface\":[{\"type\":\"surface\",\"colorbar\":{\"outlinewidth\":0,\"ticks\":\"\"},\"colorscale\":[[0.0,\"#0d0887\"],[0.1111111111111111,\"#46039f\"],[0.2222222222222222,\"#7201a8\"],[0.3333333333333333,\"#9c179e\"],[0.4444444444444444,\"#bd3786\"],[0.5555555555555556,\"#d8576b\"],[0.6666666666666666,\"#ed7953\"],[0.7777777777777778,\"#fb9f3a\"],[0.8888888888888888,\"#fdca26\"],[1.0,\"#f0f921\"]]}],\"mesh3d\":[{\"type\":\"mesh3d\",\"colorbar\":{\"outlinewidth\":0,\"ticks\":\"\"}}],\"scatter\":[{\"fillpattern\":{\"fillmode\":\"overlay\",\"size\":10,\"solidity\":0.2},\"type\":\"scatter\"}],\"parcoords\":[{\"type\":\"parcoords\",\"line\":{\"colorbar\":{\"outlinewidth\":0,\"ticks\":\"\"}}}],\"scatterpolargl\":[{\"type\":\"scatterpolargl\",\"marker\":{\"colorbar\":{\"outlinewidth\":0,\"ticks\":\"\"}}}],\"bar\":[{\"error_x\":{\"color\":\"#2a3f5f\"},\"error_y\":{\"color\":\"#2a3f5f\"},\"marker\":{\"line\":{\"color\":\"#E5ECF6\",\"width\":0.5},\"pattern\":{\"fillmode\":\"overlay\",\"size\":10,\"solidity\":0.2}},\"type\":\"bar\"}],\"scattergeo\":[{\"type\":\"scattergeo\",\"marker\":{\"colorbar\":{\"outlinewidth\":0,\"ticks\":\"\"}}}],\"scatterpolar\":[{\"type\":\"scatterpolar\",\"marker\":{\"colorbar\":{\"outlinewidth\":0,\"ticks\":\"\"}}}],\"histogram\":[{\"marker\":{\"pattern\":{\"fillmode\":\"overlay\",\"size\":10,\"solidity\":0.2}},\"type\":\"histogram\"}],\"scattergl\":[{\"type\":\"scattergl\",\"marker\":{\"colorbar\":{\"outlinewidth\":0,\"ticks\":\"\"}}}],\"scatter3d\":[{\"type\":\"scatter3d\",\"line\":{\"colorbar\":{\"outlinewidth\":0,\"ticks\":\"\"}},\"marker\":{\"colorbar\":{\"outlinewidth\":0,\"ticks\":\"\"}}}],\"scattermapbox\":[{\"type\":\"scattermapbox\",\"marker\":{\"colorbar\":{\"outlinewidth\":0,\"ticks\":\"\"}}}],\"scatterternary\":[{\"type\":\"scatterternary\",\"marker\":{\"colorbar\":{\"outlinewidth\":0,\"ticks\":\"\"}}}],\"scattercarpet\":[{\"type\":\"scattercarpet\",\"marker\":{\"colorbar\":{\"outlinewidth\":0,\"ticks\":\"\"}}}],\"carpet\":[{\"aaxis\":{\"endlinecolor\":\"#2a3f5f\",\"gridcolor\":\"white\",\"linecolor\":\"white\",\"minorgridcolor\":\"white\",\"startlinecolor\":\"#2a3f5f\"},\"baxis\":{\"endlinecolor\":\"#2a3f5f\",\"gridcolor\":\"white\",\"linecolor\":\"white\",\"minorgridcolor\":\"white\",\"startlinecolor\":\"#2a3f5f\"},\"type\":\"carpet\"}],\"table\":[{\"cells\":{\"fill\":{\"color\":\"#EBF0F8\"},\"line\":{\"color\":\"white\"}},\"header\":{\"fill\":{\"color\":\"#C8D4E3\"},\"line\":{\"color\":\"white\"}},\"type\":\"table\"}],\"barpolar\":[{\"marker\":{\"line\":{\"color\":\"#E5ECF6\",\"width\":0.5},\"pattern\":{\"fillmode\":\"overlay\",\"size\":10,\"solidity\":0.2}},\"type\":\"barpolar\"}],\"pie\":[{\"automargin\":true,\"type\":\"pie\"}]},\"layout\":{\"autotypenumbers\":\"strict\",\"colorway\":[\"#636efa\",\"#EF553B\",\"#00cc96\",\"#ab63fa\",\"#FFA15A\",\"#19d3f3\",\"#FF6692\",\"#B6E880\",\"#FF97FF\",\"#FECB52\"],\"font\":{\"color\":\"#2a3f5f\"},\"hovermode\":\"closest\",\"hoverlabel\":{\"align\":\"left\"},\"paper_bgcolor\":\"white\",\"plot_bgcolor\":\"#E5ECF6\",\"polar\":{\"bgcolor\":\"#E5ECF6\",\"angularaxis\":{\"gridcolor\":\"white\",\"linecolor\":\"white\",\"ticks\":\"\"},\"radialaxis\":{\"gridcolor\":\"white\",\"linecolor\":\"white\",\"ticks\":\"\"}},\"ternary\":{\"bgcolor\":\"#E5ECF6\",\"aaxis\":{\"gridcolor\":\"white\",\"linecolor\":\"white\",\"ticks\":\"\"},\"baxis\":{\"gridcolor\":\"white\",\"linecolor\":\"white\",\"ticks\":\"\"},\"caxis\":{\"gridcolor\":\"white\",\"linecolor\":\"white\",\"ticks\":\"\"}},\"coloraxis\":{\"colorbar\":{\"outlinewidth\":0,\"ticks\":\"\"}},\"colorscale\":{\"sequential\":[[0.0,\"#0d0887\"],[0.1111111111111111,\"#46039f\"],[0.2222222222222222,\"#7201a8\"],[0.3333333333333333,\"#9c179e\"],[0.4444444444444444,\"#bd3786\"],[0.5555555555555556,\"#d8576b\"],[0.6666666666666666,\"#ed7953\"],[0.7777777777777778,\"#fb9f3a\"],[0.8888888888888888,\"#fdca26\"],[1.0,\"#f0f921\"]],\"sequentialminus\":[[0.0,\"#0d0887\"],[0.1111111111111111,\"#46039f\"],[0.2222222222222222,\"#7201a8\"],[0.3333333333333333,\"#9c179e\"],[0.4444444444444444,\"#bd3786\"],[0.5555555555555556,\"#d8576b\"],[0.6666666666666666,\"#ed7953\"],[0.7777777777777778,\"#fb9f3a\"],[0.8888888888888888,\"#fdca26\"],[1.0,\"#f0f921\"]],\"diverging\":[[0,\"#8e0152\"],[0.1,\"#c51b7d\"],[0.2,\"#de77ae\"],[0.3,\"#f1b6da\"],[0.4,\"#fde0ef\"],[0.5,\"#f7f7f7\"],[0.6,\"#e6f5d0\"],[0.7,\"#b8e186\"],[0.8,\"#7fbc41\"],[0.9,\"#4d9221\"],[1,\"#276419\"]]},\"xaxis\":{\"gridcolor\":\"white\",\"linecolor\":\"white\",\"ticks\":\"\",\"title\":{\"standoff\":15},\"zerolinecolor\":\"white\",\"automargin\":true,\"zerolinewidth\":2},\"yaxis\":{\"gridcolor\":\"white\",\"linecolor\":\"white\",\"ticks\":\"\",\"title\":{\"standoff\":15},\"zerolinecolor\":\"white\",\"automargin\":true,\"zerolinewidth\":2},\"scene\":{\"xaxis\":{\"backgroundcolor\":\"#E5ECF6\",\"gridcolor\":\"white\",\"linecolor\":\"white\",\"showbackground\":true,\"ticks\":\"\",\"zerolinecolor\":\"white\",\"gridwidth\":2},\"yaxis\":{\"backgroundcolor\":\"#E5ECF6\",\"gridcolor\":\"white\",\"linecolor\":\"white\",\"showbackground\":true,\"ticks\":\"\",\"zerolinecolor\":\"white\",\"gridwidth\":2},\"zaxis\":{\"backgroundcolor\":\"#E5ECF6\",\"gridcolor\":\"white\",\"linecolor\":\"white\",\"showbackground\":true,\"ticks\":\"\",\"zerolinecolor\":\"white\",\"gridwidth\":2}},\"shapedefaults\":{\"line\":{\"color\":\"#2a3f5f\"}},\"annotationdefaults\":{\"arrowcolor\":\"#2a3f5f\",\"arrowhead\":0,\"arrowwidth\":1},\"geo\":{\"bgcolor\":\"white\",\"landcolor\":\"#E5ECF6\",\"subunitcolor\":\"white\",\"showland\":true,\"showlakes\":true,\"lakecolor\":\"white\"},\"title\":{\"x\":0.05},\"mapbox\":{\"style\":\"light\"}}}},                        {\"responsive\": true}                    ).then(function(){\n",
              "                            \n",
              "var gd = document.getElementById('0a78f4be-88a0-404b-bfe9-28695c489560');\n",
              "var x = new MutationObserver(function (mutations, observer) {{\n",
              "        var display = window.getComputedStyle(gd).display;\n",
              "        if (!display || display === 'none') {{\n",
              "            console.log([gd, 'removed!']);\n",
              "            Plotly.purge(gd);\n",
              "            observer.disconnect();\n",
              "        }}\n",
              "}});\n",
              "\n",
              "// Listen for the removal of the full notebook cells\n",
              "var notebookContainer = gd.closest('#notebook-container');\n",
              "if (notebookContainer) {{\n",
              "    x.observe(notebookContainer, {childList: true});\n",
              "}}\n",
              "\n",
              "// Listen for the clearing of the current output cell\n",
              "var outputEl = gd.closest('.output');\n",
              "if (outputEl) {{\n",
              "    x.observe(outputEl, {childList: true});\n",
              "}}\n",
              "\n",
              "                        })                };                            </script>        </div>\n",
              "</body>\n",
              "</html>"
            ]
          },
          "metadata": {}
        }
      ]
    },
    {
      "cell_type": "markdown",
      "source": [
        "Ещё ближе попадания"
      ],
      "metadata": {
        "id": "wsqRx4nrk39f"
      }
    },
    {
      "cell_type": "markdown",
      "source": [
        "Но стоит сделать большое alpha, чтобы увидеть прям практически нулевые веса"
      ],
      "metadata": {
        "id": "erVjguDJlETA"
      }
    },
    {
      "cell_type": "code",
      "source": [
        "model_l_3 = Lasso(alpha=4).fit(X_train_3_, y_train_3)\n",
        "\n",
        "y_pred_l_3 = model_l_3.predict(X_test_3_)\n",
        "\n",
        "print(f'R2 score: {r2_score(y_test_3, y_pred_l_3)}')\n",
        "print(f'MAE: {mean_absolute_error(y_test_3, y_pred_l_3)}')\n",
        "print(f'MSE: {mean_squared_error(y_test_3, y_pred_l_3)}')"
      ],
      "metadata": {
        "colab": {
          "base_uri": "https://localhost:8080/"
        },
        "id": "gJNZqGEglMVc",
        "outputId": "dbf696cb-b37b-488c-8333-016cbbb7ffb1"
      },
      "execution_count": null,
      "outputs": [
        {
          "output_type": "stream",
          "name": "stdout",
          "text": [
            "R2 score: 0.872667354103094\n",
            "MAE: 71.57884687387649\n",
            "MSE: 7767.973152709469\n"
          ]
        }
      ]
    },
    {
      "cell_type": "code",
      "source": [
        "model_l_3.coef_"
      ],
      "metadata": {
        "colab": {
          "base_uri": "https://localhost:8080/"
        },
        "id": "zvHK49FWlXET",
        "outputId": "aaac6255-5dec-46e6-b7a3-bd6f06b8d746"
      },
      "execution_count": null,
      "outputs": [
        {
          "output_type": "execute_result",
          "data": {
            "text/plain": [
              "array([-4.95691462e+00,  2.49993253e+00,  7.34422328e-01, -1.71855357e-02,\n",
              "       -1.04118753e-03])"
            ]
          },
          "metadata": {},
          "execution_count": 158
        }
      ]
    },
    {
      "cell_type": "code",
      "source": [
        "plot_weights(model_l_3.coef_)"
      ],
      "metadata": {
        "colab": {
          "base_uri": "https://localhost:8080/",
          "height": 542
        },
        "id": "aJrQXXOIk6NW",
        "outputId": "66298a59-1eae-41b9-f265-0518736ada78"
      },
      "execution_count": null,
      "outputs": [
        {
          "output_type": "display_data",
          "data": {
            "text/html": [
              "<html>\n",
              "<head><meta charset=\"utf-8\" /></head>\n",
              "<body>\n",
              "    <div>            <script src=\"https://cdnjs.cloudflare.com/ajax/libs/mathjax/2.7.5/MathJax.js?config=TeX-AMS-MML_SVG\"></script><script type=\"text/javascript\">if (window.MathJax && window.MathJax.Hub && window.MathJax.Hub.Config) {window.MathJax.Hub.Config({SVG: {font: \"STIX-Web\"}});}</script>                <script type=\"text/javascript\">window.PlotlyConfig = {MathJaxConfig: 'local'};</script>\n",
              "        <script src=\"https://cdn.plot.ly/plotly-2.16.1.min.js\"></script>                <div id=\"fdbf8c74-efcd-4603-bdb1-9b512c4fa5d5\" class=\"plotly-graph-div\" style=\"height:525px; width:100%;\"></div>            <script type=\"text/javascript\">                                    window.PLOTLYENV=window.PLOTLYENV || {};                                    if (document.getElementById(\"fdbf8c74-efcd-4603-bdb1-9b512c4fa5d5\")) {                    Plotly.newPlot(                        \"fdbf8c74-efcd-4603-bdb1-9b512c4fa5d5\",                        [{\"alignmentgroup\":\"True\",\"hovertemplate\":\"c=<0<br>x=%{x}<br>y=%{y}<extra></extra>\",\"legendgroup\":\"<0\",\"marker\":{\"color\":\"red\",\"pattern\":{\"shape\":\"\"}},\"name\":\"<0\",\"offsetgroup\":\"<0\",\"orientation\":\"v\",\"showlegend\":true,\"textposition\":\"auto\",\"x\":[\"w0\",\"w3\",\"w4\"],\"xaxis\":\"x\",\"y\":[-4.956914615940802,-0.01718553566646086,-0.001041187527479275],\"yaxis\":\"y\",\"type\":\"bar\"},{\"alignmentgroup\":\"True\",\"hovertemplate\":\"c=>=0<br>x=%{x}<br>y=%{y}<extra></extra>\",\"legendgroup\":\">=0\",\"marker\":{\"color\":\"blue\",\"pattern\":{\"shape\":\"\"}},\"name\":\">=0\",\"offsetgroup\":\">=0\",\"orientation\":\"v\",\"showlegend\":true,\"textposition\":\"auto\",\"x\":[\"w1\",\"w2\"],\"xaxis\":\"x\",\"y\":[2.4999325282086295,0.7344223278826062],\"yaxis\":\"y\",\"type\":\"bar\"}],                        {\"template\":{\"data\":{\"histogram2dcontour\":[{\"type\":\"histogram2dcontour\",\"colorbar\":{\"outlinewidth\":0,\"ticks\":\"\"},\"colorscale\":[[0.0,\"#0d0887\"],[0.1111111111111111,\"#46039f\"],[0.2222222222222222,\"#7201a8\"],[0.3333333333333333,\"#9c179e\"],[0.4444444444444444,\"#bd3786\"],[0.5555555555555556,\"#d8576b\"],[0.6666666666666666,\"#ed7953\"],[0.7777777777777778,\"#fb9f3a\"],[0.8888888888888888,\"#fdca26\"],[1.0,\"#f0f921\"]]}],\"choropleth\":[{\"type\":\"choropleth\",\"colorbar\":{\"outlinewidth\":0,\"ticks\":\"\"}}],\"histogram2d\":[{\"type\":\"histogram2d\",\"colorbar\":{\"outlinewidth\":0,\"ticks\":\"\"},\"colorscale\":[[0.0,\"#0d0887\"],[0.1111111111111111,\"#46039f\"],[0.2222222222222222,\"#7201a8\"],[0.3333333333333333,\"#9c179e\"],[0.4444444444444444,\"#bd3786\"],[0.5555555555555556,\"#d8576b\"],[0.6666666666666666,\"#ed7953\"],[0.7777777777777778,\"#fb9f3a\"],[0.8888888888888888,\"#fdca26\"],[1.0,\"#f0f921\"]]}],\"heatmap\":[{\"type\":\"heatmap\",\"colorbar\":{\"outlinewidth\":0,\"ticks\":\"\"},\"colorscale\":[[0.0,\"#0d0887\"],[0.1111111111111111,\"#46039f\"],[0.2222222222222222,\"#7201a8\"],[0.3333333333333333,\"#9c179e\"],[0.4444444444444444,\"#bd3786\"],[0.5555555555555556,\"#d8576b\"],[0.6666666666666666,\"#ed7953\"],[0.7777777777777778,\"#fb9f3a\"],[0.8888888888888888,\"#fdca26\"],[1.0,\"#f0f921\"]]}],\"heatmapgl\":[{\"type\":\"heatmapgl\",\"colorbar\":{\"outlinewidth\":0,\"ticks\":\"\"},\"colorscale\":[[0.0,\"#0d0887\"],[0.1111111111111111,\"#46039f\"],[0.2222222222222222,\"#7201a8\"],[0.3333333333333333,\"#9c179e\"],[0.4444444444444444,\"#bd3786\"],[0.5555555555555556,\"#d8576b\"],[0.6666666666666666,\"#ed7953\"],[0.7777777777777778,\"#fb9f3a\"],[0.8888888888888888,\"#fdca26\"],[1.0,\"#f0f921\"]]}],\"contourcarpet\":[{\"type\":\"contourcarpet\",\"colorbar\":{\"outlinewidth\":0,\"ticks\":\"\"}}],\"contour\":[{\"type\":\"contour\",\"colorbar\":{\"outlinewidth\":0,\"ticks\":\"\"},\"colorscale\":[[0.0,\"#0d0887\"],[0.1111111111111111,\"#46039f\"],[0.2222222222222222,\"#7201a8\"],[0.3333333333333333,\"#9c179e\"],[0.4444444444444444,\"#bd3786\"],[0.5555555555555556,\"#d8576b\"],[0.6666666666666666,\"#ed7953\"],[0.7777777777777778,\"#fb9f3a\"],[0.8888888888888888,\"#fdca26\"],[1.0,\"#f0f921\"]]}],\"surface\":[{\"type\":\"surface\",\"colorbar\":{\"outlinewidth\":0,\"ticks\":\"\"},\"colorscale\":[[0.0,\"#0d0887\"],[0.1111111111111111,\"#46039f\"],[0.2222222222222222,\"#7201a8\"],[0.3333333333333333,\"#9c179e\"],[0.4444444444444444,\"#bd3786\"],[0.5555555555555556,\"#d8576b\"],[0.6666666666666666,\"#ed7953\"],[0.7777777777777778,\"#fb9f3a\"],[0.8888888888888888,\"#fdca26\"],[1.0,\"#f0f921\"]]}],\"mesh3d\":[{\"type\":\"mesh3d\",\"colorbar\":{\"outlinewidth\":0,\"ticks\":\"\"}}],\"scatter\":[{\"fillpattern\":{\"fillmode\":\"overlay\",\"size\":10,\"solidity\":0.2},\"type\":\"scatter\"}],\"parcoords\":[{\"type\":\"parcoords\",\"line\":{\"colorbar\":{\"outlinewidth\":0,\"ticks\":\"\"}}}],\"scatterpolargl\":[{\"type\":\"scatterpolargl\",\"marker\":{\"colorbar\":{\"outlinewidth\":0,\"ticks\":\"\"}}}],\"bar\":[{\"error_x\":{\"color\":\"#2a3f5f\"},\"error_y\":{\"color\":\"#2a3f5f\"},\"marker\":{\"line\":{\"color\":\"#E5ECF6\",\"width\":0.5},\"pattern\":{\"fillmode\":\"overlay\",\"size\":10,\"solidity\":0.2}},\"type\":\"bar\"}],\"scattergeo\":[{\"type\":\"scattergeo\",\"marker\":{\"colorbar\":{\"outlinewidth\":0,\"ticks\":\"\"}}}],\"scatterpolar\":[{\"type\":\"scatterpolar\",\"marker\":{\"colorbar\":{\"outlinewidth\":0,\"ticks\":\"\"}}}],\"histogram\":[{\"marker\":{\"pattern\":{\"fillmode\":\"overlay\",\"size\":10,\"solidity\":0.2}},\"type\":\"histogram\"}],\"scattergl\":[{\"type\":\"scattergl\",\"marker\":{\"colorbar\":{\"outlinewidth\":0,\"ticks\":\"\"}}}],\"scatter3d\":[{\"type\":\"scatter3d\",\"line\":{\"colorbar\":{\"outlinewidth\":0,\"ticks\":\"\"}},\"marker\":{\"colorbar\":{\"outlinewidth\":0,\"ticks\":\"\"}}}],\"scattermapbox\":[{\"type\":\"scattermapbox\",\"marker\":{\"colorbar\":{\"outlinewidth\":0,\"ticks\":\"\"}}}],\"scatterternary\":[{\"type\":\"scatterternary\",\"marker\":{\"colorbar\":{\"outlinewidth\":0,\"ticks\":\"\"}}}],\"scattercarpet\":[{\"type\":\"scattercarpet\",\"marker\":{\"colorbar\":{\"outlinewidth\":0,\"ticks\":\"\"}}}],\"carpet\":[{\"aaxis\":{\"endlinecolor\":\"#2a3f5f\",\"gridcolor\":\"white\",\"linecolor\":\"white\",\"minorgridcolor\":\"white\",\"startlinecolor\":\"#2a3f5f\"},\"baxis\":{\"endlinecolor\":\"#2a3f5f\",\"gridcolor\":\"white\",\"linecolor\":\"white\",\"minorgridcolor\":\"white\",\"startlinecolor\":\"#2a3f5f\"},\"type\":\"carpet\"}],\"table\":[{\"cells\":{\"fill\":{\"color\":\"#EBF0F8\"},\"line\":{\"color\":\"white\"}},\"header\":{\"fill\":{\"color\":\"#C8D4E3\"},\"line\":{\"color\":\"white\"}},\"type\":\"table\"}],\"barpolar\":[{\"marker\":{\"line\":{\"color\":\"#E5ECF6\",\"width\":0.5},\"pattern\":{\"fillmode\":\"overlay\",\"size\":10,\"solidity\":0.2}},\"type\":\"barpolar\"}],\"pie\":[{\"automargin\":true,\"type\":\"pie\"}]},\"layout\":{\"autotypenumbers\":\"strict\",\"colorway\":[\"#636efa\",\"#EF553B\",\"#00cc96\",\"#ab63fa\",\"#FFA15A\",\"#19d3f3\",\"#FF6692\",\"#B6E880\",\"#FF97FF\",\"#FECB52\"],\"font\":{\"color\":\"#2a3f5f\"},\"hovermode\":\"closest\",\"hoverlabel\":{\"align\":\"left\"},\"paper_bgcolor\":\"white\",\"plot_bgcolor\":\"#E5ECF6\",\"polar\":{\"bgcolor\":\"#E5ECF6\",\"angularaxis\":{\"gridcolor\":\"white\",\"linecolor\":\"white\",\"ticks\":\"\"},\"radialaxis\":{\"gridcolor\":\"white\",\"linecolor\":\"white\",\"ticks\":\"\"}},\"ternary\":{\"bgcolor\":\"#E5ECF6\",\"aaxis\":{\"gridcolor\":\"white\",\"linecolor\":\"white\",\"ticks\":\"\"},\"baxis\":{\"gridcolor\":\"white\",\"linecolor\":\"white\",\"ticks\":\"\"},\"caxis\":{\"gridcolor\":\"white\",\"linecolor\":\"white\",\"ticks\":\"\"}},\"coloraxis\":{\"colorbar\":{\"outlinewidth\":0,\"ticks\":\"\"}},\"colorscale\":{\"sequential\":[[0.0,\"#0d0887\"],[0.1111111111111111,\"#46039f\"],[0.2222222222222222,\"#7201a8\"],[0.3333333333333333,\"#9c179e\"],[0.4444444444444444,\"#bd3786\"],[0.5555555555555556,\"#d8576b\"],[0.6666666666666666,\"#ed7953\"],[0.7777777777777778,\"#fb9f3a\"],[0.8888888888888888,\"#fdca26\"],[1.0,\"#f0f921\"]],\"sequentialminus\":[[0.0,\"#0d0887\"],[0.1111111111111111,\"#46039f\"],[0.2222222222222222,\"#7201a8\"],[0.3333333333333333,\"#9c179e\"],[0.4444444444444444,\"#bd3786\"],[0.5555555555555556,\"#d8576b\"],[0.6666666666666666,\"#ed7953\"],[0.7777777777777778,\"#fb9f3a\"],[0.8888888888888888,\"#fdca26\"],[1.0,\"#f0f921\"]],\"diverging\":[[0,\"#8e0152\"],[0.1,\"#c51b7d\"],[0.2,\"#de77ae\"],[0.3,\"#f1b6da\"],[0.4,\"#fde0ef\"],[0.5,\"#f7f7f7\"],[0.6,\"#e6f5d0\"],[0.7,\"#b8e186\"],[0.8,\"#7fbc41\"],[0.9,\"#4d9221\"],[1,\"#276419\"]]},\"xaxis\":{\"gridcolor\":\"white\",\"linecolor\":\"white\",\"ticks\":\"\",\"title\":{\"standoff\":15},\"zerolinecolor\":\"white\",\"automargin\":true,\"zerolinewidth\":2},\"yaxis\":{\"gridcolor\":\"white\",\"linecolor\":\"white\",\"ticks\":\"\",\"title\":{\"standoff\":15},\"zerolinecolor\":\"white\",\"automargin\":true,\"zerolinewidth\":2},\"scene\":{\"xaxis\":{\"backgroundcolor\":\"#E5ECF6\",\"gridcolor\":\"white\",\"linecolor\":\"white\",\"showbackground\":true,\"ticks\":\"\",\"zerolinecolor\":\"white\",\"gridwidth\":2},\"yaxis\":{\"backgroundcolor\":\"#E5ECF6\",\"gridcolor\":\"white\",\"linecolor\":\"white\",\"showbackground\":true,\"ticks\":\"\",\"zerolinecolor\":\"white\",\"gridwidth\":2},\"zaxis\":{\"backgroundcolor\":\"#E5ECF6\",\"gridcolor\":\"white\",\"linecolor\":\"white\",\"showbackground\":true,\"ticks\":\"\",\"zerolinecolor\":\"white\",\"gridwidth\":2}},\"shapedefaults\":{\"line\":{\"color\":\"#2a3f5f\"}},\"annotationdefaults\":{\"arrowcolor\":\"#2a3f5f\",\"arrowhead\":0,\"arrowwidth\":1},\"geo\":{\"bgcolor\":\"white\",\"landcolor\":\"#E5ECF6\",\"subunitcolor\":\"white\",\"showland\":true,\"showlakes\":true,\"lakecolor\":\"white\"},\"title\":{\"x\":0.05},\"mapbox\":{\"style\":\"light\"}}},\"xaxis\":{\"anchor\":\"y\",\"domain\":[0.0,1.0],\"title\":{\"text\":\"x\"},\"categoryorder\":\"array\",\"categoryarray\":[\"w0\",\"w1\",\"w2\",\"w3\",\"w4\"]},\"yaxis\":{\"anchor\":\"x\",\"domain\":[0.0,1.0],\"title\":{\"text\":\"y\"}},\"legend\":{\"title\":{\"text\":\"c\"},\"tracegroupgap\":0},\"margin\":{\"t\":60},\"barmode\":\"relative\"},                        {\"responsive\": true}                    ).then(function(){\n",
              "                            \n",
              "var gd = document.getElementById('fdbf8c74-efcd-4603-bdb1-9b512c4fa5d5');\n",
              "var x = new MutationObserver(function (mutations, observer) {{\n",
              "        var display = window.getComputedStyle(gd).display;\n",
              "        if (!display || display === 'none') {{\n",
              "            console.log([gd, 'removed!']);\n",
              "            Plotly.purge(gd);\n",
              "            observer.disconnect();\n",
              "        }}\n",
              "}});\n",
              "\n",
              "// Listen for the removal of the full notebook cells\n",
              "var notebookContainer = gd.closest('#notebook-container');\n",
              "if (notebookContainer) {{\n",
              "    x.observe(notebookContainer, {childList: true});\n",
              "}}\n",
              "\n",
              "// Listen for the clearing of the current output cell\n",
              "var outputEl = gd.closest('.output');\n",
              "if (outputEl) {{\n",
              "    x.observe(outputEl, {childList: true});\n",
              "}}\n",
              "\n",
              "                        })                };                            </script>        </div>\n",
              "</body>\n",
              "</html>"
            ]
          },
          "metadata": {}
        }
      ]
    },
    {
      "cell_type": "markdown",
      "source": [
        "Что и ожидалось, первый вес улетел в ноль"
      ],
      "metadata": {
        "id": "ON6vHG9clY0x"
      }
    },
    {
      "cell_type": "markdown",
      "source": [
        "# Вывод"
      ],
      "metadata": {
        "id": "IyCvf_bR8tLv"
      }
    },
    {
      "cell_type": "markdown",
      "source": [
        "Я понял как устроены Ridge и Lasso регрессии, удалось понять влияние регуляризации на веса фич в формуле, и чем именно отличается Ridge от Lasso."
      ],
      "metadata": {
        "id": "JlrxrFrl8yXB"
      }
    }
  ]
}